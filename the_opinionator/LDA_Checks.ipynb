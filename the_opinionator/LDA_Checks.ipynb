{
 "cells": [
  {
   "cell_type": "code",
   "execution_count": 1,
   "metadata": {
    "collapsed": true
   },
   "outputs": [],
   "source": [
    "import pandas as pd\n",
    "import numpy as np"
   ]
  },
  {
   "cell_type": "markdown",
   "metadata": {},
   "source": [
    "# Split Data"
   ]
  },
  {
   "cell_type": "code",
   "execution_count": 2,
   "metadata": {
    "collapsed": true
   },
   "outputs": [],
   "source": [
    "datatidy = pd.DataFrame.from_csv('datatidy2.csv')\n",
    "tidytext = datatidy['TidiedText']"
   ]
  },
  {
   "cell_type": "code",
   "execution_count": 3,
   "metadata": {
    "collapsed": false
   },
   "outputs": [],
   "source": [
    "def split_document(doc):\n",
    "    n = len(doc)\n",
    "    idx1 = n//2\n",
    "    idx1 = doc[:idx1].rfind(' ')\n",
    "    return doc[:idx1], doc[idx1:]"
   ]
  },
  {
   "cell_type": "code",
   "execution_count": 4,
   "metadata": {
    "collapsed": true
   },
   "outputs": [],
   "source": [
    "tidy1 = []\n",
    "tidy2 = []\n",
    "for doc in tidytext:\n",
    "    firsthalf, secondhalf = split_document(doc)\n",
    "    tidy1.append(firsthalf)\n",
    "    tidy2.append(secondhalf)"
   ]
  },
  {
   "cell_type": "markdown",
   "metadata": {},
   "source": [
    "# LDA"
   ]
  },
  {
   "cell_type": "markdown",
   "metadata": {},
   "source": [
    "## Preliminaries"
   ]
  },
  {
   "cell_type": "code",
   "execution_count": 5,
   "metadata": {
    "collapsed": true
   },
   "outputs": [],
   "source": [
    "from time import time\n",
    "from sklearn.feature_extraction.text import CountVectorizer\n",
    "from sklearn.decomposition import LatentDirichletAllocation"
   ]
  },
  {
   "cell_type": "code",
   "execution_count": 6,
   "metadata": {
    "collapsed": true
   },
   "outputs": [],
   "source": [
    "def print_top_words(model, feature_names, n_top_words):\n",
    "    for topic_idx, topic in enumerate(model.components_):\n",
    "        print(\"Topic #%d:\" % topic_idx)\n",
    "        print(\" \".join([feature_names[i]\n",
    "                        for i in topic.argsort()[:-n_top_words - 1:-1]]))\n",
    "    print()"
   ]
  },
  {
   "cell_type": "code",
   "execution_count": 49,
   "metadata": {
    "collapsed": true
   },
   "outputs": [],
   "source": [
    "n_features = 1000\n",
    "n_topics = 50\n",
    "n_top_words = 20"
   ]
  },
  {
   "cell_type": "code",
   "execution_count": 50,
   "metadata": {
    "collapsed": false
   },
   "outputs": [
    {
     "name": "stdout",
     "output_type": "stream",
     "text": [
      "Extracting tf features for LDA...\n",
      "done in 6.323s.\n"
     ]
    }
   ],
   "source": [
    "print(\"Extracting tf features for LDA...\")\n",
    "tf_vectorizer = CountVectorizer(max_df=0.95, min_df=2, max_features=n_features)\n",
    "t0 = time()\n",
    "tf_vectorizer.fit(tidytext)\n",
    "print(\"done in %0.3fs.\" % (time() - t0))"
   ]
  },
  {
   "cell_type": "markdown",
   "metadata": {},
   "source": [
    "## Fit All"
   ]
  },
  {
   "cell_type": "code",
   "execution_count": 51,
   "metadata": {
    "collapsed": true
   },
   "outputs": [],
   "source": [
    "tfall = tf_vectorizer.transform(tidytext)"
   ]
  },
  {
   "cell_type": "code",
   "execution_count": 52,
   "metadata": {
    "collapsed": false,
    "scrolled": true
   },
   "outputs": [
    {
     "name": "stdout",
     "output_type": "stream",
     "text": [
      "Fitting LDA models with tf features and n_features=1000...\n",
      "done in 213.533s.\n"
     ]
    }
   ],
   "source": [
    "print(\"Fitting LDA models with tf features and n_features=%d...\"\n",
    "      % (n_features))\n",
    "ldaall = LatentDirichletAllocation(n_topics=n_topics, max_iter=10,\n",
    "                                learning_method='online', learning_offset=50.,\n",
    "                                random_state=0)\n",
    "t0 = time()\n",
    "ldaall.fit(tfall)\n",
    "print(\"done in %0.3fs.\" % (time() - t0))\n"
   ]
  },
  {
   "cell_type": "code",
   "execution_count": 53,
   "metadata": {
    "collapsed": false,
    "scrolled": true
   },
   "outputs": [
    {
     "name": "stdout",
     "output_type": "stream",
     "text": [
      "\n",
      "Topics in LDA model:\n",
      "Topic #0:\n",
      "women men ms sexual woman abort sex girl young one equal right partner like said show say year violenc victim\n",
      "Topic #1:\n",
      "gun shoot kill violenc safeti weapon law death peopl carri shot ban nation arm public check state mass control use\n",
      "Topic #2:\n",
      "worker job wage work labor employ minimum pay employe hour rais state union would increas new higher forc benefit paid\n",
      "Topic #3:\n",
      "compani busi use would servic like rule corpor regul internet govern industri inform data could market agenc make technolog execut\n",
      "Topic #4:\n",
      "black polic white offic racial race depart forc minor communiti civil right protest justic arrest kill case enforc peopl system\n",
      "Topic #5:\n",
      "muslim attack french kill islam franc terrorist peopl terror pari death murder violenc fear bomb victim one mani threat year\n",
      "Topic #6:\n",
      "prison crime sentenc crimin state peopl convict year drug law arrest punish releas justic system search charg case victim mani\n",
      "Topic #7:\n",
      "like get peopl time dont one make thing go know say think want way book much us good even that\n",
      "Topic #8:\n",
      "one year day time first two like back still place around world last new everi could look home even go\n",
      "Topic #9:\n",
      "russia putin ukrain russian west presid western sanction union would war european europ mr state power econom world polit may\n",
      "Topic #10:\n",
      "said presid say one get american peopl go want think dont obama like hes way know that thing talk ask\n",
      "Topic #11:\n",
      "bill senat republican would immigr hous congress law state legisl democrat pass committe act vote feder reform year allow new\n",
      "Topic #12:\n",
      "state refuge turkey syria unit syrian islam border war group iraq american forc help would million fight countri must need\n",
      "Topic #13:\n",
      "religi law parti court republican case trump democrat act feder conserv like govern appeal budget provid freedom tax refus requir\n",
      "Topic #14:\n",
      "parti polit conserv liber republican polici right democrat ideolog left support social american issu view like govern econom politician america\n",
      "Topic #15:\n",
      "studi research test found brain use data effect risk scienc scientist may year lead evid increas result problem also percent\n",
      "Topic #16:\n",
      "elect vote democrat voter polit parti candid percent campaign state poll republican support year presidenti nation win major one group\n",
      "Topic #17:\n",
      "life live one love friend famili would father us peopl like man mother never year time could know young want\n",
      "Topic #18:\n",
      "school one dont good teacher educ like plan sexual ive could kid well would way reform iraq univers run new\n",
      "Topic #19:\n",
      "iran iraq isi saudi sunni arab islam syria deal middl nuclear east state region war america power alli sanction foreign\n",
      "Topic #20:\n",
      "report offici investig said depart govern time public year last agenc state offic includ abus unit inform news nation secur\n",
      "Topic #21:\n",
      "mr presid said polit time leader former support call power critic say new seem would even also offic show promis\n",
      "Topic #22:\n",
      "islam state europ attack syria unit obama pari european union today presid terror peopl sinc alreadi said among play american\n",
      "Topic #23:\n",
      "citi new york de mayor state hous build public local park plan resid communiti governor year neighborhood need would island\n",
      "Topic #24:\n",
      "iraq like men time line american would partner ask region leader id forc syria obama dont said think less middl\n",
      "Topic #25:\n",
      "time life new like peopl see american decad age middl get tax becom littl ago enough look one citi almost\n",
      "Topic #26:\n",
      "children parent famili child kid girl pakistan school mother boy adult age young help home care educ rais one son\n",
      "Topic #27:\n",
      "law court state right rule suprem legal marriag feder justic case protect decis act constitut religi requir would amend texa\n",
      "Topic #28:\n",
      "food water climat oil energi chang year gas state industri global world environment nation natur percent product price use new\n",
      "Topic #29:\n",
      "opinion case govern rule justic law appeal court effect interest may said refus religi foreign organ increas last requir time\n",
      "Topic #30:\n",
      "european europ union germani countri britain german greec nation minist franc british would govern crisi member prime year polit leader\n",
      "Topic #31:\n",
      "obama presid administr would nuclear program congress american could year weapon polici use secur state white hous plan unit action\n",
      "Topic #32:\n",
      "govern war militari countri nation state unit forc south presid polit intern leader armi power africa american african group world\n",
      "Topic #33:\n",
      "like line time american iraq obama health one help presid make employ econom base america back leader middl use way\n",
      "Topic #34:\n",
      "school student colleg educ univers teacher high teach class state learn year public test program professor need one standard percent\n",
      "Topic #35:\n",
      "china unit state chines countri trade american japan agreement world foreign america north intern would nation deal global econom polici\n",
      "Topic #36:\n",
      "trump state republican peopl elect right time one corpor prison could chang see like conserv call new foreign citizen make\n",
      "Topic #37:\n",
      "clinton church christian hillari sander gay religi faith bill issu marriag support campaign last mani american one call believ say\n",
      "Topic #38:\n",
      "govern india protest polit media minist countri parti group organ peopl corrupt public prime right freedom democraci offici journalist leader\n",
      "Topic #39:\n",
      "israel palestinian isra jewish jew peac state west bank arab would minist negoti secur prime right side land author east\n",
      "Topic #40:\n",
      "school militari dont like general ive think teacher well unit educ even know run govern good public im kid tradit\n",
      "Topic #41:\n",
      "failur network fail success news initi particular run face didnt media take serious heart like second receiv dont us univers\n",
      "Topic #42:\n",
      "bank economi econom financi market growth rate debt polici crisi interest price capit govern would year invest central dollar low\n",
      "Topic #43:\n",
      "court justic case judg lawyer suprem execut constitut rule decis trial appeal year chief would death one defend last process\n",
      "Topic #44:\n",
      "trump republican bush candid cruz rubio campaign presidenti debat senat hes would voter georg like primari governor one win run\n",
      "Topic #45:\n",
      "data use peopl million year compani studi exampl measur like step technolog compar recent mani human found work go remain\n",
      "Topic #46:\n",
      "health care patient medic drug doctor hospit diseas peopl treatment insur cancer state mani case ill death need year treat\n",
      "Topic #47:\n",
      "peopl one like cultur world human mani differ way even social chang us may experi new person also societi often\n",
      "Topic #48:\n",
      "percent peopl american rate poor year work incom poverti live like social mani inequ econom less countri famili number nation\n",
      "Topic #49:\n",
      "tax money would million spend fund govern billion year budget pay cost cut feder state plan program percent reform financ\n",
      "()\n"
     ]
    }
   ],
   "source": [
    "print(\"\\nTopics in LDA model:\")\n",
    "tf_feature_names = tf_vectorizer.get_feature_names()\n",
    "print_top_words(ldaall, tf_feature_names, n_top_words)"
   ]
  },
  {
   "cell_type": "code",
   "execution_count": 43,
   "metadata": {
    "collapsed": true
   },
   "outputs": [],
   "source": [
    "doc_topic_distrib_all = ldaall.transform(tfall)"
   ]
  },
  {
   "cell_type": "markdown",
   "metadata": {},
   "source": [
    "## Fit Half"
   ]
  },
  {
   "cell_type": "code",
   "execution_count": 44,
   "metadata": {
    "collapsed": true
   },
   "outputs": [],
   "source": [
    "tf1 = tf_vectorizer.transform(tidy1)"
   ]
  },
  {
   "cell_type": "code",
   "execution_count": 15,
   "metadata": {
    "collapsed": false,
    "scrolled": true
   },
   "outputs": [
    {
     "name": "stdout",
     "output_type": "stream",
     "text": [
      "Fitting LDA models with tf features and n_features=1000...\n",
      "done in 114.110s.\n"
     ]
    }
   ],
   "source": [
    "print(\"Fitting LDA models with tf features and n_features=%d...\"\n",
    "      % (n_features))\n",
    "lda1 = LatentDirichletAllocation(n_topics=n_topics, max_iter=10,\n",
    "                                learning_method='online', learning_offset=50.,\n",
    "                                random_state=0)\n",
    "t0 = time()\n",
    "lda1.fit(tf1)\n",
    "print(\"done in %0.3fs.\" % (time() - t0))\n"
   ]
  },
  {
   "cell_type": "code",
   "execution_count": 16,
   "metadata": {
    "collapsed": false,
    "scrolled": true
   },
   "outputs": [
    {
     "name": "stdout",
     "output_type": "stream",
     "text": [
      "\n",
      "Topics in LDA model:\n",
      "Topic #0:\n",
      "women men sexual woman sex young girl one ms equal boy said show say man black bodi partner forc also\n",
      "Topic #1:\n",
      "loss peopl made ive three said lose last lost year long oil chang come parent deal thing ensur key money\n",
      "Topic #2:\n",
      "new citi york state de mayor mr public build park local hous bill resid year plan neighborhood governor system communiti\n",
      "Topic #3:\n",
      "would citizen like campaign unit decis trump money group limit north father court polit back candid could state way us\n",
      "Topic #4:\n",
      "vote peopl would sander attack feder support realli bring polic court report offic dont new clinton matter threat present presid\n",
      "Topic #5:\n",
      "one year day time peopl like would live first world two even mani place could us life ago long work\n",
      "Topic #6:\n",
      "prison crime sentenc crimin convict year death law punish justic releas peopl drug system execut case charg feder state correct\n",
      "Topic #7:\n",
      "gun clinton money campaign hillari polit spend speech group sander corpor contribut shoot million public financ citizen check limit give\n",
      "Topic #8:\n",
      "car author air oper train forc fire control road agenc safeti kill offici plan run could strike last safe drive\n",
      "Topic #9:\n",
      "risk expert side level school tax issu educ parti climat lead year worker could water one peopl right agre state\n",
      "Topic #10:\n",
      "presid mr obama trump republican said bush senat candid would presidenti american one campaign hes say polit clinton georg run\n",
      "Topic #11:\n",
      "tax incom inequ rich econom top class american rise polici opportun most centuri conserv great famili much left fact led\n",
      "Topic #12:\n",
      "war refuge turkey syria syrian border million peopl unit state civil iraq conflict countri thousand world forc region year across\n",
      "Topic #13:\n",
      "parti trump republican care candid make movement might democrat stay right left run case act percent women voter commit becom\n",
      "Topic #14:\n",
      "children republican trump parti candid vote like run make movement group voter adult languag campaign small differ year might mani\n",
      "Topic #15:\n",
      "percent year state rate million number accord report popul averag last water increas per american less nation time near even\n",
      "Topic #16:\n",
      "parti elect democrat polit vote voter republican candid poll support state campaign percent mr major year presidenti primari win one\n",
      "Topic #17:\n",
      "friend marriag ask said book famili mother gay love told would coupl want person ms write man life day one\n",
      "Topic #18:\n",
      "south human africa african scienc scientist world field intern global west natur year peopl new most mani report one univers\n",
      "Topic #19:\n",
      "isi iraq minimum turkey sunni us go state democraci problem syria governor necessari alli even tri back help ignor share\n",
      "Topic #20:\n",
      "would bill congress state hous obama feder law senat administr year govern propos presid new republican allow pass legisl committe\n",
      "Topic #21:\n",
      "compani report time news inform internet media use public journalist servic stori busi call said publish execut data investig network\n",
      "Topic #22:\n",
      "europ syria european turkey attack back citizen unit state obama pari sinc would peopl presid islam decis campaign done group\n",
      "Topic #23:\n",
      "china trade chines japan agreement island unit world claim countri econom foreign south offici north state global deal negoti includ\n",
      "Topic #24:\n",
      "father game team play player son boy man watch like head video win field name first time two went men\n",
      "Topic #25:\n",
      "professor tax time internet journalist american us phone like day get trump make incom public well want even compani father\n",
      "Topic #26:\n",
      "children famili parent child school home girl live poverti mother kid young age poor work adult help care mani program\n",
      "Topic #27:\n",
      "law health care state insur act abort afford feder plan requir provid govern peopl protect would servic cost exchang rule\n",
      "Topic #28:\n",
      "food chang industri world oil climat global product energi price gas market compani develop use countri year like new power\n",
      "Topic #29:\n",
      "govern organ radic support unit trump countri republican elect one becam american led war new time intern white conserv larg\n",
      "Topic #30:\n",
      "see year home would famili movement decid town remain someon children small social move place make common build one man\n",
      "Topic #31:\n",
      "fuel risk standard light use high product health data nuclear becom could benefit first unit vast terrorist major obama set\n",
      "Topic #32:\n",
      "israel india isra palestinian minist jewish prime jew state mr west bank peac would side right leader land govern two\n",
      "Topic #33:\n",
      "govern state countri unit mr militari war nation presid polit american power leader forc world intern foreign year region offici\n",
      "Topic #34:\n",
      "studi research one like peopl found may effect experi use find might mani suggest evid also brain make question univers\n",
      "Topic #35:\n",
      "islam attack muslim state group terrorist pakistan kill terror isi christian iraq bomb threat target peopl syria also unit mani\n",
      "Topic #36:\n",
      "european europ union franc french germani britain german greec countri nation british minist pari crisi prime would govern polit member\n",
      "Topic #37:\n",
      "polic mr offic protest kill arrest right report violenc investig govern charg ms depart victim last abus peopl case forc\n",
      "Topic #38:\n",
      "black white cultur right social peopl american liber church societi polit america racial movement live conserv today tradit public christian\n",
      "Topic #39:\n",
      "religi arab saudi region islam sunni extrem muslim fear includ promot societi ideolog minist also whose oil see discuss possibl\n",
      "Topic #40:\n",
      "like get peopl dont one know think thing say go way want make even time us im good that much\n",
      "Topic #41:\n",
      "iran nuclear iraq obama deal would state weapon syria sunni middl presid america agreement isi east unit sanction negoti program\n",
      "Topic #42:\n",
      "that avail consid lie protect stay american outsid price ever sound freedom person debat high correct possibl togeth rare greater\n",
      "Topic #43:\n",
      "court justic case suprem state law rule judg decis constitut right legal feder appeal lawyer year opinion issu amend unit\n",
      "Topic #44:\n",
      "immigr conserv republican polici parti polit rubio debat cruz reform texa mani issu ideolog like claim america cut promis come\n",
      "Topic #45:\n",
      "new peopl year reform time mr senat leader life govern measur chang negoti budget last remain state data deal taken\n",
      "Topic #46:\n",
      "drug health medic patient diseas doctor hospit cancer treatment mental death peopl care ill case caus treat prevent use risk\n",
      "Topic #47:\n",
      "school student colleg educ univers teacher high class teach public state test professor one mani learn year program standard studi\n",
      "Topic #48:\n",
      "worker job bank economi econom financi wage work pay govern year money would labor growth market rate rais busi percent\n",
      "Topic #49:\n",
      "russia russian ukrain putin mr presid west union european western sanction europ would state econom crisi may new even border\n",
      "()\n"
     ]
    }
   ],
   "source": [
    "print(\"\\nTopics in LDA model:\")\n",
    "tf_feature_names = tf_vectorizer.get_feature_names()\n",
    "print_top_words(lda1, tf_feature_names, n_top_words)"
   ]
  },
  {
   "cell_type": "markdown",
   "metadata": {},
   "source": [
    "## Predict Half"
   ]
  },
  {
   "cell_type": "code",
   "execution_count": 45,
   "metadata": {
    "collapsed": true
   },
   "outputs": [],
   "source": [
    "doc_topic_distrib_pred_1 = ldaall.transform(tf1)"
   ]
  },
  {
   "cell_type": "code",
   "execution_count": 46,
   "metadata": {
    "collapsed": false
   },
   "outputs": [],
   "source": [
    "confusion = np.dot(doc_topic_distrib_all,doc_topic_distrib_pred_1.T)"
   ]
  },
  {
   "cell_type": "code",
   "execution_count": 47,
   "metadata": {
    "collapsed": false
   },
   "outputs": [
    {
     "data": {
      "text/plain": [
       "(9447, 9447)"
      ]
     },
     "execution_count": 47,
     "metadata": {},
     "output_type": "execute_result"
    }
   ],
   "source": [
    "confusion.shape"
   ]
  },
  {
   "cell_type": "code",
   "execution_count": 48,
   "metadata": {
    "collapsed": true
   },
   "outputs": [],
   "source": [
    "np.save(open('confusion150.out','wb'),confusion)"
   ]
  },
  {
   "cell_type": "code",
   "execution_count": 18,
   "metadata": {
    "collapsed": false
   },
   "outputs": [],
   "source": [
    "import seaborn as sns\n",
    "import matplotlib as mpl\n",
    "import matplotlib.pyplot as plt\n",
    "%matplotlib qt"
   ]
  },
  {
   "cell_type": "code",
   "execution_count": 34,
   "metadata": {
    "collapsed": false
   },
   "outputs": [],
   "source": [
    "sns.heatmap(confusion[:500,:500])\n",
    "sns.plt.show()"
   ]
  },
  {
   "cell_type": "code",
   "execution_count": null,
   "metadata": {
    "collapsed": true
   },
   "outputs": [],
   "source": []
  }
 ],
 "metadata": {
  "kernelspec": {
   "display_name": "Python 2",
   "language": "python",
   "name": "python2"
  },
  "language_info": {
   "codemirror_mode": {
    "name": "ipython",
    "version": 2
   },
   "file_extension": ".py",
   "mimetype": "text/x-python",
   "name": "python",
   "nbconvert_exporter": "python",
   "pygments_lexer": "ipython2",
   "version": "2.7.11"
  }
 },
 "nbformat": 4,
 "nbformat_minor": 0
}
