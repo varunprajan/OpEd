{
 "cells": [
  {
   "cell_type": "code",
   "execution_count": 1,
   "metadata": {
    "collapsed": true
   },
   "outputs": [],
   "source": [
    "import numpy as np\n",
    "import pandas as pd\n",
    "import matplotlib as mpl\n",
    "import matplotlib.pyplot as plt\n",
    "from sklearn.manifold import TSNE\n",
    "import topic_weights as tw\n",
    "import os\n",
    "%matplotlib inline"
   ]
  },
  {
   "cell_type": "code",
   "execution_count": 2,
   "metadata": {
    "collapsed": true
   },
   "outputs": [],
   "source": [
    "%load_ext autoreload\n",
    "%autoreload 2"
   ]
  },
  {
   "cell_type": "markdown",
   "metadata": {},
   "source": [
    "# Load Data"
   ]
  },
  {
   "cell_type": "code",
   "execution_count": 3,
   "metadata": {
    "collapsed": true
   },
   "outputs": [],
   "source": [
    "subdir = 'final_csvs2'"
   ]
  },
  {
   "cell_type": "code",
   "execution_count": 4,
   "metadata": {
    "collapsed": false
   },
   "outputs": [],
   "source": [
    "dataall = pd.DataFrame.from_csv(os.path.join(subdir,'dataall.csv'),encoding='utf-8')\n",
    "datanonother = pd.DataFrame.from_csv(os.path.join(subdir,'datanonother.csv'),encoding='utf-8')"
   ]
  },
  {
   "cell_type": "code",
   "execution_count": 5,
   "metadata": {
    "collapsed": false
   },
   "outputs": [],
   "source": [
    "n_topics = 50\n",
    "stem = 'stem'\n",
    "package = 'sklearn'\n",
    "rows = 'all'\n",
    "twcsv = tw.topic_weights_csv(n_topics,stem,package,rows)\n",
    "topicweights = pd.DataFrame.from_csv(os.path.join(subdir,twcsv))"
   ]
  },
  {
   "cell_type": "markdown",
   "metadata": {},
   "source": [
    "# T-SNE"
   ]
  },
  {
   "cell_type": "code",
   "execution_count": 6,
   "metadata": {
    "collapsed": false,
    "scrolled": false
   },
   "outputs": [
    {
     "name": "stdout",
     "output_type": "stream",
     "text": [
      "[t-SNE] Computing pairwise distances...\n",
      "[t-SNE] Computing 91 nearest neighbors...\n",
      "[t-SNE] Computed conditional probabilities for sample 1000 / 9662\n",
      "[t-SNE] Computed conditional probabilities for sample 2000 / 9662\n",
      "[t-SNE] Computed conditional probabilities for sample 3000 / 9662\n",
      "[t-SNE] Computed conditional probabilities for sample 4000 / 9662\n",
      "[t-SNE] Computed conditional probabilities for sample 5000 / 9662\n",
      "[t-SNE] Computed conditional probabilities for sample 6000 / 9662\n",
      "[t-SNE] Computed conditional probabilities for sample 7000 / 9662\n",
      "[t-SNE] Computed conditional probabilities for sample 8000 / 9662\n",
      "[t-SNE] Computed conditional probabilities for sample 9000 / 9662\n",
      "[t-SNE] Computed conditional probabilities for sample 9662 / 9662\n",
      "[t-SNE] Mean sigma: 0.107976\n",
      "[t-SNE] Error after 50 iterations with early exaggeration: 1.553268\n",
      "[t-SNE] Error after 75 iterations: 1.553248\n"
     ]
    }
   ],
   "source": [
    "X_tsne = TSNE(learning_rate=100,verbose=1).fit_transform(topicweights)"
   ]
  },
  {
   "cell_type": "markdown",
   "metadata": {},
   "source": [
    "# Topic IDs"
   ]
  },
  {
   "cell_type": "code",
   "execution_count": 7,
   "metadata": {
    "collapsed": false
   },
   "outputs": [],
   "source": [
    "from collections import Counter\n",
    "import operator as op\n",
    "from model_predict import LDA, TF"
   ]
  },
  {
   "cell_type": "code",
   "execution_count": 8,
   "metadata": {
    "collapsed": false
   },
   "outputs": [],
   "source": [
    "tf_feature_names = TF.get_feature_names()"
   ]
  },
  {
   "cell_type": "code",
   "execution_count": 9,
   "metadata": {
    "collapsed": false
   },
   "outputs": [],
   "source": [
    "topicids = np.argmax(topicweights.as_matrix(),axis=1)"
   ]
  },
  {
   "cell_type": "code",
   "execution_count": 10,
   "metadata": {
    "collapsed": true
   },
   "outputs": [],
   "source": [
    "count = Counter(topicids)\n",
    "sortedcounts = sorted(count.items(),key=op.itemgetter(1),reverse=True)"
   ]
  },
  {
   "cell_type": "code",
   "execution_count": 11,
   "metadata": {
    "collapsed": false,
    "scrolled": false
   },
   "outputs": [
    {
     "name": "stdout",
     "output_type": "stream",
     "text": [
      "(1, u'get say like one peopl dont go said')\n",
      "(3, u'one live like peopl life world year us')\n",
      "(33, u'polic offic prison crime crimin sentenc year arrest')\n",
      "(12, u'state militari unit war forc govern turkey secur')\n",
      "(18, u'health drug patient medic doctor diseas hospit cancer')\n",
      "(47, u'govern polit power peopl democraci protest countri corrupt')\n",
      "(21, u'bank financi chang economi polici would econom govern')\n",
      "(11, u'parti elect polit minist leader nation govern vote')\n",
      "(4, u'peopl like studi one experi research differ work')\n",
      "(43, u'republican democrat voter polit candid parti elect campaign')\n",
      "(5, u'court law rule state judg case feder legal')\n",
      "(42, u'percent rate econom american incom growth year social')\n",
      "(22, u'citi new york state mayor de public plan')\n",
      "(41, u'tax money would million spend fund billion budget')\n",
      "(10, u'bill state would senat law congress republican legisl')\n"
     ]
    }
   ],
   "source": [
    "for sortedcount in sortedcounts[:15]:\n",
    "    idx = sortedcount[0]\n",
    "    print(idx, tw.top_words(LDA,tf_feature_names,n_top_words=8,topic_idx=idx))"
   ]
  },
  {
   "cell_type": "code",
   "execution_count": 12,
   "metadata": {
    "collapsed": true
   },
   "outputs": [],
   "source": [
    "besttopics = {33: 'Police and crime',\n",
    "              12: 'Foreign policy',\n",
    "              18: 'Health care',\n",
    "              47: 'Government',\n",
    "              21: 'Banks and finance',\n",
    "              11: 'Elections',\n",
    "              43: 'Domestic politics',\n",
    "              5: 'Courts and law',\n",
    "              42: 'Economy',\n",
    "              22: 'New York'}"
   ]
  },
  {
   "cell_type": "code",
   "execution_count": 13,
   "metadata": {
    "collapsed": false
   },
   "outputs": [],
   "source": [
    "topicidsnew = [besttopics.get(topicid,'None') for topicid in topicids]"
   ]
  },
  {
   "cell_type": "code",
   "execution_count": 14,
   "metadata": {
    "collapsed": false
   },
   "outputs": [],
   "source": [
    "df = pd.DataFrame(index=topicweights.index,\n",
    "                  columns=['Component 1','Component 2','Topic ID','Author','URL'])"
   ]
  },
  {
   "cell_type": "code",
   "execution_count": 15,
   "metadata": {
    "collapsed": false
   },
   "outputs": [],
   "source": [
    "df['Component 1'] = X_tsne[:,0]\n",
    "df['Component 2'] = X_tsne[:,1]\n",
    "df['Topic ID'] = topicidsnew\n",
    "df['Author'] = dataall['author']\n",
    "df['Title'] = dataall['title']\n",
    "df['URL'] = dataall['url']\n",
    "df['Share Count'] = dataall['share_count']"
   ]
  },
  {
   "cell_type": "code",
   "execution_count": 16,
   "metadata": {
    "collapsed": false
   },
   "outputs": [],
   "source": [
    "dffinal = df[df['Topic ID'] != 'None']"
   ]
  },
  {
   "cell_type": "code",
   "execution_count": 80,
   "metadata": {
    "collapsed": false
   },
   "outputs": [],
   "source": [
    "dffinal.to_csv('topics.tsv',encoding='utf-8',index=False,sep='\\t')"
   ]
  },
  {
   "cell_type": "code",
   "execution_count": null,
   "metadata": {
    "collapsed": true
   },
   "outputs": [],
   "source": [
    "[\n",
    "    {\"a\":\"-1.14\",\"b\":\"4.14\"},\n",
    "    {\"a\":\"-0.13\",\"b\":\"1.38\"},\n",
    "    {\"a\":\"-4.19\",\"b\":\"1.43\"},\n",
    "    {\"a\":\"-0.21\",\"b\":\"3.34\"}\n",
    "]"
   ]
  },
  {
   "cell_type": "code",
   "execution_count": 44,
   "metadata": {
    "collapsed": true
   },
   "outputs": [],
   "source": [
    "def gen_row(row,keys1,keys2):\n",
    "    s = []\n",
    "    for key1, key2 in zip(keys1,keys2):\n",
    "        item = row[key1]\n",
    "        s.append('''{0}'': {1}'.format(key2,item))\n",
    "    return '{{{0}}}'.format(', '.join(s))"
   ]
  },
  {
   "cell_type": "code",
   "execution_count": 45,
   "metadata": {
    "collapsed": true
   },
   "outputs": [],
   "source": [
    "keys1 = ['Component 1','Component 2','Share Count']\n",
    "keys2 = ['one','two','shares']"
   ]
  },
  {
   "cell_type": "code",
   "execution_count": 46,
   "metadata": {
    "collapsed": false
   },
   "outputs": [
    {
     "name": "stdout",
     "output_type": "stream",
     "text": [
      "{one: 0.000916395266272, two: -0.0027222379161, shares: 135},\n",
      "{one: -0.00104158193887, two: 0.000245404376291, shares: 145},\n",
      "{one: 0.00185864842539, two: -0.000597570293171, shares: 466},\n",
      "{one: -0.000496173225977, two: -0.0025408805305, shares: 1494},\n",
      "{one: 0.00302073107182, two: -0.000727708550212, shares: 114},\n",
      "{one: -0.000779370797775, two: -0.00303686885503, shares: 211},\n",
      "{one: 0.000452177735513, two: 0.00207540008723, shares: 413},\n",
      "{one: 0.000118978878752, two: 0.000564002286909, shares: 8816},\n",
      "{one: 0.000548660807326, two: 0.000290071406657, shares: 88},\n",
      "{one: -2.74087616495e-05, two: 0.000655443146176, shares: 675},\n",
      "{one: -0.00198309160081, two: -0.000482106330015, shares: 1429},\n",
      "{one: 0.000594292652241, two: 0.000831509489862, shares: 936},\n",
      "{one: 0.00245959218863, two: 0.00220004383402, shares: 476},\n",
      "{one: -0.00125666961239, two: -0.00168854829257, shares: 487},\n",
      "{one: -0.000511307618529, two: -0.00240663711751, shares: 499},\n",
      "{one: -0.00445963544528, two: 0.000304057512728, shares: 922},\n",
      "{one: -0.000339816353869, two: 0.000376293467717, shares: 728},\n",
      "{one: 0.00081826349464, two: 0.000994390771498, shares: 1278},\n",
      "{one: -6.56738036853e-05, two: -0.00216242514147, shares: 90},\n",
      "{one: -0.000567623849301, two: 0.000686525553308, shares: 112},\n"
     ]
    }
   ],
   "source": [
    "s = []\n",
    "for row in dffinal.iloc[:20].iterrows():\n",
    "    print(gen_row(row[1],keys1,keys2) + ',')"
   ]
  },
  {
   "cell_type": "code",
   "execution_count": null,
   "metadata": {
    "collapsed": true
   },
   "outputs": [],
   "source": []
  }
 ],
 "metadata": {
  "kernelspec": {
   "display_name": "Python 2",
   "language": "python",
   "name": "python2"
  },
  "language_info": {
   "codemirror_mode": {
    "name": "ipython",
    "version": 2
   },
   "file_extension": ".py",
   "mimetype": "text/x-python",
   "name": "python",
   "nbconvert_exporter": "python",
   "pygments_lexer": "ipython2",
   "version": "2.7.11"
  }
 },
 "nbformat": 4,
 "nbformat_minor": 0
}
