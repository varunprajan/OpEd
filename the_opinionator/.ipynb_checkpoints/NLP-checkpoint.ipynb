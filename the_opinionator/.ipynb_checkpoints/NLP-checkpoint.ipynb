{
 "cells": [
  {
   "cell_type": "code",
   "execution_count": 46,
   "metadata": {
    "collapsed": false
   },
   "outputs": [],
   "source": [
    "import numpy as np\n",
    "import pandas as pd\n",
    "import text_processing\n",
    "import sys\n",
    "import unicodedata\n",
    "import matplotlib as mpl\n",
    "import matplotlib.pyplot as plt\n",
    "import topic_weights\n",
    "from sklearn.feature_extraction.text import CountVectorizer\n",
    "from sklearn.decomposition import LatentDirichletAllocation\n",
    "import pickleizer\n",
    "import os"
   ]
  },
  {
   "cell_type": "code",
   "execution_count": 4,
   "metadata": {
    "collapsed": false
   },
   "outputs": [],
   "source": [
    "%load_ext autoreload\n",
    "%autoreload 2"
   ]
  },
  {
   "cell_type": "markdown",
   "metadata": {},
   "source": [
    "# PreProcessing"
   ]
  },
  {
   "cell_type": "markdown",
   "metadata": {},
   "source": [
    "## Load"
   ]
  },
  {
   "cell_type": "code",
   "execution_count": 45,
   "metadata": {
    "collapsed": true
   },
   "outputs": [],
   "source": [
    "subdir = 'final_csvs2'"
   ]
  },
  {
   "cell_type": "code",
   "execution_count": 47,
   "metadata": {
    "collapsed": false
   },
   "outputs": [],
   "source": [
    "dataall = pd.DataFrame.from_csv(os.path.join(subdir,'dataall.csv'),encoding='utf-8')"
   ]
  },
  {
   "cell_type": "markdown",
   "metadata": {},
   "source": [
    "## Tidy"
   ]
  },
  {
   "cell_type": "code",
   "execution_count": 48,
   "metadata": {
    "collapsed": true
   },
   "outputs": [],
   "source": [
    "wordoption = 'stem'\n",
    "text = dataall['full_text']\n",
    "tidiedtext = [text_processing.tidy_text(item,wordoption=wordoption) for item in text]\n",
    "tidiedtextjoined = [' '.join(text) for text in tidiedtext]"
   ]
  },
  {
   "cell_type": "markdown",
   "metadata": {},
   "source": [
    "## Save"
   ]
  },
  {
   "cell_type": "code",
   "execution_count": 49,
   "metadata": {
    "collapsed": true
   },
   "outputs": [],
   "source": [
    "datatidy = pd.DataFrame(index=dataall.index,columns=[])\n",
    "datatidy['TidiedText'] = tidiedtextjoined\n",
    "datatidy.to_csv('datatidy.csv',encoding='utf-8')"
   ]
  },
  {
   "cell_type": "markdown",
   "metadata": {},
   "source": [
    "# NLTK/Sk-Learn"
   ]
  },
  {
   "cell_type": "code",
   "execution_count": 50,
   "metadata": {
    "collapsed": true
   },
   "outputs": [],
   "source": [
    "n_features = 1000\n",
    "n_topics = 50\n",
    "n_top_words = 20"
   ]
  },
  {
   "cell_type": "code",
   "execution_count": 51,
   "metadata": {
    "collapsed": true
   },
   "outputs": [],
   "source": [
    "# Use tf (raw term count) features for LDA.\n",
    "tidiedtextjoined = datatidy['TidiedText']\n",
    "tf_vectorizer = CountVectorizer(max_df=0.95,min_df=2,\n",
    "                                max_features=n_features)\n",
    "tf = tf_vectorizer.fit_transform(tidiedtextjoined)"
   ]
  },
  {
   "cell_type": "code",
   "execution_count": 52,
   "metadata": {
    "collapsed": false
   },
   "outputs": [
    {
     "data": {
      "text/plain": [
       "LatentDirichletAllocation(batch_size=128, doc_topic_prior=None,\n",
       "             evaluate_every=-1, learning_decay=0.7,\n",
       "             learning_method='online', learning_offset=10.0,\n",
       "             max_doc_update_iter=100, max_iter=10, mean_change_tol=0.001,\n",
       "             n_jobs=1, n_topics=50, perp_tol=0.1, random_state=0,\n",
       "             topic_word_prior=None, total_samples=1000000.0, verbose=0)"
      ]
     },
     "execution_count": 52,
     "metadata": {},
     "output_type": "execute_result"
    }
   ],
   "source": [
    "lda = LatentDirichletAllocation(n_topics=n_topics, max_iter=10,\n",
    "                                random_state=0)\n",
    "lda.fit(tf)"
   ]
  },
  {
   "cell_type": "code",
   "execution_count": 53,
   "metadata": {
    "collapsed": false
   },
   "outputs": [
    {
     "name": "stdout",
     "output_type": "stream",
     "text": [
      "Topic #0:\n",
      "women men sexual woman sex abort girl marriag young one equal man partner right like year show percent also bodi\n",
      "Topic #1:\n",
      "get say like one peopl dont go said want thing know think would make way even us that good look\n",
      "Topic #2:\n",
      "one year day time two new last car week first month could still back three show even turn end anoth\n",
      "Topic #3:\n",
      "one live like peopl life world year us day time work love friend would see never place mani first feel\n",
      "Topic #4:\n",
      "peopl like studi one experi research differ work may person less use make found way might often brain effect find\n",
      "Topic #5:\n",
      "court law rule state judg case feder legal suprem right lawyer appeal decis constitut would requir violat could district hear\n",
      "Topic #6:\n",
      "obama presid american administr america state unit washington polici year said congress hous white nation bush countri foreign last john\n",
      "Topic #7:\n",
      "countri world unit global trade oil intern state nation agreement develop would econom foreign like africa economi deal could import\n",
      "Topic #8:\n",
      "islam muslim state group western world arab radic religi west terrorist mani kill also extrem countri attack violenc terror middl\n",
      "Topic #9:\n",
      "russia putin ukrain russian west western presid sanction european union europ war would world econom may state countri new power\n",
      "Topic #10:\n",
      "bill state would senat law congress republican legisl hous vote pass democrat feder act right new allow requir committe approv\n",
      "Topic #11:\n",
      "parti elect polit minist leader nation govern vote presid prime would year countri parliament power new democrat one opposit politician\n",
      "Topic #12:\n",
      "state militari unit war forc govern turkey secur armi would group conflict intern nation support fight could must region peac\n",
      "Topic #13:\n",
      "religi radic law case court act govern mean process provid justic muslim peopl feder appeal interest remain freedom refus polit\n",
      "Topic #14:\n",
      "hous home food poor communiti peopl live famili poverti neighborhood afford resid local build town area work apart move children\n",
      "Topic #15:\n",
      "children famili parent child mother father girl kid son young boy school one adult age year home help mani care\n",
      "Topic #16:\n",
      "justic court suprem case decis opinion texa chief amend major constitut law argument vote marriag act question wrote right would\n",
      "Topic #17:\n",
      "clinton hillari sander democrat campaign presid bill obama polit candid wall support presidenti street like voter new would debat speech\n",
      "Topic #18:\n",
      "health drug patient medic doctor diseas hospit cancer treatment risk year use care peopl test death ill mani studi control\n",
      "Topic #19:\n",
      "isi trump cruz polit sunni candid citizen one ad campaign call make need even unit long elect peopl iraq come\n",
      "Topic #20:\n",
      "govern india agenc law nation pakistan secur offici state protect inform author public program feder group right report document countri\n",
      "Topic #21:\n",
      "bank financi chang economi polici would econom govern year crisi market need system rate risk interest even problem climat make\n",
      "Topic #22:\n",
      "citi new york state mayor de public plan year governor need build local council bill island make help system use\n",
      "Topic #23:\n",
      "book time stori news read write publish new media articl one wrote report year author writer journalist post onlin email\n",
      "Topic #24:\n",
      "china chines japan north south state unit island offici militari nation countri claim war govern world foreign also econom american\n",
      "Topic #25:\n",
      "ms report said investig member commiss committe offici former charg video say journalist releas last includ public critic offic corrupt\n",
      "Topic #26:\n",
      "church gay christian park marriag faith religi one said peopl mani call nation love conserv man last leader famili told\n",
      "Topic #27:\n",
      "worker wage job work labor employ minimum employe pay hour rais would increas union paid higher forc state new earn\n",
      "Topic #28:\n",
      "trump immigr republican bush cruz hes candid debat would presidenti presid campaign georg parti polici like conserv senat polit american\n",
      "Topic #29:\n",
      "right cultur religi liber polit societi freedom moral social conserv movement speech group one ident organ peopl mani languag valu\n",
      "Topic #30:\n",
      "game team play player win field year hit big even nation would like run one colleg watch first everi summer\n",
      "Topic #31:\n",
      "school student colleg educ univers teacher high class teach test program state year learn public standard need kid requir train\n",
      "Topic #32:\n",
      "human scienc research scientist anim studi univers climat natur technolog chang field space global evid found known area year professor\n",
      "Topic #33:\n",
      "polic offic prison crime crimin sentenc year arrest case justic death depart peopl victim abus charg report violenc kill convict\n",
      "Topic #34:\n",
      "health care insur plan servic peopl afford provid act exchang data cost law feder access would reform program cover requir\n",
      "Topic #35:\n",
      "european union europ britain british franc germani minist member nation prime commiss parliament common crisi share across also deal state\n",
      "Topic #36:\n",
      "trump republican clinton conserv presid one christian would primari cruz post john moral church march week parti win voter call\n",
      "Topic #37:\n",
      "iraq syria isi sunni saudi arab middl islam war east region power america iran world fight us strategi back alli\n",
      "Topic #38:\n",
      "compani busi corpor market would use industri regul like servic execut internet rule consum make product could technolog also sell\n",
      "Topic #39:\n",
      "iran nuclear deal would sanction weapon agreement program negoti power state could obama bomb unit presid alli year america middl\n",
      "Topic #40:\n",
      "water food energi use year gas environment industri state percent product land produc california natur cost price increas reduc need\n",
      "Topic #41:\n",
      "tax money would million spend fund billion budget year pay cut program govern cost financ benefit feder propos plan invest\n",
      "Topic #42:\n",
      "percent rate econom american incom growth year social inequ increas number less polici averag work job popul peopl accord economi\n",
      "Topic #43:\n",
      "republican democrat voter polit candid parti elect campaign vote state conserv percent support poll senat presidenti group primari issu governor\n",
      "Topic #44:\n",
      "french attack franc pari terrorist terror secur kill bomb threat fear target peopl nation victim foreign week citizen polic de\n",
      "Topic #45:\n",
      "refuge germani german greec countri border europ crisi immigr peopl syrian year war million arriv nation number last thousand debt\n",
      "Topic #46:\n",
      "gun kill safeti violenc weapon fire law death peopl carri ban nation arm public shot danger use mass control would\n",
      "Topic #47:\n",
      "govern polit power peopl democraci protest countri corrupt reform right system public leader rule citizen democrat institut mani media critic\n",
      "Topic #48:\n",
      "black white south racial african race africa peopl minor civil one america live histori nation countri men young like right\n",
      "Topic #49:\n",
      "israel palestinian isra jewish jew state peac west bank arab minist would prime negoti author secur land side east solut\n",
      "()\n"
     ]
    }
   ],
   "source": [
    "tf_feature_names = tf_vectorizer.get_feature_names()\n",
    "topic_weights.print_top_words(lda, tf_feature_names, n_top_words)"
   ]
  },
  {
   "cell_type": "code",
   "execution_count": 54,
   "metadata": {
    "collapsed": true
   },
   "outputs": [],
   "source": [
    "doc_topic_distrib = lda.transform(tf)"
   ]
  },
  {
   "cell_type": "code",
   "execution_count": 55,
   "metadata": {
    "collapsed": true
   },
   "outputs": [],
   "source": [
    "doc_topic_distrib /= np.sum(doc_topic_distrib,axis=1)[:, np.newaxis]"
   ]
  },
  {
   "cell_type": "code",
   "execution_count": 56,
   "metadata": {
    "collapsed": true
   },
   "outputs": [],
   "source": [
    "fig = plt.figure(1)\n",
    "ax = fig.gca()\n",
    "ax = ax.matshow(doc_topic_distrib, cmap=plt.cm.gray, aspect = '0.005')\n",
    "plt.show()"
   ]
  },
  {
   "cell_type": "markdown",
   "metadata": {},
   "source": [
    "## Save"
   ]
  },
  {
   "cell_type": "markdown",
   "metadata": {},
   "source": [
    "### Topic Weights"
   ]
  },
  {
   "cell_type": "code",
   "execution_count": 59,
   "metadata": {
    "collapsed": false
   },
   "outputs": [],
   "source": [
    "topic_weights.save_topic_weights(datatidy,doc_topic_distrib,\n",
    "                   stem=wordoption,package='sklearn',rows='all',subdir=subdir)"
   ]
  },
  {
   "cell_type": "markdown",
   "metadata": {},
   "source": [
    "### LDA"
   ]
  },
  {
   "cell_type": "code",
   "execution_count": 60,
   "metadata": {
    "collapsed": true
   },
   "outputs": [],
   "source": [
    "pickleizer.save_topic_analyzer(lda,tf_vectorizer)"
   ]
  },
  {
   "cell_type": "markdown",
   "metadata": {},
   "source": [
    "# GenSim"
   ]
  },
  {
   "cell_type": "code",
   "execution_count": 21,
   "metadata": {
    "collapsed": false
   },
   "outputs": [],
   "source": [
    "from gensim import corpora, models, similarities"
   ]
  },
  {
   "cell_type": "markdown",
   "metadata": {},
   "source": [
    "## Dictionary"
   ]
  },
  {
   "cell_type": "code",
   "execution_count": 22,
   "metadata": {
    "collapsed": false
   },
   "outputs": [
    {
     "name": "stdout",
     "output_type": "stream",
     "text": [
      "Dictionary(13603 unique tokens: [u'yellow', u'narcotic', u'four', u'jihad', u'hanging']...)\n"
     ]
    }
   ],
   "source": [
    "dictionary = corpora.Dictionary(texts)\n",
    "bad_ids = [tokenid for tokenid, docfreq in dictionary.dfs.iteritems() if docfreq <= 10]\n",
    "dictionary.filter_tokens(bad_ids) # remove words with low frequencies\n",
    "dictionary.compactify() # remove gaps in id sequence after words that were removed\n",
    "print(dictionary)"
   ]
  },
  {
   "cell_type": "markdown",
   "metadata": {},
   "source": [
    "## Corpus"
   ]
  },
  {
   "cell_type": "code",
   "execution_count": 23,
   "metadata": {
    "collapsed": true
   },
   "outputs": [],
   "source": [
    "corpus = [dictionary.doc2bow(text) for text in texts]"
   ]
  },
  {
   "cell_type": "markdown",
   "metadata": {},
   "source": [
    "## Vectorizer"
   ]
  },
  {
   "cell_type": "code",
   "execution_count": 24,
   "metadata": {
    "collapsed": false
   },
   "outputs": [],
   "source": [
    "ldacount = models.ldamodel.LdaModel(corpus, id2word=dictionary, num_topics=50)"
   ]
  },
  {
   "cell_type": "code",
   "execution_count": 38,
   "metadata": {
    "collapsed": false
   },
   "outputs": [],
   "source": [
    "topicweights = ldacount.inference(corpus)"
   ]
  },
  {
   "cell_type": "code",
   "execution_count": 40,
   "metadata": {
    "collapsed": true
   },
   "outputs": [],
   "source": [
    "doc_topic_distrib = topicweights[0]"
   ]
  },
  {
   "cell_type": "code",
   "execution_count": 85,
   "metadata": {
    "collapsed": false
   },
   "outputs": [],
   "source": [
    "doc_topic_distrib /= np.sum(doc_topic_distrib,axis=1)[:, np.newaxis]"
   ]
  },
  {
   "cell_type": "code",
   "execution_count": 86,
   "metadata": {
    "collapsed": false
   },
   "outputs": [],
   "source": [
    "fig = plt.figure(1)\n",
    "ax = fig.gca()\n",
    "ax = ax.matshow(doc_topic_distrib, cmap=plt.cm.gray, aspect = '0.05')\n",
    "plt.show()"
   ]
  },
  {
   "cell_type": "code",
   "execution_count": 87,
   "metadata": {
    "collapsed": false
   },
   "outputs": [],
   "source": [
    "topic_weights.save_topic_weights(datareg,doc_topic_distrib,stem='lemma',package='gensim',rows='reg')"
   ]
  },
  {
   "cell_type": "markdown",
   "metadata": {},
   "source": [
    "# Doc2Vec"
   ]
  },
  {
   "cell_type": "code",
   "execution_count": 79,
   "metadata": {
    "collapsed": true
   },
   "outputs": [],
   "source": [
    "class LabeledLineSentence(object):\n",
    "    def __init__(self, doc_list, labels_list):\n",
    "       self.labels_list = labels_list\n",
    "       self.doc_list = doc_list\n",
    "    def __iter__(self):\n",
    "        for doc, label in zip(self.doc_list, self.labels_list):\n",
    "            yield models.doc2vec.TaggedDocument(words=doc,tags=[label])"
   ]
  },
  {
   "cell_type": "code",
   "execution_count": 80,
   "metadata": {
    "collapsed": true
   },
   "outputs": [],
   "source": [
    "labels = ['{}'.format(i) for i, _ in enumerate(texts)]\n",
    "sentences = LabeledLineSentence(texts,labels)"
   ]
  },
  {
   "cell_type": "code",
   "execution_count": 81,
   "metadata": {
    "collapsed": true
   },
   "outputs": [],
   "source": [
    "model = models.Doc2Vec(dm=1, dm_concat=1, size=100, window=5, negative=5, hs=0, min_count=5)"
   ]
  },
  {
   "cell_type": "code",
   "execution_count": 82,
   "metadata": {
    "collapsed": false
   },
   "outputs": [],
   "source": [
    "model.build_vocab(sentences)"
   ]
  },
  {
   "cell_type": "code",
   "execution_count": 83,
   "metadata": {
    "collapsed": false
   },
   "outputs": [
    {
     "data": {
      "text/plain": [
       "11051150"
      ]
     },
     "execution_count": 83,
     "metadata": {},
     "output_type": "execute_result"
    }
   ],
   "source": [
    "model.train(sentences)"
   ]
  },
  {
   "cell_type": "code",
   "execution_count": 87,
   "metadata": {
    "collapsed": false
   },
   "outputs": [],
   "source": [
    "doc2vecres = np.zeros((len(texts),100))\n",
    "for i, text in enumerate(texts):\n",
    "    doc2vecres[i,:] = model.infer_vector(text)"
   ]
  },
  {
   "cell_type": "code",
   "execution_count": 95,
   "metadata": {
    "collapsed": false
   },
   "outputs": [
    {
     "data": {
      "text/plain": [
       "-0.09356486052274704"
      ]
     },
     "execution_count": 95,
     "metadata": {},
     "output_type": "execute_result"
    }
   ],
   "source": [
    "doc2vecres[0,10]"
   ]
  },
  {
   "cell_type": "code",
   "execution_count": 93,
   "metadata": {
    "collapsed": false
   },
   "outputs": [],
   "source": [
    "topic_weights.save_topic_weights(dataall[idxauthor],doc2vecres,stem=None,package='doc2vec',rows='reg')"
   ]
  },
  {
   "cell_type": "code",
   "execution_count": 85,
   "metadata": {
    "collapsed": false
   },
   "outputs": [
    {
     "data": {
      "text/plain": [
       "[(u'hasinas', 0.7176132202148438),\n",
       " (u'fiorina', 0.6785053014755249),\n",
       " (u'fiorinas', 0.6547480821609497),\n",
       " (u'obamas', 0.6400838494300842),\n",
       " (u'cuomo', 0.6099336743354797),\n",
       " (u'kirchner', 0.6086978912353516),\n",
       " (u'johnson', 0.601860523223877),\n",
       " (u'mccullen', 0.6011120080947876),\n",
       " (u'pathetically', 0.6010297536849976),\n",
       " (u'reagan', 0.593456506729126)]"
      ]
     },
     "execution_count": 85,
     "metadata": {},
     "output_type": "execute_result"
    }
   ],
   "source": [
    "model.most_similar(['obama','sander','clinton'])"
   ]
  },
  {
   "cell_type": "code",
   "execution_count": 134,
   "metadata": {
    "collapsed": false,
    "scrolled": true
   },
   "outputs": [
    {
     "data": {
      "text/plain": [
       "array([-0.10193164, -0.04376977, -0.13766503,  0.0823018 , -0.02074894,\n",
       "        0.20367937,  0.21111564, -0.05945964,  0.37171602,  0.00507934,\n",
       "       -0.09356486,  0.10768178, -0.07886085, -0.00511813, -0.00253258,\n",
       "        0.04099534,  0.08943591,  0.20622362, -0.02915514, -0.26442051,\n",
       "        0.12644652,  0.04535156,  0.27022526, -0.12068559,  0.03253226,\n",
       "        0.04558017,  0.18684271,  0.19145858,  0.13811885,  0.23620991,\n",
       "        0.19093932, -0.10907025, -0.0671132 ,  0.09404733,  0.01839629,\n",
       "        0.05211755, -0.12075779,  0.19123247,  0.11745412, -0.2026743 ,\n",
       "       -0.02890574,  0.015503  , -0.1583606 ,  0.00218541,  0.00916504,\n",
       "       -0.07925086, -0.28470385, -0.0842441 ,  0.28052595, -0.25641757,\n",
       "       -0.08566134,  0.08883084, -0.2375012 ,  0.12778269, -0.28805211,\n",
       "       -0.08686749,  0.11690425, -0.13369317,  0.2372302 ,  0.01629356,\n",
       "        0.14770885,  0.07089438, -0.2603536 ,  0.16426481, -0.02648615,\n",
       "        0.10391705,  0.0802548 , -0.21442699,  0.20937781, -0.20138375,\n",
       "        0.03252717,  0.29893884, -0.06508335, -0.13541329,  0.12673143,\n",
       "        0.1643908 ,  0.25832537,  0.20783734,  0.25869843, -0.14693005,\n",
       "        0.24352315, -0.12251428,  0.14227477, -0.070927  ,  0.02978115,\n",
       "        0.01555089, -0.51569778,  0.29805702, -0.00896756, -0.09204512,\n",
       "        0.01146462, -0.07057361,  0.24847791, -0.14210543, -0.02696536,\n",
       "        0.02297891,  0.0425211 ,  0.14418139, -0.03502613, -0.32302985], dtype=float32)"
      ]
     },
     "execution_count": 134,
     "metadata": {},
     "output_type": "execute_result"
    }
   ],
   "source": [
    "model.infer_vector(texts[0])"
   ]
  },
  {
   "cell_type": "markdown",
   "metadata": {},
   "source": [
    "# T-SNE"
   ]
  },
  {
   "cell_type": "code",
   "execution_count": 44,
   "metadata": {
    "collapsed": false
   },
   "outputs": [],
   "source": [
    "from sklearn.manifold import TSNE\n",
    "from sklearn.decomposition import PCA\n",
    "from sklearn.datasets import load_iris\n",
    "%matplotlib qt"
   ]
  },
  {
   "cell_type": "code",
   "execution_count": 64,
   "metadata": {
    "collapsed": false,
    "scrolled": false
   },
   "outputs": [],
   "source": [
    "plt.figure(figsize=(10, 5))\n",
    "plt.subplot(121)\n",
    "plt.scatter(X_tsne[:, 0], X_tsne[:, 1], c=iris.target)\n",
    "plt.subplot(122)\n",
    "plt.scatter(X_pca[:, 0], X_pca[:, 1], c=iris.target)\n",
    "plt.show()"
   ]
  },
  {
   "cell_type": "code",
   "execution_count": 89,
   "metadata": {
    "collapsed": false,
    "scrolled": true
   },
   "outputs": [
    {
     "name": "stdout",
     "output_type": "stream",
     "text": [
      "[t-SNE] Computing pairwise distances...\n",
      "[t-SNE] Computing 91 nearest neighbors...\n",
      "[t-SNE] Computed conditional probabilities for sample 1000 / 3010\n",
      "[t-SNE] Computed conditional probabilities for sample 2000 / 3010\n",
      "[t-SNE] Computed conditional probabilities for sample 3000 / 3010\n",
      "[t-SNE] Computed conditional probabilities for sample 3010 / 3010\n",
      "[t-SNE] Mean sigma: 0.354876\n",
      "[t-SNE] Error after 100 iterations with early exaggeration: 2.142301\n",
      "[t-SNE] Error after 350 iterations: 1.969357\n"
     ]
    }
   ],
   "source": [
    "X_tsne = TSNE(learning_rate=100,verbose=1).fit_transform(doc2vecres[idxauthor2.as_matrix(),:])"
   ]
  },
  {
   "cell_type": "code",
   "execution_count": 90,
   "metadata": {
    "collapsed": false
   },
   "outputs": [],
   "source": [
    "authorid = dataauthor['authorid'][idxauthor][idxauthor2]"
   ]
  },
  {
   "cell_type": "code",
   "execution_count": 91,
   "metadata": {
    "collapsed": false,
    "scrolled": true
   },
   "outputs": [],
   "source": [
    "plt.figure(figsize=(10, 5))\n",
    "plt.subplot(121)\n",
    "plt.scatter(X_tsne[:, 0], X_tsne[:, 1], c=authorid[idxauthor].as_matrix())\n",
    "plt.show()"
   ]
  },
  {
   "cell_type": "code",
   "execution_count": null,
   "metadata": {
    "collapsed": true
   },
   "outputs": [],
   "source": []
  }
 ],
 "metadata": {
  "kernelspec": {
   "display_name": "Python 2",
   "language": "python",
   "name": "python2"
  },
  "language_info": {
   "codemirror_mode": {
    "name": "ipython",
    "version": 2
   },
   "file_extension": ".py",
   "mimetype": "text/x-python",
   "name": "python",
   "nbconvert_exporter": "python",
   "pygments_lexer": "ipython2",
   "version": "2.7.11"
  }
 },
 "nbformat": 4,
 "nbformat_minor": 0
}
