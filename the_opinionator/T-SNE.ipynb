{
 "cells": [
  {
   "cell_type": "code",
   "execution_count": 1,
   "metadata": {
    "collapsed": true
   },
   "outputs": [],
   "source": [
    "import numpy as np\n",
    "import pandas as pd\n",
    "import matplotlib as mpl\n",
    "import matplotlib.pyplot as plt\n",
    "from sklearn.manifold import TSNE\n",
    "import topic_weights as tw\n",
    "import os\n",
    "%matplotlib inline"
   ]
  },
  {
   "cell_type": "code",
   "execution_count": 2,
   "metadata": {
    "collapsed": true
   },
   "outputs": [],
   "source": [
    "%load_ext autoreload\n",
    "%autoreload 2"
   ]
  },
  {
   "cell_type": "markdown",
   "metadata": {},
   "source": [
    "# Load Data"
   ]
  },
  {
   "cell_type": "code",
   "execution_count": 3,
   "metadata": {
    "collapsed": true
   },
   "outputs": [],
   "source": [
    "subdir = 'final_csvs2'"
   ]
  },
  {
   "cell_type": "code",
   "execution_count": 4,
   "metadata": {
    "collapsed": false
   },
   "outputs": [],
   "source": [
    "dataall = pd.DataFrame.from_csv(os.path.join(subdir,'dataall.csv'),encoding='utf-8')\n",
    "datanonother = pd.DataFrame.from_csv(os.path.join(subdir,'datanonother.csv'),encoding='utf-8')"
   ]
  },
  {
   "cell_type": "code",
   "execution_count": 5,
   "metadata": {
    "collapsed": false
   },
   "outputs": [],
   "source": [
    "n_topics = 50\n",
    "stem = 'stem'\n",
    "package = 'sklearn'\n",
    "rows = 'all'\n",
    "twcsv = tw.topic_weights_csv(n_topics,stem,package,rows)\n",
    "topicweights = pd.DataFrame.from_csv(os.path.join(subdir,twcsv))"
   ]
  },
  {
   "cell_type": "markdown",
   "metadata": {},
   "source": [
    "# T-SNE"
   ]
  },
  {
   "cell_type": "code",
   "execution_count": 6,
   "metadata": {
    "collapsed": false,
    "scrolled": false
   },
   "outputs": [
    {
     "name": "stdout",
     "output_type": "stream",
     "text": [
      "[t-SNE] Computing pairwise distances...\n",
      "[t-SNE] Computing 91 nearest neighbors...\n",
      "[t-SNE] Computed conditional probabilities for sample 1000 / 9662\n",
      "[t-SNE] Computed conditional probabilities for sample 2000 / 9662\n",
      "[t-SNE] Computed conditional probabilities for sample 3000 / 9662\n",
      "[t-SNE] Computed conditional probabilities for sample 4000 / 9662\n",
      "[t-SNE] Computed conditional probabilities for sample 5000 / 9662\n",
      "[t-SNE] Computed conditional probabilities for sample 6000 / 9662\n",
      "[t-SNE] Computed conditional probabilities for sample 7000 / 9662\n",
      "[t-SNE] Computed conditional probabilities for sample 8000 / 9662\n",
      "[t-SNE] Computed conditional probabilities for sample 9000 / 9662\n",
      "[t-SNE] Computed conditional probabilities for sample 9662 / 9662\n",
      "[t-SNE] Mean sigma: 0.107976\n",
      "[t-SNE] Error after 50 iterations with early exaggeration: 1.553268\n",
      "[t-SNE] Error after 75 iterations: 1.553248\n"
     ]
    }
   ],
   "source": [
    "X_tsne = TSNE(learning_rate=100,verbose=1).fit_transform(topicweights)"
   ]
  },
  {
   "cell_type": "markdown",
   "metadata": {},
   "source": [
    "# Topic IDs"
   ]
  },
  {
   "cell_type": "code",
   "execution_count": 7,
   "metadata": {
    "collapsed": false
   },
   "outputs": [],
   "source": [
    "from collections import Counter\n",
    "import operator as op\n",
    "from model_predict import LDA, TF"
   ]
  },
  {
   "cell_type": "code",
   "execution_count": 8,
   "metadata": {
    "collapsed": false
   },
   "outputs": [],
   "source": [
    "tf_feature_names = TF.get_feature_names()"
   ]
  },
  {
   "cell_type": "code",
   "execution_count": 9,
   "metadata": {
    "collapsed": false
   },
   "outputs": [],
   "source": [
    "topicids = np.argmax(topicweights.as_matrix(),axis=1)"
   ]
  },
  {
   "cell_type": "code",
   "execution_count": 10,
   "metadata": {
    "collapsed": true
   },
   "outputs": [],
   "source": [
    "count = Counter(topicids)\n",
    "sortedcounts = sorted(count.items(),key=op.itemgetter(1),reverse=True)"
   ]
  },
  {
   "cell_type": "code",
   "execution_count": 11,
   "metadata": {
    "collapsed": false,
    "scrolled": false
   },
   "outputs": [
    {
     "name": "stdout",
     "output_type": "stream",
     "text": [
      "(1, u'get say like one peopl dont go said')\n",
      "(3, u'one live like peopl life world year us')\n",
      "(33, u'polic offic prison crime crimin sentenc year arrest')\n",
      "(12, u'state militari unit war forc govern turkey secur')\n",
      "(18, u'health drug patient medic doctor diseas hospit cancer')\n",
      "(47, u'govern polit power peopl democraci protest countri corrupt')\n",
      "(21, u'bank financi chang economi polici would econom govern')\n",
      "(11, u'parti elect polit minist leader nation govern vote')\n",
      "(4, u'peopl like studi one experi research differ work')\n",
      "(43, u'republican democrat voter polit candid parti elect campaign')\n",
      "(5, u'court law rule state judg case feder legal')\n",
      "(42, u'percent rate econom american incom growth year social')\n",
      "(22, u'citi new york state mayor de public plan')\n",
      "(41, u'tax money would million spend fund billion budget')\n",
      "(10, u'bill state would senat law congress republican legisl')\n"
     ]
    }
   ],
   "source": [
    "for sortedcount in sortedcounts[:15]:\n",
    "    idx = sortedcount[0]\n",
    "    print(idx, tw.top_words(LDA,tf_feature_names,n_top_words=8,topic_idx=idx))"
   ]
  },
  {
   "cell_type": "code",
   "execution_count": 12,
   "metadata": {
    "collapsed": true
   },
   "outputs": [],
   "source": [
    "besttopics = {33: 'Police and crime',\n",
    "              12: 'Foreign policy',\n",
    "              18: 'Health care',\n",
    "              47: 'Government',\n",
    "              21: 'Banks and finance',\n",
    "              11: 'Elections',\n",
    "              43: 'Domestic politics',\n",
    "              5: 'Courts and law',\n",
    "              42: 'Economy',\n",
    "              22: 'New York'}"
   ]
  },
  {
   "cell_type": "code",
   "execution_count": 13,
   "metadata": {
    "collapsed": false
   },
   "outputs": [],
   "source": [
    "topicidsnew = [besttopics.get(topicid,'None') for topicid in topicids]"
   ]
  },
  {
   "cell_type": "code",
   "execution_count": 14,
   "metadata": {
    "collapsed": false
   },
   "outputs": [],
   "source": [
    "df = pd.DataFrame(index=topicweights.index,\n",
    "                  columns=['Component 1','Component 2','Topic ID','Author','URL'])"
   ]
  },
  {
   "cell_type": "code",
   "execution_count": 15,
   "metadata": {
    "collapsed": false
   },
   "outputs": [],
   "source": [
    "df['Component 1'] = X_tsne[:,0]\n",
    "df['Component 2'] = X_tsne[:,1]\n",
    "df['Topic ID'] = topicidsnew\n",
    "df['Author'] = dataall['author']\n",
    "df['Title'] = dataall['title']\n",
    "df['URL'] = dataall['url']\n",
    "df['Share Count'] = dataall['share_count']"
   ]
  },
  {
   "cell_type": "code",
   "execution_count": 54,
   "metadata": {
    "collapsed": true
   },
   "outputs": [],
   "source": [
    "import matplotlib as mpl\n",
    "import matplotlib.pyplot as plt\n",
    "%matplotlib qt"
   ]
  },
  {
   "cell_type": "code",
   "execution_count": 16,
   "metadata": {
    "collapsed": false
   },
   "outputs": [],
   "source": [
    "dffinal = df[df['Topic ID'] != 'None']"
   ]
  },
  {
   "cell_type": "code",
   "execution_count": 75,
   "metadata": {
    "collapsed": false
   },
   "outputs": [
    {
     "name": "stderr",
     "output_type": "stream",
     "text": [
      "/home/varun/anaconda2/lib/python2.7/site-packages/ipykernel/__main__.py:4: SettingWithCopyWarning: \n",
      "A value is trying to be set on a copy of a slice from a DataFrame.\n",
      "Try using .loc[row_indexer,col_indexer] = value instead\n",
      "\n",
      "See the caveats in the documentation: http://pandas.pydata.org/pandas-docs/stable/indexing.html#indexing-view-versus-copy\n"
     ]
    }
   ],
   "source": [
    "topics = np.unique(dffinal['Topic ID'])\n",
    "topicmapdict = {topic: i for i, topic in enumerate(topics)}\n",
    "topicidid = [topicmapdict[topic] for topic in dffinal['Topic ID']]\n",
    "dffinal['Topic ID ID'] = topicidid"
   ]
  },
  {
   "cell_type": "code",
   "execution_count": 80,
   "metadata": {
    "collapsed": false
   },
   "outputs": [],
   "source": [
    "dffinal.to_csv('topics.tsv',encoding='utf-8',index=False,sep='\\t')"
   ]
  },
  {
   "cell_type": "code",
   "execution_count": 129,
   "metadata": {
    "collapsed": true
   },
   "outputs": [],
   "source": [
    "keys1 = ['Component 1','Component 2','Share Count','Topic ID','Topic ID ID','Author','Title']\n",
    "keys2 = [u'one',u'two',u'shares',u'topic',u'tid',u'author',u'title']"
   ]
  },
  {
   "cell_type": "code",
   "execution_count": 130,
   "metadata": {
    "collapsed": false
   },
   "outputs": [],
   "source": [
    "with open('out','wb') as f:\n",
    "    for row in dffinal.iterrows():\n",
    "        mystring = u'{0},\\n'.format(gen_row(row[1],keys1,keys2))\n",
    "        f.write(mystring.encode('utf-8'))"
   ]
  },
  {
   "cell_type": "code",
   "execution_count": 51,
   "metadata": {
    "collapsed": false
   },
   "outputs": [
    {
     "data": {
      "text/plain": [
       "'{\"Component 1\":{\"6\":0.0009163953,\"7\":-0.0010415819,\"9\":0.0018586484,\"11\":-0.0004961732,\"18\":0.0030207311,\"20\":-0.0007793708,\"26\":0.0004521777,\"28\":0.0001189789,\"31\":0.0005486608,\"33\":-0.0000274088,\"34\":-0.0019830916,\"35\":0.0005942927,\"36\":0.0024595922,\"41\":-0.0012566696,\"44\":-0.0005113076,\"60\":-0.0044596354,\"61\":-0.0003398164,\"63\":0.0008182635,\"64\":-0.0000656738,\"70\":-0.0005676238},\"Component 2\":{\"6\":-0.0027222379,\"7\":0.0002454044,\"9\":-0.0005975703,\"11\":-0.0025408805,\"18\":-0.0007277086,\"20\":-0.0030368689,\"26\":0.0020754001,\"28\":0.0005640023,\"31\":0.0002900714,\"33\":0.0006554431,\"34\":-0.0004821063,\"35\":0.0008315095,\"36\":0.0022000438,\"41\":-0.0016885483,\"44\":-0.0024066371,\"60\":0.0003040575,\"61\":0.0003762935,\"63\":0.0009943908,\"64\":-0.0021624251,\"70\":0.0006865256},\"Topic ID\":{\"6\":\"New York\",\"7\":\"Police and crime\",\"9\":\"Government\",\"11\":\"Domestic politics\",\"18\":\"Courts and law\",\"20\":\"Foreign policy\",\"26\":\"Domestic politics\",\"28\":\"Government\",\"31\":\"Police and crime\",\"33\":\"Domestic politics\",\"34\":\"Health care\",\"35\":\"Courts and law\",\"36\":\"Domestic politics\",\"41\":\"Foreign policy\",\"44\":\"Domestic politics\",\"60\":\"Health care\",\"61\":\"Government\",\"63\":\"Economy\",\"64\":\"Domestic politics\",\"70\":\"Police and crime\"},\"Author\":{\"6\":\"The Editorial Board\",\"7\":\"The Editorial Board\",\"9\":\"The Editorial Board\",\"11\":\"Thomas Edsall\",\"18\":\"The Editorial Board\",\"20\":\"Abdu Mansour\",\"26\":\"Emma Roller\",\"28\":\"David Brooks\",\"31\":\"Tash Aw\",\"33\":\"Charles Blow\",\"34\":\"The Editorial Board\",\"35\":\"The Editorial Board\",\"36\":\"Orrin Hatch\",\"41\":\"Saleem Jubouri\",\"44\":\"Nate Cohn\",\"60\":\"Craig Fox\",\"61\":\"James Traub\",\"63\":\"Teresa Tritch\",\"64\":\"The Editorial Board\",\"70\":\"The Editorial Board\"},\"URL\":{\"6\":\"http:\\\\/\\\\/www.nytimes.com\\\\/2016\\\\/03\\\\/31\\\\/opinion\\\\/an-austerity-plan-that-would-punish-the-city.html\",\"7\":\"http:\\\\/\\\\/www.nytimes.com\\\\/2016\\\\/03\\\\/31\\\\/opinion\\\\/the-clemency-backlog-continues.html\",\"9\":\"http:\\\\/\\\\/www.nytimes.com\\\\/2016\\\\/03\\\\/31\\\\/opinion\\\\/a-marred-election-in-the-republic-of-congo.html\",\"11\":\"http:\\\\/\\\\/www.nytimes.com\\\\/2016\\\\/03\\\\/30\\\\/opinion\\\\/campaign-stops\\\\/who-are-the-angriest-republicans.html\",\"18\":\"http:\\\\/\\\\/www.nytimes.com\\\\/2016\\\\/03\\\\/30\\\\/opinion\\\\/unions-win-but-the-court-is-still-hobbled.html\",\"20\":\"http:\\\\/\\\\/www.nytimes.com\\\\/2016\\\\/03\\\\/30\\\\/opinion\\\\/yemens-president-a-path-to-peace.html\",\"26\":\"http:\\\\/\\\\/www.nytimes.com\\\\/2016\\\\/03\\\\/29\\\\/opinion\\\\/campaign-stops\\\\/the-league-of-mens-voters.html\",\"28\":\"http:\\\\/\\\\/www.nytimes.com\\\\/2016\\\\/03\\\\/29\\\\/opinion\\\\/the-sexual-politics-of-2016.html\",\"31\":\"http:\\\\/\\\\/www.nytimes.com\\\\/2016\\\\/03\\\\/29\\\\/opinion\\\\/malaysias-immigrant-worker-debate.html\",\"33\":\"http:\\\\/\\\\/www.nytimes.com\\\\/2016\\\\/03\\\\/28\\\\/opinion\\\\/republican-self-destruction.html\",\"34\":\"http:\\\\/\\\\/www.nytimes.com\\\\/2016\\\\/03\\\\/28\\\\/opinion\\\\/the-state-assault-on-planned-parenthood.html\",\"35\":\"http:\\\\/\\\\/www.nytimes.com\\\\/2016\\\\/03\\\\/28\\\\/opinion\\\\/a-modern-system-of-debtor-prisons.html\",\"36\":\"http:\\\\/\\\\/www.nytimes.com\\\\/2016\\\\/03\\\\/28\\\\/opinion\\\\/let-voters-decide-the-courts-future.html\",\"41\":\"http:\\\\/\\\\/www.nytimes.com\\\\/2016\\\\/03\\\\/28\\\\/opinion\\\\/international\\\\/keep-the-militias-out-of-mosul.html\",\"44\":\"http:\\\\/\\\\/www.nytimes.com\\\\/2016\\\\/03\\\\/27\\\\/upshot\\\\/trumps-secret-weapon-blue-state-voters.html\",\"60\":\"http:\\\\/\\\\/www.nytimes.com\\\\/2016\\\\/03\\\\/27\\\\/opinion\\\\/sunday\\\\/how-to-stop-overprescribing-antibiotics.html\",\"61\":\"http:\\\\/\\\\/www.nytimes.com\\\\/2016\\\\/03\\\\/27\\\\/opinion\\\\/sunday\\\\/call-it-what-it-is-a-rabble.html\",\"63\":\"http:\\\\/\\\\/www.nytimes.com\\\\/2016\\\\/03\\\\/26\\\\/opinion\\\\/andy-groves-warning-to-silicon-valley.html\",\"64\":\"http:\\\\/\\\\/www.nytimes.com\\\\/2016\\\\/03\\\\/26\\\\/opinion\\\\/holding-on-to-new-voters-in-november.html\",\"70\":\"http:\\\\/\\\\/www.nytimes.com\\\\/2016\\\\/03\\\\/25\\\\/opinion\\\\/human-trafficking-on-trial-in-thailand.html\"},\"Title\":{\"6\":\"An Austerity Plan That Would Punish the City\",\"7\":\"The Clemency Backlog Continues\",\"9\":\"A Marred Election in the Republic of Congo\",\"11\":\"Who Are the Angriest Republicans?\",\"18\":\"Unions Win, but the Court Is Still Hobbled\",\"20\":\"Yemen\\\\u2019s President: A Path to Peace\",\"26\":\"The League of Men Voters\",\"28\":\"The Sexual Politics of 2016\",\"31\":\"Malaysia\\\\u2019s Immigrant Worker Debate\",\"33\":\"Republican Self-Destruction\",\"34\":\"The State Assault on Planned Parenthood\",\"35\":\"A Modern System of Debtor Prisons\",\"36\":\"Let Voters Decide the Court\\\\u2019s Future\",\"41\":\"Keep the Militias Out of Mosul\",\"44\":\"Donald Trump\\\\u2019s Secret Weapon: Blue-State Voters\",\"60\":\"How to Stop Overprescribing Antibiotics\",\"61\":\"Call It What It Is: A Rabble\",\"63\":\"Andy Grove\\\\u2019s Warning to Silicon Valley\",\"64\":\"Holding On to New Voters in November\",\"70\":\"Human Trafficking on Trial in Thailand\"},\"Share Count\":{\"6\":135,\"7\":145,\"9\":466,\"11\":1494,\"18\":114,\"20\":211,\"26\":413,\"28\":8816,\"31\":88,\"33\":675,\"34\":1429,\"35\":936,\"36\":476,\"41\":487,\"44\":499,\"60\":922,\"61\":728,\"63\":1278,\"64\":90,\"70\":112}}'"
      ]
     },
     "execution_count": 51,
     "metadata": {},
     "output_type": "execute_result"
    }
   ],
   "source": [
    "dffinal.iloc[:20].to_json()"
   ]
  },
  {
   "cell_type": "code",
   "execution_count": null,
   "metadata": {
    "collapsed": true
   },
   "outputs": [],
   "source": []
  }
 ],
 "metadata": {
  "kernelspec": {
   "display_name": "Python 2",
   "language": "python",
   "name": "python2"
  },
  "language_info": {
   "codemirror_mode": {
    "name": "ipython",
    "version": 2
   },
   "file_extension": ".py",
   "mimetype": "text/x-python",
   "name": "python",
   "nbconvert_exporter": "python",
   "pygments_lexer": "ipython2",
   "version": "2.7.11"
  }
 },
 "nbformat": 4,
 "nbformat_minor": 0
}
