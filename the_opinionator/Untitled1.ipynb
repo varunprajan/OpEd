{
 "cells": [
  {
   "cell_type": "code",
   "execution_count": null,
   "metadata": {
    "collapsed": true
   },
   "outputs": [],
   "source": [
    "from scipy import integrate\n",
    "\n",
    "x = np.abs(np.random.randn(10000))\n",
    "\n",
    "integrate.trapz(x)\n",
    "\n",
    "ts = pd.Series(x, pd.date_range(start='2013-05-03', periods=len(x), freq='s'))\n",
    "\n",
    "integrate.trapz(ts, ts.index.astype(np.int64) / 10**9)\n",
    "10 loops, best of 3: 41.2 ms per loop\n",
    "\n",
    "integrate.trapz(ts.values, ts.index.astype(np.int64) / 10**9)\n",
    "1000 loops, best of 3: 301 us per loop\n",
    "\n",
    "In [27]: %timeit integrate.trapz(ts.values)\n",
    "10000 loops, best of 3: 89.4 us per loop\n",
    "\n",
    "In [28]: v1 = integrate.trapz(ts.values)\n",
    "\n",
    "In [29]: v2 = integrate.trapz(x)\n",
    "\n",
    "In [31]: (v1==v2).all()\n",
    "Out[31]: True\n"
   ]
  },
  {
   "cell_type": "code",
   "execution_count": 4,
   "metadata": {
    "collapsed": false
   },
   "outputs": [],
   "source": [
    "import urllib2\n",
    "from bs4 import BeautifulSoup\n",
    "import nytimes_crawl_2 as nytc"
   ]
  },
  {
   "cell_type": "code",
   "execution_count": 6,
   "metadata": {
    "collapsed": false
   },
   "outputs": [],
   "source": [
    "soup = nytc.soupify_url('https://en.wikipedia.org/wiki/List_of_authors_by_name:_A')"
   ]
  },
  {
   "cell_type": "code",
   "execution_count": 10,
   "metadata": {
    "collapsed": true
   },
   "outputs": [],
   "source": [
    "litags = soup.find_all('li')"
   ]
  },
  {
   "cell_type": "code",
   "execution_count": 19,
   "metadata": {
    "collapsed": true
   },
   "outputs": [],
   "source": [
    "onetag = litags[8]"
   ]
  },
  {
   "cell_type": "code",
   "execution_count": 23,
   "metadata": {
    "collapsed": false
   },
   "outputs": [
    {
     "ename": "AttributeError",
     "evalue": "'list' object has no attribute 'contents'",
     "output_type": "error",
     "traceback": [
      "\u001b[1;31m---------------------------------------------------------------------------\u001b[0m",
      "\u001b[1;31mAttributeError\u001b[0m                            Traceback (most recent call last)",
      "\u001b[1;32m<ipython-input-23-cd8d1d571637>\u001b[0m in \u001b[0;36m<module>\u001b[1;34m()\u001b[0m\n\u001b[1;32m----> 1\u001b[1;33m \u001b[0monetag\u001b[0m\u001b[1;33m.\u001b[0m\u001b[0mcontents\u001b[0m\u001b[1;33m.\u001b[0m\u001b[0mcontents\u001b[0m\u001b[1;33m\u001b[0m\u001b[0m\n\u001b[0m",
      "\u001b[1;31mAttributeError\u001b[0m: 'list' object has no attribute 'contents'"
     ]
    }
   ],
   "source": [
    "onetag.contents.contents"
   ]
  },
  {
   "cell_type": "code",
   "execution_count": 25,
   "metadata": {
    "collapsed": false
   },
   "outputs": [
    {
     "data": {
      "text/plain": [
       "u'H\\xe9ctor Abad Faciolince'"
      ]
     },
     "execution_count": 25,
     "metadata": {},
     "output_type": "execute_result"
    }
   ],
   "source": [
    "onetag.a.get('title')"
   ]
  },
  {
   "cell_type": "code",
   "execution_count": 39,
   "metadata": {
    "collapsed": false
   },
   "outputs": [],
   "source": [
    "res = soup.findAll('ul')"
   ]
  },
  {
   "cell_type": "code",
   "execution_count": 40,
   "metadata": {
    "collapsed": false
   },
   "outputs": [
    {
     "data": {
      "text/plain": [
       "[<ul>\\n<li class=\"toclevel-1 tocsection-1\"><a href=\"#Aa.E2.80.93Ad\"><span class=\"tocnumber\">1</span> <span class=\"toctext\">Aa\\u2013Ad</span></a></li>\\n<li class=\"toclevel-1 tocsection-2\"><a href=\"#Ae.E2.80.93Al\"><span class=\"tocnumber\">2</span> <span class=\"toctext\">Ae\\u2013Al</span></a></li>\\n<li class=\"toclevel-1 tocsection-3\"><a href=\"#Am.E2.80.93An\"><span class=\"tocnumber\">3</span> <span class=\"toctext\">Am\\u2013An</span></a></li>\\n<li class=\"toclevel-1 tocsection-4\"><a href=\"#Ao.E2.80.93At\"><span class=\"tocnumber\">4</span> <span class=\"toctext\">Ao\\u2013At</span></a></li>\\n<li class=\"toclevel-1 tocsection-5\"><a href=\"#Au.E2.80.93Ay\"><span class=\"tocnumber\">5</span> <span class=\"toctext\">Au\\u2013Ay</span></a></li>\\n<li class=\"toclevel-1 tocsection-6\"><a href=\"#External_links\"><span class=\"tocnumber\">6</span> <span class=\"toctext\">External links</span></a></li>\\n</ul>,\n",
       " <ul>\\n<li><a href=\"/wiki/Hans_Aanrud\" title=\"Hans Aanrud\">Hans Aanrud</a> (1863\\u20131953)</li>\\n<li><a href=\"/wiki/Alexander_Aaronsohn\" title=\"Alexander Aaronsohn\">Alexander Aaronsohn</a> (1888\\u20131948)</li>\\n<li><a href=\"/wiki/H%C3%A9ctor_Abad_Faciolince\" title=\"H\\xe9ctor Abad Faciolince\">H\\xe9ctor Abad Faciolince</a> (born 1958)</li>\\n<li><a class=\"mw-redirect\" href=\"/wiki/Christopher_Abani\" title=\"Christopher Abani\">Christopher Abani</a> (or Chris Abani) (born 1966)</li>\\n<li><a href=\"/wiki/Sait_Faik_Abas%C4%B1yan%C4%B1k\" title=\"Sait Faik Abas\\u0131yan\\u0131k\">Sait Faik Abas\\u0131yan\\u0131k</a> (1906\\u20131954)</li>\\n<li><a class=\"mw-redirect\" href=\"/wiki/Christina_Abbey\" title=\"Christina Abbey\">Christina Abbey</a> (a pseudonym of Nancy Buckingham and John Sawyer)</li>\\n<li><a href=\"/wiki/Edward_Abbey\" title=\"Edward Abbey\">Edward Abbey</a> (1927\\u20131989)</li>\\n<li><a href=\"/wiki/Lynn_Abbey\" title=\"Lynn Abbey\">Lynn Abbey</a> (born 1948)</li>\\n<li><a href=\"/wiki/Edwin_Abbott_Abbott\" title=\"Edwin Abbott Abbott\">Edwin A. Abbott</a> (1838\\u20131926)</li>\\n<li><a href=\"/wiki/Eleanor_Hallowell_Abbott\" title=\"Eleanor Hallowell Abbott\">Eleanor Hallowell Abbott</a> (1872\\u20131958)</li>\\n<li><a href=\"/wiki/George_Frederick_Abbott\" title=\"George Frederick Abbott\">George Frederick Abbott</a> (1874\\u20131947)</li>\\n<li><a href=\"/wiki/Jacob_Abbott\" title=\"Jacob Abbott\">Jacob Abbott</a> (1803\\u20131879)</li>\\n<li><a href=\"/wiki/John_Stevens_Cabot_Abbott\" title=\"John Stevens Cabot Abbott\">John S. C. Abbott</a> (1805\\u20131877)</li>\\n<li><a class=\"mw-redirect\" href=\"/wiki/Mohammed_al-Abdari\" title=\"Mohammed al-Abdari\">Mohammed ibn Hajj al-Abdari al-Fasi</a> (c. 1256\\u20131336)</li>\\n<li><a href=\"/wiki/Mohammed_al-Abdari_al-Hihi\" title=\"Mohammed al-Abdari al-Hihi\">Mohammed al-Abdari al-Hihi</a> (ca. 1289)</li>\\n<li><a class=\"mw-redirect\" href=\"/wiki/Abdelkrim_al-Khattabi\" title=\"Abdelkrim al-Khattabi\">Abdelkrim al-Khattabi</a> (1882\\u20131963)</li>\\n<li><a href=\"/wiki/Abd_al-Qadir_al-Fasi\" title=\"Abd al-Qadir al-Fasi\">Abd al-Qadir al-Fasi</a> (1599\\u20131680)</li>\\n<li><a href=\"/wiki/K%C5%8Db%C5%8D_Abe\" title=\"K\\u014db\\u014d Abe\">K\\u014db\\u014d Abe</a> (1924\\u20131993)</li>\\n<li><a href=\"/wiki/Peter_Abelard\" title=\"Peter Abelard\">Peter Abelard</a> (1079\\u20131142)</li>\\n<li><a href=\"/wiki/Robert_Abernathy\" title=\"Robert Abernathy\">Robert Abernathy</a> (1924\\u20131990)</li>\\n<li><a href=\"/wiki/Leila_Abouzeid\" title=\"Leila Abouzeid\">Leila Abouzeid</a> (born 1950)</li>\\n<li><a href=\"/wiki/Marc_Abrahams\" title=\"Marc Abrahams\">Marc Abrahams</a></li>\\n<li><a href=\"/wiki/Abu_al-Abbas_as-Sabti\" title=\"Abu al-Abbas as-Sabti\">Abu al-Abbas as-Sabti</a> (1129\\u20131204)</li>\\n<li><a href=\"/wiki/Abu_Imran_al-Fasi\" title=\"Abu Imran al-Fasi\">Abu Imran al-Fasi</a> (974\\u20131039)</li>\\n<li><a href=\"/wiki/Abu_Muqri_Mohammed_al-Battiwi\" title=\"Abu Muqri Mohammed al-Battiwi\">Abu Muqri Mohammed al-Battiwi</a> (fl. 1331)</li>\\n<li><a href=\"/wiki/Milton_Abramowitz\" title=\"Milton Abramowitz\">Milton Abramowitz</a> (1915\\u20131958)</li>\\n<li><a href=\"/wiki/Mohammed_Achaari\" title=\"Mohammed Achaari\">Mohammed Achaari</a> (born 1951)</li>\\n<li><a href=\"/wiki/Chinua_Achebe\" title=\"Chinua Achebe\">Chinua Achebe</a> (born 1930)</li>\\n<li><a href=\"/wiki/Said_Achtouk\" title=\"Said Achtouk\">Said Achtouk</a> (1925\\u20131989)</li>\\n<li><a href=\"/wiki/Andr%C3%A9_Aciman\" title=\"Andr\\xe9 Aciman\">Andr\\xe9 Aciman</a> (born 1951)</li>\\n<li><a class=\"mw-redirect\" href=\"/wiki/Forrest_J._Ackerman\" title=\"Forrest J. Ackerman\">Forrest J. Ackerman</a> (1916\\u20132008)</li>\\n<li><a href=\"/wiki/Douglas_Adams\" title=\"Douglas Adams\">Douglas Adams</a> (1952\\u20132001)</li>\\n<li><a href=\"/wiki/Richard_Adams\" title=\"Richard Adams\">Richard Adams</a> (born 1920)</li>\\n<li><a href=\"/wiki/Robert_Adams_(science_fiction_writer)\" title=\"Robert Adams (science fiction writer)\">Robert Adams</a> (1933\\u20131990), science fiction writer</li>\\n<li><a href=\"/wiki/Abd_al-Wahhab_Adarrak\" title=\"Abd al-Wahhab Adarrak\">Abd al-Wahhab Adarrak</a> (1666\\u20131746)</li>\\n<li><a href=\"/wiki/Mirza_Adeeb\" title=\"Mirza Adeeb\">Mirza Adeeb</a> (1914\\u20131999)</li>\\n<li><a href=\"/wiki/Chimamanda_Ngozi_Adichie\" title=\"Chimamanda Ngozi Adichie\">Chimamanda Ngozi Adichie</a></li>\\n<li><a class=\"mw-redirect\" href=\"/wiki/Halide_Edip_Ad%C4%B1var\" title=\"Halide Edip Ad\\u0131var\">Halide Edip Ad\\u0131var</a> (1884\\u20131964)</li>\\n</ul>,\n",
       " <ul>\\n<li><a href=\"/wiki/Aesop\" title=\"Aesop\">Aesop</a>, (c. 620 BC\\u2013560 BC)</li>\\n<li><a href=\"/wiki/Leo_Africanus\" title=\"Leo Africanus\">Leo Africanus</a> (1488\\u20131554)</li>\\n<li><a href=\"/wiki/John_Agard\" title=\"John Agard\">John Agard</a> (born 1949)</li>\\n<li><a href=\"/wiki/Zechariah_Aghmati\" title=\"Zechariah Aghmati\">Zechariah Aghmati</a> (1120\\u20131195)</li>\\n<li><a href=\"/wiki/Cecelia_Ahern\" title=\"Cecelia Ahern\">Cecelia Ahern</a>, (born 1981)</li>\\n<li><a href=\"/wiki/Jerry_Ahern\" title=\"Jerry Ahern\">Jerry Ahern</a> (1946\\u20132012)</li>\\n<li><a href=\"/wiki/Najiba_Ahmad\" title=\"Najiba Ahmad\">Najiba Ahmad</a> (born 1954)</li>\\n<li><a class=\"mw-redirect\" href=\"/wiki/Ahmet_Vefik_Pa%C5%9Fa\" title=\"Ahmet Vefik Pa\\u015fa\">Ahmet Vefik Pa\\u015fa</a> (1823\\u20131891)</li>\\n<li><a href=\"/wiki/Alfred_Aho\" title=\"Alfred Aho\">Alfred Aho</a> (born 1941) <a href=\"/wiki/Computer_scientist\" title=\"Computer scientist\">computer scientist</a> and author</li>\\n<li><a href=\"/wiki/Ama_Ata_Aidoo\" title=\"Ama Ata Aidoo\">Ama Ata Aidoo</a> (born 1942)</li>\\n<li><a href=\"/wiki/Conrad_Aiken\" title=\"Conrad Aiken\">Conrad Aiken</a> (1899\\u20131973)</li>\\n<li><a class=\"mw-redirect\" href=\"/wiki/Yusuf_Akcura\" title=\"Yusuf Akcura\">Yusuf Akcura</a> (1876\\u20131935)</li>\\n<li><a href=\"/wiki/Mohammed_Akensus\" title=\"Mohammed Akensus\">Mohammed Akensus</a> (1797\\u20131877)</li>\\n<li><a href=\"/wiki/Abd_as-Salam_al-Alami\" title=\"Abd as-Salam al-Alami\">Abd as-Salam al-Alami</a> (1834\\u20131895)</li>\\n<li><a href=\"/wiki/Mohammed_ibn_Mohammed_Alami\" title=\"Mohammed ibn Mohammed Alami\">Mohammed ibn Mohammed Alami</a> (1932\\u20131993)</li>\\n<li><a class=\"mw-redirect\" href=\"/wiki/Mohammed_ibn_al-Tayyib_al-Alami\" title=\"Mohammed ibn al-Tayyib al-Alami\">Mohammed ibn al-Tayyib al-Alami</a> (died 1722/3)</li>\\n<li><a href=\"/wiki/Idriss_ibn_al-Hassan_al-Alami\" title=\"Idriss ibn al-Hassan al-Alami\">Idriss ibn al-Hassan al-Alami</a> (1925\\u20132007)</li>\\n<li><a href=\"/wiki/Kaddour_El_Alamy\" title=\"Kaddour El Alamy\">Kaddour El Alamy</a> (1742\\u20131850)</li>\\n<li><a href=\"/wiki/Ahmad_al-Tayyeb_Aldj\" title=\"Ahmad al-Tayyeb Aldj\">Ahmad al-Tayyeb Aldj</a> (born 1928)</li>\\n<li><a href=\"/wiki/Alev_Alatl%C4%B1\" title=\"Alev Alatl\\u0131\">Alev Alatl\\u0131</a> (born 1944)</li>\\n<li><a href=\"/wiki/Edward_Albee\" title=\"Edward Albee\">Edward Albee</a> (born 1928)</li>\\n<li><a href=\"/wiki/Susan_Wittig_Albert\" title=\"Susan Wittig Albert\">Susan Wittig Albert</a> (born 1940)</li>\\n<li><a href=\"/wiki/Mitch_Albom\" title=\"Mitch Albom\">Mitch Albom</a> (born 1958)</li>\\n<li><a href=\"/wiki/Louisa_May_Alcott\" title=\"Louisa May Alcott\">Louisa May Alcott</a> (1832\\u20131888)</li>\\n<li><a href=\"/wiki/Brian_Aldiss\" title=\"Brian Aldiss\">Brian Aldiss</a> (born 1925)</li>\\n<li><a href=\"/wiki/Rochelle_Alers\" title=\"Rochelle Alers\">Rochelle Alers</a> (born 1963)</li>\\n<li><a href=\"/wiki/Isaac_Alfasi\" title=\"Isaac Alfasi\">Isaac Alfasi</a> (1013\\u20131103)</li>\\n<li><a href=\"/wiki/Jean_le_Rond_d%27Alembert\" title=\"Jean le Rond d'Alembert\">Jean Le Rond d'Alembert</a> (1717\\u20131783)</li>\\n<li>Kate Alexander (pseudonym of <a href=\"/wiki/Tilly_Armstrong\" title=\"Tilly Armstrong\">Tilly Armstrong</a>)</li>\\n<li><a href=\"/wiki/Lloyd_Alexander\" title=\"Lloyd Alexander\">Lloyd Alexander</a> (1924\\u20132007)</li>\\n<li>Trisha Alexander (pseudonym of <a href=\"/wiki/Patricia_Kay\" title=\"Patricia Kay\">Patricia Kay</a>)</li>\\n<li><a href=\"/wiki/Sherman_Alexie\" title=\"Sherman Alexie\">Sherman Alexie</a> (born 1966)</li>\\n<li><a href=\"/wiki/Benjamin_Alire_S%C3%A1enz\" title=\"Benjamin Alire S\\xe1enz\">Benjamin Alire S\\xe1enz</a> (born 1954)</li>\\n<li><a href=\"/wiki/Tewfik_Allal\" title=\"Tewfik Allal\">Tewfik Allal</a> (born 1947)</li>\\n<li><a class=\"mw-redirect\" href=\"/wiki/Barbara_Allen_(writer)\" title=\"Barbara Allen (writer)\">Barbara Allen</a> (1914\\u20131986) (a pseudonym of Violet Vivian Finlay Stuart Mann)</li>\\n<li><a href=\"/wiki/Charlotte_Vale_Allen\" title=\"Charlotte Vale Allen\">Charlotte Vale Allen</a> (born 1941)</li>\\n<li><a href=\"/wiki/John_Allen_(historian)\" title=\"John Allen (historian)\">John Allen</a> (1771\\u20131843) historian and political writer painted in 1836 by Sir Edwin Henry Landseer</li>\\n<li><a href=\"/wiki/John_Allen_(religious_writer)\" title=\"John Allen (religious writer)\">John Allen</a> (1771\\u20131839) English dissenting layman and religious writer</li>\\n<li><a href=\"/wiki/Roger_MacBride_Allen\" title=\"Roger MacBride Allen\">Roger MacBride Allen</a> (born 1957)</li>\\n<li><a href=\"/wiki/Thomas_B._Allen_(author)\" title=\"Thomas B. Allen (author)\">Thomas B. Allen</a> (born 1929) American author and <a href=\"/wiki/Historian\" title=\"Historian\">historian</a></li>\\n<li><a href=\"/wiki/Isabel_Allende\" title=\"Isabel Allende\">Isabel Allende</a> (born 1942)</li>\\n<li><a href=\"/wiki/Aaron_Allston\" title=\"Aaron Allston\">Aaron Allston</a> science fiction writer</li>\\n<li><a href=\"/wiki/Germano_Almeida\" title=\"Germano Almeida\">Germano Almeida</a> (born 1945)</li>\\n<li><a href=\"/wiki/David_Almond\" title=\"David Almond\">David Almond</a> (born 1951)</li>\\n<li><a href=\"/wiki/Steve_Almond\" title=\"Steve Almond\">Steve Almond</a> (born 1966)</li>\\n<li><a href=\"/wiki/Steve_Alten\" title=\"Steve Alten\">Steve Alten</a> (born 1959)</li>\\n<li><a href=\"/wiki/Joseph_Alexander_Altsheler\" title=\"Joseph Alexander Altsheler\">Joseph Alexander Altsheler</a> (1862\\u20131919)</li>\\n<li><a href=\"/wiki/Mor_Altshuler\" title=\"Mor Altshuler\">Mor Altshuler</a></li>\\n</ul>,\n",
       " <ul>\\n<li><a class=\"mw-redirect\" href=\"/wiki/Andrej_Amalrik\" title=\"Andrej Amalrik\">Andrej Amalrik</a> (1938\\u20131980)</li>\\n<li><a href=\"/wiki/Eric_Ambler\" title=\"Eric Ambler\">Eric Ambler</a> (1909\\u20131998)</li>\\n<li><a href=\"/wiki/Ellis_Amburn\" title=\"Ellis Amburn\">Ellis Amburn</a> (born 1933)</li>\\n<li><a href=\"/wiki/Kingsley_Amis\" title=\"Kingsley Amis\">Kingsley Amis</a> (1922\\u20131995)</li>\\n<li><a href=\"/wiki/Martin_Amis\" title=\"Martin Amis\">Martin Amis</a> (born 1949)</li>\\n<li><a href=\"/wiki/Idriss_al-Amraoui\" title=\"Idriss al-Amraoui\">Idriss al-Amraoui</a> (died 1879)</li>\\n<li><a href=\"/wiki/Mohammed_ibn_Idris_al-Amrawi\" title=\"Mohammed ibn Idris al-Amrawi\">Mohammed ibn Idris al-Amrawi</a> (1794\\u20131847)</li>\\n<li><a href=\"/wiki/Anurag_Anand\" title=\"Anurag Anand\">Anurag Anand</a> (1978)</li>\\n<li><a href=\"/wiki/Rudolfo_Anaya\" title=\"Rudolfo Anaya\">Rudolfo Anaya</a> (born 1937)</li>\\n<li><a href=\"/wiki/Catherine_Anderson\" title=\"Catherine Anderson\">Catherine Anderson</a> (born 1947)</li>\\n<li><a href=\"/wiki/Kevin_J._Anderson\" title=\"Kevin J. Anderson\">Kevin J. Anderson</a> (born 1962)</li>\\n<li><a href=\"/wiki/Matthew_Tobin_Anderson\" title=\"Matthew Tobin Anderson\">Matthew Tobin Anderson</a> (born 1968)</li>\\n<li><a href=\"/wiki/Hans_Christian_Andersen\" title=\"Hans Christian Andersen\">Hans Christian Andersen</a> (1805\\u20131875)</li>\\n<li><a href=\"/wiki/Susan_Andersen\" title=\"Susan Andersen\">Susan Andersen</a> (born 1950)</li>\\n<li><a href=\"/wiki/Poul_Anderson\" title=\"Poul Anderson\">Poul Anderson</a> (1926\\u20132001)</li>\\n<li><a href=\"/wiki/V._C._Andrews\" title=\"V. C. Andrews\">V. C. Andrews</a> (1923\\u20131986)</li>\\n<li><a href=\"/wiki/Ivo_Andri%C4%87\" title=\"Ivo Andri\\u0107\">Ivo Andri\\u0107</a> (born 1892)</li>\\n<li><a href=\"/wiki/Maya_Angelou\" title=\"Maya Angelou\">Maya Angelou</a> (1928\\u20132014)</li>\\n<li><a href=\"/wiki/Threes_Anna\" title=\"Threes Anna\">Threes Anna</a> (born 1959)</li>\\n<li><a href=\"/wiki/Khwaja_Muhammad_Latif_Ansari\" title=\"Khwaja Muhammad Latif Ansari\">Khwaja Muhammad Latif Ansari</a> (born 1887)</li>\\n<li><a href=\"/wiki/Piers_Anthony\" title=\"Piers Anthony\">Piers Anthony</a> (born 1934)</li>\\n<li><a href=\"/wiki/Christopher_Anvil\" title=\"Christopher Anvil\">Christopher Anvil</a> (born 1922) (pseudonym of Harry C. Crosby)</li>\\n<li><a href=\"/wiki/Robert_Anwood\" title=\"Robert Anwood\">Robert Anwood</a></li>\\n</ul>,\n",
       " <ul>\\n<li><a href=\"/wiki/Guillaume_Apollinaire\" title=\"Guillaume Apollinaire\">Guillaume Apollinaire</a> (1880\\u20131918)</li>\\n<li><a href=\"/wiki/Maja_Apostoloska\" title=\"Maja Apostoloska\">Maja Apostoloska</a> (born 1976)</li>\\n<li><a href=\"/wiki/Jacob_M._Appel\" title=\"Jacob M. Appel\">Jacob M. Appel</a> (born 1973)</li>\\n<li><a href=\"/wiki/Max_Apple\" title=\"Max Apple\">Max Apple</a> (born 1941)</li>\\n<li><a href=\"/wiki/Lisa_Appignanesi\" title=\"Lisa Appignanesi\">Lisa Appignanesi</a> (born 1946)</li>\\n<li><a href=\"/wiki/K._A._Applegate\" title=\"K. A. Applegate\">K. A. Applegate</a> (born 1956)</li>\\n<li><a href=\"/wiki/Lisa_Rose_Apramian\" title=\"Lisa Rose Apramian\">Lisa Rose Apramian</a></li>\\n<li><a href=\"/wiki/Pawlu_Aquilina\" title=\"Pawlu Aquilina\">Pawlu Aquilina</a> (1929\\u20132009)</li>\\n<li><a href=\"/wiki/Louis_Aragon\" title=\"Louis Aragon\">Louis Aragon</a> (1897\\u20131982)</li>\\n<li><a href=\"/wiki/Mohammed_al-Arbi_al-Fasi\" title=\"Mohammed al-Arbi al-Fasi\">Mohammed al-Arbi al-Fasi</a> (1580\\u20131642)</li>\\n<li><a href=\"/wiki/Jeffrey_Archer\" title=\"Jeffrey Archer\">Jeffrey Archer</a> (born 1940)</li>\\n<li><a href=\"/wiki/Jennifer_Archer\" title=\"Jennifer Archer\">Jennifer Archer</a></li>\\n<li><a href=\"/wiki/Aristophanes\" title=\"Aristophanes\">Aristophanes</a> (c. 446 BC\\xa0\\u2013 385 BC)</li>\\n<li><a href=\"/wiki/Aristotle\" title=\"Aristotle\">Aristotle</a> (384 BC\\xa0\\u2013 322 BC)</li>\\n<li><a href=\"/wiki/Tilly_Armstrong\" title=\"Tilly Armstrong\">Tilly Armstrong</a> (1927\\u20132010)</li>\\n<li><a href=\"/wiki/William_H._Armstrong\" title=\"William H. Armstrong\">William H. Armstrong</a> (1911\\u20131999)</li>\\n<li><a href=\"/wiki/Arnab_Jan_Deka\" title=\"Arnab Jan Deka\">Arnab Jan Deka</a> (born 1967)</li>\\n<li><a href=\"/wiki/C%C3%A9line_Arnauld\" title=\"C\\xe9line Arnauld\">C\\xe9line Arnauld</a> (1885\\u20131952)</li>\\n<li><a href=\"/wiki/Fernando_Arrabal\" title=\"Fernando Arrabal\">Fernando Arrabal</a> (born 1932)</li>\\n<li><a href=\"/wiki/Antonin_Artaud\" title=\"Antonin Artaud\">Antonin Artaud</a> (1896\\u20131948)</li>\\n<li><a href=\"/wiki/Catherine_Asaro\" title=\"Catherine Asaro\">Catherine Asaro</a> (born 1955)</li>\\n<li><a href=\"/wiki/Jay_Asher\" title=\"Jay Asher\">Jay Asher</a> (born 1975)</li>\\n<li><a href=\"/wiki/Isaac_Asimov\" title=\"Isaac Asimov\">Isaac Asimov</a> (1920\\u20131992)</li>\\n<li><a href=\"/wiki/Janet_Asimov\" title=\"Janet Asimov\">Janet Asimov</a> (born 1926)</li>\\n<li><a href=\"/wiki/Robert_Asprin\" title=\"Robert Asprin\">Robert Asprin</a> (born 1946)</li>\\n<li><a href=\"/wiki/Miguel_%C3%81ngel_Asturias\" title=\"Miguel \\xc1ngel Asturias\">Miguel \\xc1ngel Asturias</a> (1899\\u20131974)</li>\\n<li><a href=\"/wiki/M._E._Atkinson\" title=\"M. E. Atkinson\">M. E. Atkinson</a> (1899\\u20131974)</li>\\n<li><a href=\"/wiki/William_Walker_Atkinson\" title=\"William Walker Atkinson\">William Walker Atkinson</a> (1862\\u20131932)</li>\\n<li><a href=\"/wiki/Amelia_Atwater-Rhodes\" title=\"Amelia Atwater-Rhodes\">Amelia Atwater-Rhodes</a> (born 1984)</li>\\n<li><a href=\"/wiki/Margaret_Atwood\" title=\"Margaret Atwood\">Margaret Atwood</a> (born 1939)</li>\\n</ul>,\n",
       " <ul>\\n<li><a href=\"/wiki/Hennie_Aucamp\" title=\"Hennie Aucamp\">Hennie Aucamp</a> (1934\\u20132014)</li>\\n<li>St. <a href=\"/wiki/Augustine_of_Hippo\" title=\"Augustine of Hippo\">Augustine of Hippo</a>, (354\\u2013430)</li>\\n<li><a class=\"mw-redirect\" href=\"/wiki/Jean_Auel\" title=\"Jean Auel\">Jean Auel</a> (born 1936)</li>\\n<li><a href=\"/wiki/Steve_Augarde\" title=\"Steve Augarde\">Steve Augarde</a> (born 1950)</li>\\n<li><a href=\"/wiki/Jane_Austen\" title=\"Jane Austen\">Jane Austen</a>, (1775\\u20131817)</li>\\n<li><a href=\"/wiki/Paul_Auster\" title=\"Paul Auster\">Paul Auster</a> (born 1947)</li>\\n<li><a href=\"/wiki/Mohammed_Awzal\" title=\"Mohammed Awzal\">Mohammed Awzal</a> (1670\\u20131749)</li>\\n<li><a href=\"/wiki/Jan_Axelson\" title=\"Jan Axelson\">Jan Axelson</a> (born 1949)</li>\\n<li><a class=\"mw-redirect\" href=\"/wiki/Marcel_Ayme\" title=\"Marcel Ayme\">Marcel Ayme</a> (1902\\u20131967)</li>\\n<li><a href=\"/wiki/Abu_Salim_al-Ayyashi\" title=\"Abu Salim al-Ayyashi\">Abu Salim al-Ayyashi</a> (1628\\u20131679)</li>\\n<li><a href=\"/wiki/Nabil_Ayouch\" title=\"Nabil Ayouch\">Nabil Ayouch</a> (born 1969)</li>\\n<li><a href=\"/wiki/Qadi_Ayyad\" title=\"Qadi Ayyad\">Qadi Ayyad ben Moussa</a> (1083\\u20131149)</li>\\n<li><a href=\"/wiki/Ali_Azaykou\" title=\"Ali Azaykou\">Ali Azaykou</a> (1942\\u20132004)</li>\\n<li><a href=\"/wiki/Abu_al-Abbas_al-Azafi\" title=\"Abu al-Abbas al-Azafi\">Abu al-Abbas al-Azafi</a> (1162\\u20131236)</li>\\n</ul>,\n",
       " <ul>\\n<li><a class=\"external text\" href=\"http://www.ibookdb.net/authorlist/a\" rel=\"nofollow\">List of authors by name: A</a> at <a class=\"mw-redirect\" href=\"/wiki/The_Internet_Book_Database\" title=\"The Internet Book Database\">The Internet Book Database</a></li>\\n<li><a class=\"external text\" href=\"http://phdtree.org/pdf/authors/A/\" rel=\"nofollow\">List of research paper authors</a> at <a href=\"/wiki/PhDTree\" title=\"PhDTree\">PhDTree</a></li>\\n</ul>,\n",
       " <ul>\\n<li class=\"nv-view\"><a href=\"/wiki/Template:Lists_of_writers\" title=\"Template:Lists of writers\"><abbr style=\"background:#87CEEB;;;background:none transparent;border:none;\" title=\"View this template\">v</abbr></a></li>\\n<li class=\"nv-talk\"><a class=\"new\" href=\"/w/index.php?title=Template_talk:Lists_of_writers&amp;action=edit&amp;redlink=1\" title=\"Template talk:Lists of writers (page does not exist)\"><abbr style=\"background:#87CEEB;;;background:none transparent;border:none;\" title=\"Discuss this template\">t</abbr></a></li>\\n<li class=\"nv-edit\"><a class=\"external text\" href=\"//en.wikipedia.org/w/index.php?title=Template:Lists_of_writers&amp;action=edit\"><abbr style=\"background:#87CEEB;;;background:none transparent;border:none;\" title=\"Edit this template\">e</abbr></a></li>\\n</ul>,\n",
       " <ul>\\n<li><a class=\"mw-redirect\" href=\"/wiki/List_of_African_writers\" title=\"List of African writers\">Afrikaans</a></li>\\n<li><a href=\"/wiki/List_of_Albanian_writers\" title=\"List of Albanian writers\">Albanian</a></li>\\n<li><a href=\"/wiki/List_of_Arabic-language_writers\" title=\"List of Arabic-language writers\">Arabic</a></li>\\n<li><a class=\"mw-redirect\" href=\"/wiki/List_of_Armenian_authors_of_V%E2%80%94XVIII_centuries\" title=\"List of Armenian authors of V\\u2014XVIII centuries\">Armenian</a></li>\\n<li><a href=\"/wiki/List_of_Indian_writers#Assamese\" title=\"List of Indian writers\">Assamese</a></li>\\n<li><a href=\"/wiki/List_of_Belarusian_writers\" title=\"List of Belarusian writers\">Belarusian</a></li>\\n<li><a href=\"/wiki/List_of_Bangladeshi_writers\" title=\"List of Bangladeshi writers\">Bengali</a></li>\\n<li><a href=\"/wiki/List_of_Bosniak_writers\" title=\"List of Bosniak writers\">Bosnian</a></li>\\n<li><a href=\"/wiki/List_of_Bulgarian_writers\" title=\"List of Bulgarian writers\">Bulgarian</a></li>\\n<li><a href=\"/wiki/List_of_Chinese_writers\" title=\"List of Chinese writers\">Chinese</a></li>\\n<li><a href=\"/wiki/List_of_Catalan-language_writers\" title=\"List of Catalan-language writers\">Catalan</a></li>\\n<li><a href=\"/wiki/List_of_Canadian_writers\" title=\"List of Canadian writers\">Canadian</a></li>\\n<li><a class=\"mw-redirect\" href=\"/wiki/List_of_Croatian_writers\" title=\"List of Croatian writers\">Croatian</a></li>\\n<li><a href=\"/wiki/List_of_Danish_writers\" title=\"List of Danish writers\">Danish</a></li>\\n<li><a href=\"/wiki/List_of_Dutch-language_writers\" title=\"List of Dutch-language writers\">Dutch</a></li>\\n<li><a href=\"/wiki/List_of_English_writers\" title=\"List of English writers\">English</a></li>\\n<li><a class=\"mw-redirect\" href=\"/wiki/List_of_French_writers\" title=\"List of French writers\">French</a></li>\\n<li><a class=\"mw-redirect\" href=\"/wiki/List_of_German_writers\" title=\"List of German writers\">German</a></li>\\n<li><a href=\"/wiki/List_of_Greek_writers\" title=\"List of Greek writers\">Greek</a>\\xa0(<a class=\"new\" href=\"/w/index.php?title=List_of_Ancient_Greek_writers&amp;action=edit&amp;redlink=1\" title=\"List of Ancient Greek writers (page does not exist)\">Ancient</a>)</li>\\n<li><a href=\"/wiki/List_of_Indian_writers#Gujarati\" title=\"List of Indian writers\">Gujarati</a></li>\\n<li><a href=\"/wiki/List_of_Hebrew-language_authors\" title=\"List of Hebrew-language authors\">Hebrew</a></li>\\n<li><a class=\"mw-redirect\" href=\"/wiki/List_of_Hindi_writers\" title=\"List of Hindi writers\">Hindi</a></li>\\n<li><a href=\"/wiki/List_of_Icelandic_writers\" title=\"List of Icelandic writers\">Icelandic</a></li>\\n<li><a href=\"/wiki/List_of_Indonesia-related_topics#Indonesian_writers\" title=\"List of Indonesia-related topics\">Indonesian</a></li>\\n<li><a href=\"/wiki/List_of_Irish_writers\" title=\"List of Irish writers\">Irish</a></li>\\n<li><a href=\"/wiki/List_of_Italian_writers\" title=\"List of Italian writers\">Italian</a></li>\\n<li><a href=\"/wiki/List_of_Japanese_writers\" title=\"List of Japanese writers\">Japanese</a></li>\\n<li><a href=\"/wiki/List_of_people_from_Bangalore#Kannada_writers\" title=\"List of people from Bangalore\">Kannada</a></li>\\n<li><a href=\"/wiki/List_of_Indian_writers#Kashmiri\" title=\"List of Indian writers\">Kashmiri</a></li>\\n<li><a href=\"/wiki/List_of_Indian_writers#Konkani\" title=\"List of Indian writers\">Konkani</a></li>\\n<li><a href=\"/wiki/List_of_Latin_American_writers\" title=\"List of Latin American writers\">Latin</a></li>\\n<li><a href=\"/wiki/List_of_Indian_writers#Maithili\" title=\"List of Indian writers\">Maithili</a></li>\\n<li><a href=\"/wiki/List_of_Malaysian_writers\" title=\"List of Malaysian writers\">Malaysian</a></li>\\n<li><a href=\"/wiki/List_of_Indian_writers#Malayalam\" title=\"List of Indian writers\">Malayalam</a></li>\\n<li><a class=\"new\" href=\"/w/index.php?title=List_of_Maltese-language_writers&amp;action=edit&amp;redlink=1\" title=\"List of Maltese-language writers (page does not exist)\">Maltese</a></li>\\n<li><a href=\"/wiki/List_of_Indian_writers#Manipuri\" title=\"List of Indian writers\">Manipuri</a></li>\\n<li><a class=\"mw-redirect\" href=\"/wiki/List_of_Marathi_writers\" title=\"List of Marathi writers\">Marathi</a></li>\\n<li><a href=\"/wiki/List_of_Indian_writers#Nepali\" title=\"List of Indian writers\">Nepali</a></li>\\n<li><a href=\"/wiki/List_of_Indian_writers#Oriya\" title=\"List of Indian writers\">Oriya</a></li>\\n<li><a href=\"/wiki/List_of_Pashto-language_writers\" title=\"List of Pashto-language writers\">Pashto</a></li>\\n<li><a class=\"new\" href=\"/w/index.php?title=List_of_Pennsylvania_Dutch-language_writers&amp;action=edit&amp;redlink=1\" title=\"List of Pennsylvania Dutch-language writers (page does not exist)\">Pennsylvania Dutch</a></li>\\n<li><a class=\"new\" href=\"/w/index.php?title=List_of_Persian-language_writers&amp;action=edit&amp;redlink=1\" title=\"List of Persian-language writers (page does not exist)\">Persian</a></li>\\n<li><a class=\"mw-redirect\" href=\"/wiki/List_of_Polish-language_writers\" title=\"List of Polish-language writers\">Polish</a></li>\\n<li><a class=\"new\" href=\"/w/index.php?title=List_of_Portuguese-language_writers&amp;action=edit&amp;redlink=1\" title=\"List of Portuguese-language writers (page does not exist)\">Portuguese</a></li>\\n<li><a href=\"/wiki/List_of_Punjabi_authors\" title=\"List of Punjabi authors\">Punjabi</a></li>\\n<li><a href=\"/wiki/List_of_Indian_writers#Rajasthani\" title=\"List of Indian writers\">Rajasthani</a></li>\\n<li><a class=\"new\" href=\"/w/index.php?title=List_of_Romanian-language_writers&amp;action=edit&amp;redlink=1\" title=\"List of Romanian-language writers (page does not exist)\">Romanian</a></li>\\n<li><a href=\"/wiki/List_of_Russian-language_writers\" title=\"List of Russian-language writers\">Russian</a></li>\\n<li><a href=\"/wiki/List_of_Indian_writers#Sanskrit\" title=\"List of Indian writers\">Sanskrit</a></li>\\n<li><a href=\"/wiki/List_of_Scottish_writers\" title=\"List of Scottish writers\">Scottish</a></li>\\n<li><a class=\"new\" href=\"/w/index.php?title=List_of_Sindhi-language_writers&amp;action=edit&amp;redlink=1\" title=\"List of Sindhi-language writers (page does not exist)\">Sindhi</a></li>\\n<li><a class=\"mw-redirect\" href=\"/wiki/List_of_Slovak_writers\" title=\"List of Slovak writers\">Slovak</a></li>\\n<li><a class=\"new\" href=\"/w/index.php?title=List_of_Slovene-language_writers&amp;action=edit&amp;redlink=1\" title=\"List of Slovene-language writers (page does not exist)\">Slovenian</a></li>\\n<li><a href=\"/wiki/List_of_Sorbian-language_writers\" title=\"List of Sorbian-language writers\">Sorbian</a></li>\\n<li><a class=\"mw-redirect\" href=\"/wiki/List_of_Spanish-language_writers\" title=\"List of Spanish-language writers\">Spanish</a></li>\\n<li><a href=\"/wiki/List_of_Swedish-language_writers\" title=\"List of Swedish-language writers\">Swedish</a></li>\\n<li><a href=\"/wiki/List_of_Indian_writers#Tamil\" title=\"List of Indian writers\">Tamil</a></li>\\n<li><a href=\"/wiki/List_of_Indian_writers#Telugu\" title=\"List of Indian writers\">Telugu</a></li>\\n<li><a class=\"new\" href=\"/w/index.php?title=List_of_Turkic-languages_writers&amp;action=edit&amp;redlink=1\" title=\"List of Turkic-languages writers (page does not exist)\">Turkic</a></li>\\n<li><a href=\"/wiki/List_of_Ukrainian-language_writers\" title=\"List of Ukrainian-language writers\">Ukrainian</a></li>\\n<li><a href=\"/wiki/List_of_Urdu-language_writers\" title=\"List of Urdu-language writers\">Urdu</a></li>\\n<li><a href=\"/wiki/List_of_Uzbek-language_writers\" title=\"List of Uzbek-language writers\">Uzbek</a></li>\\n<li><a href=\"/wiki/List_of_Welsh_writers\" title=\"List of Welsh writers\">Welsh</a></li>\\n</ul>,\n",
       " <ul>\\n<li><a href=\"/wiki/Poetry_of_Afghanistan\" title=\"Poetry of Afghanistan\">Afghan</a></li>\\n<li><a class=\"new\" href=\"/w/index.php?title=List_of_writers_from_the_United_States&amp;action=edit&amp;redlink=1\" title=\"List of writers from the United States (page does not exist)\">American</a></li>\\n<li><a href=\"/wiki/List_of_Argentine_writers\" title=\"List of Argentine writers\">Argentine</a></li>\\n<li><a class=\"new\" href=\"/w/index.php?title=List_of_Australian_writers&amp;action=edit&amp;redlink=1\" title=\"List of Australian writers (page does not exist)\">Australian</a></li>\\n<li><a href=\"/wiki/List_of_Austrian_writers\" title=\"List of Austrian writers\">Austrian</a></li>\\n<li><a href=\"/wiki/List_of_Bangladeshi_writers\" title=\"List of Bangladeshi writers\">Bangladeshi</a></li>\\n<li><a href=\"/wiki/List_of_Bosniak_writers\" title=\"List of Bosniak writers\">Bosniak</a></li>\\n<li><a href=\"/wiki/List_of_Brazilian_writers\" title=\"List of Brazilian writers\">Brazilian</a></li>\\n<li><a href=\"/wiki/List_of_Breton_writers\" title=\"List of Breton writers\">Breton</a></li>\\n<li><a href=\"/wiki/List_of_Canadian_writers\" title=\"List of Canadian writers\">Canadian</a></li>\\n<li><a href=\"/wiki/List_of_Mexican_Americans#Authors_and_writers\" title=\"List of Mexican Americans\">Chicano</a></li>\\n<li><a class=\"new\" href=\"/w/index.php?title=List_of_Estonian_writers&amp;action=edit&amp;redlink=1\" title=\"List of Estonian writers (page does not exist)\">Estonian</a></li>\\n<li><a href=\"/wiki/List_of_Finnish_writers\" title=\"List of Finnish writers\">Finnish</a></li>\\n<li><a href=\"/wiki/List_of_Greek_writers\" title=\"List of Greek writers\">Greek</a></li>\\n<li><a href=\"/wiki/List_of_Indian_writers\" title=\"List of Indian writers\">Indian</a></li>\\n<li><a class=\"new\" href=\"/w/index.php?title=List_of_Persian_writers_and_authors&amp;action=edit&amp;redlink=1\" title=\"List of Persian writers and authors (page does not exist)\">Iranian</a></li>\\n<li><a href=\"/wiki/List_of_Irish_writers\" title=\"List of Irish writers\">Irish</a></li>\\n<li><a href=\"/wiki/List_of_Mexican_writers\" title=\"List of Mexican writers\">Mexican</a></li>\\n<li><a href=\"/wiki/List_of_New_Zealand_writers\" title=\"List of New Zealand writers\">New Zealander</a></li>\\n<li><a href=\"/wiki/List_of_Nicaraguan_writers\" title=\"List of Nicaraguan writers\">Nicaraguan</a></li>\\n<li><a href=\"/wiki/List_of_Nigerian_writers\" title=\"List of Nigerian writers\">Nigerian</a></li>\\n<li><a class=\"new\" href=\"/w/index.php?title=List_of_Ottoman_writers&amp;action=edit&amp;redlink=1\" title=\"List of Ottoman writers (page does not exist)\">Ottoman</a></li>\\n<li><a href=\"/wiki/List_of_Pakistani_writers\" title=\"List of Pakistani writers\">Pakistani</a></li>\\n<li><a href=\"/wiki/List_of_Peruvian_writers\" title=\"List of Peruvian writers\">Peruvian</a></li>\\n<li><a class=\"new\" href=\"/w/index.php?title=List_of_Romani_writers&amp;action=edit&amp;redlink=1\" title=\"List of Romani writers (page does not exist)\">Romani</a></li>\\n<li><a href=\"/wiki/List_of_Romanian_writers\" title=\"List of Romanian writers\">Romanian</a></li>\\n<li><a href=\"/wiki/List_of_South_African_writers\" title=\"List of South African writers\">South African</a></li>\\n<li><a href=\"/wiki/List_of_Sudanese_writers\" title=\"List of Sudanese writers\">Sudanease</a></li>\\n<li><a class=\"mw-redirect\" href=\"/wiki/List_of_Swedish_writers\" title=\"List of Swedish writers\">Swedish</a></li>\\n<li><a href=\"/wiki/List_of_Swiss_people#Writers\" title=\"List of Swiss people\">Swiss</a></li>\\n<li><a class=\"new\" href=\"/w/index.php?title=List_of_contemporary_Turkish_writers&amp;action=edit&amp;redlink=1\" title=\"List of contemporary Turkish writers (page does not exist)\">Turkish</a></li>\\n</ul>,\n",
       " <ul>\\n<li><a class=\"new\" href=\"/w/index.php?title=List_of_anarchist_writers&amp;action=edit&amp;redlink=1\" title=\"List of anarchist writers (page does not exist)\">Anarchist</a></li>\\n<li><a class=\"new\" href=\"/w/index.php?title=List_of_feminist_writers&amp;action=edit&amp;redlink=1\" title=\"List of feminist writers (page does not exist)\">Feminist</a></li>\\n<li><a href=\"/wiki/Lyric_poetry\" title=\"Lyric poetry\">Lyric</a></li>\\n<li><a href=\"/wiki/List_of_modernist_writers\" title=\"List of modernist writers\">Modernist</a></li>\\n<li><a class=\"new\" href=\"/w/index.php?title=List_of_national_writers&amp;action=edit&amp;redlink=1\" title=\"List of national writers (page does not exist)\">National</a></li>\\n<li><a class=\"new\" href=\"/w/index.php?title=List_of_performance_writers&amp;action=edit&amp;redlink=1\" title=\"List of performance writers (page does not exist)\">Performance</a></li>\\n<li><a class=\"new\" href=\"/w/index.php?title=List_of_speculative_writers&amp;action=edit&amp;redlink=1\" title=\"List of speculative writers (page does not exist)\">Speculative</a></li>\\n<li><a class=\"new\" href=\"/w/index.php?title=List_of_surrealist_writers&amp;action=edit&amp;redlink=1\" title=\"List of surrealist writers (page does not exist)\">Surrealist</a></li>\\n<li><a href=\"/wiki/War_poet\" title=\"War poet\">War</a></li>\\n<li><a class=\"mw-redirect\" href=\"/wiki/List_of_female_writers\" title=\"List of female writers\">Women</a>\\xa0(<a class=\"new\" href=\"/w/index.php?title=List_of_early-modern_women_writers_(UK)&amp;action=edit&amp;redlink=1\" title=\"List of early-modern women writers (UK) (page does not exist)\">UK early-modern</a>)</li>\\n</ul>,\n",
       " <ul><li><a href=\"/wiki/Category:Lists_of_writers\" title=\"Category:Lists of writers\">Lists of writers</a></li></ul>,\n",
       " <ul><li><a href=\"/wiki/Category:Incomplete_literature_lists\" title=\"Category:Incomplete literature lists\">Incomplete literature lists</a></li></ul>,\n",
       " <ul>\\n<li id=\"pt-anonuserpage\">Not logged in</li><li id=\"pt-anontalk\"><a accesskey=\"n\" href=\"/wiki/Special:MyTalk\" title=\"Discussion about edits from this IP address [n]\">Talk</a></li><li id=\"pt-anoncontribs\"><a accesskey=\"y\" href=\"/wiki/Special:MyContributions\" title=\"A list of edits made from this IP address [y]\">Contributions</a></li><li id=\"pt-createaccount\"><a href=\"/w/index.php?title=Special:UserLogin&amp;returnto=List+of+authors+by+name%3A+A&amp;type=signup\" title=\"You are encouraged to create an account and log in; however, it is not mandatory\">Create account</a></li><li id=\"pt-login\"><a accesskey=\"o\" href=\"/w/index.php?title=Special:UserLogin&amp;returnto=List+of+authors+by+name%3A+A\" title=\"You're encouraged to log in; however, it's not mandatory. [o]\">Log in</a></li> </ul>,\n",
       " <ul>\\n<li class=\"selected\" id=\"ca-nstab-main\"><span><a accesskey=\"c\" href=\"/wiki/List_of_authors_by_name:_A\" title=\"View the content page [c]\">Article</a></span></li>\\n<li id=\"ca-talk\"><span><a accesskey=\"t\" href=\"/wiki/Talk:List_of_authors_by_name:_A\" rel=\"discussion\" title=\"Discussion about the content page [t]\">Talk</a></span></li>\\n</ul>,\n",
       " <ul>\\n</ul>,\n",
       " <ul>\\n<li class=\"selected\" id=\"ca-view\"><span><a href=\"/wiki/List_of_authors_by_name:_A\">Read</a></span></li>\\n<li id=\"ca-edit\"><span><a accesskey=\"e\" href=\"/w/index.php?title=List_of_authors_by_name:_A&amp;action=edit\" title=\"Edit this page [e]\">Edit</a></span></li>\\n<li class=\"collapsible\" id=\"ca-history\"><span><a accesskey=\"h\" href=\"/w/index.php?title=List_of_authors_by_name:_A&amp;action=history\" title=\"Past revisions of this page [h]\">View history</a></span></li>\\n</ul>,\n",
       " <ul>\\n</ul>,\n",
       " <ul>\\n<li id=\"n-mainpage-description\"><a accesskey=\"z\" href=\"/wiki/Main_Page\" title=\"Visit the main page [z]\">Main page</a></li><li id=\"n-contents\"><a href=\"/wiki/Portal:Contents\" title=\"Guides to browsing Wikipedia\">Contents</a></li><li id=\"n-featuredcontent\"><a href=\"/wiki/Portal:Featured_content\" title=\"Featured content \\u2013 the best of Wikipedia\">Featured content</a></li><li id=\"n-currentevents\"><a href=\"/wiki/Portal:Current_events\" title=\"Find background information on current events\">Current events</a></li><li id=\"n-randompage\"><a accesskey=\"x\" href=\"/wiki/Special:Random\" title=\"Load a random article [x]\">Random article</a></li><li id=\"n-sitesupport\"><a href=\"https://donate.wikimedia.org/wiki/Special:FundraiserRedirector?utm_source=donate&amp;utm_medium=sidebar&amp;utm_campaign=C13_en.wikipedia.org&amp;uselang=en\" title=\"Support us\">Donate to Wikipedia</a></li><li id=\"n-shoplink\"><a href=\"//shop.wikimedia.org\" title=\"Visit the Wikipedia store\">Wikipedia store</a></li> </ul>,\n",
       " <ul>\\n<li id=\"n-help\"><a href=\"/wiki/Help:Contents\" title=\"Guidance on how to use and edit Wikipedia\">Help</a></li><li id=\"n-aboutsite\"><a href=\"/wiki/Wikipedia:About\" title=\"Find out about Wikipedia\">About Wikipedia</a></li><li id=\"n-portal\"><a href=\"/wiki/Wikipedia:Community_portal\" title=\"About the project, what you can do, where to find things\">Community portal</a></li><li id=\"n-recentchanges\"><a accesskey=\"r\" href=\"/wiki/Special:RecentChanges\" title=\"A list of recent changes in the wiki [r]\">Recent changes</a></li><li id=\"n-contactpage\"><a href=\"//en.wikipedia.org/wiki/Wikipedia:Contact_us\" title=\"How to contact Wikipedia\">Contact page</a></li> </ul>,\n",
       " <ul>\\n<li id=\"t-whatlinkshere\"><a accesskey=\"j\" href=\"/wiki/Special:WhatLinksHere/List_of_authors_by_name:_A\" title=\"List of all English Wikipedia pages containing links to this page [j]\">What links here</a></li><li id=\"t-recentchangeslinked\"><a accesskey=\"k\" href=\"/wiki/Special:RecentChangesLinked/List_of_authors_by_name:_A\" title=\"Recent changes in pages linked from this page [k]\">Related changes</a></li><li id=\"t-upload\"><a accesskey=\"u\" href=\"/wiki/Wikipedia:File_Upload_Wizard\" title=\"Upload files [u]\">Upload file</a></li><li id=\"t-specialpages\"><a accesskey=\"q\" href=\"/wiki/Special:SpecialPages\" title=\"A list of all special pages [q]\">Special pages</a></li><li id=\"t-permalink\"><a href=\"/w/index.php?title=List_of_authors_by_name:_A&amp;oldid=721942205\" title=\"Permanent link to this revision of the page\">Permanent link</a></li><li id=\"t-info\"><a href=\"/w/index.php?title=List_of_authors_by_name:_A&amp;action=info\" title=\"More information about this page\">Page information</a></li><li id=\"t-wikibase\"><a accesskey=\"g\" href=\"https://www.wikidata.org/wiki/Q349678\" title=\"Link to connected data repository item [g]\">Wikidata item</a></li><li id=\"t-cite\"><a href=\"/w/index.php?title=Special:CiteThisPage&amp;page=List_of_authors_by_name%3A_A&amp;id=721942205\" title=\"Information on how to cite this page\">Cite this page</a></li> </ul>,\n",
       " <ul>\\n<li id=\"coll-create_a_book\"><a href=\"/w/index.php?title=Special:Book&amp;bookcmd=book_creator&amp;referer=List+of+authors+by+name%3A+A\">Create a book</a></li><li id=\"coll-download-as-rdf2latex\"><a href=\"/w/index.php?title=Special:Book&amp;bookcmd=render_article&amp;arttitle=List+of+authors+by+name%3A+A&amp;returnto=List+of+authors+by+name%3A+A&amp;oldid=721942205&amp;writer=rdf2latex\">Download as PDF</a></li><li id=\"t-print\"><a accesskey=\"p\" href=\"/w/index.php?title=List_of_authors_by_name:_A&amp;printable=yes\" title=\"Printable version of this page [p]\">Printable version</a></li> </ul>,\n",
       " <ul>\\n<li class=\"wb-otherproject-link wb-otherproject-wikisource\"><a href=\"https://en.wikisource.org/wiki/Wikisource:Authors-A\" hreflang=\"en\">Wikisource</a></li> </ul>,\n",
       " <ul>\\n<li class=\"interlanguage-link interwiki-af\"><a href=\"//af.wikipedia.org/wiki/Lys_van_outeurs/A\" hreflang=\"af\" lang=\"af\" title=\"Lys van outeurs/A \\u2013 Afrikaans\">Afrikaans</a></li><li class=\"interlanguage-link interwiki-de\"><a href=\"//de.wikipedia.org/wiki/Liste_von_Autoren/A\" hreflang=\"de\" lang=\"de\" title=\"Liste von Autoren/A \\u2013 German\">Deutsch</a></li><li class=\"interlanguage-link interwiki-pt\"><a href=\"//pt.wikipedia.org/wiki/Lista_de_autores_por_nome:_A\" hreflang=\"pt\" lang=\"pt\" title=\"Lista de autores por nome: A \\u2013 Portuguese\">Portugu\\xeas</a></li><li class=\"interlanguage-link interwiki-tr\"><a href=\"//tr.wikipedia.org/wiki/Ada_g%C3%B6re_yazarlar_listesi:_A\" hreflang=\"tr\" lang=\"tr\" title=\"Ada g\\xf6re yazarlar listesi: A \\u2013 Turkish\">T\\xfcrk\\xe7e</a></li><li class=\"uls-p-lang-dummy\"><a href=\"#\"></a></li> </ul>,\n",
       " <ul id=\"footer-info\">\\n<li id=\"footer-info-lastmod\"> This page was last modified on 25 May 2016, at 00:28.</li>\\n<li id=\"footer-info-copyright\">Text is available under the <a href=\"//en.wikipedia.org/wiki/Wikipedia:Text_of_Creative_Commons_Attribution-ShareAlike_3.0_Unported_License\" rel=\"license\">Creative Commons Attribution-ShareAlike License</a><a href=\"//creativecommons.org/licenses/by-sa/3.0/\" rel=\"license\" style=\"display:none;\"></a>;\\nadditional terms may apply.  By using this site, you agree to the <a href=\"//wikimediafoundation.org/wiki/Terms_of_Use\">Terms of Use</a> and <a href=\"//wikimediafoundation.org/wiki/Privacy_policy\">Privacy Policy</a>. Wikipedia\\xae is a registered trademark of the <a href=\"//www.wikimediafoundation.org/\">Wikimedia Foundation, Inc.</a>, a non-profit organization.</li>\\n</ul>,\n",
       " <ul id=\"footer-places\">\\n<li id=\"footer-places-privacy\"><a class=\"extiw\" href=\"//wikimediafoundation.org/wiki/Privacy_policy\" title=\"wmf:Privacy policy\">Privacy policy</a></li>\\n<li id=\"footer-places-about\"><a href=\"/wiki/Wikipedia:About\" title=\"Wikipedia:About\">About Wikipedia</a></li>\\n<li id=\"footer-places-disclaimer\"><a href=\"/wiki/Wikipedia:General_disclaimer\" title=\"Wikipedia:General disclaimer\">Disclaimers</a></li>\\n<li id=\"footer-places-contact\"><a href=\"//en.wikipedia.org/wiki/Wikipedia:Contact_us\">Contact Wikipedia</a></li>\\n<li id=\"footer-places-developers\"><a href=\"https://www.mediawiki.org/wiki/Special:MyLanguage/How_to_contribute\">Developers</a></li>\\n<li id=\"footer-places-cookiestatement\"><a href=\"//wikimediafoundation.org/wiki/Cookie_statement\">Cookie statement</a></li>\\n<li id=\"footer-places-mobileview\"><a class=\"noprint stopMobileRedirectToggle\" href=\"//en.m.wikipedia.org/w/index.php?title=List_of_authors_by_name:_A&amp;mobileaction=toggle_view_mobile\">Mobile view</a></li>\\n</ul>,\n",
       " <ul class=\"noprint\" id=\"footer-icons\">\\n<li id=\"footer-copyrightico\">\\n<a href=\"https://wikimediafoundation.org/\"><img alt=\"Wikimedia Foundation\" height=\"31\" src=\"/static/images/wikimedia-button.png\" srcset=\"/static/images/wikimedia-button-1.5x.png 1.5x, /static/images/wikimedia-button-2x.png 2x\" width=\"88\"/></a> </li>\\n<li id=\"footer-poweredbyico\">\\n<a href=\"//www.mediawiki.org/\"><img alt=\"Powered by MediaWiki\" height=\"31\" src=\"/w/resources/assets/poweredby_mediawiki_88x31.png\" srcset=\"/w/resources/assets/poweredby_mediawiki_132x47.png 1.5x, /w/resources/assets/poweredby_mediawiki_176x62.png 2x\" width=\"88\"/></a> </li>\\n</ul>]"
      ]
     },
     "execution_count": 40,
     "metadata": {},
     "output_type": "execute_result"
    }
   ],
   "source": [
    "res"
   ]
  },
  {
   "cell_type": "code",
   "execution_count": 30,
   "metadata": {
    "collapsed": false
   },
   "outputs": [
    {
     "name": "stdout",
     "output_type": "stream",
     "text": [
      "Hans Aanrud\n",
      "Alexander Aaronsohn\n",
      "Héctor Abad Faciolince\n",
      "Christopher Abani\n",
      "Sait Faik Abasıyanık\n",
      "Christina Abbey\n",
      "Edward Abbey\n",
      "Lynn Abbey\n",
      "Edwin Abbott Abbott\n",
      "Eleanor Hallowell Abbott\n",
      "George Frederick Abbott\n",
      "Jacob Abbott\n",
      "John Stevens Cabot Abbott\n",
      "Mohammed al-Abdari\n",
      "Mohammed al-Abdari al-Hihi\n",
      "Abdelkrim al-Khattabi\n",
      "Abd al-Qadir al-Fasi\n",
      "Kōbō Abe\n",
      "Peter Abelard\n",
      "Robert Abernathy\n",
      "Leila Abouzeid\n",
      "Marc Abrahams\n",
      "Abu al-Abbas as-Sabti\n",
      "Abu Imran al-Fasi\n",
      "Abu Muqri Mohammed al-Battiwi\n",
      "Milton Abramowitz\n",
      "Mohammed Achaari\n",
      "Chinua Achebe\n",
      "Said Achtouk\n",
      "André Aciman\n",
      "Forrest J. Ackerman\n",
      "Douglas Adams\n",
      "Richard Adams\n",
      "Robert Adams (science fiction writer)\n",
      "Abd al-Wahhab Adarrak\n",
      "Mirza Adeeb\n",
      "Chimamanda Ngozi Adichie\n",
      "Halide Edip Adıvar\n",
      "Aesop\n",
      "Leo Africanus\n",
      "John Agard\n",
      "Zechariah Aghmati\n",
      "Cecelia Ahern\n",
      "Jerry Ahern\n",
      "Najiba Ahmad\n",
      "Ahmet Vefik Paşa\n",
      "Alfred Aho\n",
      "Ama Ata Aidoo\n",
      "Conrad Aiken\n",
      "Yusuf Akcura\n",
      "Mohammed Akensus\n",
      "Abd as-Salam al-Alami\n",
      "Mohammed ibn Mohammed Alami\n",
      "Mohammed ibn al-Tayyib al-Alami\n",
      "Idriss ibn al-Hassan al-Alami\n",
      "Kaddour El Alamy\n",
      "Ahmad al-Tayyeb Aldj\n",
      "Alev Alatlı\n",
      "Edward Albee\n",
      "Susan Wittig Albert\n",
      "Mitch Albom\n",
      "Louisa May Alcott\n",
      "Brian Aldiss\n",
      "Rochelle Alers\n",
      "Isaac Alfasi\n",
      "Jean le Rond d'Alembert\n",
      "Tilly Armstrong\n",
      "Lloyd Alexander\n",
      "Patricia Kay\n",
      "Sherman Alexie\n",
      "Benjamin Alire Sáenz\n",
      "Tewfik Allal\n",
      "Barbara Allen (writer)\n",
      "Charlotte Vale Allen\n",
      "John Allen (historian)\n",
      "John Allen (religious writer)\n",
      "Roger MacBride Allen\n",
      "Thomas B. Allen (author)\n",
      "Isabel Allende\n",
      "Aaron Allston\n",
      "Germano Almeida\n",
      "David Almond\n",
      "Steve Almond\n",
      "Steve Alten\n",
      "Joseph Alexander Altsheler\n",
      "Mor Altshuler\n",
      "Andrej Amalrik\n",
      "Eric Ambler\n",
      "Ellis Amburn\n",
      "Kingsley Amis\n",
      "Martin Amis\n",
      "Idriss al-Amraoui\n",
      "Mohammed ibn Idris al-Amrawi\n",
      "Anurag Anand\n",
      "Rudolfo Anaya\n",
      "Catherine Anderson\n",
      "Kevin J. Anderson\n",
      "Matthew Tobin Anderson\n",
      "Hans Christian Andersen\n",
      "Susan Andersen\n",
      "Poul Anderson\n",
      "V. C. Andrews\n",
      "Ivo Andrić\n",
      "Maya Angelou\n",
      "Threes Anna\n",
      "Khwaja Muhammad Latif Ansari\n",
      "Piers Anthony\n",
      "Christopher Anvil\n",
      "Robert Anwood\n",
      "Guillaume Apollinaire\n",
      "Maja Apostoloska\n",
      "Jacob M. Appel\n",
      "Max Apple\n",
      "Lisa Appignanesi\n",
      "K. A. Applegate\n",
      "Lisa Rose Apramian\n",
      "Pawlu Aquilina\n",
      "Louis Aragon\n",
      "Mohammed al-Arbi al-Fasi\n",
      "Jeffrey Archer\n",
      "Jennifer Archer\n",
      "Aristophanes\n",
      "Aristotle\n",
      "Tilly Armstrong\n",
      "William H. Armstrong\n",
      "Arnab Jan Deka\n",
      "Céline Arnauld\n",
      "Fernando Arrabal\n",
      "Antonin Artaud\n",
      "Catherine Asaro\n",
      "Jay Asher\n",
      "Isaac Asimov\n",
      "Janet Asimov\n",
      "Robert Asprin\n",
      "Miguel Ángel Asturias\n",
      "M. E. Atkinson\n",
      "William Walker Atkinson\n",
      "Amelia Atwater-Rhodes\n",
      "Margaret Atwood\n",
      "Hennie Aucamp\n",
      "Augustine of Hippo\n",
      "Jean Auel\n",
      "Steve Augarde\n",
      "Jane Austen\n",
      "Paul Auster\n",
      "Mohammed Awzal\n",
      "Jan Axelson\n",
      "Marcel Ayme\n",
      "Abu Salim al-Ayyashi\n",
      "Nabil Ayouch\n",
      "Qadi Ayyad\n",
      "Ali Azaykou\n",
      "Abu al-Abbas al-Azafi\n"
     ]
    }
   ],
   "source": [
    "read_mode = False\n",
    "for tag in soup.find_all('li'):\n",
    "    name = tag.a.get('title')\n",
    "    if name is not None:\n",
    "        print(name)\n",
    "        read_mode = True\n",
    "    else:\n",
    "        if read_mode:\n",
    "            break"
   ]
  },
  {
   "cell_type": "code",
   "execution_count": null,
   "metadata": {
    "collapsed": true
   },
   "outputs": [],
   "source": []
  }
 ],
 "metadata": {
  "kernelspec": {
   "display_name": "Python 2",
   "language": "python",
   "name": "python2"
  },
  "language_info": {
   "codemirror_mode": {
    "name": "ipython",
    "version": 2
   },
   "file_extension": ".py",
   "mimetype": "text/x-python",
   "name": "python",
   "nbconvert_exporter": "python",
   "pygments_lexer": "ipython2",
   "version": "2.7.11"
  }
 },
 "nbformat": 4,
 "nbformat_minor": 0
}
