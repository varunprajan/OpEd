{
 "cells": [
  {
   "cell_type": "code",
   "execution_count": 4,
   "metadata": {
    "collapsed": false
   },
   "outputs": [],
   "source": [
    "import urllib2\n",
    "from bs4 import BeautifulSoup\n",
    "import re\n",
    "import nytimesarticle as nyta\n",
    "import requests\n",
    "import time\n",
    "import pandas as pd\n",
    "import numpy as np\n",
    "import nytimes_crawl_2 as nytc\n",
    "import operator as op\n",
    "import text_processing\n",
    "import detect_language\n",
    "from encoder import Encoder\n",
    "import os\n",
    "import pickleizer\n",
    "%matplotlib inline"
   ]
  },
  {
   "cell_type": "code",
   "execution_count": 5,
   "metadata": {
    "collapsed": false
   },
   "outputs": [],
   "source": [
    "%load_ext autoreload\n",
    "%autoreload 2"
   ]
  },
  {
   "cell_type": "markdown",
   "metadata": {},
   "source": [
    "# Misc"
   ]
  },
  {
   "cell_type": "code",
   "execution_count": 228,
   "metadata": {
    "collapsed": true
   },
   "outputs": [],
   "source": [
    "names = range(1,15)"
   ]
  },
  {
   "cell_type": "markdown",
   "metadata": {},
   "source": [
    "## Analysis"
   ]
  },
  {
   "cell_type": "markdown",
   "metadata": {},
   "source": [
    "### Scrape"
   ]
  },
  {
   "cell_type": "code",
   "execution_count": 230,
   "metadata": {
    "collapsed": false
   },
   "outputs": [],
   "source": [
    "# nytc.read_all(names,enddate='20160331')"
   ]
  },
  {
   "cell_type": "code",
   "execution_count": 231,
   "metadata": {
    "collapsed": true
   },
   "outputs": [],
   "source": [
    "articles = nytc.query_articles_one_page(page=13,begindate='20151201',enddate='20160331')"
   ]
  },
  {
   "cell_type": "code",
   "execution_count": 103,
   "metadata": {
    "collapsed": false
   },
   "outputs": [],
   "source": [
    "nytarticle = nytc.NYTArticle(articles[0])"
   ]
  },
  {
   "cell_type": "markdown",
   "metadata": {},
   "source": [
    "### Load"
   ]
  },
  {
   "cell_type": "code",
   "execution_count": 237,
   "metadata": {
    "collapsed": false
   },
   "outputs": [],
   "source": [
    "readers = []\n",
    "for name in names[:11]:\n",
    "    csvfile = '{0}_100.csv'.format(name)\n",
    "    readers.append(nytc.OpEdReader.init_from_file(name,csvfile))\n",
    "dataall = pd.concat([reader.data for reader in readers])\n",
    "dataall = dataall.reset_index(drop=True);"
   ]
  },
  {
   "cell_type": "markdown",
   "metadata": {},
   "source": [
    "# Detect Bad Articles"
   ]
  },
  {
   "cell_type": "code",
   "execution_count": 240,
   "metadata": {
    "collapsed": false,
    "scrolled": true
   },
   "outputs": [],
   "source": [
    "def get_bad_idx(dataall,verbose=True):\n",
    "    badidx = []\n",
    "    for iloc, text in enumerate(dataall['full_text']):\n",
    "        try:\n",
    "            if detect_language.detect_language(text) != u'english':\n",
    "                badidx.append(iloc)\n",
    "                if verbose:\n",
    "                    print(text[:40])  \n",
    "        except TypeError:\n",
    "            badidx.append(iloc)\n",
    "            if verbose:\n",
    "                print(dataall['url'].iloc[iloc])\n",
    "    return badidx"
   ]
  },
  {
   "cell_type": "code",
   "execution_count": 241,
   "metadata": {
    "collapsed": false
   },
   "outputs": [
    {
     "name": "stdout",
     "output_type": "stream",
     "text": [
      "Conocí a Atilano Román Tirado, de quie\n",
      "El año pasado nos propusimos hacer una \n",
      "DAKAR, Sénégal — La semaine dernièr\n",
      "ORAN, Algérie — Après Tahrir, Cologn\n",
      "Oran, Algérie — L’occasion aurait p\n",
      "Millones de cubanos podrían tener acces\n",
      "Daesh noir, Daesh blanc. Le premier égo\n",
      "PARIS — Au lendemain des attentats de \n",
      "FLORENCE, Italie — Comme l’a déclar\n",
      "Minggu ini menandai peringatan 50 tahun \n",
      "Cztery lata temu, u mojego nowonarodzone\n",
      "Retratos enmarcados del fallecido líder\n",
      "PARIS — « Mal nommer les choses, c’\n",
      "La artista cubana Tania Bruguera, quien \n",
      "Las palabras fueron escritas en grafiti \n",
      "A veces, hacer clic para publicar un tex\n",
      "En Cuba, históricamente las marchas han\n",
      "Tras meses de negociaciones secretas con\n",
      "En julio de 2007, cuando Raúl Castro es\n",
      "El Secretario de Estado John Kerry y la \n",
      "En 1996, motivados por un apetito de ven\n",
      "Hace casi cinco años, las autoridades e\n",
      "En tiempos pasados, no muy lejanos, todo\n",
      "Cuba es una isla pobre y relativamente a\n",
      "Evo Morales, el presidente populista de \n",
      "Luego de haber sido omnipresente en la p\n",
      "Cuando mira un mapa del mundo, el Presid\n",
      "http://www.nytimes.com/2014/07/27/opinion/sunday/high-time-repeal-prohibition-of-marijuana.html\n",
      "http://www.nytimes.com/2014/01/02/opinion/totally-final-year-end-quiz.html\n",
      "http://www.nytimes.com/2013/12/24/opinion/daredevil-on-a-snowmobile.html\n",
      "http://www.nytimes.com/2013/12/24/opinion/christmas-icon-reform.html\n",
      "http://www.nytimes.com/2013/12/23/opinion/for-seamus.html\n",
      "http://www.nytimes.com/2013/12/20/opinion/the-night-witch.html\n",
      "http://www.nytimes.com/2013/12/18/opinion/why-students-do-better-overseas.html\n",
      "http://www.nytimes.com/2013/12/16/opinion/naturally-jj-cale.html\n",
      "This is the Spanish language version of \n",
      "http://www.nytimes.com/2013/12/11/opinion/too-few-girls-and-minorities-study-tech-subjects.html\n",
      "http://www.nytimes.com/2013/12/10/opinion/35-and-single.html\n",
      "http://www.nytimes.com/2013/12/09/opinion/the-rush-for-the-arctics-riches.html\n",
      "http://www.nytimes.com/2013/12/08/opinion/sunday/rushing-for-the-arctics-riches.html\n",
      "http://www.nytimes.com/2013/12/08/opinion/sunday/kristof-can-foreign-aid-help-this-girl.html\n",
      "http://www.nytimes.com/2013/12/03/opinion/riding-with-the-12-oclock-boys.html\n",
      "http://www.nytimes.com/2013/11/30/opinion/the-almost-year-end-quiz.html\n",
      "http://www.nytimes.com/2013/11/26/opinion/why-care-about-the-nsa.html\n",
      "http://www.nytimes.com/2013/11/21/opinion/morris-november-22-1963.html\n"
     ]
    }
   ],
   "source": [
    "badidx = get_bad_idx(dataall,verbose=True)"
   ]
  },
  {
   "cell_type": "markdown",
   "metadata": {},
   "source": [
    "# Save!"
   ]
  },
  {
   "cell_type": "code",
   "execution_count": 7,
   "metadata": {
    "collapsed": true
   },
   "outputs": [],
   "source": [
    "subdir = 'final_csvs2'"
   ]
  },
  {
   "cell_type": "code",
   "execution_count": 244,
   "metadata": {
    "collapsed": false
   },
   "outputs": [],
   "source": [
    "dataall.drop(badidx,inplace=True)\n",
    "dataall.reset_index(drop=True)"
   ]
  },
  {
   "cell_type": "code",
   "execution_count": 6,
   "metadata": {
    "collapsed": false
   },
   "outputs": [
    {
     "ename": "NameError",
     "evalue": "name 'dataall' is not defined",
     "output_type": "error",
     "traceback": [
      "\u001b[1;31m---------------------------------------------------------------------------\u001b[0m",
      "\u001b[1;31mNameError\u001b[0m                                 Traceback (most recent call last)",
      "\u001b[1;32m<ipython-input-6-4d7064982189>\u001b[0m in \u001b[0;36m<module>\u001b[1;34m()\u001b[0m\n\u001b[1;32m----> 1\u001b[1;33m \u001b[0mdataall\u001b[0m\u001b[1;33m.\u001b[0m\u001b[0mto_csv\u001b[0m\u001b[1;33m(\u001b[0m\u001b[0mos\u001b[0m\u001b[1;33m.\u001b[0m\u001b[0mpath\u001b[0m\u001b[1;33m.\u001b[0m\u001b[0mjoin\u001b[0m\u001b[1;33m(\u001b[0m\u001b[0msubdir\u001b[0m\u001b[1;33m,\u001b[0m\u001b[1;34m'dataall.csv'\u001b[0m\u001b[1;33m)\u001b[0m\u001b[1;33m,\u001b[0m\u001b[0mencoding\u001b[0m\u001b[1;33m=\u001b[0m\u001b[1;34m'utf-8'\u001b[0m\u001b[1;33m)\u001b[0m\u001b[1;33m\u001b[0m\u001b[0m\n\u001b[0m",
      "\u001b[1;31mNameError\u001b[0m: name 'dataall' is not defined"
     ]
    }
   ],
   "source": [
    "dataall.to_csv(os.path.join(subdir,'dataall.csv'),encoding='utf-8')"
   ]
  },
  {
   "cell_type": "markdown",
   "metadata": {},
   "source": [
    "# Load!"
   ]
  },
  {
   "cell_type": "code",
   "execution_count": 35,
   "metadata": {
    "collapsed": false
   },
   "outputs": [],
   "source": [
    "dataall = pd.DataFrame.from_csv(os.path.join(subdir,'dataall.csv'),encoding='utf-8')"
   ]
  },
  {
   "cell_type": "markdown",
   "metadata": {},
   "source": [
    "# Other Features"
   ]
  },
  {
   "cell_type": "code",
   "execution_count": 248,
   "metadata": {
    "collapsed": true
   },
   "outputs": [],
   "source": [
    "def normalize_feature(features):\n",
    "    fmin, fmax = min(features), max(features)\n",
    "    frange = fmax - fmin\n",
    "    return [f/frange for f in features]"
   ]
  },
  {
   "cell_type": "markdown",
   "metadata": {},
   "source": [
    "## Textual"
   ]
  },
  {
   "cell_type": "markdown",
   "metadata": {},
   "source": [
    "### Lengths"
   ]
  },
  {
   "cell_type": "code",
   "execution_count": 249,
   "metadata": {
    "collapsed": false
   },
   "outputs": [],
   "source": [
    "datatextualother = pd.DataFrame(index=dataall.index,columns=[])\n",
    "lens = [len(text.split()) for text in dataall['full_text']]\n",
    "datatextualother['len'] = normalize_feature(lens)\n",
    "lenstitle = [len(title.split()) for title in dataall['title']]\n",
    "datatextualother['lentitle'] = normalize_feature(lenstitle)"
   ]
  },
  {
   "cell_type": "code",
   "execution_count": 251,
   "metadata": {
    "collapsed": true
   },
   "outputs": [],
   "source": [
    "datatextualother.to_csv(os.path.join(subdir,'datatextualother.csv'),encoding='utf-8')"
   ]
  },
  {
   "cell_type": "markdown",
   "metadata": {},
   "source": [
    "## Non-Textual"
   ]
  },
  {
   "cell_type": "code",
   "execution_count": 264,
   "metadata": {
    "collapsed": true
   },
   "outputs": [],
   "source": [
    "datanonother = pd.DataFrame(index=dataall.index,columns=[])"
   ]
  },
  {
   "cell_type": "markdown",
   "metadata": {},
   "source": [
    "### Time"
   ]
  },
  {
   "cell_type": "code",
   "execution_count": 265,
   "metadata": {
    "collapsed": false
   },
   "outputs": [],
   "source": [
    "dates = pd.to_datetime(dataall['date'])\n",
    "dateoldest = dates.iloc[-1]\n",
    "datenewest = dates.iloc[0]\n",
    "daterange = datenewest - dateoldest\n",
    "times = [(date - dateoldest)/daterange for date in dates]\n",
    "datanonother['time'] = times"
   ]
  },
  {
   "cell_type": "markdown",
   "metadata": {},
   "source": [
    "### Day of Week"
   ]
  },
  {
   "cell_type": "code",
   "execution_count": 266,
   "metadata": {
    "collapsed": false
   },
   "outputs": [],
   "source": [
    "daysofweek = [date.dayofweek for date in dates]\n",
    "dayencoder = Encoder('day',daysofweek)\n",
    "datanonother = dayencoder.encode_to_df(datanonother)"
   ]
  },
  {
   "cell_type": "markdown",
   "metadata": {},
   "source": [
    "### Author"
   ]
  },
  {
   "cell_type": "code",
   "execution_count": 267,
   "metadata": {
    "collapsed": false
   },
   "outputs": [],
   "source": [
    "dataall['author'] = [nytc.author_name(firstname,lastname)\n",
    "           for firstname, lastname in zip(dataall['first_name'],dataall['last_name'])]"
   ]
  },
  {
   "cell_type": "code",
   "execution_count": 268,
   "metadata": {
    "collapsed": false
   },
   "outputs": [],
   "source": [
    "authorencoder = Encoder('author',dataall['author'],\n",
    "                        nonegroup=True,cutoff=20)\n",
    "datanonother = authorencoder.encode_to_df(datanonother)"
   ]
  },
  {
   "cell_type": "markdown",
   "metadata": {},
   "source": [
    "### Save"
   ]
  },
  {
   "cell_type": "code",
   "execution_count": 269,
   "metadata": {
    "collapsed": true
   },
   "outputs": [],
   "source": [
    "datanonother.to_csv(os.path.join(subdir,'datanonother.csv'),encoding='utf-8')"
   ]
  },
  {
   "cell_type": "markdown",
   "metadata": {},
   "source": [
    "## Save All"
   ]
  },
  {
   "cell_type": "code",
   "execution_count": 284,
   "metadata": {
    "collapsed": false
   },
   "outputs": [],
   "source": [
    "dataall.to_csv(os.path.join(subdir,'dataall.csv'),encoding='utf-8')"
   ]
  },
  {
   "cell_type": "markdown",
   "metadata": {},
   "source": [
    "## Pickle Encoders"
   ]
  },
  {
   "cell_type": "code",
   "execution_count": 270,
   "metadata": {
    "collapsed": false
   },
   "outputs": [],
   "source": [
    "pickleizer.save_encoders(dayencoder,authorencoder)"
   ]
  },
  {
   "cell_type": "code",
   "execution_count": 23,
   "metadata": {
    "collapsed": false
   },
   "outputs": [],
   "source": [
    "dayencoder,authorencoder = pickleizer.load_encoders()"
   ]
  },
  {
   "cell_type": "markdown",
   "metadata": {
    "collapsed": false
   },
   "source": [
    "# By Author"
   ]
  },
  {
   "cell_type": "code",
   "execution_count": 271,
   "metadata": {
    "collapsed": true
   },
   "outputs": [],
   "source": [
    "def df_author(dataall,authorname):\n",
    "    return dataall[dataall.author == authorname]"
   ]
  },
  {
   "cell_type": "code",
   "execution_count": 272,
   "metadata": {
    "collapsed": false
   },
   "outputs": [
    {
     "data": {
      "text/plain": [
       "(96, 11)"
      ]
     },
     "execution_count": 272,
     "metadata": {},
     "output_type": "execute_result"
    }
   ],
   "source": [
    "edsall = df_author(dataall,'Thomas Edsall')\n",
    "edsall.shape"
   ]
  },
  {
   "cell_type": "markdown",
   "metadata": {},
   "source": [
    "## Top Authors -> to visualize"
   ]
  },
  {
   "cell_type": "code",
   "execution_count": 84,
   "metadata": {
    "collapsed": false
   },
   "outputs": [],
   "source": [
    "from collections import Counter\n",
    "import pd_to_json"
   ]
  },
  {
   "cell_type": "code",
   "execution_count": 78,
   "metadata": {
    "collapsed": false
   },
   "outputs": [],
   "source": [
    "n_top_authors = 12\n",
    "authorscounted = Counter(dataall['author'])\n",
    "topauthors = authorscounted.most_common(12)\n",
    "topauthordict = {author: i for i, (author, _) in enumerate(topauthors)}\n",
    "aid = [topauthordict.get(author,-1) for author in dataall['author']]\n",
    "dataall['aid'] = aid"
   ]
  },
  {
   "cell_type": "code",
   "execution_count": 79,
   "metadata": {
    "collapsed": false
   },
   "outputs": [],
   "source": [
    "datatop = dataall[dataall['aid'] != -1]"
   ]
  },
  {
   "cell_type": "code",
   "execution_count": 83,
   "metadata": {
    "collapsed": false
   },
   "outputs": [],
   "source": [
    "datafinal = datatop[['share_count','author','date','title','aid']]"
   ]
  },
  {
   "cell_type": "code",
   "execution_count": 14,
   "metadata": {
    "collapsed": false
   },
   "outputs": [],
   "source": [
    "datafinal.to_csv('timeseries.tsv',sep='\\t',encoding='utf-8',index=False)"
   ]
  },
  {
   "cell_type": "code",
   "execution_count": 89,
   "metadata": {
    "collapsed": true
   },
   "outputs": [],
   "source": [
    "keys1 = ['share_count','author','date','title','aid']\n",
    "keys2 = ['shares','author','date','title','aid']"
   ]
  },
  {
   "cell_type": "code",
   "execution_count": 24,
   "metadata": {
    "collapsed": true
   },
   "outputs": [],
   "source": [
    "dataall.to_csv(os.path.join(subdir,'dataall.csv'),encoding='utf-8')"
   ]
  },
  {
   "cell_type": "code",
   "execution_count": 90,
   "metadata": {
    "collapsed": false
   },
   "outputs": [],
   "source": [
    "pd_to_json.to_file('out2.json',datafinal,keys1,keys2)"
   ]
  },
  {
   "cell_type": "code",
   "execution_count": null,
   "metadata": {
    "collapsed": true
   },
   "outputs": [],
   "source": []
  }
 ],
 "metadata": {
  "kernelspec": {
   "display_name": "Python 2",
   "language": "python",
   "name": "python2"
  },
  "language_info": {
   "codemirror_mode": {
    "name": "ipython",
    "version": 2
   },
   "file_extension": ".py",
   "mimetype": "text/x-python",
   "name": "python",
   "nbconvert_exporter": "python",
   "pygments_lexer": "ipython2",
   "version": "2.7.11"
  }
 },
 "nbformat": 4,
 "nbformat_minor": 0
}
