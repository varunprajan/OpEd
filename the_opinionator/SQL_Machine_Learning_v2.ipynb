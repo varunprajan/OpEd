{
 "cells": [
  {
   "cell_type": "code",
   "execution_count": 1,
   "metadata": {
    "collapsed": false
   },
   "outputs": [],
   "source": [
    "## Python packages - you may have to pip install sqlalchemy, sqlalchemy_utils, and psycopg2.\n",
    "from sqlalchemy import create_engine\n",
    "from sqlalchemy_utils import database_exists, create_database\n",
    "import psycopg2\n",
    "import pandas as pd\n",
    "import numpy as np\n",
    "import matplotlib as mpl\n",
    "import matplotlib.pyplot as plt\n",
    "import topic_weights as tw\n",
    "import os\n",
    "import queries\n",
    "import model_predict\n",
    "%matplotlib qt"
   ]
  },
  {
   "cell_type": "code",
   "execution_count": 2,
   "metadata": {
    "collapsed": false
   },
   "outputs": [],
   "source": [
    "%load_ext autoreload\n",
    "%autoreload 2"
   ]
  },
  {
   "cell_type": "markdown",
   "metadata": {},
   "source": [
    "### Load Data"
   ]
  },
  {
   "cell_type": "code",
   "execution_count": 3,
   "metadata": {
    "collapsed": true
   },
   "outputs": [],
   "source": [
    "subdir = 'final_csvs2'"
   ]
  },
  {
   "cell_type": "code",
   "execution_count": 4,
   "metadata": {
    "collapsed": false,
    "scrolled": true
   },
   "outputs": [],
   "source": [
    "dataall = pd.DataFrame.from_csv(os.path.join(subdir,'dataall.csv'),encoding='utf-8')\n",
    "datatextualother = pd.DataFrame.from_csv(os.path.join(subdir,'datatextualother.csv'),encoding='utf-8')\n",
    "datanonother = pd.DataFrame.from_csv(os.path.join(subdir,'datanonother.csv'),encoding='utf-8')"
   ]
  },
  {
   "cell_type": "code",
   "execution_count": 5,
   "metadata": {
    "collapsed": false
   },
   "outputs": [],
   "source": [
    "dataallnew = dataall[dataall.columns.drop(u'full_text')]"
   ]
  },
  {
   "cell_type": "code",
   "execution_count": 6,
   "metadata": {
    "collapsed": false
   },
   "outputs": [],
   "source": [
    "n_topics = 50\n",
    "stem = 'stem'\n",
    "package = 'sklearn'\n",
    "twcsv = tw.topic_weights_csv(n_topics,stem,package,'all')\n",
    "topicweights = pd.DataFrame.from_csv(os.path.join(subdir,twcsv))"
   ]
  },
  {
   "cell_type": "code",
   "execution_count": 7,
   "metadata": {
    "collapsed": true
   },
   "outputs": [],
   "source": [
    "sentiment = pd.DataFrame.from_csv(os.path.join(subdir,'sentiment.csv'))"
   ]
  },
  {
   "cell_type": "markdown",
   "metadata": {},
   "source": [
    "### Connect to Database (Manually)"
   ]
  },
  {
   "cell_type": "code",
   "execution_count": 8,
   "metadata": {
    "collapsed": true
   },
   "outputs": [],
   "source": [
    "#In Python: Define a database name, and your username for your computer. \n",
    "dbname = 'oped_v4_db'\n",
    "username = 'varun'"
   ]
  },
  {
   "cell_type": "code",
   "execution_count": 9,
   "metadata": {
    "collapsed": false
   },
   "outputs": [
    {
     "name": "stdout",
     "output_type": "stream",
     "text": [
      "postgres://varun@localhost/oped_v4_db\n"
     ]
    }
   ],
   "source": [
    "## 'engine' is a connection to a database\n",
    "## Here, we're using postgres, but sqlalchemy can connect to other things too.\n",
    "engine = create_engine('postgres://%s@localhost/%s'%(username,dbname))\n",
    "print engine.url"
   ]
  },
  {
   "cell_type": "code",
   "execution_count": 10,
   "metadata": {
    "collapsed": true
   },
   "outputs": [],
   "source": [
    "if not database_exists(engine.url):\n",
    "    create_database(engine.url)"
   ]
  },
  {
   "cell_type": "code",
   "execution_count": 10,
   "metadata": {
    "collapsed": false
   },
   "outputs": [],
   "source": [
    "## insert data into database from Python (proof of concept - this won't be useful for big data, of course)\n",
    "## df is any pandas dataframe \n",
    "dataallnew.to_sql('orig', engine, if_exists='replace')\n",
    "datatextualother.to_sql('text', engine, if_exists='replace')\n",
    "datanonother.to_sql('non', engine, if_exists='replace')\n",
    "topicweights.to_sql('tw', engine, if_exists='replace')\n",
    "sentiment.to_sql('sent', engine, if_exists='replace')"
   ]
  },
  {
   "cell_type": "code",
   "execution_count": 12,
   "metadata": {
    "collapsed": true
   },
   "outputs": [],
   "source": [
    "## Now try the same queries, but in python!\n",
    "# connect:\n",
    "con = None\n",
    "con = psycopg2.connect(database = dbname, user = username)"
   ]
  },
  {
   "cell_type": "markdown",
   "metadata": {},
   "source": [
    "# Some Queries"
   ]
  },
  {
   "cell_type": "code",
   "execution_count": 13,
   "metadata": {
    "collapsed": true
   },
   "outputs": [],
   "source": [
    "allquery = queries.all_query()\n",
    "alldata = queries.return_df(allquery)"
   ]
  },
  {
   "cell_type": "code",
   "execution_count": 17,
   "metadata": {
    "collapsed": false,
    "scrolled": true
   },
   "outputs": [
    {
     "data": {
      "text/plain": [
       "(201, 116)"
      ]
     },
     "execution_count": 17,
     "metadata": {},
     "output_type": "execute_result"
    }
   ],
   "source": [
    "charlesblowquery = queries.author_query('Charles Blow')\n",
    "charlesblow = queries.return_df(charlesblowquery)\n",
    "charlesblow.shape"
   ]
  },
  {
   "cell_type": "code",
   "execution_count": 18,
   "metadata": {
    "collapsed": true
   },
   "outputs": [],
   "source": [
    "alldata['log_share_count'] = np.log10(alldata['share_count'])\n",
    "alldata[alldata['log_share_count'] < 0] = 0"
   ]
  },
  {
   "cell_type": "code",
   "execution_count": 20,
   "metadata": {
    "collapsed": false
   },
   "outputs": [],
   "source": [
    "featurenames = datatextualother.columns.append(\n",
    "    [datanonother.columns,topicweights.columns,sentiment.columns])\n",
    "viralityname = 'log_share_count'"
   ]
  },
  {
   "cell_type": "markdown",
   "metadata": {},
   "source": [
    "# Other Data"
   ]
  },
  {
   "cell_type": "code",
   "execution_count": 21,
   "metadata": {
    "collapsed": true
   },
   "outputs": [],
   "source": [
    "regdata = alldata[alldata['author_37'] == 0]"
   ]
  },
  {
   "cell_type": "markdown",
   "metadata": {},
   "source": [
    "# Machine Learning"
   ]
  },
  {
   "cell_type": "markdown",
   "metadata": {},
   "source": [
    "## Training/Test"
   ]
  },
  {
   "cell_type": "code",
   "execution_count": 22,
   "metadata": {
    "collapsed": false
   },
   "outputs": [],
   "source": [
    "from sklearn import linear_model, neighbors, ensemble, preprocessing\n",
    "from sklearn.metrics import roc_curve, auc, r2_score\n",
    "from sklearn.metrics import accuracy_score, precision_recall_curve, mean_squared_error"
   ]
  },
  {
   "cell_type": "code",
   "execution_count": 23,
   "metadata": {
    "collapsed": true
   },
   "outputs": [],
   "source": [
    "def split_data(data,frac=0.7):\n",
    "    datanew = data.sample(frac=1)\n",
    "    nrows = len(datanew)\n",
    "    idx = int(nrows*frac)\n",
    "    return {'train': datanew.iloc[:idx], 'test': datanew.iloc[idx:]}\n",
    "    # use 70-30 split"
   ]
  },
  {
   "cell_type": "code",
   "execution_count": 24,
   "metadata": {
    "collapsed": true
   },
   "outputs": [],
   "source": [
    "def train_model(data,featurenames,viralityname,model,errorfun,**kwargs):\n",
    "    splitdata = split_data(data)\n",
    "    datatrain = splitdata['train']\n",
    "    datatest = splitdata['test']\n",
    "    model.fit(datatrain[featurenames],datatrain[viralityname],**kwargs)\n",
    "    train_pred = model.predict(datatrain[featurenames])\n",
    "    test_pred = model.predict(datatest[featurenames])\n",
    "    train_error = errorfun(datatrain[viralityname],train_pred)\n",
    "    test_error = errorfun(datatest[viralityname],test_pred)\n",
    "    print('Training error: {0}'.format(train_error))\n",
    "    print('Test error: {0}'.format(test_error))"
   ]
  },
  {
   "cell_type": "markdown",
   "metadata": {},
   "source": [
    "## Regression"
   ]
  },
  {
   "cell_type": "code",
   "execution_count": 25,
   "metadata": {
    "collapsed": true
   },
   "outputs": [],
   "source": [
    "def model_error_regr(predicted,actual):\n",
    "    nobs = actual.size\n",
    "    return 1.0/(2.0*nobs)*np.sum((actual - predicted)**2)"
   ]
  },
  {
   "cell_type": "code",
   "execution_count": 26,
   "metadata": {
    "collapsed": true
   },
   "outputs": [],
   "source": [
    "def coeff_regr(predicted,actual):\n",
    "    avg = np.mean(actual)\n",
    "    sstot = np.sum((actual - avg)**2)\n",
    "    ssres = np.sum((actual - predicted)**2)\n",
    "    return 1 - ssres/sstot"
   ]
  },
  {
   "cell_type": "markdown",
   "metadata": {},
   "source": [
    "## Gradient Boosted Regression"
   ]
  },
  {
   "cell_type": "code",
   "execution_count": 27,
   "metadata": {
    "collapsed": true
   },
   "outputs": [],
   "source": [
    "params = {'n_estimators': 500, 'max_depth': 4, 'min_samples_split': 1,\n",
    "          'learning_rate': 0.01, 'loss': 'ls'}\n",
    "model = ensemble.GradientBoostingRegressor(**params)"
   ]
  },
  {
   "cell_type": "code",
   "execution_count": 70,
   "metadata": {
    "collapsed": false
   },
   "outputs": [
    {
     "name": "stdout",
     "output_type": "stream",
     "text": [
      "Training error: 0.574027545612\n",
      "Test error: 0.511294053322\n"
     ]
    }
   ],
   "source": [
    "train_model(regdata,featurenamesfinal,viralityname,model,r2_score)"
   ]
  },
  {
   "cell_type": "markdown",
   "metadata": {},
   "source": [
    "### Linear Regression"
   ]
  },
  {
   "cell_type": "code",
   "execution_count": 92,
   "metadata": {
    "collapsed": false
   },
   "outputs": [],
   "source": [
    "featurenamesfinal = featurenames.drop(['len','lentitle','time'])"
   ]
  },
  {
   "cell_type": "code",
   "execution_count": 93,
   "metadata": {
    "collapsed": false
   },
   "outputs": [],
   "source": [
    "model = linear_model.Ridge(alpha=0.1)"
   ]
  },
  {
   "cell_type": "code",
   "execution_count": 94,
   "metadata": {
    "collapsed": false,
    "scrolled": true
   },
   "outputs": [
    {
     "data": {
      "text/plain": [
       "Ridge(alpha=0.1, copy_X=True, fit_intercept=True, max_iter=None,\n",
       "   normalize=False, random_state=None, solver='auto', tol=0.001)"
      ]
     },
     "execution_count": 94,
     "metadata": {},
     "output_type": "execute_result"
    }
   ],
   "source": [
    "model.fit(regdata[featurenamesfinal],regdata[viralityname])"
   ]
  },
  {
   "cell_type": "code",
   "execution_count": 95,
   "metadata": {
    "collapsed": false
   },
   "outputs": [
    {
     "name": "stdout",
     "output_type": "stream",
     "text": [
      "0.508215734612\n"
     ]
    }
   ],
   "source": [
    "train_pred = model.predict(regdata[featurenamesfinal])\n",
    "train_error = coeff_regr(train_pred,regdata[viralityname])\n",
    "print(train_error)"
   ]
  },
  {
   "cell_type": "code",
   "execution_count": 76,
   "metadata": {
    "collapsed": false
   },
   "outputs": [
    {
     "name": "stdout",
     "output_type": "stream",
     "text": [
      "Training error: 0.513762233673\n",
      "Test error: 0.483250459073\n"
     ]
    }
   ],
   "source": [
    "train_model(regdata,featurenamesfinal,viralityname,model,r2_score)"
   ]
  },
  {
   "cell_type": "code",
   "execution_count": 77,
   "metadata": {
    "collapsed": false,
    "scrolled": true
   },
   "outputs": [
    {
     "name": "stdout",
     "output_type": "stream",
     "text": [
      "(u'day_0', 1.7564273094729226)\n",
      "(u'day_1', 1.7222739200337427)\n",
      "(u'day_2', 1.7637797301388771)\n",
      "(u'day_3', 1.7241493344098953)\n",
      "(u'day_4', 1.6840938634721363)\n",
      "(u'day_5', 1.6949644781211113)\n",
      "(u'day_6', 1.8481719643773789)\n",
      "('Timothy Egan', 0.87801483060424246)\n",
      "('Lawrence Downes', 0.37362045907742303)\n",
      "('Joe Nocera', 0.33273716891634142)\n",
      "('Bina Shah', 0.12479124127842375)\n",
      "('David Brooks', 0.80785002462932243)\n",
      "('Nicholas Kristof', 1.0636527129303563)\n",
      "('Emma Roller', -0.053800226216782987)\n",
      "('The Editorial Board', 0.22253906551379729)\n",
      "('Arthur Brooks', 0.63096479268740591)\n",
      "('Serge Schmemann', -0.34790184837874172)\n",
      "('Jennifer Boylan', 0.39772303960621813)\n",
      "('Gail Collins', 0.4316406077089357)\n",
      "('Nikos Konstandaras', -0.05055471805492856)\n",
      "('Charles Blow', 0.69892553299547788)\n",
      "('Shmuel Rosner', -0.26884983002679924)\n",
      "('Paul Krugman', 1.2672344721674487)\n",
      "('Maureen Dowd', 0.43161336250877796)\n",
      "('Ross Douthat', 0.16793109453363272)\n",
      "('Thomas Edsall', 0.3014805356791318)\n",
      "('Linda Greenhouse', 0.1065215565567931)\n",
      "('Vanessa Barbara', 0.44727063772905512)\n",
      "('Masha Gessen', 0.22287513007457638)\n",
      "('Steven Rattner', 0.54353746131989555)\n",
      "('Jochen Bittner', 0.22046754430269627)\n",
      "('Mustafa Akyol', 0.29496164150187049)\n",
      "('Sylvie Kauffmann', 0.082275133061507508)\n",
      "('Kenan Malik', 0.055302620176820708)\n",
      "('Margaret Sullivan', -0.31433588196486156)\n",
      "('Francis Clines', -0.045809357870618052)\n",
      "('Frank Bruni', 0.64791845681865334)\n",
      "('Kate Murphy', -0.96514906990770577)\n",
      "('Pamela Druckerman', 0.99489962982829938)\n",
      "('Mark Bittman', 0.63635237673535439)\n",
      "('Roger Cohen', 0.47286252392889244)\n",
      "('Beppe Severgnini', 0.63771271977538901)\n",
      "('Thomas Friedman', 0.74682174938014712)\n",
      "('Maxim Trudolyubov', -0.00023658958652094411)\n",
      "(None, 0.0)\n",
      "('topic_0', 0.8796277901629026)\n",
      "('topic_1', 0.48892871444305025)\n",
      "('topic_2', -0.5045886918648711)\n",
      "('topic_3', 0.38458055228929344)\n",
      "('topic_4', 0.37219054815300384)\n",
      "('topic_5', 0.13700786360506162)\n",
      "('topic_6', 0.54892296980248834)\n",
      "('topic_7', -0.23737441134718631)\n",
      "('topic_8', 0.94780165273349393)\n",
      "('topic_9', 0.090743005993971032)\n",
      "('topic_10', 0.47867775813864399)\n",
      "('topic_11', -0.061637312563507254)\n",
      "('topic_12', -0.16579466357258799)\n",
      "('topic_13', -0.16138833896954932)\n",
      "('topic_14', 0.80961915570909548)\n",
      "('topic_15', 0.6365371089308306)\n",
      "('topic_16', 0.81029389455393419)\n",
      "('topic_17', 0.42456628277666503)\n",
      "('topic_18', 0.13878377234775155)\n",
      "('topic_19', -0.16138833896954927)\n",
      "('topic_20', -0.21813119114424734)\n",
      "('topic_21', -0.30579844683738122)\n",
      "('topic_22', -0.96332398555782239)\n",
      "('topic_23', -0.060846760895590532)\n",
      "('topic_24', -0.92649046449187022)\n",
      "('topic_25', 0.15066422761154125)\n",
      "('topic_26', 0.40771204424810814)\n",
      "('topic_27', 0.41281385698529754)\n",
      "('topic_28', 1.3910277171213998)\n",
      "('topic_29', 1.2033259176312809)\n",
      "('topic_30', -0.99360561499235545)\n",
      "('topic_31', 0.64677929914109922)\n",
      "('topic_32', 1.0192166633068438)\n",
      "('topic_33', 0.32021373253863583)\n",
      "('topic_34', 0.29449182073990698)\n",
      "('topic_35', -1.2558936185570737)\n",
      "('topic_36', -0.16138833896954929)\n",
      "('topic_37', 0.30968521550179762)\n",
      "('topic_38', -0.26707982942733638)\n",
      "('topic_39', 0.32585656581187966)\n",
      "('topic_40', 0.76097659176287902)\n",
      "('topic_41', 0.012319830115373669)\n",
      "('topic_42', 0.61420887320214546)\n",
      "('topic_43', 0.056562796710148064)\n",
      "('topic_44', -0.147375944755951)\n",
      "('topic_45', 0.78419388515959298)\n",
      "('topic_46', 0.95289538255287265)\n",
      "('topic_47', 0.24031542560129401)\n",
      "('topic_48', 1.3231701165071634)\n",
      "('topic_49', 0.41125552095671991)\n",
      "('polarity', -0.3340214928273148)\n",
      "('subjectivity', 0.35912468544822168)\n"
     ]
    }
   ],
   "source": [
    "for featurename, coef in zip(featurenamesfinal, model.coef_):\n",
    "    if featurename.startswith('author'):\n",
    "        code = int(featurename[7:])\n",
    "        author = model_predict.AUTHORENCODER.idtotoken.get(code,None)\n",
    "        print(author,coef)\n",
    "    else:\n",
    "        print(featurename, coef)"
   ]
  },
  {
   "cell_type": "markdown",
   "metadata": {},
   "source": [
    "## Random Forest"
   ]
  },
  {
   "cell_type": "code",
   "execution_count": 56,
   "metadata": {
    "collapsed": false
   },
   "outputs": [],
   "source": [
    "model = ensemble.RandomForestRegressor(n_estimators=200)"
   ]
  },
  {
   "cell_type": "code",
   "execution_count": 57,
   "metadata": {
    "collapsed": false
   },
   "outputs": [
    {
     "name": "stdout",
     "output_type": "stream",
     "text": [
      "Training error: 0.0323574534752\n",
      "Test error: 0.256422541736\n"
     ]
    }
   ],
   "source": [
    "train_model(regdata,featurenames,viralityname,model,mean_squared_error)"
   ]
  },
  {
   "cell_type": "code",
   "execution_count": 106,
   "metadata": {
    "collapsed": false
   },
   "outputs": [
    {
     "ename": "AttributeError",
     "evalue": "'Ridge' object has no attribute 'feature_importances_'",
     "output_type": "error",
     "traceback": [
      "\u001b[1;31m---------------------------------------------------------------------------\u001b[0m",
      "\u001b[1;31mAttributeError\u001b[0m                            Traceback (most recent call last)",
      "\u001b[1;32m<ipython-input-106-670cf6351a68>\u001b[0m in \u001b[0;36m<module>\u001b[1;34m()\u001b[0m\n\u001b[1;32m----> 1\u001b[1;33m \u001b[1;32mfor\u001b[0m \u001b[0mfeature\u001b[0m\u001b[1;33m,\u001b[0m \u001b[0mimportance\u001b[0m \u001b[1;32min\u001b[0m \u001b[0mzip\u001b[0m\u001b[1;33m(\u001b[0m\u001b[0mfeaturenames\u001b[0m\u001b[1;33m,\u001b[0m\u001b[0mmodel\u001b[0m\u001b[1;33m.\u001b[0m\u001b[0mfeature_importances_\u001b[0m\u001b[1;33m)\u001b[0m\u001b[1;33m:\u001b[0m\u001b[1;33m\u001b[0m\u001b[0m\n\u001b[0m\u001b[0;32m      2\u001b[0m     \u001b[1;32mpass\u001b[0m\u001b[1;33m\u001b[0m\u001b[0m\n\u001b[0;32m      3\u001b[0m     \u001b[1;31m# print(feature, importance)\u001b[0m\u001b[1;33m\u001b[0m\u001b[1;33m\u001b[0m\u001b[0m\n",
      "\u001b[1;31mAttributeError\u001b[0m: 'Ridge' object has no attribute 'feature_importances_'"
     ]
    }
   ],
   "source": [
    "for feature, importance in zip(featurenames,model.feature_importances_):\n",
    "    pass\n",
    "    # print(feature, importance)"
   ]
  },
  {
   "cell_type": "markdown",
   "metadata": {},
   "source": [
    "## K-Nearest Neighbors"
   ]
  },
  {
   "cell_type": "code",
   "execution_count": 105,
   "metadata": {
    "collapsed": false,
    "scrolled": true
   },
   "outputs": [
    {
     "name": "stdout",
     "output_type": "stream",
     "text": [
      "Training error: 0.998883446246\n",
      "Test error: -0.147600334939\n",
      "Training error: 0.716377900879\n",
      "Test error: 0.152592380258\n",
      "Training error: 0.619053854171\n",
      "Test error: 0.243409621316\n",
      "Training error: 0.569168974685\n",
      "Test error: 0.290740795355\n",
      "Training error: 0.535852162635\n",
      "Test error: 0.314018356802\n",
      "Training error: 0.515676841609\n",
      "Test error: 0.328033807347\n",
      "Training error: 0.500432695738\n",
      "Test error: 0.332794871677\n",
      "Training error: 0.488118540344\n",
      "Test error: 0.34068243082\n",
      "Training error: 0.478990621509\n",
      "Test error: 0.345101970322\n",
      "Training error: 0.469109110887\n",
      "Test error: 0.344840873636\n",
      "Training error: 0.461235157144\n",
      "Test error: 0.34593098155\n",
      "Training error: 0.454972515161\n",
      "Test error: 0.350557689176\n",
      "Training error: 0.448723296798\n",
      "Test error: 0.351332730917\n",
      "Training error: 0.444368263776\n",
      "Test error: 0.353331101435\n",
      "Training error: 0.439076912761\n",
      "Test error: 0.355747969173\n",
      "Training error: 0.437369664485\n",
      "Test error: 0.355988512055\n",
      "Training error: 0.43284801782\n",
      "Test error: 0.352899477027\n",
      "Training error: 0.429192621953\n",
      "Test error: 0.35384234248\n",
      "Training error: 0.424704593041\n",
      "Test error: 0.353192479167\n"
     ]
    }
   ],
   "source": [
    "for i in range(1,20):\n",
    "    model = neighbors.KNeighborsRegressor(n_neighbors=i)\n",
    "    train_model(datasplit,model,coeff_regr)"
   ]
  },
  {
   "cell_type": "markdown",
   "metadata": {},
   "source": [
    "# Save Model"
   ]
  },
  {
   "cell_type": "code",
   "execution_count": 35,
   "metadata": {
    "collapsed": true
   },
   "outputs": [],
   "source": [
    "import pickleizer"
   ]
  },
  {
   "cell_type": "code",
   "execution_count": 37,
   "metadata": {
    "collapsed": false
   },
   "outputs": [],
   "source": [
    "pickleizer.save_model(model,featurenamesfinal)"
   ]
  },
  {
   "cell_type": "markdown",
   "metadata": {
    "collapsed": true
   },
   "source": [
    "# Make Some Predictions!"
   ]
  },
  {
   "cell_type": "code",
   "execution_count": 40,
   "metadata": {
    "collapsed": false,
    "scrolled": true
   },
   "outputs": [],
   "source": [
    "import model_predict\n",
    "import similar_articles\n",
    "import math"
   ]
  },
  {
   "cell_type": "code",
   "execution_count": 162,
   "metadata": {
    "collapsed": false
   },
   "outputs": [],
   "source": [
    "authorname = 'David Brooks'\n",
    "dayofweek = 0\n",
    "fulltext = u'Trump trumped Trump yesterday'"
   ]
  },
  {
   "cell_type": "markdown",
   "metadata": {},
   "source": [
    "## Shares"
   ]
  },
  {
   "cell_type": "code",
   "execution_count": 166,
   "metadata": {
    "collapsed": false
   },
   "outputs": [
    {
     "data": {
      "text/plain": [
       "4500"
      ]
     },
     "execution_count": 166,
     "metadata": {},
     "output_type": "execute_result"
    }
   ],
   "source": [
    "model_predict.predict_new_article_text(authorname,dayofweek,fulltext)"
   ]
  },
  {
   "cell_type": "markdown",
   "metadata": {},
   "source": [
    "## Percentiles"
   ]
  },
  {
   "cell_type": "code",
   "execution_count": 171,
   "metadata": {
    "collapsed": false
   },
   "outputs": [],
   "source": [
    "weights = model_predict.article_weights(fulltext)\n",
    "df = queries.return_df(queries.all_query())\n",
    "sameauthor, otherauthor = similar_articles.same_other_df(df,authorname)\n",
    "expectedshares = model_predict.predict_new_article_text_sub(authorname,dayofweek,weights)\n",
    "percsame, percother = similar_articles.percentiles(sameauthor,otherauthor,expectedshares)"
   ]
  },
  {
   "cell_type": "code",
   "execution_count": 172,
   "metadata": {
    "collapsed": false
   },
   "outputs": [
    {
     "data": {
      "text/plain": [
       "(87.837837837837839, 93.262711864406782)"
      ]
     },
     "execution_count": 172,
     "metadata": {},
     "output_type": "execute_result"
    }
   ],
   "source": [
    "percsame, percother"
   ]
  },
  {
   "cell_type": "markdown",
   "metadata": {},
   "source": [
    "## Recommendations"
   ]
  },
  {
   "cell_type": "code",
   "execution_count": 50,
   "metadata": {
    "collapsed": false
   },
   "outputs": [],
   "source": [
    "fnames = model_predict.FEATURENAMES"
   ]
  },
  {
   "cell_type": "code",
   "execution_count": 82,
   "metadata": {
    "collapsed": false
   },
   "outputs": [
    {
     "data": {
      "text/plain": [
       "['The score for the topics of your opinion ranks in percentile 100 of all opinion pieces. I see some potential here!',\n",
       " 'The author you selected ranks in percentile 61 of all authors. You could stand to be more interesting, like Timothy Egan.',\n",
       " 'The day you selected ranks in percentile 57 of all days. May I suggest a different day of the week? Perhaps Sunday.']"
      ]
     },
     "execution_count": 82,
     "metadata": {},
     "output_type": "execute_result"
    }
   ],
   "source": [
    "text = u'Trump trumped Trump yesterday'\n",
    "author = 'Maureen Dowd'\n",
    "dayofweek = 1\n",
    "weights = model_predict.article_weights(text)\n",
    "df = queries.return_df(queries.all_query())\n",
    "model_predict.get_recommendations(author,dayofweek,weights,df)"
   ]
  },
  {
   "cell_type": "markdown",
   "metadata": {},
   "source": [
    "## Similar Articles"
   ]
  },
  {
   "cell_type": "code",
   "execution_count": 3,
   "metadata": {
    "collapsed": true
   },
   "outputs": [],
   "source": [
    "import similar_articles"
   ]
  },
  {
   "cell_type": "code",
   "execution_count": 179,
   "metadata": {
    "collapsed": false
   },
   "outputs": [
    {
     "name": "stderr",
     "output_type": "stream",
     "text": [
      "similar_articles.py:22: SettingWithCopyWarning: \n",
      "A value is trying to be set on a copy of a slice from a DataFrame.\n",
      "Try using .loc[row_indexer,col_indexer] = value instead\n",
      "\n",
      "See the caveats in the documentation: http://pandas.pydata.org/pandas-docs/stable/indexing.html#indexing-view-versus-copy\n",
      "  df['sim'] = df[fnames].dot(weights.T)\n"
     ]
    },
    {
     "data": {
      "text/plain": [
       "(      index first_name last_name  comment_count document_type  like_count  \\\n",
       " 474     476      david    brooks           4162       article       13949   \n",
       " 1216   1221      david    brooks           1049       article        1328   \n",
       " 272     273      david    brooks          11956       article       20901   \n",
       " 317     318      david    brooks           5899       article       18660   \n",
       " 151     152      david    brooks          64375       article      219166   \n",
       " \n",
       "       share_count                                                url  \\\n",
       " 474          5064  http://www.nytimes.com/2016/02/19/opinion/a-li...   \n",
       " 1216         1145  http://www.nytimes.com/2015/12/11/opinion/the-...   \n",
       " 272          6222  http://www.nytimes.com/2016/03/08/opinion/its-...   \n",
       " 317          7075  http://www.nytimes.com/2016/03/04/opinion/dona...   \n",
       " 151         48755  http://www.nytimes.com/2016/03/18/opinion/no-n...   \n",
       " \n",
       "             date                             title    ...     topic_42  \\\n",
       " 474   2016-02-19   A Little Reality on Immigration    ...     0.366553   \n",
       " 1216  2015-12-11        The Ted Cruz Establishment    ...     0.034405   \n",
       " 272   2016-03-08                It’s Not Too Late!    ...     0.123071   \n",
       " 317   2016-03-04  Donald Trump, the Great Betrayer    ...     0.000067   \n",
       " 151   2016-03-18           No, Not Trump, Not Ever    ...     0.000079   \n",
       " \n",
       "       topic_43  topic_44  topic_45  topic_46  topic_47  topic_48  topic_49  \\\n",
       " 474   0.000066  0.011420  0.000066  0.000066  0.000066  0.000066  0.000066   \n",
       " 1216  0.087103  0.000069  0.000069  0.000069  0.177082  0.000069  0.000069   \n",
       " 272   0.068805  0.000068  0.000068  0.000068  0.000068  0.000068  0.000068   \n",
       " 317   0.023007  0.000067  0.000067  0.006386  0.000067  0.000067  0.000067   \n",
       " 151   0.123872  0.000079  0.000079  0.000079  0.067621  0.000079  0.000079   \n",
       " \n",
       "       log_share_count       sim  \n",
       " 474          3.704494  0.324932  \n",
       " 1216         3.058805  0.250969  \n",
       " 272          3.793930  0.217594  \n",
       " 317          3.849726  0.196113  \n",
       " 151          4.688019  0.195078  \n",
       " \n",
       " [5 rows x 115 columns],\n",
       "       index first_name last_name  comment_count document_type  like_count  \\\n",
       " 318     319       None      None           1304       article        5167   \n",
       " 403     405      frank     bruni           1336       article        2972   \n",
       " 2826   2836    charles      blow           1305       article        4020   \n",
       " 2915   2925      peter    wehner           1954       article        4222   \n",
       " 341     342       mimi    swartz             28       article         147   \n",
       " \n",
       "       share_count                                                url  \\\n",
       " 318          1689  http://www.nytimes.com/2016/03/04/opinion/mitt...   \n",
       " 403           695  http://www.nytimes.com/2016/02/25/opinion/five...   \n",
       " 2826         1499  http://www.nytimes.com/2015/07/16/opinion/trum...   \n",
       " 2915          994  http://www.nytimes.com/2015/07/08/opinion/pete...   \n",
       " 341            44  http://www.nytimes.com/2016/03/02/opinion/camp...   \n",
       " \n",
       "             date                                              title    ...     \\\n",
       " 318   2016-03-04      Mitt Romney Aims at Donald Trump, Hits G.O.P.    ...      \n",
       " 403   2016-02-25  Five Big Questions After a G.O.P. Debate That ...    ...      \n",
       " 2826  2015-07-16         Trump Builds One Brand and Damages Another    ...      \n",
       " 2915  2015-07-08                President Donald Trump? Just Say No    ...      \n",
       " 341   2016-03-02                    Ted Cruz’s Not So Super Tuesday    ...      \n",
       " \n",
       "       topic_42  topic_43  topic_44  topic_45  topic_46  topic_47  topic_48  \\\n",
       " 318   0.000090  0.000090  0.000090  0.000090  0.000090  0.000090  0.000090   \n",
       " 403   0.000056  0.017928  0.000056  0.000056  0.000056  0.000056  0.000056   \n",
       " 2826  0.044018  0.081597  0.000052  0.000052  0.000052  0.000052  0.000052   \n",
       " 2915  0.000070  0.096207  0.000070  0.000070  0.000070  0.000070  0.000070   \n",
       " 341   0.105333  0.172123  0.000182  0.000182  0.000182  0.000182  0.000182   \n",
       " \n",
       "       topic_49  log_share_count       sim  \n",
       " 318   0.000090         3.227630  0.391085  \n",
       " 403   0.000056         2.841985  0.367358  \n",
       " 2826  0.000052         3.175802  0.365742  \n",
       " 2915  0.000070         2.997386  0.359344  \n",
       " 341   0.000182         1.643453  0.354019  \n",
       " \n",
       " [5 rows x 115 columns])"
      ]
     },
     "execution_count": 179,
     "metadata": {},
     "output_type": "execute_result"
    }
   ],
   "source": [
    "samedf, otherdf = similar_articles.same_other_df(alldata,authorname)\n",
    "similar_articles.predict_similar_articles(samedf,otherdf,weights)"
   ]
  },
  {
   "cell_type": "code",
   "execution_count": 2,
   "metadata": {
    "collapsed": false
   },
   "outputs": [
    {
     "name": "stdout",
     "output_type": "stream",
     "text": [
      "<type 'str'>\n",
      "<type 'unicode'>\n"
     ]
    }
   ],
   "source": [
    "Str = \"this is string example....wow!!!\";\n",
    "print(type(Str))\n",
    "Str = Str.decode('utf-8')\n",
    "print(type(Str))"
   ]
  },
  {
   "cell_type": "code",
   "execution_count": null,
   "metadata": {
    "collapsed": true
   },
   "outputs": [],
   "source": []
  }
 ],
 "metadata": {
  "kernelspec": {
   "display_name": "Python 2",
   "language": "python",
   "name": "python2"
  },
  "language_info": {
   "codemirror_mode": {
    "name": "ipython",
    "version": 2
   },
   "file_extension": ".py",
   "mimetype": "text/x-python",
   "name": "python",
   "nbconvert_exporter": "python",
   "pygments_lexer": "ipython2",
   "version": "2.7.11"
  }
 },
 "nbformat": 4,
 "nbformat_minor": 0
}
