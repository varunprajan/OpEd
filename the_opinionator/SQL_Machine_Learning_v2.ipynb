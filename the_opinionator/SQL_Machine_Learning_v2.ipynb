{
 "cells": [
  {
   "cell_type": "code",
   "execution_count": 31,
   "metadata": {
    "collapsed": false
   },
   "outputs": [],
   "source": [
    "## Python packages - you may have to pip install sqlalchemy, sqlalchemy_utils, and psycopg2.\n",
    "from sqlalchemy import create_engine\n",
    "from sqlalchemy_utils import database_exists, create_database\n",
    "import psycopg2\n",
    "import pandas as pd\n",
    "import numpy as np\n",
    "import matplotlib as mpl\n",
    "import matplotlib.pyplot as plt\n",
    "import topic_weights as tw\n",
    "import os\n",
    "import queries\n",
    "import model_predict\n",
    "%matplotlib qt"
   ]
  },
  {
   "cell_type": "code",
   "execution_count": 2,
   "metadata": {
    "collapsed": false
   },
   "outputs": [],
   "source": [
    "%load_ext autoreload\n",
    "%autoreload 2"
   ]
  },
  {
   "cell_type": "markdown",
   "metadata": {},
   "source": [
    "### Load Data"
   ]
  },
  {
   "cell_type": "code",
   "execution_count": 3,
   "metadata": {
    "collapsed": true
   },
   "outputs": [],
   "source": [
    "subdir = 'final_csvs2'"
   ]
  },
  {
   "cell_type": "code",
   "execution_count": 4,
   "metadata": {
    "collapsed": false,
    "scrolled": true
   },
   "outputs": [],
   "source": [
    "dataall = pd.DataFrame.from_csv(os.path.join(subdir,'dataall.csv'),encoding='utf-8')\n",
    "datatextualother = pd.DataFrame.from_csv(os.path.join(subdir,'datatextualother.csv'),encoding='utf-8')\n",
    "datanonother = pd.DataFrame.from_csv(os.path.join(subdir,'datanonother.csv'),encoding='utf-8')"
   ]
  },
  {
   "cell_type": "code",
   "execution_count": 5,
   "metadata": {
    "collapsed": false
   },
   "outputs": [],
   "source": [
    "dataallnew = dataall[dataall.columns.drop(u'full_text')]"
   ]
  },
  {
   "cell_type": "code",
   "execution_count": 6,
   "metadata": {
    "collapsed": false
   },
   "outputs": [],
   "source": [
    "n_topics = 50\n",
    "stem = 'stem'\n",
    "package = 'sklearn'\n",
    "twcsv = tw.topic_weights_csv(n_topics,stem,package,'all')\n",
    "topicweights = pd.DataFrame.from_csv(os.path.join(subdir,twcsv))"
   ]
  },
  {
   "cell_type": "markdown",
   "metadata": {},
   "source": [
    "### Connect to Database (Manually)"
   ]
  },
  {
   "cell_type": "code",
   "execution_count": 7,
   "metadata": {
    "collapsed": true
   },
   "outputs": [],
   "source": [
    "#In Python: Define a database name, and your username for your computer. \n",
    "dbname = 'oped_v4_db'\n",
    "username = 'varun'"
   ]
  },
  {
   "cell_type": "code",
   "execution_count": 8,
   "metadata": {
    "collapsed": false
   },
   "outputs": [
    {
     "name": "stdout",
     "output_type": "stream",
     "text": [
      "postgres://varun@localhost/oped_v4_db\n"
     ]
    }
   ],
   "source": [
    "## 'engine' is a connection to a database\n",
    "## Here, we're using postgres, but sqlalchemy can connect to other things too.\n",
    "engine = create_engine('postgres://%s@localhost/%s'%(username,dbname))\n",
    "print engine.url"
   ]
  },
  {
   "cell_type": "code",
   "execution_count": 9,
   "metadata": {
    "collapsed": true
   },
   "outputs": [],
   "source": [
    "if not database_exists(engine.url):\n",
    "    create_database(engine.url)"
   ]
  },
  {
   "cell_type": "code",
   "execution_count": 10,
   "metadata": {
    "collapsed": false
   },
   "outputs": [],
   "source": [
    "## insert data into database from Python (proof of concept - this won't be useful for big data, of course)\n",
    "## df is any pandas dataframe \n",
    "dataallnew.to_sql('orig', engine, if_exists='replace')\n",
    "datatextualother.to_sql('text', engine, if_exists='replace')\n",
    "datanonother.to_sql('non', engine, if_exists='replace')\n",
    "topicweights.to_sql('tw', engine, if_exists='replace')"
   ]
  },
  {
   "cell_type": "code",
   "execution_count": 12,
   "metadata": {
    "collapsed": true
   },
   "outputs": [],
   "source": [
    "## Now try the same queries, but in python!\n",
    "# connect:\n",
    "con = None\n",
    "con = psycopg2.connect(database = dbname, user = username)"
   ]
  },
  {
   "cell_type": "markdown",
   "metadata": {},
   "source": [
    "# Some Queries"
   ]
  },
  {
   "cell_type": "code",
   "execution_count": 9,
   "metadata": {
    "collapsed": true
   },
   "outputs": [],
   "source": [
    "allquery = queries.all_query()\n",
    "alldata = queries.return_df(allquery)"
   ]
  },
  {
   "cell_type": "code",
   "execution_count": 10,
   "metadata": {
    "collapsed": false,
    "scrolled": true
   },
   "outputs": [
    {
     "data": {
      "text/plain": [
       "(201, 113)"
      ]
     },
     "execution_count": 10,
     "metadata": {},
     "output_type": "execute_result"
    }
   ],
   "source": [
    "charlesblowquery = queries.author_query('Charles Blow')\n",
    "charlesblow = queries.return_df(charlesblowquery)\n",
    "charlesblow.shape"
   ]
  },
  {
   "cell_type": "code",
   "execution_count": 11,
   "metadata": {
    "collapsed": true
   },
   "outputs": [],
   "source": [
    "alldata['log_share_count'] = np.log10(alldata['share_count'])\n",
    "alldata[alldata['log_share_count'] < 0] = 0"
   ]
  },
  {
   "cell_type": "code",
   "execution_count": 12,
   "metadata": {
    "collapsed": false
   },
   "outputs": [],
   "source": [
    "featurenames = datatextualother.columns.append(\n",
    "    [datanonother.columns,topicweights.columns])\n",
    "viralityname = 'log_share_count'"
   ]
  },
  {
   "cell_type": "markdown",
   "metadata": {},
   "source": [
    "# Other Data"
   ]
  },
  {
   "cell_type": "code",
   "execution_count": 13,
   "metadata": {
    "collapsed": true
   },
   "outputs": [],
   "source": [
    "regdata = alldata[alldata['author_37'] == 0]"
   ]
  },
  {
   "cell_type": "markdown",
   "metadata": {},
   "source": [
    "# Machine Learning"
   ]
  },
  {
   "cell_type": "markdown",
   "metadata": {},
   "source": [
    "## Training/Test"
   ]
  },
  {
   "cell_type": "code",
   "execution_count": 58,
   "metadata": {
    "collapsed": false
   },
   "outputs": [],
   "source": [
    "from sklearn import linear_model, neighbors, ensemble, preprocessing\n",
    "from sklearn.metrics import roc_curve, auc, r2_score\n",
    "from sklearn.metrics import accuracy_score, precision_recall_curve, mean_squared_error"
   ]
  },
  {
   "cell_type": "code",
   "execution_count": 15,
   "metadata": {
    "collapsed": true
   },
   "outputs": [],
   "source": [
    "def split_data(data,frac=0.7):\n",
    "    datanew = data.sample(frac=1)\n",
    "    nrows = len(datanew)\n",
    "    idx = int(nrows*frac)\n",
    "    return {'train': datanew.iloc[:idx], 'test': datanew.iloc[idx:]}\n",
    "    # use 70-30 split"
   ]
  },
  {
   "cell_type": "code",
   "execution_count": 63,
   "metadata": {
    "collapsed": true
   },
   "outputs": [],
   "source": [
    "def train_model(data,featurenames,viralityname,model,errorfun,**kwargs):\n",
    "    splitdata = split_data(data)\n",
    "    datatrain = splitdata['train']\n",
    "    datatest = splitdata['test']\n",
    "    model.fit(datatrain[featurenames],datatrain[viralityname],**kwargs)\n",
    "    train_pred = model.predict(datatrain[featurenames])\n",
    "    test_pred = model.predict(datatest[featurenames])\n",
    "    train_error = errorfun(datatrain[viralityname],train_pred)\n",
    "    test_error = errorfun(datatest[viralityname],test_pred)\n",
    "    print('Training error: {0}'.format(train_error))\n",
    "    print('Test error: {0}'.format(test_error))"
   ]
  },
  {
   "cell_type": "markdown",
   "metadata": {},
   "source": [
    "## Regression"
   ]
  },
  {
   "cell_type": "code",
   "execution_count": 43,
   "metadata": {
    "collapsed": true
   },
   "outputs": [],
   "source": [
    "def model_error_regr(predicted,actual):\n",
    "    nobs = actual.size\n",
    "    return 1.0/(2.0*nobs)*np.sum((actual - predicted)**2)"
   ]
  },
  {
   "cell_type": "code",
   "execution_count": 18,
   "metadata": {
    "collapsed": true
   },
   "outputs": [],
   "source": [
    "def coeff_regr(predicted,actual):\n",
    "    avg = np.mean(actual)\n",
    "    sstot = np.sum((actual - avg)**2)\n",
    "    ssres = np.sum((actual - predicted)**2)\n",
    "    return 1 - ssres/sstot"
   ]
  },
  {
   "cell_type": "markdown",
   "metadata": {},
   "source": [
    "## Gradient Boosted Regression"
   ]
  },
  {
   "cell_type": "code",
   "execution_count": 69,
   "metadata": {
    "collapsed": true
   },
   "outputs": [],
   "source": [
    "params = {'n_estimators': 500, 'max_depth': 4, 'min_samples_split': 1,\n",
    "          'learning_rate': 0.01, 'loss': 'ls'}\n",
    "model = ensemble.GradientBoostingRegressor(**params)"
   ]
  },
  {
   "cell_type": "code",
   "execution_count": 70,
   "metadata": {
    "collapsed": false
   },
   "outputs": [
    {
     "name": "stdout",
     "output_type": "stream",
     "text": [
      "Training error: 0.574027545612\n",
      "Test error: 0.511294053322\n"
     ]
    }
   ],
   "source": [
    "train_model(regdata,featurenamesfinal,viralityname,model,r2_score)"
   ]
  },
  {
   "cell_type": "markdown",
   "metadata": {},
   "source": [
    "### Linear Regression"
   ]
  },
  {
   "cell_type": "code",
   "execution_count": 19,
   "metadata": {
    "collapsed": false
   },
   "outputs": [],
   "source": [
    "featurenamesfinal = featurenames.drop(['time','lentitle','len'])"
   ]
  },
  {
   "cell_type": "code",
   "execution_count": 67,
   "metadata": {
    "collapsed": false
   },
   "outputs": [],
   "source": [
    "model = linear_model.Ridge(alpha=0.1)"
   ]
  },
  {
   "cell_type": "code",
   "execution_count": 21,
   "metadata": {
    "collapsed": false,
    "scrolled": true
   },
   "outputs": [
    {
     "data": {
      "text/plain": [
       "Ridge(alpha=0.1, copy_X=True, fit_intercept=True, max_iter=None,\n",
       "   normalize=False, random_state=None, solver='auto', tol=0.001)"
      ]
     },
     "execution_count": 21,
     "metadata": {},
     "output_type": "execute_result"
    }
   ],
   "source": [
    "model.fit(regdata[featurenamesfinal],regdata[viralityname])"
   ]
  },
  {
   "cell_type": "code",
   "execution_count": 23,
   "metadata": {
    "collapsed": false
   },
   "outputs": [
    {
     "name": "stdout",
     "output_type": "stream",
     "text": [
      "0.506756589629\n"
     ]
    }
   ],
   "source": [
    "train_pred = model.predict(regdata[featurenamesfinal])\n",
    "train_error = coeff_regr(train_pred,regdata[viralityname])\n",
    "print(train_error)"
   ]
  },
  {
   "cell_type": "code",
   "execution_count": 68,
   "metadata": {
    "collapsed": false
   },
   "outputs": [
    {
     "name": "stdout",
     "output_type": "stream",
     "text": [
      "Training error: 0.501192931512\n",
      "Test error: 0.508214079533\n"
     ]
    }
   ],
   "source": [
    "train_model(regdata,featurenamesfinal,viralityname,model,r2_score)"
   ]
  },
  {
   "cell_type": "code",
   "execution_count": 33,
   "metadata": {
    "collapsed": false,
    "scrolled": true
   },
   "outputs": [
    {
     "name": "stdout",
     "output_type": "stream",
     "text": [
      "(u'day_0', 1.8121728567247075)\n",
      "(u'day_1', 1.794515596840137)\n",
      "(u'day_2', 1.8143326515743456)\n",
      "(u'day_3', 1.7826084567440199)\n",
      "(u'day_4', 1.7129442822518963)\n",
      "(u'day_5', 1.7472915672964309)\n",
      "(u'day_6', 1.88564386293484)\n",
      "('Timothy Egan', 0.86612545433351606)\n",
      "('Lawrence Downes', 0.25505588825253506)\n",
      "('Joe Nocera', 0.34291528154529338)\n",
      "('Bina Shah', 0.23998608425932472)\n",
      "('David Brooks', 0.82014139249659102)\n",
      "('Nicholas Kristof', 1.0686730398323663)\n",
      "('Emma Roller', 0.069628223595091437)\n",
      "('The Editorial Board', 0.30098939482703729)\n",
      "('Arthur Brooks', 0.75396694014536925)\n",
      "('Serge Schmemann', -0.34390739889642369)\n",
      "('Jennifer Boylan', 0.46971884089273686)\n",
      "('Gail Collins', 0.4450612630549588)\n",
      "('Nikos Konstandaras', -0.14589431556463672)\n",
      "('Charles Blow', 0.70695359401812685)\n",
      "('Shmuel Rosner', -0.044570201835694746)\n",
      "('Paul Krugman', 1.2591569351109497)\n",
      "('Maureen Dowd', 0.4223982921932295)\n",
      "('Ross Douthat', 0.20604884679161381)\n",
      "('Thomas Edsall', 0.35578158871374838)\n",
      "('Linda Greenhouse', 0.092827153161988349)\n",
      "('Vanessa Barbara', 0.49640367208569758)\n",
      "('Masha Gessen', 0.25938320262211517)\n",
      "('Steven Rattner', 0.37625916540065291)\n",
      "('Jochen Bittner', 0.23792621896942698)\n",
      "('Mustafa Akyol', 0.35614992021644371)\n",
      "('Sylvie Kauffmann', 0.048704401107329043)\n",
      "('Kenan Malik', 0.14030593660450627)\n",
      "('Margaret Sullivan', -0.35176091917377289)\n",
      "('Francis Clines', 0.092568235788888634)\n",
      "('Frank Bruni', 0.61883512783676553)\n",
      "('Kate Murphy', -1.0041066603016047)\n",
      "('Pamela Druckerman', 0.74138496392159026)\n",
      "('Mark Bittman', 0.57355009176647509)\n",
      "('Roger Cohen', 0.52380739010765143)\n",
      "('Beppe Severgnini', 0.567660482330553)\n",
      "('Thomas Friedman', 0.75565662248840459)\n",
      "('Maxim Trudolyubov', -0.024274874230216167)\n",
      "(None, 0.0)\n",
      "('topic_0', 0.74191130993643351)\n",
      "('topic_1', 0.7222890658702672)\n",
      "('topic_2', -0.68809880841329585)\n",
      "('topic_3', 0.41639413051142604)\n",
      "('topic_4', 0.35949672441895225)\n",
      "('topic_5', 0.14718848798887374)\n",
      "('topic_6', 0.69811159118176314)\n",
      "('topic_7', -0.22362785090232418)\n",
      "('topic_8', 1.1012280543299224)\n",
      "('topic_9', 0.049344175144227967)\n",
      "('topic_10', 0.44786150410194725)\n",
      "('topic_11', -0.08214625126097469)\n",
      "('topic_12', -0.10949372569943164)\n",
      "('topic_13', -0.1606902940508288)\n",
      "('topic_14', 0.54379523076473413)\n",
      "('topic_15', 0.61265127032030697)\n",
      "('topic_16', 1.1833794505404027)\n",
      "('topic_17', 0.42875126308861383)\n",
      "('topic_18', 0.024691181452808783)\n",
      "('topic_19', -0.16069029405082877)\n",
      "('topic_20', -0.24191683272294873)\n",
      "('topic_21', -0.30602544868957865)\n",
      "('topic_22', -1.1055837136041933)\n",
      "('topic_23', 0.12954908489100675)\n",
      "('topic_24', -0.93339508393254556)\n",
      "('topic_25', 0.11816264719603775)\n",
      "('topic_26', 0.567416558041137)\n",
      "('topic_27', 0.28284898525075752)\n",
      "('topic_28', 1.3106799167757701)\n",
      "('topic_29', 1.0064317399744735)\n",
      "('topic_30', -1.2102713050508866)\n",
      "('topic_31', 0.69134102993297719)\n",
      "('topic_32', 1.8566804946591284)\n",
      "('topic_33', 0.39642833208475869)\n",
      "('topic_34', 0.22045696657488456)\n",
      "('topic_35', -1.3236862457615099)\n",
      "('topic_36', -0.16069029405082874)\n",
      "('topic_37', 0.24839574142117257)\n",
      "('topic_38', -0.24826589329667209)\n",
      "('topic_39', 0.098368569603916822)\n",
      "('topic_40', 0.72010543086034495)\n",
      "('topic_41', 0.053352382166575243)\n",
      "('topic_42', 0.73639140571623585)\n",
      "('topic_43', 0.15777991898903815)\n",
      "('topic_44', -0.38218542688811563)\n",
      "('topic_45', 0.89852891011643043)\n",
      "('topic_46', 1.1843324742440815)\n",
      "('topic_47', 0.33965589213731184)\n",
      "('topic_48', 1.2118289157554931)\n",
      "('topic_49', 0.18044790688237536)\n"
     ]
    }
   ],
   "source": [
    "for featurename, coef in zip(featurenamesfinal, model.coef_):\n",
    "    if featurename.startswith('author'):\n",
    "        code = int(featurename[7:])\n",
    "        author = model_predict.AUTHORENCODER.idtotoken.get(code,None)\n",
    "        print(author,coef)\n",
    "    else:\n",
    "        print(featurename, coef)"
   ]
  },
  {
   "cell_type": "markdown",
   "metadata": {},
   "source": [
    "## Random Forest"
   ]
  },
  {
   "cell_type": "code",
   "execution_count": 56,
   "metadata": {
    "collapsed": false
   },
   "outputs": [],
   "source": [
    "model = ensemble.RandomForestRegressor(n_estimators=200)"
   ]
  },
  {
   "cell_type": "code",
   "execution_count": 57,
   "metadata": {
    "collapsed": false
   },
   "outputs": [
    {
     "name": "stdout",
     "output_type": "stream",
     "text": [
      "Training error: 0.0323574534752\n",
      "Test error: 0.256422541736\n"
     ]
    }
   ],
   "source": [
    "train_model(regdata,featurenames,viralityname,model,mean_squared_error)"
   ]
  },
  {
   "cell_type": "code",
   "execution_count": 106,
   "metadata": {
    "collapsed": false
   },
   "outputs": [
    {
     "ename": "AttributeError",
     "evalue": "'Ridge' object has no attribute 'feature_importances_'",
     "output_type": "error",
     "traceback": [
      "\u001b[1;31m---------------------------------------------------------------------------\u001b[0m",
      "\u001b[1;31mAttributeError\u001b[0m                            Traceback (most recent call last)",
      "\u001b[1;32m<ipython-input-106-670cf6351a68>\u001b[0m in \u001b[0;36m<module>\u001b[1;34m()\u001b[0m\n\u001b[1;32m----> 1\u001b[1;33m \u001b[1;32mfor\u001b[0m \u001b[0mfeature\u001b[0m\u001b[1;33m,\u001b[0m \u001b[0mimportance\u001b[0m \u001b[1;32min\u001b[0m \u001b[0mzip\u001b[0m\u001b[1;33m(\u001b[0m\u001b[0mfeaturenames\u001b[0m\u001b[1;33m,\u001b[0m\u001b[0mmodel\u001b[0m\u001b[1;33m.\u001b[0m\u001b[0mfeature_importances_\u001b[0m\u001b[1;33m)\u001b[0m\u001b[1;33m:\u001b[0m\u001b[1;33m\u001b[0m\u001b[0m\n\u001b[0m\u001b[0;32m      2\u001b[0m     \u001b[1;32mpass\u001b[0m\u001b[1;33m\u001b[0m\u001b[0m\n\u001b[0;32m      3\u001b[0m     \u001b[1;31m# print(feature, importance)\u001b[0m\u001b[1;33m\u001b[0m\u001b[1;33m\u001b[0m\u001b[0m\n",
      "\u001b[1;31mAttributeError\u001b[0m: 'Ridge' object has no attribute 'feature_importances_'"
     ]
    }
   ],
   "source": [
    "for feature, importance in zip(featurenames,model.feature_importances_):\n",
    "    pass\n",
    "    # print(feature, importance)"
   ]
  },
  {
   "cell_type": "markdown",
   "metadata": {},
   "source": [
    "## K-Nearest Neighbors"
   ]
  },
  {
   "cell_type": "code",
   "execution_count": 105,
   "metadata": {
    "collapsed": false,
    "scrolled": true
   },
   "outputs": [
    {
     "name": "stdout",
     "output_type": "stream",
     "text": [
      "Training error: 0.998883446246\n",
      "Test error: -0.147600334939\n",
      "Training error: 0.716377900879\n",
      "Test error: 0.152592380258\n",
      "Training error: 0.619053854171\n",
      "Test error: 0.243409621316\n",
      "Training error: 0.569168974685\n",
      "Test error: 0.290740795355\n",
      "Training error: 0.535852162635\n",
      "Test error: 0.314018356802\n",
      "Training error: 0.515676841609\n",
      "Test error: 0.328033807347\n",
      "Training error: 0.500432695738\n",
      "Test error: 0.332794871677\n",
      "Training error: 0.488118540344\n",
      "Test error: 0.34068243082\n",
      "Training error: 0.478990621509\n",
      "Test error: 0.345101970322\n",
      "Training error: 0.469109110887\n",
      "Test error: 0.344840873636\n",
      "Training error: 0.461235157144\n",
      "Test error: 0.34593098155\n",
      "Training error: 0.454972515161\n",
      "Test error: 0.350557689176\n",
      "Training error: 0.448723296798\n",
      "Test error: 0.351332730917\n",
      "Training error: 0.444368263776\n",
      "Test error: 0.353331101435\n",
      "Training error: 0.439076912761\n",
      "Test error: 0.355747969173\n",
      "Training error: 0.437369664485\n",
      "Test error: 0.355988512055\n",
      "Training error: 0.43284801782\n",
      "Test error: 0.352899477027\n",
      "Training error: 0.429192621953\n",
      "Test error: 0.35384234248\n",
      "Training error: 0.424704593041\n",
      "Test error: 0.353192479167\n"
     ]
    }
   ],
   "source": [
    "for i in range(1,20):\n",
    "    model = neighbors.KNeighborsRegressor(n_neighbors=i)\n",
    "    train_model(datasplit,model,coeff_regr)"
   ]
  },
  {
   "cell_type": "markdown",
   "metadata": {},
   "source": [
    "# Save Model"
   ]
  },
  {
   "cell_type": "code",
   "execution_count": 35,
   "metadata": {
    "collapsed": true
   },
   "outputs": [],
   "source": [
    "import pickleizer"
   ]
  },
  {
   "cell_type": "code",
   "execution_count": 37,
   "metadata": {
    "collapsed": false
   },
   "outputs": [],
   "source": [
    "pickleizer.save_model(model,featurenamesfinal)"
   ]
  },
  {
   "cell_type": "markdown",
   "metadata": {
    "collapsed": true
   },
   "source": [
    "# Make Some Predictions!"
   ]
  },
  {
   "cell_type": "code",
   "execution_count": 40,
   "metadata": {
    "collapsed": false,
    "scrolled": true
   },
   "outputs": [],
   "source": [
    "import model_predict\n",
    "import similar_articles\n",
    "import math"
   ]
  },
  {
   "cell_type": "code",
   "execution_count": 162,
   "metadata": {
    "collapsed": false
   },
   "outputs": [],
   "source": [
    "authorname = 'David Brooks'\n",
    "dayofweek = 0\n",
    "fulltext = u'Trump trumped Trump yesterday'"
   ]
  },
  {
   "cell_type": "markdown",
   "metadata": {},
   "source": [
    "## Shares"
   ]
  },
  {
   "cell_type": "code",
   "execution_count": 166,
   "metadata": {
    "collapsed": false
   },
   "outputs": [
    {
     "data": {
      "text/plain": [
       "4500"
      ]
     },
     "execution_count": 166,
     "metadata": {},
     "output_type": "execute_result"
    }
   ],
   "source": [
    "model_predict.predict_new_article_text(authorname,dayofweek,fulltext)"
   ]
  },
  {
   "cell_type": "markdown",
   "metadata": {},
   "source": [
    "## Percentiles"
   ]
  },
  {
   "cell_type": "code",
   "execution_count": 171,
   "metadata": {
    "collapsed": false
   },
   "outputs": [],
   "source": [
    "weights = model_predict.article_weights(fulltext)\n",
    "df = queries.return_df(queries.all_query())\n",
    "sameauthor, otherauthor = similar_articles.same_other_df(df,authorname)\n",
    "expectedshares = model_predict.predict_new_article_text_sub(authorname,dayofweek,weights)\n",
    "percsame, percother = similar_articles.percentiles(sameauthor,otherauthor,expectedshares)"
   ]
  },
  {
   "cell_type": "code",
   "execution_count": 172,
   "metadata": {
    "collapsed": false
   },
   "outputs": [
    {
     "data": {
      "text/plain": [
       "(87.837837837837839, 93.262711864406782)"
      ]
     },
     "execution_count": 172,
     "metadata": {},
     "output_type": "execute_result"
    }
   ],
   "source": [
    "percsame, percother"
   ]
  },
  {
   "cell_type": "markdown",
   "metadata": {},
   "source": [
    "## Recommendations"
   ]
  },
  {
   "cell_type": "code",
   "execution_count": 50,
   "metadata": {
    "collapsed": false
   },
   "outputs": [],
   "source": [
    "fnames = model_predict.FEATURENAMES"
   ]
  },
  {
   "cell_type": "code",
   "execution_count": 82,
   "metadata": {
    "collapsed": false
   },
   "outputs": [
    {
     "data": {
      "text/plain": [
       "['The score for the topics of your opinion ranks in percentile 100 of all opinion pieces. I see some potential here!',\n",
       " 'The author you selected ranks in percentile 61 of all authors. You could stand to be more interesting, like Timothy Egan.',\n",
       " 'The day you selected ranks in percentile 57 of all days. May I suggest a different day of the week? Perhaps Sunday.']"
      ]
     },
     "execution_count": 82,
     "metadata": {},
     "output_type": "execute_result"
    }
   ],
   "source": [
    "text = u'Trump trumped Trump yesterday'\n",
    "author = 'Maureen Dowd'\n",
    "dayofweek = 1\n",
    "weights = model_predict.article_weights(text)\n",
    "df = queries.return_df(queries.all_query())\n",
    "model_predict.get_recommendations(author,dayofweek,weights,df)"
   ]
  },
  {
   "cell_type": "markdown",
   "metadata": {},
   "source": [
    "## Similar Articles"
   ]
  },
  {
   "cell_type": "code",
   "execution_count": 3,
   "metadata": {
    "collapsed": true
   },
   "outputs": [],
   "source": [
    "import similar_articles"
   ]
  },
  {
   "cell_type": "code",
   "execution_count": 179,
   "metadata": {
    "collapsed": false
   },
   "outputs": [
    {
     "name": "stderr",
     "output_type": "stream",
     "text": [
      "similar_articles.py:22: SettingWithCopyWarning: \n",
      "A value is trying to be set on a copy of a slice from a DataFrame.\n",
      "Try using .loc[row_indexer,col_indexer] = value instead\n",
      "\n",
      "See the caveats in the documentation: http://pandas.pydata.org/pandas-docs/stable/indexing.html#indexing-view-versus-copy\n",
      "  df['sim'] = df[fnames].dot(weights.T)\n"
     ]
    },
    {
     "data": {
      "text/plain": [
       "(      index first_name last_name  comment_count document_type  like_count  \\\n",
       " 474     476      david    brooks           4162       article       13949   \n",
       " 1216   1221      david    brooks           1049       article        1328   \n",
       " 272     273      david    brooks          11956       article       20901   \n",
       " 317     318      david    brooks           5899       article       18660   \n",
       " 151     152      david    brooks          64375       article      219166   \n",
       " \n",
       "       share_count                                                url  \\\n",
       " 474          5064  http://www.nytimes.com/2016/02/19/opinion/a-li...   \n",
       " 1216         1145  http://www.nytimes.com/2015/12/11/opinion/the-...   \n",
       " 272          6222  http://www.nytimes.com/2016/03/08/opinion/its-...   \n",
       " 317          7075  http://www.nytimes.com/2016/03/04/opinion/dona...   \n",
       " 151         48755  http://www.nytimes.com/2016/03/18/opinion/no-n...   \n",
       " \n",
       "             date                             title    ...     topic_42  \\\n",
       " 474   2016-02-19   A Little Reality on Immigration    ...     0.366553   \n",
       " 1216  2015-12-11        The Ted Cruz Establishment    ...     0.034405   \n",
       " 272   2016-03-08                It’s Not Too Late!    ...     0.123071   \n",
       " 317   2016-03-04  Donald Trump, the Great Betrayer    ...     0.000067   \n",
       " 151   2016-03-18           No, Not Trump, Not Ever    ...     0.000079   \n",
       " \n",
       "       topic_43  topic_44  topic_45  topic_46  topic_47  topic_48  topic_49  \\\n",
       " 474   0.000066  0.011420  0.000066  0.000066  0.000066  0.000066  0.000066   \n",
       " 1216  0.087103  0.000069  0.000069  0.000069  0.177082  0.000069  0.000069   \n",
       " 272   0.068805  0.000068  0.000068  0.000068  0.000068  0.000068  0.000068   \n",
       " 317   0.023007  0.000067  0.000067  0.006386  0.000067  0.000067  0.000067   \n",
       " 151   0.123872  0.000079  0.000079  0.000079  0.067621  0.000079  0.000079   \n",
       " \n",
       "       log_share_count       sim  \n",
       " 474          3.704494  0.324932  \n",
       " 1216         3.058805  0.250969  \n",
       " 272          3.793930  0.217594  \n",
       " 317          3.849726  0.196113  \n",
       " 151          4.688019  0.195078  \n",
       " \n",
       " [5 rows x 115 columns],\n",
       "       index first_name last_name  comment_count document_type  like_count  \\\n",
       " 318     319       None      None           1304       article        5167   \n",
       " 403     405      frank     bruni           1336       article        2972   \n",
       " 2826   2836    charles      blow           1305       article        4020   \n",
       " 2915   2925      peter    wehner           1954       article        4222   \n",
       " 341     342       mimi    swartz             28       article         147   \n",
       " \n",
       "       share_count                                                url  \\\n",
       " 318          1689  http://www.nytimes.com/2016/03/04/opinion/mitt...   \n",
       " 403           695  http://www.nytimes.com/2016/02/25/opinion/five...   \n",
       " 2826         1499  http://www.nytimes.com/2015/07/16/opinion/trum...   \n",
       " 2915          994  http://www.nytimes.com/2015/07/08/opinion/pete...   \n",
       " 341            44  http://www.nytimes.com/2016/03/02/opinion/camp...   \n",
       " \n",
       "             date                                              title    ...     \\\n",
       " 318   2016-03-04      Mitt Romney Aims at Donald Trump, Hits G.O.P.    ...      \n",
       " 403   2016-02-25  Five Big Questions After a G.O.P. Debate That ...    ...      \n",
       " 2826  2015-07-16         Trump Builds One Brand and Damages Another    ...      \n",
       " 2915  2015-07-08                President Donald Trump? Just Say No    ...      \n",
       " 341   2016-03-02                    Ted Cruz’s Not So Super Tuesday    ...      \n",
       " \n",
       "       topic_42  topic_43  topic_44  topic_45  topic_46  topic_47  topic_48  \\\n",
       " 318   0.000090  0.000090  0.000090  0.000090  0.000090  0.000090  0.000090   \n",
       " 403   0.000056  0.017928  0.000056  0.000056  0.000056  0.000056  0.000056   \n",
       " 2826  0.044018  0.081597  0.000052  0.000052  0.000052  0.000052  0.000052   \n",
       " 2915  0.000070  0.096207  0.000070  0.000070  0.000070  0.000070  0.000070   \n",
       " 341   0.105333  0.172123  0.000182  0.000182  0.000182  0.000182  0.000182   \n",
       " \n",
       "       topic_49  log_share_count       sim  \n",
       " 318   0.000090         3.227630  0.391085  \n",
       " 403   0.000056         2.841985  0.367358  \n",
       " 2826  0.000052         3.175802  0.365742  \n",
       " 2915  0.000070         2.997386  0.359344  \n",
       " 341   0.000182         1.643453  0.354019  \n",
       " \n",
       " [5 rows x 115 columns])"
      ]
     },
     "execution_count": 179,
     "metadata": {},
     "output_type": "execute_result"
    }
   ],
   "source": [
    "samedf, otherdf = similar_articles.same_other_df(alldata,authorname)\n",
    "similar_articles.predict_similar_articles(samedf,otherdf,weights)"
   ]
  },
  {
   "cell_type": "code",
   "execution_count": 2,
   "metadata": {
    "collapsed": false
   },
   "outputs": [
    {
     "name": "stdout",
     "output_type": "stream",
     "text": [
      "<type 'str'>\n",
      "<type 'unicode'>\n"
     ]
    }
   ],
   "source": [
    "Str = \"this is string example....wow!!!\";\n",
    "print(type(Str))\n",
    "Str = Str.decode('utf-8')\n",
    "print(type(Str))"
   ]
  },
  {
   "cell_type": "code",
   "execution_count": null,
   "metadata": {
    "collapsed": true
   },
   "outputs": [],
   "source": []
  }
 ],
 "metadata": {
  "kernelspec": {
   "display_name": "Python 2",
   "language": "python",
   "name": "python2"
  },
  "language_info": {
   "codemirror_mode": {
    "name": "ipython",
    "version": 2
   },
   "file_extension": ".py",
   "mimetype": "text/x-python",
   "name": "python",
   "nbconvert_exporter": "python",
   "pygments_lexer": "ipython2",
   "version": "2.7.11"
  }
 },
 "nbformat": 4,
 "nbformat_minor": 0
}
