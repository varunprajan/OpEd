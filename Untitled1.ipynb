{
 "cells": [
  {
   "cell_type": "code",
   "execution_count": 342,
   "metadata": {
    "collapsed": false
   },
   "outputs": [],
   "source": [
    "import urllib2\n",
    "from bs4 import BeautifulSoup\n",
    "import re\n",
    "import nytimesarticle as nyta\n",
    "import urllib2\n",
    "import requests\n",
    "import csv\n",
    "import time\n",
    "import pandas as pd\n",
    "import numpy as np"
   ]
  },
  {
   "cell_type": "markdown",
   "metadata": {},
   "source": [
    "# Misc"
   ]
  },
  {
   "cell_type": "markdown",
   "metadata": {},
   "source": [
    "# Get Article Info"
   ]
  },
  {
   "cell_type": "markdown",
   "metadata": {},
   "source": [
    "## Funcs for Processing of Single Article"
   ]
  },
  {
   "cell_type": "code",
   "execution_count": 226,
   "metadata": {
    "collapsed": true
   },
   "outputs": [],
   "source": [
    "from nytimesarticle import articleAPI\n",
    "apikey = '56d7a05e3e8641c5baadd1b21b58ec05'\n",
    "api = articleAPI(apikey)"
   ]
  },
  {
   "cell_type": "code",
   "execution_count": 398,
   "metadata": {
    "collapsed": false
   },
   "outputs": [],
   "source": [
    "def article_info(article):\n",
    "    url = article['web_url']\n",
    "    print(url)\n",
    "    res = url_counts(url) # dependent variable ('hype')\n",
    "    res['first_name'], res['last_name'] = article_columnists(article) \n",
    "    res['document_type'] = article['document_type']\n",
    "    res['full_text'] = url_full_text(url)\n",
    "    res['url'] = url\n",
    "    return res\n",
    "\n",
    "def article_keywords(article):\n",
    "    def keywords():\n",
    "        for keyword in article['keywords']:\n",
    "            yield keyword['value'].lower()\n",
    "    return list(keywords())\n",
    "    \n",
    "def article_columnists(article):\n",
    "    try:\n",
    "        person = article['byline']['person'][0]\n",
    "        firstname = person.get('firstname',np.nan)\n",
    "        lastname = person.get('lastname',np.nan)\n",
    "    except IndexError:\n",
    "        firstname, lastname = np.nan, np.nan\n",
    "    return firstname, lastname\n",
    "\n",
    "def url_full_text(url):\n",
    "    soup = soupify_url(url)\n",
    "    return ' '.join(yield_par_from_soup(soup))\n",
    "    \n",
    "def yield_par_from_soup(soup,classtag='story-body-text story-content'):\n",
    "    paragraphs = soup.findAll('p',{'class':classtag})\n",
    "    for par in paragraphs:\n",
    "        yield par.get_text()\n",
    "        \n",
    "def soupify_url(url):\n",
    "    opener = urllib2.build_opener(urllib2.HTTPCookieProcessor())\n",
    "    response = opener.open(url)\n",
    "    return BeautifulSoup(response.read(),'lxml')\n",
    "    \n",
    "def url_counts(url):\n",
    "    apiurl = 'http://api.facebook.com/restserver.php?method=links.getStats&urls={0}'.format(url)\n",
    "    r = requests.get(apiurl)\n",
    "    soup = BeautifulSoup(r.text,'xml')\n",
    "    def yield_count():\n",
    "        for attr in ['share_count','like_count','comment_count']:\n",
    "            taggedinfo = getattr(soup,attr)\n",
    "            yield attr, taggedinfo.contents[0]\n",
    "    return dict(yield_count())"
   ]
  },
  {
   "cell_type": "markdown",
   "metadata": {},
   "source": [
    "## Reader"
   ]
  },
  {
   "cell_type": "code",
   "execution_count": 399,
   "metadata": {
    "collapsed": true
   },
   "outputs": [],
   "source": [
    "class OpEdReader(object):\n",
    "    def __init__(self,urls=None,columns=None):\n",
    "        if urls is None:\n",
    "            self.urls = set()\n",
    "        if columns is None:\n",
    "            columns = ['first_name','last_name','comment_count','document_type','full_text','like_count','share_count','url']\n",
    "        self.data = pd.DataFrame(columns=columns) # blank\n",
    "        \n",
    "    @classmethod\n",
    "    def init_from_file(self,csvfile):\n",
    "        self.data = pd.read_csv(csvfile)\n",
    "        self.urls = set(self.data['url'])\n",
    "        \n",
    "    def save_oped_articles_one_page(self,page,begindate,author=None,sleeptime=2):\n",
    "        res = {}\n",
    "        articles = self.current_articles_one_page(page,begindate,author=author)\n",
    "        for i, article in enumerate(articles['response']['docs']):\n",
    "            try:\n",
    "                articleinfo = article_info(article)\n",
    "            except:\n",
    "                print(article['web_url'])\n",
    "                print('Fail')\n",
    "            if articleinfo['url'] not in self.urls:\n",
    "                newdf = pd.DataFrame([articleinfo])\n",
    "                self.data = self.data.append(newdf)\n",
    "            time.sleep(sleeptime)\n",
    "    \n",
    "    def current_articles_one_page(self,page,begindate,author=None):\n",
    "        fq = {'news_desk.contains':['OpEd','Editorial'],'document_type':'article'}\n",
    "        if author is not None:\n",
    "            fq['byline'] = author\n",
    "        articles = api.search(fq=fq,begin_date=begindate,page=page)\n",
    "        return articles"
   ]
  },
  {
   "cell_type": "code",
   "execution_count": 388,
   "metadata": {
    "collapsed": false
   },
   "outputs": [],
   "source": [
    "reader = OpEdReader()"
   ]
  },
  {
   "cell_type": "code",
   "execution_count": 355,
   "metadata": {
    "collapsed": true
   },
   "outputs": [],
   "source": [
    "articles = reader.current_articles_one_page(0,'01012016')"
   ]
  },
  {
   "cell_type": "code",
   "execution_count": 395,
   "metadata": {
    "collapsed": true
   },
   "outputs": [],
   "source": [
    "tryart = articles['response']['docs'][4]"
   ]
  },
  {
   "cell_type": "code",
   "execution_count": 394,
   "metadata": {
    "collapsed": false
   },
   "outputs": [
    {
     "name": "stdout",
     "output_type": "stream",
     "text": [
      "http://www.nytimes.com/2016/06/03/opinion/the-right-asian-deal-trans-pacific-partnership.html\n",
      "['first_name', 'last_name', 'full_text', 'url', 'comment_count', 'like_count', 'share_count', 'document_type']\n",
      "http://www.nytimes.com/2016/06/03/opinion/tunisias-new-revolution.html\n",
      "['first_name', 'last_name', 'full_text', 'url', 'comment_count', 'like_count', 'share_count', 'document_type']\n",
      "http://www.nytimes.com/2016/06/02/opinion/a-big-merger-may-flatten-americas-beer-market.html\n",
      "['first_name', 'last_name', 'full_text', 'url', 'comment_count', 'like_count', 'share_count', 'document_type']\n",
      "http://www.nytimes.com/2016/06/02/opinion/building-childrens-brains.html\n",
      "['first_name', 'last_name', 'full_text', 'url', 'comment_count', 'like_count', 'share_count', 'document_type']\n",
      "http://www.nytimes.com/2016/06/02/opinion/hustling-dollars-for-public-health.html\n",
      "http://www.nytimes.com/2016/06/02/opinion/hustling-dollars-for-public-health.html\n",
      "Fail\n",
      "http://www.nytimes.com/2016/06/02/opinion/kansas-schools-victims-of-bad-tax-policy.html\n",
      "http://www.nytimes.com/2016/06/02/opinion/kansas-schools-victims-of-bad-tax-policy.html\n",
      "Fail\n",
      "http://www.nytimes.com/2016/06/02/opinion/the-millions-who-are-just-getting-by.html\n",
      "http://www.nytimes.com/2016/06/02/opinion/the-millions-who-are-just-getting-by.html\n",
      "Fail\n",
      "http://www.nytimes.com/2016/06/02/opinion/campaign-stops/a-chill-wind-blows.html\n",
      "['first_name', 'last_name', 'full_text', 'url', 'comment_count', 'like_count', 'share_count', 'document_type']\n",
      "http://www.nytimes.com/2016/06/02/opinion/tightwad-trump-explodes.html\n",
      "['first_name', 'last_name', 'full_text', 'url', 'comment_count', 'like_count', 'share_count', 'document_type']\n",
      "http://www.nytimes.com/2016/06/02/opinion/campaign-stops/veterans-arent-campaign-props.html\n",
      "['first_name', 'last_name', 'full_text', 'url', 'comment_count', 'like_count', 'share_count', 'document_type']\n"
     ]
    }
   ],
   "source": [
    "reader.save_oped_articles_one_page(0,'01012016')"
   ]
  },
  {
   "cell_type": "code",
   "execution_count": 379,
   "metadata": {
    "collapsed": false
   },
   "outputs": [
    {
     "data": {
      "text/html": [
       "<div>\n",
       "<table border=\"1\" class=\"dataframe\">\n",
       "  <thead>\n",
       "    <tr style=\"text-align: right;\">\n",
       "      <th></th>\n",
       "      <th>columnists</th>\n",
       "      <th>comment_count</th>\n",
       "      <th>document_type</th>\n",
       "      <th>full_text</th>\n",
       "      <th>like_count</th>\n",
       "      <th>share_count</th>\n",
       "      <th>url</th>\n",
       "    </tr>\n",
       "  </thead>\n",
       "  <tbody>\n",
       "    <tr>\n",
       "      <th>0</th>\n",
       "      <td>roger cohen</td>\n",
       "      <td>101</td>\n",
       "      <td>article</td>\n",
       "      <td>HO CHI MINH CITY, Vietnam — An American who ha...</td>\n",
       "      <td>101</td>\n",
       "      <td>98</td>\n",
       "      <td>http://www.nytimes.com/2016/06/03/opinion/the-...</td>\n",
       "    </tr>\n",
       "    <tr>\n",
       "      <th>0</th>\n",
       "      <td>hussein ibish</td>\n",
       "      <td>19</td>\n",
       "      <td>article</td>\n",
       "      <td>TUNIS — “Islamism is dead!” announced Said Fer...</td>\n",
       "      <td>32</td>\n",
       "      <td>60</td>\n",
       "      <td>http://www.nytimes.com/2016/06/03/opinion/tuni...</td>\n",
       "    </tr>\n",
       "    <tr>\n",
       "      <th>0</th>\n",
       "      <td>bob pease</td>\n",
       "      <td>852</td>\n",
       "      <td>article</td>\n",
       "      <td>ANHEUSER BUSCH-INBEV, the world’s largest brew...</td>\n",
       "      <td>1372</td>\n",
       "      <td>1005</td>\n",
       "      <td>http://www.nytimes.com/2016/06/02/opinion/a-bi...</td>\n",
       "    </tr>\n",
       "    <tr>\n",
       "      <th>0</th>\n",
       "      <td>nicholas kristof</td>\n",
       "      <td>340</td>\n",
       "      <td>article</td>\n",
       "      <td>First,  a quiz: What’s the most common “vegeta...</td>\n",
       "      <td>3488</td>\n",
       "      <td>1713</td>\n",
       "      <td>http://www.nytimes.com/2016/06/02/opinion/buil...</td>\n",
       "    </tr>\n",
       "    <tr>\n",
       "      <th>0</th>\n",
       "      <td>NaN</td>\n",
       "      <td>72</td>\n",
       "      <td>article</td>\n",
       "      <td>On Tuesday, a woman infected with the Zika vir...</td>\n",
       "      <td>508</td>\n",
       "      <td>293</td>\n",
       "      <td>http://www.nytimes.com/2016/06/02/opinion/hust...</td>\n",
       "    </tr>\n",
       "    <tr>\n",
       "      <th>0</th>\n",
       "      <td>NaN</td>\n",
       "      <td>755</td>\n",
       "      <td>article</td>\n",
       "      <td>The grand myth of modern Republican politics —...</td>\n",
       "      <td>2274</td>\n",
       "      <td>983</td>\n",
       "      <td>http://www.nytimes.com/2016/06/02/opinion/kans...</td>\n",
       "    </tr>\n",
       "    <tr>\n",
       "      <th>0</th>\n",
       "      <td>NaN</td>\n",
       "      <td>23</td>\n",
       "      <td>article</td>\n",
       "      <td>In the United States, nearly one-third of adul...</td>\n",
       "      <td>95</td>\n",
       "      <td>133</td>\n",
       "      <td>http://www.nytimes.com/2016/06/02/opinion/the-...</td>\n",
       "    </tr>\n",
       "    <tr>\n",
       "      <th>0</th>\n",
       "      <td>NaN</td>\n",
       "      <td>23</td>\n",
       "      <td>article</td>\n",
       "      <td>In the United States, nearly one-third of adul...</td>\n",
       "      <td>95</td>\n",
       "      <td>133</td>\n",
       "      <td>http://www.nytimes.com/2016/06/02/opinion/the-...</td>\n",
       "    </tr>\n",
       "    <tr>\n",
       "      <th>0</th>\n",
       "      <td>gail collins</td>\n",
       "      <td>654</td>\n",
       "      <td>article</td>\n",
       "      <td>Donald Trump has a simple reason for his long ...</td>\n",
       "      <td>2589</td>\n",
       "      <td>1108</td>\n",
       "      <td>http://www.nytimes.com/2016/06/02/opinion/tigh...</td>\n",
       "    </tr>\n",
       "    <tr>\n",
       "      <th>0</th>\n",
       "      <td>nate bethea</td>\n",
       "      <td>439</td>\n",
       "      <td>article</td>\n",
       "      <td>ON Tuesday, Donald J. Trump, the presumptive R...</td>\n",
       "      <td>2368</td>\n",
       "      <td>733</td>\n",
       "      <td>http://www.nytimes.com/2016/06/02/opinion/camp...</td>\n",
       "    </tr>\n",
       "  </tbody>\n",
       "</table>\n",
       "</div>"
      ],
      "text/plain": [
       "         columnists comment_count document_type  \\\n",
       "0       roger cohen           101       article   \n",
       "0     hussein ibish            19       article   \n",
       "0         bob pease           852       article   \n",
       "0  nicholas kristof           340       article   \n",
       "0               NaN            72       article   \n",
       "0               NaN           755       article   \n",
       "0               NaN            23       article   \n",
       "0               NaN            23       article   \n",
       "0      gail collins           654       article   \n",
       "0       nate bethea           439       article   \n",
       "\n",
       "                                           full_text like_count share_count  \\\n",
       "0  HO CHI MINH CITY, Vietnam — An American who ha...        101          98   \n",
       "0  TUNIS — “Islamism is dead!” announced Said Fer...         32          60   \n",
       "0  ANHEUSER BUSCH-INBEV, the world’s largest brew...       1372        1005   \n",
       "0  First,  a quiz: What’s the most common “vegeta...       3488        1713   \n",
       "0  On Tuesday, a woman infected with the Zika vir...        508         293   \n",
       "0  The grand myth of modern Republican politics —...       2274         983   \n",
       "0  In the United States, nearly one-third of adul...         95         133   \n",
       "0  In the United States, nearly one-third of adul...         95         133   \n",
       "0  Donald Trump has a simple reason for his long ...       2589        1108   \n",
       "0  ON Tuesday, Donald J. Trump, the presumptive R...       2368         733   \n",
       "\n",
       "                                                 url  \n",
       "0  http://www.nytimes.com/2016/06/03/opinion/the-...  \n",
       "0  http://www.nytimes.com/2016/06/03/opinion/tuni...  \n",
       "0  http://www.nytimes.com/2016/06/02/opinion/a-bi...  \n",
       "0  http://www.nytimes.com/2016/06/02/opinion/buil...  \n",
       "0  http://www.nytimes.com/2016/06/02/opinion/hust...  \n",
       "0  http://www.nytimes.com/2016/06/02/opinion/kans...  \n",
       "0  http://www.nytimes.com/2016/06/02/opinion/the-...  \n",
       "0  http://www.nytimes.com/2016/06/02/opinion/the-...  \n",
       "0  http://www.nytimes.com/2016/06/02/opinion/tigh...  \n",
       "0  http://www.nytimes.com/2016/06/02/opinion/camp...  "
      ]
     },
     "execution_count": 379,
     "metadata": {},
     "output_type": "execute_result"
    }
   ],
   "source": [
    "reader.data"
   ]
  },
  {
   "cell_type": "code",
   "execution_count": null,
   "metadata": {
    "collapsed": true
   },
   "outputs": [],
   "source": []
  }
 ],
 "metadata": {
  "kernelspec": {
   "display_name": "Python 2",
   "language": "python",
   "name": "python2"
  },
  "language_info": {
   "codemirror_mode": {
    "name": "ipython",
    "version": 2
   },
   "file_extension": ".py",
   "mimetype": "text/x-python",
   "name": "python",
   "nbconvert_exporter": "python",
   "pygments_lexer": "ipython2",
   "version": "2.7.11"
  }
 },
 "nbformat": 4,
 "nbformat_minor": 0
}
