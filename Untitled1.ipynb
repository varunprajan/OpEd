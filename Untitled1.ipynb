{
 "cells": [
  {
   "cell_type": "code",
   "execution_count": 141,
   "metadata": {
    "collapsed": false
   },
   "outputs": [],
   "source": [
    "import urllib2\n",
    "from bs4 import BeautifulSoup\n",
    "import re\n",
    "import nytimesarticle as nyta\n",
    "import urllib2\n",
    "import requests\n",
    "import csv\n",
    "import time\n",
    "import pandas as pd"
   ]
  },
  {
   "cell_type": "code",
   "execution_count": 140,
   "metadata": {
    "collapsed": false
   },
   "outputs": [
    {
     "data": {
      "text/plain": [
       "False"
      ]
     },
     "execution_count": 140,
     "metadata": {},
     "output_type": "execute_result"
    }
   ],
   "source": [
    "a = set()\n",
    "2 in a"
   ]
  },
  {
   "cell_type": "code",
   "execution_count": 151,
   "metadata": {
    "collapsed": false
   },
   "outputs": [
    {
     "data": {
      "text/html": [
       "<div>\n",
       "<table border=\"1\" class=\"dataframe\">\n",
       "  <thead>\n",
       "    <tr style=\"text-align: right;\">\n",
       "      <th></th>\n",
       "      <th>a</th>\n",
       "      <th>b</th>\n",
       "    </tr>\n",
       "  </thead>\n",
       "  <tbody>\n",
       "    <tr>\n",
       "      <th>0</th>\n",
       "      <td>2</td>\n",
       "      <td>4</td>\n",
       "    </tr>\n",
       "  </tbody>\n",
       "</table>\n",
       "</div>"
      ],
      "text/plain": [
       "   a  b\n",
       "0  2  4"
      ]
     },
     "execution_count": 151,
     "metadata": {},
     "output_type": "execute_result"
    }
   ],
   "source": [
    "df = pd.DataFrame({'a': 2, 'b': 4},columns = ['a','b'],index=[0])\n",
    "df2 = pd.DataFrame({'a': 3, 'b': 7},columns = ['a','b'],index=[1])\n",
    "df.append(df2)\n",
    "df"
   ]
  },
  {
   "cell_type": "code",
   "execution_count": 152,
   "metadata": {
    "collapsed": true
   },
   "outputs": [],
   "source": [
    "df = pd.DataFrame([[1, 2], [3, 4]], columns=list('AB'))\n",
    "df2 = pd.DataFrame([[5, 6], [7, 8]], columns=list('AB'))"
   ]
  },
  {
   "cell_type": "code",
   "execution_count": null,
   "metadata": {
    "collapsed": true
   },
   "outputs": [],
   "source": [
    "class Reader(object):\n",
    "    def __init__(self,urls=None,columns=None):\n",
    "        if urls is None:\n",
    "            self.urls = set()\n",
    "        if columns is None:\n",
    "            self.columns = ['columnists','comment_count','document_type','full_text','like_count','share_count']\n",
    "        self.data = df()\n",
    "        \n",
    "    @classmethod\n",
    "    def init_from_file(self,csvfile):\n",
    "        dataset = pd.read_csv(csvfile)"
   ]
  },
  {
   "cell_type": "code",
   "execution_count": null,
   "metadata": {
    "collapsed": true
   },
   "outputs": [],
   "source": []
  },
  {
   "cell_type": "code",
   "execution_count": 47,
   "metadata": {
    "collapsed": true
   },
   "outputs": [],
   "source": [
    "from nytimesarticle import articleAPI\n",
    "apikey = '56d7a05e3e8641c5baadd1b21b58ec05'\n",
    "api = articleAPI(apikey)"
   ]
  },
  {
   "cell_type": "code",
   "execution_count": 60,
   "metadata": {
    "collapsed": false
   },
   "outputs": [],
   "source": [
    "def yield_oped_articles_one_page(page,begindate,author=None):\n",
    "    fq = {'news_desk.contains':['OpEd','Editorial']}\n",
    "    if author is not None:\n",
    "        fq['byline'] = author\n",
    "    articles = api.search(fq=fq,begin_date=begindate,page=page)\n",
    "    for article in articles['response']['docs']:\n",
    "        yield article"
   ]
  },
  {
   "cell_type": "code",
   "execution_count": 131,
   "metadata": {
    "collapsed": true
   },
   "outputs": [],
   "source": [
    "def save_oped_articles_one_page(page,begindate,author=None,sleeptime=10):\n",
    "    res = {}\n",
    "    for article in yield_oped_articles_one_page(page,begindate,author=None):\n",
    "        articleinfo = article_info(article) \n",
    "        if res:\n",
    "            res = articleinfo\n",
    "        else:\n",
    "            for key, val in res.items():\n",
    "                newval = articleinfo[key]\n",
    "                val.append(newval)\n",
    "        time.sleep(sleeptime)\n",
    "    return res"
   ]
  },
  {
   "cell_type": "code",
   "execution_count": 132,
   "metadata": {
    "collapsed": true
   },
   "outputs": [],
   "source": [
    "res = article_info(articlerand)"
   ]
  },
  {
   "cell_type": "code",
   "execution_count": 157,
   "metadata": {
    "collapsed": false
   },
   "outputs": [
    {
     "data": {
      "text/plain": [
       "{'columnists': [(u'roger', u'cohen')],\n",
       " 'comment_count': u'61',\n",
       " 'document_type': u'article',\n",
       " 'full_text': u'HO CHI MINH CITY, Vietnam \\u2014 An American who has been a resident here for a few years said to me the other day: \\u201cYou know, they still look at us here the way we want to be looked at. America equals opportunity, entrepreneurship and success. That\\u2019s not true in so many places anymore.\\u201d Four decades after the war, in one of the world\\u2019s consoling mysteries, the United States enjoys an  The best way to kick Vietnamese aspirations in the teeth, turn the country sour on the United States, and undermine the stabilizing American role in Asia, would be for Congress to fail to ratify the  If T.P.P. falls apart, China wins. It\\u2019s as simple as that. Nonratification would signal that Beijing gets to dictate policy in the region, and the attempt to integrate Vietnam comprehensively in a rules-based international economy fails. Obama\\u2019s decision to spend so much time here was an indication of the importance he attaches to this cornerstone of his so-called Asia \\u201c But such long-term transformations, pulling hundreds of millions out of poverty in Asia, are not the stuff of an American election characterized by anger above all. Among the popular one-liners is this: International trade deals  The trade agreement \\u2014 with countries including Peru, Mexico, Australia, New Zealand, Canada and Malaysia \\u2014 has flaws, of course. There are issues it does not address, like  The Obama administration has acknowledged that some manufacturing and low-skilled jobs will be lost, but argued this will be offset by job growth in higher-wage, export-reliant industries. The Peterson Institute for International Economics, in  What the agreement will do, as Clinton noted when she backed the deal, is deliver \\u201cbetter jobs with higher wages and safer working conditions, including for women, migrant workers and others.\\u201d It obliges countries like Vietnam to allow workers to form independent unions; it requires a minimum wage and higher health standards; it bans  At a time when  To which, all Donald Trump has to say in  China and India, of course, are not part of the Trans-Pacific Partnership. As for Clinton, she believed in 2012 that the T.P.P. \\u201csets the gold standard in trade agreements,\\u201d before deciding  Developed economies face huge problems that have produced this season of rage. But the world has enjoyed growing prosperity over decades because of continuously reduced trade barriers. A reversal would be the road to conflict. Like the best trade accords, the Trans-Pacific Partnership is also a strategic boost to liberty and stability in the fastest-growing part of the globe. Congress should resist populist ranting and ratify it.',\n",
       " 'like_count': u'75',\n",
       " 'share_count': u'66'}"
      ]
     },
     "execution_count": 157,
     "metadata": {},
     "output_type": "execute_result"
    }
   ],
   "source": [
    "res"
   ]
  },
  {
   "cell_type": "code",
   "execution_count": 137,
   "metadata": {
    "collapsed": false
   },
   "outputs": [
    {
     "data": {
      "text/plain": [
       "{u'_id': u'57500c9e79881043a5b56ce8',\n",
       " u'abstract': None,\n",
       " u'blog': [],\n",
       " u'byline': {u'original': u'By ROGER COHEN',\n",
       "  u'person': [{u'firstname': u'Roger',\n",
       "    u'lastname': u'COHEN',\n",
       "    u'organization': u'',\n",
       "    u'rank': 1,\n",
       "    u'role': u'reported'}]},\n",
       " u'document_type': u'article',\n",
       " u'headline': {u'content_kicker': u'Op-Ed Columnist',\n",
       "  u'kicker': u'Op-Ed Columnist',\n",
       "  u'main': u'The Right Asian Deal',\n",
       "  u'print_headline': u'The Right Asian Deal'},\n",
       " u'keywords': [{u'is_major': u'N',\n",
       "   u'name': u'subject',\n",
       "   u'rank': u'1',\n",
       "   u'value': u'Economic Conditions and Trends'},\n",
       "  {u'is_major': u'N',\n",
       "   u'name': u'subject',\n",
       "   u'rank': u'2',\n",
       "   u'value': u'Trans-Pacific Partnership'},\n",
       "  {u'is_major': u'N',\n",
       "   u'name': u'subject',\n",
       "   u'rank': u'3',\n",
       "   u'value': u'Labor and Jobs'},\n",
       "  {u'is_major': u'N',\n",
       "   u'name': u'glocations',\n",
       "   u'rank': u'4',\n",
       "   u'value': u'Vietnam'},\n",
       "  {u'is_major': u'N',\n",
       "   u'name': u'subject',\n",
       "   u'rank': u'5',\n",
       "   u'value': u'International Trade and World Market'}],\n",
       " u'lead_paragraph': u'Congress should ratify the Trans-Pacific Partnership. Its failure would be a big victory for China.',\n",
       " u'multimedia': [{u'height': 126,\n",
       "   u'legacy': {u'wide': u'images/2014/11/01/opinion/cohen-circular/cohen-circular-thumbWide-v2.png',\n",
       "    u'wideheight': u'126',\n",
       "    u'widewidth': u'190'},\n",
       "   u'subtype': u'wide',\n",
       "   u'type': u'image',\n",
       "   u'url': u'images/2014/11/01/opinion/cohen-circular/cohen-circular-thumbWide-v2.png',\n",
       "   u'width': 190},\n",
       "  {u'height': 75,\n",
       "   u'legacy': {u'thumbnail': u'images/2014/11/01/opinion/cohen-circular/cohen-circular-thumbStandard-v2.png',\n",
       "    u'thumbnailheight': u'75',\n",
       "    u'thumbnailwidth': u'75'},\n",
       "   u'subtype': u'thumbnail',\n",
       "   u'type': u'image',\n",
       "   u'url': u'images/2014/11/01/opinion/cohen-circular/cohen-circular-thumbStandard-v2.png',\n",
       "   u'width': 75}],\n",
       " u'news_desk': u'Editorial',\n",
       " u'print_page': None,\n",
       " u'pub_date': u'2016-06-03T00:30:00Z',\n",
       " u'section_name': u'Opinion',\n",
       " u'slideshow_credits': None,\n",
       " u'snippet': u'Congress should ratify the Trans-Pacific Partnership. Its failure would be a big victory for China.',\n",
       " u'source': u'The New York Times',\n",
       " u'subsection_name': None,\n",
       " u'type_of_material': u'Op-Ed',\n",
       " u'web_url': u'http://www.nytimes.com/2016/06/03/opinion/the-right-asian-deal-trans-pacific-partnership.html',\n",
       " u'word_count': u'828'}"
      ]
     },
     "execution_count": 137,
     "metadata": {},
     "output_type": "execute_result"
    }
   ],
   "source": [
    "articlerand"
   ]
  },
  {
   "cell_type": "code",
   "execution_count": 133,
   "metadata": {
    "collapsed": false
   },
   "outputs": [
    {
     "data": {
      "text/plain": [
       "u'WASHINGTON \\u2014 HILLARY CLINTON is the Democratic nominee. Really. Just ask her. She should have been able to finally savor shattering that \\u201chighest, hardest glass ceiling\\u201d \\u2014 the one she gloried in putting 18 million cracks in last time around \\u2014 when she attends her convention in Philadelphia in July. Instead, she is reduced to stomping her feet on CNN, asserting her dominance in a contest that has left her looking anything but dominant. Once more attempting to shake off the old socialist dude hammering her with a sickle, Clinton insisted to Chris Cuomo on Thursday: \\u201cI will be the nominee for my party, Chris. That is already done, in effect. There is no way that I won\\u2019t be.\\u201d It\\u2019s a vexing time for the Clintons. As Bill told a crowd in Fargo, N.D., on Friday, it\\u2019s been an \\u201cinteresting\\u201d year: \\u201cThat\\u2019s the most neutral word I can think of.\\u201d After all, why should Bernie Sanders get to be the Democratic nominee when he isn\\u2019t even a Democrat? And how is Donald Trump going to be the Republican nominee when he considers being a Republican merely a starting bid? It must be hard for Hillary to look at all the pictures of young women swooning over Bernie as though he were Bieber. She assumed that the fix was in, that she and the D.N.C. had arranged for the coronation that she felt she was robbed of in the tulip craze of 2008. Everyone just laughed when Sanders, a cranky loner from Vermont with a nondescript Senate record, decided to challenge Queen Hillary. Clinton and her aides intoned \\u2014 wink, wink \\u2014 that it would be healthy to have a primary fight with Sanders and Martin O\\u2019Malley. But Bernie became the surprise belle of his side\\u2019s revolutionary ball. And now he has gotten a taste of it and he likes it and he won\\u2019t let it go. He\\u2019s bedeviling the daylight out of Hillary. Hillary and her allies are spinning a narrative that Bernie is less loyal to the Democratic cause than she was with Obama. And Trump does delight in quoting Bernie\\u2019s contention that Hillary lacks the judgment to be president. On Friday, when he accepted the endorsement of the N.R.A. at its convention, Trump mischievously urged Sanders to run as a third-party candidate and said he would love to have a debate with both Hillary and Bernie onstage. Hillary says Sanders needs to \\u201cdo his part\\u201d to unify the party, as she did in 2008. But even on the day of the last primaries in that race, when she was the one who was mathematically eliminated unless the superdelegates turned, she came onstage to Terry McAuliffe heralding her as \\u201cthe next president of the United States.\\u201d She then touted having more votes than any primary candidate in history as her fans cheered \\u201cYes, she will!\\u201d and \\u201cDenver!\\u201d Seeing Trump\\u2019s soaring negatives, Sanders thinks, if he could just get past Hillary, he could actually be president. The Bernie bro violence \\u2014 chair throwing, sexist name-calling and feral threats \\u2014 at the Nevada state party convention last weekend was denounced as \\u201ca scary situation\\u201d by his Senate colleague Barbara Boxer. Sanders condemned the violence while stoking the outrage, urging the Democratic Party to \\u201copen the doors, let the people in.\\u201d He flashed a bit of Trump, so sure in his belief that the system is rigged that he fed off the nasty energy. Boxer had to call Sanders several times before he called back. She and other Democratic Senate women are fed up with his crusade, feeling enough is enough. I\\u2019ve talked to several former Clinton and Obama White House aides who don\\u2019t enjoy checking in with the joyless Clinton campaign in Brooklyn. \\u201cIt\\u2019s the Bataan Death March,\\u201d one says. Hopeful acceptance of Hillary has shifted to amazed disbelief that she can\\u2019t put away Bernie. Given dynasty fatigue and Hillary\\u2019s age, many Democrats assumed that their front-runner would come out of the gate with a vision for the future that gave her campaign a fresh hue, instead of white papers tinkering around the edges. She should have been far over her husband\\u2019s bridge to the 21st century and way down the highway by now. Instead, her big new idea is to put Bill in charge of the economy again (hopefully, with less Wall Street deregulation). Again with the two for the price of one. And please don\\u2019t deny us the pleasure of seeing Bill choose the china patterns. Hillary\\u2019s Bataan Death March is making Republicans reconsider their own suicide mission with Trump. More are looking at Clinton\\u2019s inability to get the flashing lights going like her husband, and thinking:  The 2016 race is transcendentally bizarre. We have two near-nominees with the highest unfavorables at this point in the race of any in modern history. We seem to have a majority of voters in both parties who are driven by the desire to vote against the other candidate, rather than for their own. Debbie Wasserman Schultz tries to herd young women to Hillary by raising the specter of Roe v. Wade being overturned. And former Pennsylvania Gov. Ed Rendell said Trump\\u2019s obsession with \\u201c10s\\u201d and D-cups would \\u201ccome back to haunt him\\u2019 Hillary can\\u2019t generate excitement on her own so she is relying on fear of Trump to get her into the White House. And Trump is relying on fear of everything to get him into the White House. So voters are stuck in the muck of the negative: What are you most afraid of?'"
      ]
     },
     "execution_count": 133,
     "metadata": {},
     "output_type": "execute_result"
    }
   ],
   "source": [
    "res"
   ]
  },
  {
   "cell_type": "code",
   "execution_count": 111,
   "metadata": {
    "collapsed": false
   },
   "outputs": [],
   "source": [
    "articlerand = next(yield_oped_articles_one_page(0,'11052015'))"
   ]
  },
  {
   "cell_type": "code",
   "execution_count": null,
   "metadata": {
    "collapsed": true
   },
   "outputs": [],
   "source": [
    "articlerand2 = next(next(yield_oped_articles_one_page(0,'11052015')))"
   ]
  },
  {
   "cell_type": "code",
   "execution_count": 135,
   "metadata": {
    "collapsed": true
   },
   "outputs": [],
   "source": [
    "res = article_info(articlerand)"
   ]
  },
  {
   "cell_type": "code",
   "execution_count": 135,
   "metadata": {
    "collapsed": true
   },
   "outputs": [],
   "source": [
    "res2 = article_info(articlerand)"
   ]
  },
  {
   "cell_type": "code",
   "execution_count": 136,
   "metadata": {
    "collapsed": false
   },
   "outputs": [
    {
     "data": {
      "text/plain": [
       "{'columnists': [(u'roger', u'cohen')],\n",
       " 'comment_count': u'61',\n",
       " 'document_type': u'article',\n",
       " 'full_text': u'HO CHI MINH CITY, Vietnam \\u2014 An American who has been a resident here for a few years said to me the other day: \\u201cYou know, they still look at us here the way we want to be looked at. America equals opportunity, entrepreneurship and success. That\\u2019s not true in so many places anymore.\\u201d Four decades after the war, in one of the world\\u2019s consoling mysteries, the United States enjoys an  The best way to kick Vietnamese aspirations in the teeth, turn the country sour on the United States, and undermine the stabilizing American role in Asia, would be for Congress to fail to ratify the  If T.P.P. falls apart, China wins. It\\u2019s as simple as that. Nonratification would signal that Beijing gets to dictate policy in the region, and the attempt to integrate Vietnam comprehensively in a rules-based international economy fails. Obama\\u2019s decision to spend so much time here was an indication of the importance he attaches to this cornerstone of his so-called Asia \\u201c But such long-term transformations, pulling hundreds of millions out of poverty in Asia, are not the stuff of an American election characterized by anger above all. Among the popular one-liners is this: International trade deals  The trade agreement \\u2014 with countries including Peru, Mexico, Australia, New Zealand, Canada and Malaysia \\u2014 has flaws, of course. There are issues it does not address, like  The Obama administration has acknowledged that some manufacturing and low-skilled jobs will be lost, but argued this will be offset by job growth in higher-wage, export-reliant industries. The Peterson Institute for International Economics, in  What the agreement will do, as Clinton noted when she backed the deal, is deliver \\u201cbetter jobs with higher wages and safer working conditions, including for women, migrant workers and others.\\u201d It obliges countries like Vietnam to allow workers to form independent unions; it requires a minimum wage and higher health standards; it bans  At a time when  To which, all Donald Trump has to say in  China and India, of course, are not part of the Trans-Pacific Partnership. As for Clinton, she believed in 2012 that the T.P.P. \\u201csets the gold standard in trade agreements,\\u201d before deciding  Developed economies face huge problems that have produced this season of rage. But the world has enjoyed growing prosperity over decades because of continuously reduced trade barriers. A reversal would be the road to conflict. Like the best trade accords, the Trans-Pacific Partnership is also a strategic boost to liberty and stability in the fastest-growing part of the globe. Congress should resist populist ranting and ratify it.',\n",
       " 'like_count': u'75',\n",
       " 'share_count': u'66'}"
      ]
     },
     "execution_count": 136,
     "metadata": {},
     "output_type": "execute_result"
    }
   ],
   "source": [
    "res"
   ]
  },
  {
   "cell_type": "code",
   "execution_count": null,
   "metadata": {
    "collapsed": true
   },
   "outputs": [],
   "source": [
    "b = open('test.csv', 'wa')\n",
    "a = csv.writer(b)\n",
    "a.writerow()"
   ]
  },
  {
   "cell_type": "code",
   "execution_count": 117,
   "metadata": {
    "collapsed": false
   },
   "outputs": [
    {
     "data": {
      "text/plain": [
       "'http://www.nytimes.com/2016/05/22/opinion/sunday/weakend-at-bernies.html'"
      ]
     },
     "execution_count": 117,
     "metadata": {},
     "output_type": "execute_result"
    }
   ],
   "source": [
    "url"
   ]
  },
  {
   "cell_type": "code",
   "execution_count": 127,
   "metadata": {
    "collapsed": false
   },
   "outputs": [],
   "source": [
    "res = url_full_text(url)"
   ]
  },
  {
   "cell_type": "code",
   "execution_count": 128,
   "metadata": {
    "collapsed": false
   },
   "outputs": [
    {
     "name": "stdout",
     "output_type": "stream",
     "text": [
      "WASHINGTON — HILLARY CLINTON is the Democratic nominee. Really. Just ask her. She should have been able to finally savor shattering that “highest, hardest glass ceiling” — the one she gloried in putting 18 million cracks in last time around — when she attends her convention in Philadelphia in July. Instead, she is reduced to stomping her feet on CNN, asserting her dominance in a contest that has left her looking anything but dominant. Once more attempting to shake off the old socialist dude hammering her with a sickle, Clinton insisted to Chris Cuomo on Thursday: “I will be the nominee for my party, Chris. That is already done, in effect. There is no way that I won’t be.” It’s a vexing time for the Clintons. As Bill told a crowd in Fargo, N.D., on Friday, it’s been an “interesting” year: “That’s the most neutral word I can think of.” After all, why should Bernie Sanders get to be the Democratic nominee when he isn’t even a Democrat? And how is Donald Trump going to be the Republican nominee when he considers being a Republican merely a starting bid? It must be hard for Hillary to look at all the pictures of young women swooning over Bernie as though he were Bieber. She assumed that the fix was in, that she and the D.N.C. had arranged for the coronation that she felt she was robbed of in the tulip craze of 2008. Everyone just laughed when Sanders, a cranky loner from Vermont with a nondescript Senate record, decided to challenge Queen Hillary. Clinton and her aides intoned — wink, wink — that it would be healthy to have a primary fight with Sanders and Martin O’Malley. But Bernie became the surprise belle of his side’s revolutionary ball. And now he has gotten a taste of it and he likes it and he won’t let it go. He’s bedeviling the daylight out of Hillary. Hillary and her allies are spinning a narrative that Bernie is less loyal to the Democratic cause than she was with Obama. And Trump does delight in quoting Bernie’s contention that Hillary lacks the judgment to be president. On Friday, when he accepted the endorsement of the N.R.A. at its convention, Trump mischievously urged Sanders to run as a third-party candidate and said he would love to have a debate with both Hillary and Bernie onstage. Hillary says Sanders needs to “do his part” to unify the party, as she did in 2008. But even on the day of the last primaries in that race, when she was the one who was mathematically eliminated unless the superdelegates turned, she came onstage to Terry McAuliffe heralding her as “the next president of the United States.” She then touted having more votes than any primary candidate in history as her fans cheered “Yes, she will!” and “Denver!” Seeing Trump’s soaring negatives, Sanders thinks, if he could just get past Hillary, he could actually be president. The Bernie bro violence — chair throwing, sexist name-calling and feral threats — at the Nevada state party convention last weekend was denounced as “a scary situation” by his Senate colleague Barbara Boxer. Sanders condemned the violence while stoking the outrage, urging the Democratic Party to “open the doors, let the people in.” He flashed a bit of Trump, so sure in his belief that the system is rigged that he fed off the nasty energy. Boxer had to call Sanders several times before he called back. She and other Democratic Senate women are fed up with his crusade, feeling enough is enough. I’ve talked to several former Clinton and Obama White House aides who don’t enjoy checking in with the joyless Clinton campaign in Brooklyn. “It’s the Bataan Death March,” one says. Hopeful acceptance of Hillary has shifted to amazed disbelief that she can’t put away Bernie. Given dynasty fatigue and Hillary’s age, many Democrats assumed that their front-runner would come out of the gate with a vision for the future that gave her campaign a fresh hue, instead of white papers tinkering around the edges. She should have been far over her husband’s bridge to the 21st century and way down the highway by now. Instead, her big new idea is to put Bill in charge of the economy again (hopefully, with less Wall Street deregulation). Again with the two for the price of one. And please don’t deny us the pleasure of seeing Bill choose the china patterns. Hillary’s Bataan Death March is making Republicans reconsider their own suicide mission with Trump. More are looking at Clinton’s inability to get the flashing lights going like her husband, and thinking:  The 2016 race is transcendentally bizarre. We have two near-nominees with the highest unfavorables at this point in the race of any in modern history. We seem to have a majority of voters in both parties who are driven by the desire to vote against the other candidate, rather than for their own. Debbie Wasserman Schultz tries to herd young women to Hillary by raising the specter of Roe v. Wade being overturned. And former Pennsylvania Gov. Ed Rendell said Trump’s obsession with “10s” and D-cups would “come back to haunt him’ Hillary can’t generate excitement on her own so she is relying on fear of Trump to get her into the White House. And Trump is relying on fear of everything to get him into the White House. So voters are stuck in the muck of the negative: What are you most afraid of?\n"
     ]
    }
   ],
   "source": [
    "print(res)"
   ]
  },
  {
   "cell_type": "code",
   "execution_count": 134,
   "metadata": {
    "collapsed": false
   },
   "outputs": [],
   "source": [
    "def article_info(article):\n",
    "    url = article['web_url']\n",
    "    res = url_counts(url) # dependent variable ('hype')\n",
    "    res['columnists'] = article_columnists(article) \n",
    "    res['document_type'] = article['document_type']\n",
    "    res['full_text'] = url_full_text(url)\n",
    "    return res\n",
    "\n",
    "def article_keywords(article):\n",
    "    def keywords():\n",
    "        for keyword in article['keywords']:\n",
    "            yield keyword['value'].lower()\n",
    "    return list(keywords())\n",
    "    \n",
    "def article_columnists(article):\n",
    "    def person_names():\n",
    "        for person in article['byline']['person']:\n",
    "            yield person['firstname'].lower(), person['lastname'].lower()\n",
    "    return list(person_names())\n",
    "\n",
    "def url_full_text(url):\n",
    "    soup = soupify_url(url)\n",
    "    return ' '.join(yield_par_from_soup(soup))\n",
    "    \n",
    "def yield_par_from_soup(soup,classtag='story-body-text story-content'):\n",
    "    paragraphs = soup.findAll('p',{'class':classtag})\n",
    "    for par in paragraphs:\n",
    "        yield par.contents[0]\n",
    "        \n",
    "def soupify_url(url):\n",
    "    opener = urllib2.build_opener(urllib2.HTTPCookieProcessor())\n",
    "    response = opener.open(url)\n",
    "    return BeautifulSoup(response.read(),'lxml')\n",
    "    \n",
    "def url_counts(url):\n",
    "    apiurl = 'http://api.facebook.com/restserver.php?method=links.getStats&urls={0}'.format(url)\n",
    "    r = requests.get(apiurl)\n",
    "    soup = BeautifulSoup(r.text,'xml')\n",
    "    def yield_count():\n",
    "        for attr in ['share_count','like_count','comment_count']:\n",
    "            taggedinfo = getattr(soup,attr)\n",
    "            yield attr, taggedinfo.contents[0]\n",
    "    return dict(yield_count())"
   ]
  },
  {
   "cell_type": "code",
   "execution_count": 87,
   "metadata": {
    "collapsed": false
   },
   "outputs": [
    {
     "data": {
      "text/plain": [
       "'http://www.nytimes.com/2016/05/22/opinion/sunday/weakend-at-bernies.html'"
      ]
     },
     "execution_count": 87,
     "metadata": {},
     "output_type": "execute_result"
    }
   ],
   "source": [
    "url"
   ]
  },
  {
   "cell_type": "code",
   "execution_count": 94,
   "metadata": {
    "collapsed": false
   },
   "outputs": [
    {
     "ename": "NameError",
     "evalue": "name 'url_counts' is not defined",
     "output_type": "error",
     "traceback": [
      "\u001b[1;31m---------------------------------------------------------------------------\u001b[0m",
      "\u001b[1;31mNameError\u001b[0m                                 Traceback (most recent call last)",
      "\u001b[1;32m<ipython-input-94-e3eb63f0d622>\u001b[0m in \u001b[0;36m<module>\u001b[1;34m()\u001b[0m\n\u001b[1;32m----> 1\u001b[1;33m \u001b[0murl_counts\u001b[0m\u001b[1;33m(\u001b[0m\u001b[0murl\u001b[0m\u001b[1;33m)\u001b[0m\u001b[1;33m\u001b[0m\u001b[0m\n\u001b[0m",
      "\u001b[1;31mNameError\u001b[0m: name 'url_counts' is not defined"
     ]
    }
   ],
   "source": [
    "url_counts(url)"
   ]
  },
  {
   "cell_type": "code",
   "execution_count": 63,
   "metadata": {
    "collapsed": true
   },
   "outputs": [],
   "source": [
    "url = 'http://www.nytimes.com/2016/05/22/opinion/sunday/weakend-at-bernies.html'"
   ]
  },
  {
   "cell_type": "code",
   "execution_count": 61,
   "metadata": {
    "collapsed": true
   },
   "outputs": [],
   "source": [
    "article1 = next(yield_oped_articles_one_page(45,20100101))"
   ]
  },
  {
   "cell_type": "code",
   "execution_count": 149,
   "metadata": {
    "collapsed": false
   },
   "outputs": [
    {
     "name": "stdout",
     "output_type": "stream",
     "text": [
      "{u'keywords': [{u'value': u'Benedict XVI', u'is_major': u'N', u'rank': u'1', u'name': u'persons'}, {u'value': u'Child Abuse and Neglect', u'is_major': u'N', u'rank': u'2', u'name': u'subject'}, {u'value': u'Roman Catholic Church', u'is_major': u'N', u'rank': u'3', u'name': u'organizations'}, {u'value': u'Cardinals (Roman Catholic Prelates)', u'is_major': u'N', u'rank': u'4', u'name': u'subject'}, {u'value': u'Sex Crimes', u'is_major': u'N', u'rank': u'5', u'name': u'subject'}, {u'value': u'Hullermann, Peter', u'is_major': u'N', u'rank': u'6', u'name': u'persons'}, {u'value': u'Murphy, Lawrence C', u'is_major': u'N', u'rank': u'7', u'name': u'persons'}, {u'value': u'Dolan, Timothy M', u'is_major': u'N', u'rank': u'8', u'name': u'persons'}, {u'value': u'Donohue, Bill', u'is_major': u'N', u'rank': u'9', u'name': u'persons'}], u'byline': {u'person': [{u'organization': u'', u'role': u'reported', u'rank': 1, u'firstname': u'Maureen', u'lastname': u'DOWD'}], u'original': u'By MAUREEN DOWD'}, u'web_url': u'http://www.nytimes.com/2010/03/31/opinion/31dowd.html'}\n"
     ]
    }
   ],
   "source": [
    "for i in range(1):\n",
    "    print(next(yield_oped_articles_one_page('Maureen Dowd',45,20100101)))"
   ]
  },
  {
   "cell_type": "code",
   "execution_count": 111,
   "metadata": {
    "collapsed": false,
    "scrolled": true
   },
   "outputs": [],
   "source": [
    "urllist = list(yield_oped_urls_one_page_2('Maureen Dowd',45,20100101))"
   ]
  },
  {
   "cell_type": "code",
   "execution_count": null,
   "metadata": {
    "collapsed": true
   },
   "outputs": [],
   "source": []
  },
  {
   "cell_type": "code",
   "execution_count": 122,
   "metadata": {
    "collapsed": false
   },
   "outputs": [],
   "source": [
    "soupify_url(url)"
   ]
  },
  {
   "cell_type": "code",
   "execution_count": 121,
   "metadata": {
    "collapsed": false
   },
   "outputs": [],
   "source": []
  },
  {
   "cell_type": "code",
   "execution_count": 138,
   "metadata": {
    "collapsed": false
   },
   "outputs": [],
   "source": [
    "def yield_par_from_soup(soup,classtag='story-body-text story-content'):\n",
    "    paragraphs = soup.findAll('p',{'class':classtag})\n",
    "    for par in paragraphs:\n",
    "        yield par.contents[0]"
   ]
  },
  {
   "cell_type": "code",
   "execution_count": 119,
   "metadata": {
    "collapsed": false,
    "scrolled": true
   },
   "outputs": [],
   "source": [
    "for par in yield_par_from_soup(soup):\n",
    "    print(par)"
   ]
  },
  {
   "cell_type": "code",
   "execution_count": 107,
   "metadata": {
    "collapsed": false,
    "scrolled": true
   },
   "outputs": [
    {
     "data": {
      "text/plain": [
       "{u'_id': u'5418062579881018c379048b',\n",
       " u'abstract': None,\n",
       " u'blog': [],\n",
       " u'byline': {u'contributor': u'',\n",
       "  u'original': u'By MAUREEN DOWD',\n",
       "  u'person': [{u'firstname': u'Maureen',\n",
       "    u'lastname': u'DOWD',\n",
       "    u'organization': u'',\n",
       "    u'rank': 1,\n",
       "    u'role': u'reported'}]},\n",
       " u'document_type': u'article',\n",
       " u'headline': {u'content_kicker': u'Op-Ed Columnist',\n",
       "  u'main': u'A Split-Screen Tale of Two Generals',\n",
       "  u'print_headline': u'A Split-Screen Tale of Two Generals',\n",
       "  u'seo': u'A Split-Screen Tale of Two Generals'},\n",
       " u'keywords': [{u'is_major': u'N',\n",
       "   u'name': u'persons',\n",
       "   u'rank': u'1',\n",
       "   u'value': u'Petraeus, David H'},\n",
       "  {u'is_major': u'N',\n",
       "   u'name': u'persons',\n",
       "   u'rank': u'2',\n",
       "   u'value': u'Obama, Barack'},\n",
       "  {u'is_major': u'N',\n",
       "   u'name': u'organizations',\n",
       "   u'rank': u'3',\n",
       "   u'value': u'Senate Committee on Armed Services'},\n",
       "  {u'is_major': u'N',\n",
       "   u'name': u'persons',\n",
       "   u'rank': u'4',\n",
       "   u'value': u'Kagan, Elena'}],\n",
       " u'lead_paragraph': u'Can General Petraeus prove respect for the civilians? Can General Kagan prove respect for the military?',\n",
       " u'multimedia': [{u'height': 126,\n",
       "   u'legacy': {u'wide': u'images/2014/11/01/opinion/dowd-circular/dowd-circular-thumbWide-v2.png',\n",
       "    u'wideheight': u'126',\n",
       "    u'widewidth': u'190'},\n",
       "   u'subtype': u'wide',\n",
       "   u'type': u'image',\n",
       "   u'url': u'images/2014/11/01/opinion/dowd-circular/dowd-circular-thumbWide-v2.png',\n",
       "   u'width': 190},\n",
       "  {u'height': 75,\n",
       "   u'legacy': {u'thumbnail': u'images/2006/05/30/opinion/dowd-ts-75.jpg',\n",
       "    u'thumbnailheight': u'75',\n",
       "    u'thumbnailwidth': u'75'},\n",
       "   u'subtype': u'thumbnail',\n",
       "   u'type': u'image',\n",
       "   u'url': u'images/2006/05/30/opinion/dowd-ts-75.jpg',\n",
       "   u'width': 75}],\n",
       " u'news_desk': u'Editorial',\n",
       " u'print_page': u'31',\n",
       " u'pub_date': u'2010-06-30T00:00:00Z',\n",
       " u'section_name': u'Opinion',\n",
       " u'slideshow_credits': None,\n",
       " u'snippet': u'Can General Petraeus prove respect for the civilians? Can General Kagan prove respect for the military?',\n",
       " u'source': u'The New York Times',\n",
       " u'subsection_name': None,\n",
       " u'type_of_material': u'Op-Ed',\n",
       " u'web_url': u'http://www.nytimes.com/2010/06/30/opinion/30dowd.html',\n",
       " u'word_count': u'832'}"
      ]
     },
     "execution_count": 107,
     "metadata": {},
     "output_type": "execute_result"
    }
   ],
   "source": [
    "articles['response']['docs'][0]"
   ]
  }
 ],
 "metadata": {
  "kernelspec": {
   "display_name": "Python 2",
   "language": "python",
   "name": "python2"
  },
  "language_info": {
   "codemirror_mode": {
    "name": "ipython",
    "version": 2
   },
   "file_extension": ".py",
   "mimetype": "text/x-python",
   "name": "python",
   "nbconvert_exporter": "python",
   "pygments_lexer": "ipython2",
   "version": "2.7.11"
  }
 },
 "nbformat": 4,
 "nbformat_minor": 0
}
