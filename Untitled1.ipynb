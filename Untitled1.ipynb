{
 "cells": [
  {
   "cell_type": "code",
   "execution_count": 4,
   "metadata": {
    "collapsed": false
   },
   "outputs": [],
   "source": [
    "import urllib2\n",
    "from bs4 import BeautifulSoup\n",
    "import re\n",
    "import nytimesarticle as nyta\n",
    "import urllib2\n",
    "import requests\n",
    "import csv\n",
    "import time\n",
    "import pandas as pd\n",
    "import numpy as np\n",
    "from nytimes_crawl import *"
   ]
  },
  {
   "cell_type": "markdown",
   "metadata": {},
   "source": [
    "# Misc"
   ]
  },
  {
   "cell_type": "markdown",
   "metadata": {},
   "source": [
    "# Get Article Info"
   ]
  },
  {
   "cell_type": "markdown",
   "metadata": {},
   "source": [
    "## Funcs for Processing of Single Article"
   ]
  },
  {
   "cell_type": "code",
   "execution_count": 4,
   "metadata": {
    "collapsed": true
   },
   "outputs": [],
   "source": [
    "from nytimesarticle import articleAPI\n",
    "apikey = '56d7a05e3e8641c5baadd1b21b58ec05'\n",
    "api = articleAPI(apikey)"
   ]
  },
  {
   "cell_type": "code",
   "execution_count": 9,
   "metadata": {
    "collapsed": false
   },
   "outputs": [],
   "source": [
    "def article_info(article):\n",
    "    url = article['web_url']\n",
    "    print(url)\n",
    "    res = url_counts(url) # dependent variable ('hype')\n",
    "    res['first_name'], res['last_name'] = article_columnists(article) \n",
    "    res['document_type'] = article['document_type']\n",
    "    res['full_text'] = url_full_text(url)\n",
    "    res['url'] = url\n",
    "    return res\n",
    "\n",
    "def article_keywords(article):\n",
    "    def keywords():\n",
    "        for keyword in article['keywords']:\n",
    "            yield keyword['value'].lower()\n",
    "    return list(keywords())\n",
    "    \n",
    "def article_columnists(article):\n",
    "    try:\n",
    "        person = article['byline']['person'][0]\n",
    "        firstname = person.get('firstname',np.nan)\n",
    "        lastname = person.get('lastname',np.nan)\n",
    "    except IndexError:\n",
    "        firstname, lastname = np.nan, np.nan\n",
    "    def lower_except_nan(mystr):\n",
    "        try:\n",
    "            return mystr.lower()\n",
    "        except AttributeError:\n",
    "            return mystr\n",
    "    return lower_except_nan(firstname), lower_except_nan(lastname)\n",
    "\n",
    "def url_full_text(url):\n",
    "    soup = soupify_url(url)\n",
    "    return ' '.join(yield_par_from_soup(soup))\n",
    "    \n",
    "def yield_par_from_soup(soup,classtag='story-body-text story-content'):\n",
    "    paragraphs = soup.findAll('p',{'class':classtag})\n",
    "    for par in paragraphs:\n",
    "        yield par.get_text()\n",
    "        \n",
    "def soupify_url(url):\n",
    "    opener = urllib2.build_opener(urllib2.HTTPCookieProcessor())\n",
    "    response = opener.open(url)\n",
    "    return BeautifulSoup(response.read(),'lxml')\n",
    "    \n",
    "def url_counts(url):\n",
    "    apiurl = 'http://api.facebook.com/restserver.php?method=links.getStats&urls={0}'.format(url)\n",
    "    r = requests.get(apiurl)\n",
    "    soup = BeautifulSoup(r.text,'xml')\n",
    "    def yield_count():\n",
    "        for attr in ['share_count','like_count','comment_count']:\n",
    "            taggedinfo = getattr(soup,attr)\n",
    "            yield attr, taggedinfo.contents[0]\n",
    "    return dict(yield_count())"
   ]
  },
  {
   "cell_type": "markdown",
   "metadata": {},
   "source": [
    "## Reader"
   ]
  },
  {
   "cell_type": "code",
   "execution_count": 2,
   "metadata": {
    "collapsed": false
   },
   "outputs": [],
   "source": [
    "class OpEdReader(object):\n",
    "    def __init__(self,urls=None,columns=None):\n",
    "        if urls is None:\n",
    "            self.urls = set()\n",
    "        if columns is None:\n",
    "            columns = ['first_name','last_name','comment_count','document_type',\n",
    "                       'full_text','like_count','share_count','url']\n",
    "        self.data = pd.DataFrame(columns=columns) # blank\n",
    "        \n",
    "    @classmethod\n",
    "    def init_from_file(cls,csvfile):\n",
    "        self = cls()\n",
    "        self.data = pd.read_csv(csvfile,index_col=0)\n",
    "        self.urls = set(self.data['url'])\n",
    "        return self\n",
    "    \n",
    "    def save_oped_articles_all_pages(self,begindate,enddate=None,author=None,maxpages=101,pagestart=0):\n",
    "        for page in range(pagestart,maxpages):\n",
    "            if page%5 == 0 and page != 0:\n",
    "                self.save_to_csv('test{0}.csv'.format(page))\n",
    "            print(page)\n",
    "            articles = self.current_articles_one_page(page,begindate,enddate=enddate,author=author)\n",
    "            if articles:\n",
    "                self.save_oped_articles(articles)\n",
    "            else:\n",
    "                return\n",
    "            \n",
    "    def save_oped_articles_one_page(self,page,begindate,enddate=None,author=None,sleeptime=2):\n",
    "        articles = self.current_articles_one_page(page,begindate,enddate=enddate,author=author)\n",
    "        self.save_oped_articles(articles,sleeptime)\n",
    "        \n",
    "    def save_oped_articles(self,articles,sleeptime=2,wordcutoff=30):\n",
    "        for i, article in enumerate(articles):\n",
    "            self.save_oped_article(article)\n",
    "            time.sleep(sleeptime)\n",
    "            \n",
    "    def save_oped_article(self,article,wordcutoff=30):\n",
    "        wordcount = int(article['word_count'])\n",
    "        if wordcount > wordcutoff:\n",
    "            articletype = article['type_of_material']\n",
    "            try:\n",
    "                articleinfo = article_info(article)\n",
    "            except:\n",
    "                print('Fail')\n",
    "                print(article['web_url'])\n",
    "            if articleinfo['url'] not in self.urls:\n",
    "                newdf = pd.DataFrame([articleinfo])\n",
    "                self.data = self.data.append(newdf)\n",
    "    \n",
    "    def current_articles_one_page(self,page,begindate,enddate=None,author=None):\n",
    "        fq = {'news_desk.contains':['OpEd','Editorial'],'document_type':'article',\n",
    "              'type_of_material.contains':['Op-Ed','OpEd','Editorial']}\n",
    "        if author is not None:\n",
    "            fq['byline'] = author\n",
    "        if enddate is None:\n",
    "            articles = api.search(fq=fq,begin_date=begindate,page=page)\n",
    "        else:\n",
    "            articles = api.search(fq=fq,begin_date=begindate,end_date=enddate,page=page)\n",
    "        return articles['response']['docs']\n",
    "    \n",
    "    def save_to_csv(self,csvfile):\n",
    "        self.data.to_csv(csvfile,encoding='utf-8')"
   ]
  },
  {
   "cell_type": "markdown",
   "metadata": {},
   "source": [
    "# Analysis"
   ]
  },
  {
   "cell_type": "code",
   "execution_count": 114,
   "metadata": {
    "collapsed": false
   },
   "outputs": [],
   "source": [
    "reader = OpEdReader.init_from_file('one','one100.csv')"
   ]
  },
  {
   "cell_type": "code",
   "execution_count": 127,
   "metadata": {
    "collapsed": true
   },
   "outputs": [],
   "source": [
    "reader2 = OpEdReader.init_from_file('two','two100.csv')"
   ]
  },
  {
   "cell_type": "markdown",
   "metadata": {},
   "source": [
    "## Foreign Language"
   ]
  },
  {
   "cell_type": "code",
   "execution_count": 107,
   "metadata": {
    "collapsed": false
   },
   "outputs": [],
   "source": [
    "def locate_foreign(tidiedtext):\n",
    "    for idx, text in enumerate(tidiedtext):\n",
    "        if 'de' in text and 'la' in text:\n",
    "            print('Match')\n",
    "            print(idx)\n",
    "            print(text[:20])"
   ]
  },
  {
   "cell_type": "code",
   "execution_count": 100,
   "metadata": {
    "collapsed": true
   },
   "outputs": [],
   "source": [
    "text2 = reader2.data['full_text']\n",
    "tidiedtext2 = [tidy_text(item.decode('utf-8')) for item in text2]"
   ]
  },
  {
   "cell_type": "code",
   "execution_count": 104,
   "metadata": {
    "collapsed": false,
    "scrolled": false
   },
   "outputs": [
    {
     "data": {
      "text/plain": [
       "'http://www.nytimes.com/2015/11/17/opinion/les-attentats-a-paris-revelent-les-limites-de-daesh.html'"
      ]
     },
     "execution_count": 104,
     "metadata": {},
     "output_type": "execute_result"
    }
   ],
   "source": [
    "reader2.data['url'].iloc[]"
   ]
  },
  {
   "cell_type": "markdown",
   "metadata": {},
   "source": [
    "### Source #1"
   ]
  },
  {
   "cell_type": "code",
   "execution_count": 116,
   "metadata": {
    "collapsed": false
   },
   "outputs": [
    {
     "data": {
      "text/plain": [
       "(947, 8)"
      ]
     },
     "execution_count": 116,
     "metadata": {},
     "output_type": "execute_result"
    }
   ],
   "source": [
    "reader.data.shape"
   ]
  },
  {
   "cell_type": "code",
   "execution_count": 123,
   "metadata": {
    "collapsed": true
   },
   "outputs": [],
   "source": [
    "newdf = reader.data.reset_index(drop=True)\n",
    "newdfdropped = newdf.drop([105,356,509,535,661,742,762,840,868,913])\n",
    "reader.data = newdfdropped"
   ]
  },
  {
   "cell_type": "code",
   "execution_count": 124,
   "metadata": {
    "collapsed": false
   },
   "outputs": [
    {
     "data": {
      "text/plain": [
       "(937, 8)"
      ]
     },
     "execution_count": 124,
     "metadata": {},
     "output_type": "execute_result"
    }
   ],
   "source": [
    "reader.data.shape"
   ]
  },
  {
   "cell_type": "code",
   "execution_count": 70,
   "metadata": {
    "collapsed": false
   },
   "outputs": [],
   "source": [
    "reader.save_to_csv('one_english100.csv')"
   ]
  },
  {
   "cell_type": "markdown",
   "metadata": {},
   "source": [
    "### Source #2"
   ]
  },
  {
   "cell_type": "code",
   "execution_count": 128,
   "metadata": {
    "collapsed": false
   },
   "outputs": [
    {
     "data": {
      "text/plain": [
       "(952, 8)"
      ]
     },
     "execution_count": 128,
     "metadata": {},
     "output_type": "execute_result"
    }
   ],
   "source": [
    "reader2.data.shape"
   ]
  },
  {
   "cell_type": "code",
   "execution_count": 129,
   "metadata": {
    "collapsed": true
   },
   "outputs": [],
   "source": [
    "newdf2 = reader2.data.reset_index(drop=True)\n",
    "newdf2dropped = newdf2.drop([27,35,36,58,380,400,508,553,555,802,842,882])\n",
    "reader2.data = newdf2dropped"
   ]
  },
  {
   "cell_type": "code",
   "execution_count": 130,
   "metadata": {
    "collapsed": false
   },
   "outputs": [
    {
     "data": {
      "text/plain": [
       "(940, 8)"
      ]
     },
     "execution_count": 130,
     "metadata": {},
     "output_type": "execute_result"
    }
   ],
   "source": [
    "reader2.data.shape"
   ]
  },
  {
   "cell_type": "code",
   "execution_count": 131,
   "metadata": {
    "collapsed": false
   },
   "outputs": [],
   "source": [
    "reader2.save_to_csv('two_english100.csv')"
   ]
  },
  {
   "cell_type": "markdown",
   "metadata": {},
   "source": [
    "## Tidy the Text"
   ]
  },
  {
   "cell_type": "code",
   "execution_count": 6,
   "metadata": {
    "collapsed": true
   },
   "outputs": [],
   "source": [
    "import nltk"
   ]
  },
  {
   "cell_type": "code",
   "execution_count": 133,
   "metadata": {
    "collapsed": true
   },
   "outputs": [],
   "source": [
    "reader_english = OpEdReader.init_from_file('one_english','one_english100.csv')\n",
    "reader2_english = OpEdReader.init_from_file('two_english','two_english100.csv')"
   ]
  },
  {
   "cell_type": "code",
   "execution_count": 139,
   "metadata": {
    "collapsed": false
   },
   "outputs": [],
   "source": [
    "dataall = pd.concat([reader_english.data,reader2_english.data])"
   ]
  },
  {
   "cell_type": "code",
   "execution_count": 132,
   "metadata": {
    "collapsed": true
   },
   "outputs": [],
   "source": [
    "PUNCTUATION = \"\"\"!@#$%^&*()_+=][{}'-\";:/?\\.,~`\"\"\"\n",
    "\n",
    "def tidy_text(text):\n",
    "    \"\"\" Does the following: 1. Tokenises words 2. Removes punctuation 3. Removes stop words 4. Puts words through the snowball stemmer\"\"\"\n",
    "\n",
    "    stemmer = nltk.stem.snowball.EnglishStemmer()\n",
    "    stopwords = nltk.corpus.stopwords.words('english')\n",
    "\n",
    "    outwords = []\n",
    "    for word in text.split():\n",
    "        word = word.strip(PUNCTUATION).lower()\n",
    "        if word not in stopwords:\n",
    "            if len(word) > 0:\n",
    "                if not word[0].isdigit():\n",
    "                    outwords.append(stemmer.stem(word))\n",
    "\n",
    "    return outwords\n"
   ]
  },
  {
   "cell_type": "code",
   "execution_count": 141,
   "metadata": {
    "collapsed": false
   },
   "outputs": [],
   "source": [
    "text = dataall['full_text']\n",
    "tidiedtext = [tidy_text(item.decode('utf-8')) for item in text]\n",
    "tidiedtextjoined = [' '.join(text) for text in tidiedtext]"
   ]
  },
  {
   "cell_type": "markdown",
   "metadata": {},
   "source": [
    "# LDA"
   ]
  },
  {
   "cell_type": "code",
   "execution_count": 41,
   "metadata": {
    "collapsed": true
   },
   "outputs": [],
   "source": [
    "import matplotlib as mpl\n",
    "import matplotlib.pyplot as plt\n",
    "from __future__ import print_function\n",
    "from time import time\n",
    "\n",
    "from sklearn.feature_extraction.text import TfidfVectorizer, CountVectorizer\n",
    "from sklearn.decomposition import NMF, LatentDirichletAllocation\n",
    "from sklearn.datasets import fetch_20newsgroups"
   ]
  },
  {
   "cell_type": "code",
   "execution_count": 38,
   "metadata": {
    "collapsed": true
   },
   "outputs": [],
   "source": [
    "def print_top_words(model, feature_names, n_top_words):\n",
    "    for topic_idx, topic in enumerate(model.components_):\n",
    "        print(\"Topic #%d:\" % topic_idx)\n",
    "        print(\" \".join([feature_names[i]\n",
    "                        for i in topic.argsort()[:-n_top_words - 1:-1]]))\n",
    "    print()"
   ]
  },
  {
   "cell_type": "code",
   "execution_count": 148,
   "metadata": {
    "collapsed": true
   },
   "outputs": [],
   "source": [
    "n_samples = 2000\n",
    "n_features = 1000\n",
    "n_topics = 10\n",
    "n_top_words = 20"
   ]
  },
  {
   "cell_type": "code",
   "execution_count": 145,
   "metadata": {
    "collapsed": false
   },
   "outputs": [
    {
     "name": "stdout",
     "output_type": "stream",
     "text": [
      "Extracting tf features for LDA...\n",
      "done in 0.972s.\n"
     ]
    }
   ],
   "source": [
    "# Use tf (raw term count) features for LDA.\n",
    "print(\"Extracting tf features for LDA...\")\n",
    "tf_vectorizer = CountVectorizer(max_df=0.95, min_df=2, max_features=n_features)\n",
    "t0 = time()\n",
    "tf = tf_vectorizer.fit_transform(tidiedtextjoined)\n",
    "print(\"done in %0.3fs.\" % (time() - t0))\n"
   ]
  },
  {
   "cell_type": "code",
   "execution_count": 149,
   "metadata": {
    "collapsed": false
   },
   "outputs": [
    {
     "name": "stdout",
     "output_type": "stream",
     "text": [
      "Fitting LDA models with tf features, n_samples=2000 and n_features=1000...\n",
      "done in 30.831s.\n"
     ]
    }
   ],
   "source": [
    "print(\"Fitting LDA models with tf features, n_samples=%d and n_features=%d...\"\n",
    "      % (n_samples, n_features))\n",
    "lda = LatentDirichletAllocation(n_topics=n_topics, max_iter=20,\n",
    "                                learning_method='online', learning_offset=50.,\n",
    "                                random_state=0)\n",
    "t0 = time()\n",
    "lda.fit(tf)\n",
    "print(\"done in %0.3fs.\" % (time() - t0))\n"
   ]
  },
  {
   "cell_type": "code",
   "execution_count": 150,
   "metadata": {
    "collapsed": false,
    "scrolled": false
   },
   "outputs": [
    {
     "name": "stdout",
     "output_type": "stream",
     "text": [
      "\n",
      "Topics in LDA model:\n",
      "Topic #0:\n",
      "women school student black educ children colleg univers men abort one famili woman parent percent white class mani marriag work\n",
      "Topic #1:\n",
      "gun mr law polic state offic court case peopl prison crime right public year justic new investig crimin would sentenc\n",
      "Topic #2:\n",
      "research studi health peopl one year patient like drug percent effect found mani care use also medic doctor risk new\n",
      "Topic #3:\n",
      "state mr unit govern countri islam war american nation european refuge presid muslim polit would attack year militari europ one\n",
      "Topic #4:\n",
      "isi saudi iraq iran obama syria middl east need bomb defeat want moder order imposs foreign let take problem join\n",
      "Topic #5:\n",
      "one peopl it like time said would know go get way us even year make say want day new thing\n",
      "Topic #6:\n",
      "new year would tax citi percent state econom chang economi need rate polici one like countri increas hous system climat\n",
      "Topic #7:\n",
      "state govern compani would feder law use congress requir bill year water public china servic health could also make protect\n",
      "Topic #8:\n",
      "trump republican mr candid clinton parti voter campaign polit cruz democrat sander like elect one presid rubio would support he\n",
      "Topic #9:\n",
      "court justic presid polit suprem obama senat republican vote right case would constitut law conserv elect judg decis scalia one\n",
      "()\n"
     ]
    }
   ],
   "source": [
    "print(\"\\nTopics in LDA model:\")\n",
    "tf_feature_names = tf_vectorizer.get_feature_names()\n",
    "print_top_words(lda, tf_feature_names, n_top_words)"
   ]
  },
  {
   "cell_type": "code",
   "execution_count": 151,
   "metadata": {
    "collapsed": true
   },
   "outputs": [],
   "source": [
    "doc_topic_distrib = lda.transform(tf)"
   ]
  },
  {
   "cell_type": "code",
   "execution_count": 94,
   "metadata": {
    "collapsed": false
   },
   "outputs": [
    {
     "data": {
      "text/plain": [
       "array([  2.96437311e+03,   4.68500000e+01,   3.42262264e+04,\n",
       "         5.34485223e+02,   1.91660939e+03,   4.68500000e+01,\n",
       "         2.87762100e+02,   3.20805061e+02,   2.48481726e+04,\n",
       "         4.41244662e+03,   2.93117127e+04,   6.63072669e+04,\n",
       "         4.68500000e+01,   4.68500000e+01,   4.67552147e+04,\n",
       "         8.35301767e+02,   4.24990298e+04,   1.93364224e+04,\n",
       "         2.10982190e+03,   9.54694938e+03])"
      ]
     },
     "execution_count": 94,
     "metadata": {},
     "output_type": "execute_result"
    }
   ],
   "source": [
    "np.sum(doc_topic_distrib,axis=0)"
   ]
  },
  {
   "cell_type": "code",
   "execution_count": null,
   "metadata": {
    "collapsed": false
   },
   "outputs": [],
   "source": [
    "fig = plt.figure(1)\n",
    "ax = fig.gca()\n",
    "ax = ax.matshow(doc_topic_distrib, cmap=plt.cm.gray, aspect = '0.01')\n",
    "plt.show()"
   ]
  },
  {
   "cell_type": "code",
   "execution_count": null,
   "metadata": {
    "collapsed": true
   },
   "outputs": [],
   "source": []
  }
 ],
 "metadata": {
  "kernelspec": {
   "display_name": "Python 2",
   "language": "python",
   "name": "python2"
  },
  "language_info": {
   "codemirror_mode": {
    "name": "ipython",
    "version": 2
   },
   "file_extension": ".py",
   "mimetype": "text/x-python",
   "name": "python",
   "nbconvert_exporter": "python",
   "pygments_lexer": "ipython2",
   "version": "2.7.11"
  }
 },
 "nbformat": 4,
 "nbformat_minor": 0
}
