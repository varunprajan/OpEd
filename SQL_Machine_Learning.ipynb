{
 "cells": [
  {
   "cell_type": "markdown",
   "metadata": {},
   "source": [
    "# SQL"
   ]
  },
  {
   "cell_type": "code",
   "execution_count": 1,
   "metadata": {
    "collapsed": true
   },
   "outputs": [],
   "source": [
    "## Python packages - you may have to pip install sqlalchemy, sqlalchemy_utils, and psycopg2.\n",
    "from sqlalchemy import create_engine\n",
    "from sqlalchemy_utils import database_exists, create_database\n",
    "import psycopg2\n",
    "import pandas as pd\n",
    "import numpy as np\n",
    "import matplotlib as mpl\n",
    "import matplotlib.pyplot as plt"
   ]
  },
  {
   "cell_type": "markdown",
   "metadata": {},
   "source": [
    "## Database"
   ]
  },
  {
   "cell_type": "markdown",
   "metadata": {},
   "source": [
    "### Populate Database"
   ]
  },
  {
   "cell_type": "code",
   "execution_count": 7,
   "metadata": {
    "collapsed": false
   },
   "outputs": [],
   "source": [
    "# load a database from CSV\n",
    "dataall = pd.DataFrame.from_csv('dataall.csv')\n",
    "datadate = pd.DataFrame.from_csv('datadate.csv')\n",
    "dataauthor = pd.DataFrame.from_csv('dataauthor.csv')\n",
    "dataother = pd.DataFrame.from_csv('dataother.csv')\n",
    "topicweights10 = pd.DataFrame.from_csv('topicweights10.csv')\n",
    "topicweights50 = pd.DataFrame.from_csv('topicweights50.csv')"
   ]
  },
  {
   "cell_type": "code",
   "execution_count": 8,
   "metadata": {
    "collapsed": true
   },
   "outputs": [],
   "source": [
    "## insert data into database from Python (proof of concept - this won't be useful for big data, of course)\n",
    "## df is any pandas dataframe \n",
    "dataall.to_sql('orig', engine, if_exists='replace')\n",
    "datadate.to_sql('dates', engine, if_exists='replace')\n",
    "dataauthor.to_sql('authors', engine, if_exists='replace')\n",
    "dataother.to_sql('other', engine, if_exists='replace')\n",
    "topicweights10.to_sql('topic_weights10', engine, if_exists='replace')\n",
    "topicweights50.to_sql('topic_weights50', engine, if_exists='replace')"
   ]
  },
  {
   "cell_type": "markdown",
   "metadata": {},
   "source": [
    "### Connect to Database"
   ]
  },
  {
   "cell_type": "code",
   "execution_count": 3,
   "metadata": {
    "collapsed": true
   },
   "outputs": [],
   "source": [
    "n_topics = 50\n",
    "n_authors = 38\n",
    "n_days = 7"
   ]
  },
  {
   "cell_type": "code",
   "execution_count": 4,
   "metadata": {
    "collapsed": true
   },
   "outputs": [],
   "source": [
    "#In Python: Define a database name, and your username for your computer. \n",
    "dbname = 'oped_db'\n",
    "username = 'varun'"
   ]
  },
  {
   "cell_type": "code",
   "execution_count": 5,
   "metadata": {
    "collapsed": false
   },
   "outputs": [
    {
     "name": "stdout",
     "output_type": "stream",
     "text": [
      "postgres://varun@localhost/oped_db\n"
     ]
    }
   ],
   "source": [
    "## 'engine' is a connection to a database\n",
    "## Here, we're using postgres, but sqlalchemy can connect to other things too.\n",
    "engine = create_engine('postgres://%s@localhost/%s'%(username,dbname))\n",
    "print engine.url"
   ]
  },
  {
   "cell_type": "code",
   "execution_count": 6,
   "metadata": {
    "collapsed": false
   },
   "outputs": [
    {
     "name": "stdout",
     "output_type": "stream",
     "text": [
      "True\n"
     ]
    }
   ],
   "source": [
    "## create a database (if it doesn't exist)\n",
    "if not database_exists(engine.url):\n",
    "    create_database(engine.url)\n",
    "print(database_exists(engine.url))"
   ]
  },
  {
   "cell_type": "code",
   "execution_count": 9,
   "metadata": {
    "collapsed": true
   },
   "outputs": [],
   "source": [
    "## Now try the same queries, but in python!\n",
    "# connect:\n",
    "con = None\n",
    "con = psycopg2.connect(database = dbname, user = username)"
   ]
  },
  {
   "cell_type": "code",
   "execution_count": 10,
   "metadata": {
    "collapsed": false,
    "scrolled": true
   },
   "outputs": [],
   "source": [
    "# query:\n",
    "def query_for_person(firstname,lastname):\n",
    "    return \"\"\"\n",
    "    SELECT orig.share_count, topic_weights.*\n",
    "    FROM orig\n",
    "        JOIN topic_weights\n",
    "            ON orig.index = topic_weights.index\n",
    "    WHERE orig.first_name='{0}' AND orig.last_name='{1}';\n",
    "    \"\"\".format(firstname,lastname)"
   ]
  },
  {
   "cell_type": "code",
   "execution_count": 11,
   "metadata": {
    "collapsed": false,
    "scrolled": true
   },
   "outputs": [
    {
     "data": {
      "text/html": [
       "<div>\n",
       "<table border=\"1\" class=\"dataframe\">\n",
       "  <thead>\n",
       "    <tr style=\"text-align: right;\">\n",
       "      <th></th>\n",
       "      <th>share_count</th>\n",
       "      <th>index</th>\n",
       "      <th>topic0</th>\n",
       "      <th>topic1</th>\n",
       "      <th>topic2</th>\n",
       "      <th>topic3</th>\n",
       "      <th>topic4</th>\n",
       "      <th>topic5</th>\n",
       "      <th>topic6</th>\n",
       "      <th>topic7</th>\n",
       "      <th>topic8</th>\n",
       "      <th>topic9</th>\n",
       "    </tr>\n",
       "  </thead>\n",
       "  <tbody>\n",
       "    <tr>\n",
       "      <th>0</th>\n",
       "      <td>665</td>\n",
       "      <td>53</td>\n",
       "      <td>0.000372</td>\n",
       "      <td>0.000372</td>\n",
       "      <td>0.000372</td>\n",
       "      <td>0.000372</td>\n",
       "      <td>0.106056</td>\n",
       "      <td>0.000372</td>\n",
       "      <td>0.000372</td>\n",
       "      <td>0.000372</td>\n",
       "      <td>0.890969</td>\n",
       "      <td>0.000372</td>\n",
       "    </tr>\n",
       "    <tr>\n",
       "      <th>1</th>\n",
       "      <td>305</td>\n",
       "      <td>85</td>\n",
       "      <td>0.000253</td>\n",
       "      <td>0.000253</td>\n",
       "      <td>0.093017</td>\n",
       "      <td>0.000253</td>\n",
       "      <td>0.000253</td>\n",
       "      <td>0.000253</td>\n",
       "      <td>0.000253</td>\n",
       "      <td>0.000253</td>\n",
       "      <td>0.904957</td>\n",
       "      <td>0.000253</td>\n",
       "    </tr>\n",
       "    <tr>\n",
       "      <th>2</th>\n",
       "      <td>412</td>\n",
       "      <td>135</td>\n",
       "      <td>0.000343</td>\n",
       "      <td>0.000343</td>\n",
       "      <td>0.000343</td>\n",
       "      <td>0.000343</td>\n",
       "      <td>0.092126</td>\n",
       "      <td>0.030038</td>\n",
       "      <td>0.083471</td>\n",
       "      <td>0.156396</td>\n",
       "      <td>0.616574</td>\n",
       "      <td>0.020025</td>\n",
       "    </tr>\n",
       "    <tr>\n",
       "      <th>3</th>\n",
       "      <td>296</td>\n",
       "      <td>177</td>\n",
       "      <td>0.000262</td>\n",
       "      <td>0.000262</td>\n",
       "      <td>0.071105</td>\n",
       "      <td>0.007671</td>\n",
       "      <td>0.000262</td>\n",
       "      <td>0.000262</td>\n",
       "      <td>0.098962</td>\n",
       "      <td>0.000262</td>\n",
       "      <td>0.820691</td>\n",
       "      <td>0.000262</td>\n",
       "    </tr>\n",
       "    <tr>\n",
       "      <th>4</th>\n",
       "      <td>3061</td>\n",
       "      <td>215</td>\n",
       "      <td>0.000339</td>\n",
       "      <td>0.000339</td>\n",
       "      <td>0.000339</td>\n",
       "      <td>0.044130</td>\n",
       "      <td>0.026326</td>\n",
       "      <td>0.081990</td>\n",
       "      <td>0.000339</td>\n",
       "      <td>0.000339</td>\n",
       "      <td>0.738386</td>\n",
       "      <td>0.107473</td>\n",
       "    </tr>\n",
       "  </tbody>\n",
       "</table>\n",
       "</div>"
      ],
      "text/plain": [
       "   share_count  index    topic0    topic1    topic2    topic3    topic4  \\\n",
       "0          665     53  0.000372  0.000372  0.000372  0.000372  0.106056   \n",
       "1          305     85  0.000253  0.000253  0.093017  0.000253  0.000253   \n",
       "2          412    135  0.000343  0.000343  0.000343  0.000343  0.092126   \n",
       "3          296    177  0.000262  0.000262  0.071105  0.007671  0.000262   \n",
       "4         3061    215  0.000339  0.000339  0.000339  0.044130  0.026326   \n",
       "\n",
       "     topic5    topic6    topic7    topic8    topic9  \n",
       "0  0.000372  0.000372  0.000372  0.890969  0.000372  \n",
       "1  0.000253  0.000253  0.000253  0.904957  0.000253  \n",
       "2  0.030038  0.083471  0.156396  0.616574  0.020025  \n",
       "3  0.000262  0.098962  0.000262  0.820691  0.000262  \n",
       "4  0.081990  0.000339  0.000339  0.738386  0.107473  "
      ]
     },
     "execution_count": 11,
     "metadata": {},
     "output_type": "execute_result"
    }
   ],
   "source": [
    "sql_query = query_for_person('ross','douthat')\n",
    "data_from_sql = pd.read_sql_query(sql_query,con)\n",
    "data_from_sql.head()"
   ]
  },
  {
   "cell_type": "code",
   "execution_count": 12,
   "metadata": {
    "collapsed": true
   },
   "outputs": [],
   "source": [
    "# query:\n",
    "def query_all():\n",
    "    return \"\"\"\n",
    "    SELECT orig.share_count, topic_weights50.*, authors.*, dates.*, other.len\n",
    "    FROM orig\n",
    "        JOIN topic_weights50\n",
    "            ON orig.index = topic_weights50.index\n",
    "        JOIN authors\n",
    "            ON orig.index = authors.index\n",
    "        JOIN dates\n",
    "            ON orig.index = dates.index\n",
    "        JOIN other\n",
    "            ON orig.index = other.index;\n",
    "    \"\"\" "
   ]
  },
  {
   "cell_type": "code",
   "execution_count": 13,
   "metadata": {
    "collapsed": false,
    "scrolled": false
   },
   "outputs": [
    {
     "data": {
      "text/html": [
       "<div>\n",
       "<table border=\"1\" class=\"dataframe\">\n",
       "  <thead>\n",
       "    <tr style=\"text-align: right;\">\n",
       "      <th></th>\n",
       "      <th>share_count</th>\n",
       "      <th>index</th>\n",
       "      <th>topic0</th>\n",
       "      <th>topic1</th>\n",
       "      <th>topic2</th>\n",
       "      <th>topic3</th>\n",
       "      <th>topic4</th>\n",
       "      <th>topic5</th>\n",
       "      <th>topic6</th>\n",
       "      <th>topic7</th>\n",
       "      <th>...</th>\n",
       "      <th>Dates</th>\n",
       "      <th>Times</th>\n",
       "      <th>Day0</th>\n",
       "      <th>Day1</th>\n",
       "      <th>Day2</th>\n",
       "      <th>Day3</th>\n",
       "      <th>Day4</th>\n",
       "      <th>Day5</th>\n",
       "      <th>Day6</th>\n",
       "      <th>len</th>\n",
       "    </tr>\n",
       "  </thead>\n",
       "  <tbody>\n",
       "    <tr>\n",
       "      <th>0</th>\n",
       "      <td>1502</td>\n",
       "      <td>0</td>\n",
       "      <td>0.000058</td>\n",
       "      <td>0.000058</td>\n",
       "      <td>0.000058</td>\n",
       "      <td>0.005101</td>\n",
       "      <td>0.000058</td>\n",
       "      <td>0.236427</td>\n",
       "      <td>0.000058</td>\n",
       "      <td>0.000058</td>\n",
       "      <td>...</td>\n",
       "      <td>2016-03-31</td>\n",
       "      <td>1.0</td>\n",
       "      <td>0.0</td>\n",
       "      <td>0.0</td>\n",
       "      <td>0.0</td>\n",
       "      <td>1.0</td>\n",
       "      <td>0.0</td>\n",
       "      <td>0.0</td>\n",
       "      <td>0.0</td>\n",
       "      <td>866</td>\n",
       "    </tr>\n",
       "    <tr>\n",
       "      <th>1</th>\n",
       "      <td>6308</td>\n",
       "      <td>1</td>\n",
       "      <td>0.000042</td>\n",
       "      <td>0.031076</td>\n",
       "      <td>0.000042</td>\n",
       "      <td>0.000042</td>\n",
       "      <td>0.000042</td>\n",
       "      <td>0.149588</td>\n",
       "      <td>0.000042</td>\n",
       "      <td>0.000042</td>\n",
       "      <td>...</td>\n",
       "      <td>2016-03-31</td>\n",
       "      <td>1.0</td>\n",
       "      <td>0.0</td>\n",
       "      <td>0.0</td>\n",
       "      <td>0.0</td>\n",
       "      <td>1.0</td>\n",
       "      <td>0.0</td>\n",
       "      <td>0.0</td>\n",
       "      <td>0.0</td>\n",
       "      <td>1264</td>\n",
       "    </tr>\n",
       "    <tr>\n",
       "      <th>2</th>\n",
       "      <td>826</td>\n",
       "      <td>2</td>\n",
       "      <td>0.000043</td>\n",
       "      <td>0.000043</td>\n",
       "      <td>0.010929</td>\n",
       "      <td>0.012003</td>\n",
       "      <td>0.000043</td>\n",
       "      <td>0.000043</td>\n",
       "      <td>0.003719</td>\n",
       "      <td>0.036500</td>\n",
       "      <td>...</td>\n",
       "      <td>2016-03-31</td>\n",
       "      <td>1.0</td>\n",
       "      <td>0.0</td>\n",
       "      <td>0.0</td>\n",
       "      <td>0.0</td>\n",
       "      <td>1.0</td>\n",
       "      <td>0.0</td>\n",
       "      <td>0.0</td>\n",
       "      <td>0.0</td>\n",
       "      <td>1246</td>\n",
       "    </tr>\n",
       "    <tr>\n",
       "      <th>3</th>\n",
       "      <td>685</td>\n",
       "      <td>3</td>\n",
       "      <td>0.000069</td>\n",
       "      <td>0.000069</td>\n",
       "      <td>0.000069</td>\n",
       "      <td>0.000069</td>\n",
       "      <td>0.005418</td>\n",
       "      <td>0.000069</td>\n",
       "      <td>0.000069</td>\n",
       "      <td>0.000069</td>\n",
       "      <td>...</td>\n",
       "      <td>2016-03-31</td>\n",
       "      <td>1.0</td>\n",
       "      <td>0.0</td>\n",
       "      <td>0.0</td>\n",
       "      <td>0.0</td>\n",
       "      <td>1.0</td>\n",
       "      <td>0.0</td>\n",
       "      <td>0.0</td>\n",
       "      <td>0.0</td>\n",
       "      <td>816</td>\n",
       "    </tr>\n",
       "    <tr>\n",
       "      <th>4</th>\n",
       "      <td>1040</td>\n",
       "      <td>4</td>\n",
       "      <td>0.082217</td>\n",
       "      <td>0.000063</td>\n",
       "      <td>0.000063</td>\n",
       "      <td>0.000063</td>\n",
       "      <td>0.000063</td>\n",
       "      <td>0.000063</td>\n",
       "      <td>0.000063</td>\n",
       "      <td>0.000063</td>\n",
       "      <td>...</td>\n",
       "      <td>2016-03-31</td>\n",
       "      <td>1.0</td>\n",
       "      <td>0.0</td>\n",
       "      <td>0.0</td>\n",
       "      <td>0.0</td>\n",
       "      <td>1.0</td>\n",
       "      <td>0.0</td>\n",
       "      <td>0.0</td>\n",
       "      <td>0.0</td>\n",
       "      <td>788</td>\n",
       "    </tr>\n",
       "  </tbody>\n",
       "</table>\n",
       "<p>5 rows × 102 columns</p>\n",
       "</div>"
      ],
      "text/plain": [
       "   share_count  index    topic0    topic1    topic2    topic3    topic4  \\\n",
       "0         1502      0  0.000058  0.000058  0.000058  0.005101  0.000058   \n",
       "1         6308      1  0.000042  0.031076  0.000042  0.000042  0.000042   \n",
       "2          826      2  0.000043  0.000043  0.010929  0.012003  0.000043   \n",
       "3          685      3  0.000069  0.000069  0.000069  0.000069  0.005418   \n",
       "4         1040      4  0.082217  0.000063  0.000063  0.000063  0.000063   \n",
       "\n",
       "     topic5    topic6    topic7  ...        Dates  Times  Day0  Day1  Day2  \\\n",
       "0  0.236427  0.000058  0.000058  ...   2016-03-31    1.0   0.0   0.0   0.0   \n",
       "1  0.149588  0.000042  0.000042  ...   2016-03-31    1.0   0.0   0.0   0.0   \n",
       "2  0.000043  0.003719  0.036500  ...   2016-03-31    1.0   0.0   0.0   0.0   \n",
       "3  0.000069  0.000069  0.000069  ...   2016-03-31    1.0   0.0   0.0   0.0   \n",
       "4  0.000063  0.000063  0.000063  ...   2016-03-31    1.0   0.0   0.0   0.0   \n",
       "\n",
       "   Day3  Day4  Day5  Day6   len  \n",
       "0   1.0   0.0   0.0   0.0   866  \n",
       "1   1.0   0.0   0.0   0.0  1264  \n",
       "2   1.0   0.0   0.0   0.0  1246  \n",
       "3   1.0   0.0   0.0   0.0   816  \n",
       "4   1.0   0.0   0.0   0.0   788  \n",
       "\n",
       "[5 rows x 102 columns]"
      ]
     },
     "execution_count": 13,
     "metadata": {},
     "output_type": "execute_result"
    }
   ],
   "source": [
    "sql_query = query_all()\n",
    "data_from_sql = pd.read_sql_query(sql_query,con)\n",
    "data_from_sql.head()"
   ]
  },
  {
   "cell_type": "code",
   "execution_count": 15,
   "metadata": {
    "collapsed": false
   },
   "outputs": [],
   "source": [
    "data_from_sql['log_share_count'] = np.log10(data_from_sql['share_count'])\n",
    "data_from_sql[data_from_sql['log_share_count'] < 0] = 0"
   ]
  },
  {
   "cell_type": "code",
   "execution_count": 37,
   "metadata": {
    "collapsed": false
   },
   "outputs": [
    {
     "data": {
      "text/plain": [
       "['topic0',\n",
       " 'topic1',\n",
       " 'topic2',\n",
       " 'topic3',\n",
       " 'topic4',\n",
       " 'topic5',\n",
       " 'topic6',\n",
       " 'topic7',\n",
       " 'topic8',\n",
       " 'topic9',\n",
       " 'topic10',\n",
       " 'topic11',\n",
       " 'topic12',\n",
       " 'topic13',\n",
       " 'topic14',\n",
       " 'topic15',\n",
       " 'topic16',\n",
       " 'topic17',\n",
       " 'topic18',\n",
       " 'topic19',\n",
       " 'topic20',\n",
       " 'topic21',\n",
       " 'topic22',\n",
       " 'topic23',\n",
       " 'topic24',\n",
       " 'topic25',\n",
       " 'topic26',\n",
       " 'topic27',\n",
       " 'topic28',\n",
       " 'topic29',\n",
       " 'topic30',\n",
       " 'topic31',\n",
       " 'topic32',\n",
       " 'topic33',\n",
       " 'topic34',\n",
       " 'topic35',\n",
       " 'topic36',\n",
       " 'topic37',\n",
       " 'topic38',\n",
       " 'topic39',\n",
       " 'topic40',\n",
       " 'topic41',\n",
       " 'topic42',\n",
       " 'topic43',\n",
       " 'topic44',\n",
       " 'topic45',\n",
       " 'topic46',\n",
       " 'topic47',\n",
       " 'topic48',\n",
       " 'topic49',\n",
       " 'author0',\n",
       " 'author1',\n",
       " 'author2',\n",
       " 'author3',\n",
       " 'author4',\n",
       " 'author5',\n",
       " 'author6',\n",
       " 'author7',\n",
       " 'author8',\n",
       " 'author9',\n",
       " 'author10',\n",
       " 'author11',\n",
       " 'author12',\n",
       " 'author13',\n",
       " 'author14',\n",
       " 'author15',\n",
       " 'author16',\n",
       " 'author17',\n",
       " 'author18',\n",
       " 'author19',\n",
       " 'author20',\n",
       " 'author21',\n",
       " 'author22',\n",
       " 'author23',\n",
       " 'author24',\n",
       " 'author25',\n",
       " 'author26',\n",
       " 'author27',\n",
       " 'author28',\n",
       " 'author29',\n",
       " 'author30',\n",
       " 'author31',\n",
       " 'author32',\n",
       " 'author33',\n",
       " 'author34',\n",
       " 'author35',\n",
       " 'author36',\n",
       " 'author37',\n",
       " 'Day0',\n",
       " 'Day1',\n",
       " 'Day2',\n",
       " 'Day3',\n",
       " 'Day4',\n",
       " 'Day5',\n",
       " 'Day6',\n",
       " 'Times']"
      ]
     },
     "execution_count": 37,
     "metadata": {},
     "output_type": "execute_result"
    }
   ],
   "source": [
    "featurenames"
   ]
  },
  {
   "cell_type": "markdown",
   "metadata": {},
   "source": [
    "## Turn into Classification"
   ]
  },
  {
   "cell_type": "code",
   "execution_count": 92,
   "metadata": {
    "collapsed": false
   },
   "outputs": [],
   "source": [
    "xmin = np.min(data_from_sql['log_share_count'])\n",
    "xmax = np.max(data_from_sql['log_share_count'])\n",
    "bins = np.linspace(xmin,xmax,10)\n",
    "binnum = np.digitize(data_from_sql['log_share_count'],bins)\n",
    "binnum[binnum <= 5] = 0\n",
    "binnum[binnum > 5] = 1\n",
    "data_from_sql['bin_share_count'] = binnum"
   ]
  },
  {
   "cell_type": "code",
   "execution_count": 78,
   "metadata": {
    "collapsed": false
   },
   "outputs": [],
   "source": [
    "plt.hist(data_from_sql['log_share_count'])\n",
    "plt.show()"
   ]
  },
  {
   "cell_type": "markdown",
   "metadata": {},
   "source": [
    "# Machine Learning"
   ]
  },
  {
   "cell_type": "markdown",
   "metadata": {},
   "source": [
    "## One-Hot Encoding"
   ]
  },
  {
   "cell_type": "code",
   "execution_count": 9,
   "metadata": {
    "collapsed": false
   },
   "outputs": [],
   "source": [
    "encode = preprocessing.OneHotEncoder()"
   ]
  },
  {
   "cell_type": "code",
   "execution_count": 20,
   "metadata": {
    "collapsed": false
   },
   "outputs": [
    {
     "data": {
      "text/plain": [
       "OneHotEncoder(categorical_features='all', dtype=<type 'float'>,\n",
       "       handle_unknown='error', n_values='auto', sparse=True)"
      ]
     },
     "execution_count": 20,
     "metadata": {},
     "output_type": "execute_result"
    }
   ],
   "source": [
    "encode.fit(np.array([[1],[2],[3],[5],[6],[7],[2],[3],[4]]))"
   ]
  },
  {
   "cell_type": "code",
   "execution_count": 22,
   "metadata": {
    "collapsed": false
   },
   "outputs": [
    {
     "data": {
      "text/plain": [
       "array([[ 0.,  1.,  0.,  0.,  0.,  0.,  0.],\n",
       "       [ 0.,  0.,  1.,  0.,  0.,  0.,  0.],\n",
       "       [ 0.,  1.,  0.,  0.,  0.,  0.,  0.]])"
      ]
     },
     "execution_count": 22,
     "metadata": {},
     "output_type": "execute_result"
    }
   ],
   "source": [
    "encode.transform(np.array([[2],[3],[2]])).toarray()"
   ]
  },
  {
   "cell_type": "markdown",
   "metadata": {},
   "source": [
    "## Training/Test"
   ]
  },
  {
   "cell_type": "code",
   "execution_count": 16,
   "metadata": {
    "collapsed": true
   },
   "outputs": [],
   "source": [
    "from sklearn import linear_model, neighbors, ensemble, preprocessing"
   ]
  },
  {
   "cell_type": "code",
   "execution_count": 17,
   "metadata": {
    "collapsed": true
   },
   "outputs": [],
   "source": [
    "def split_data(data,frac=0.7):\n",
    "    datanew = data.sample(frac=1)\n",
    "    nrows = len(datanew)\n",
    "    idx = int(nrows*frac)\n",
    "    return {'train': datanew.iloc[:idx], 'test': datanew.iloc[idx:]}\n",
    "    # use 70-30 split"
   ]
  },
  {
   "cell_type": "code",
   "execution_count": 18,
   "metadata": {
    "collapsed": true
   },
   "outputs": [],
   "source": [
    "def train_model(split_data,model,errorfun,**kwargs):\n",
    "    datatrain = split_data['train']\n",
    "    datatest = split_data['test']\n",
    "    model.fit(datatrain[featurenames],datatrain[viralityname],**kwargs)\n",
    "    train_pred = model.predict(datatrain[featurenames])\n",
    "    test_pred = model.predict(datatest[featurenames])\n",
    "    train_error = errorfun(train_pred,datatrain[viralityname])\n",
    "    test_error = errorfun(test_pred,datatest[viralityname])\n",
    "    print('Training error: {0}'.format(train_error))\n",
    "    print('Test error: {0}'.format(test_error))"
   ]
  },
  {
   "cell_type": "code",
   "execution_count": 19,
   "metadata": {
    "collapsed": false
   },
   "outputs": [],
   "source": [
    "topicnames = ['topic{0}'.format(i) for i in range(n_topics)]\n",
    "authornames = ['author{0}'.format(i) for i in range(n_authors)]\n",
    "daynames = ['Day{0}'.format(i) for i in range(n_days)]\n",
    "# othernames = ['len','Times']\n",
    "othernames = ['Times']\n",
    "featurenames = topicnames + authornames + daynames + othernames\n",
    "features = data_from_sql[featurenames]\n",
    "viralityname = 'log_share_count'\n",
    "virality = data_from_sql[viralityname]"
   ]
  },
  {
   "cell_type": "code",
   "execution_count": 30,
   "metadata": {
    "collapsed": true
   },
   "outputs": [],
   "source": [
    "datasplit = split_data(data_from_sql)"
   ]
  },
  {
   "cell_type": "markdown",
   "metadata": {},
   "source": [
    "## Classification"
   ]
  },
  {
   "cell_type": "code",
   "execution_count": 117,
   "metadata": {
    "collapsed": true
   },
   "outputs": [],
   "source": [
    "def model_error_class(predicted,actual):\n",
    "    nobs = actual.size\n",
    "    return 1.0/nobs*np.sum((actual - predicted)**2)"
   ]
  },
  {
   "cell_type": "markdown",
   "metadata": {},
   "source": [
    "### Logistic Regression"
   ]
  },
  {
   "cell_type": "code",
   "execution_count": 123,
   "metadata": {
    "collapsed": true
   },
   "outputs": [],
   "source": [
    "fig = plt.figure(1)\n",
    "ax = fig.gca()\n",
    "ax = ax.matshow(data_from_sql[featurenames], cmap=plt.cm.gray)\n",
    "plt.show()"
   ]
  },
  {
   "cell_type": "code",
   "execution_count": 113,
   "metadata": {
    "collapsed": false
   },
   "outputs": [
    {
     "data": {
      "text/plain": [
       "LogisticRegression(C=1.0, class_weight=None, dual=False, fit_intercept=True,\n",
       "          intercept_scaling=1, max_iter=100, multi_class='ovr', n_jobs=1,\n",
       "          penalty='l2', random_state=None, solver='liblinear', tol=0.0001,\n",
       "          verbose=0, warm_start=False)"
      ]
     },
     "execution_count": 113,
     "metadata": {},
     "output_type": "execute_result"
    }
   ],
   "source": [
    "model = linear_model.LogisticRegression()\n",
    "model.fit(datatrain[featurenames],datatrain['bin_share_count'])"
   ]
  },
  {
   "cell_type": "markdown",
   "metadata": {},
   "source": [
    "### K-Nearest Neighbors"
   ]
  },
  {
   "cell_type": "code",
   "execution_count": null,
   "metadata": {
    "collapsed": true
   },
   "outputs": [],
   "source": [
    "model = neighbors.KNeighbors(n_neighbors=i)\n",
    "train_model(datasplit,model)"
   ]
  },
  {
   "cell_type": "markdown",
   "metadata": {},
   "source": [
    "## Regression"
   ]
  },
  {
   "cell_type": "code",
   "execution_count": 21,
   "metadata": {
    "collapsed": true
   },
   "outputs": [],
   "source": [
    "def model_error_regr(predicted,actual):\n",
    "    nobs = actual.size\n",
    "    return np.sqrt(1.0/(2.0*nobs)*np.sum((actual - predicted)**2))"
   ]
  },
  {
   "cell_type": "code",
   "execution_count": 22,
   "metadata": {
    "collapsed": true
   },
   "outputs": [],
   "source": [
    "def coeff_regr(predicted,actual):\n",
    "    avg = np.mean(actual)\n",
    "    sstot = np.sum((actual - avg)**2)\n",
    "    ssres = np.sum((actual - predicted)**2)\n",
    "    return 1 - ssres/sstot"
   ]
  },
  {
   "cell_type": "markdown",
   "metadata": {},
   "source": [
    "### Linear Regression"
   ]
  },
  {
   "cell_type": "code",
   "execution_count": 26,
   "metadata": {
    "collapsed": false
   },
   "outputs": [],
   "source": [
    "model = linear_model.Ridge(alpha=0.01)"
   ]
  },
  {
   "cell_type": "code",
   "execution_count": 27,
   "metadata": {
    "collapsed": false
   },
   "outputs": [
    {
     "data": {
      "text/plain": [
       "Ridge(alpha=0.01, copy_X=True, fit_intercept=True, max_iter=None,\n",
       "   normalize=False, random_state=None, solver='auto', tol=0.001)"
      ]
     },
     "execution_count": 27,
     "metadata": {},
     "output_type": "execute_result"
    }
   ],
   "source": [
    "model.fit(data_from_sql[featurenames],data_from_sql[viralityname])"
   ]
  },
  {
   "cell_type": "code",
   "execution_count": 31,
   "metadata": {
    "collapsed": false
   },
   "outputs": [
    {
     "name": "stdout",
     "output_type": "stream",
     "text": [
      "Training error: 0.405713867845\n",
      "Test error: 0.406994291855\n"
     ]
    }
   ],
   "source": [
    "train_model(datasplit,model,coeff_regr)"
   ]
  },
  {
   "cell_type": "code",
   "execution_count": 29,
   "metadata": {
    "collapsed": false
   },
   "outputs": [
    {
     "name": "stdout",
     "output_type": "stream",
     "text": [
      "('topic0', 0.50762146509506667)\n",
      "('topic1', 0.89120507538307059)\n",
      "('topic2', 0.53929200571150726)\n",
      "('topic3', -0.096595558036459028)\n",
      "('topic4', -1.9452356855667878)\n",
      "('topic5', 0.36449780046565722)\n",
      "('topic6', 0.74096907803541012)\n",
      "('topic7', -0.24979556839414763)\n",
      "('topic8', -0.07451408029289841)\n",
      "('topic9', 0.22159023432380848)\n",
      "('topic10', 1.2230921647984188)\n",
      "('topic11', -0.19365813139165167)\n",
      "('topic12', 0.12051363964154965)\n",
      "('topic13', -3.0108987043216335)\n",
      "('topic14', -0.71124580845752905)\n",
      "('topic15', 0.37739521216130728)\n",
      "('topic16', -0.71124580845752872)\n",
      "('topic17', 0.76443750299212287)\n",
      "('topic18', 0.40167132967147928)\n",
      "('topic19', 0.49993340882533027)\n",
      "('topic20', 0.175432754816645)\n",
      "('topic21', 0.40573452216028633)\n",
      "('topic22', 0.28681010988289024)\n",
      "('topic23', 0.65295488198866525)\n",
      "('topic24', -0.7112458084575296)\n",
      "('topic25', 0.25546133753306682)\n",
      "('topic26', -0.18963302805709875)\n",
      "('topic27', 0.41888035311873983)\n",
      "('topic28', 0.68827295829050461)\n",
      "('topic29', -0.069195868031741589)\n",
      "('topic30', 0.82593701834307576)\n",
      "('topic31', -0.71124580845752894)\n",
      "('topic32', 0.95880727764546247)\n",
      "('topic33', -0.12734177874190361)\n",
      "('topic34', 0.31811559529559852)\n",
      "('topic35', 0.75631850556576818)\n",
      "('topic36', 0.90142276446333658)\n",
      "('topic37', -0.14577976919355046)\n",
      "('topic38', 0.93379860721878971)\n",
      "('topic39', -0.71124580845752983)\n",
      "('topic40', 5.4553065484386911)\n",
      "('topic41', -0.71124580845752972)\n",
      "('topic42', -0.71124580845752905)\n",
      "('topic43', 0.18219868113341095)\n",
      "('topic44', -0.71124580845752927)\n",
      "('topic45', -0.71124580845752983)\n",
      "('topic46', 1.5177323785661618)\n",
      "('topic47', 1.2214700585451521)\n",
      "('topic48', 0.25898337543833255)\n",
      "('topic49', 0.84870157318541239)\n",
      "('author0', 0.5062009164949296)\n",
      "('author1', -0.12984899011998299)\n",
      "('author2', 0.045480239236044127)\n",
      "('author3', 0.83419473112027998)\n",
      "('author4', 0.41444099880360646)\n",
      "('author5', 0.23662080038979252)\n",
      "('author6', 0.41790490281119491)\n",
      "('author7', 0.33367340653871802)\n",
      "('author8', 0.2753362714140874)\n",
      "('author9', 0.48252164691440269)\n",
      "('author10', 0.076449842913044005)\n",
      "('author11', 0.45487541994867875)\n",
      "('author12', 0.1877485255548372)\n",
      "('author13', 0.42976789476625493)\n",
      "('author14', 0.22248711055584136)\n",
      "('author15', 0.74159665777340067)\n",
      "('author16', 0.97628898344065063)\n",
      "('author17', 0.19868641993012481)\n",
      "('author18', 0.25265142843986177)\n",
      "('author19', 0.062255311369729165)\n",
      "('author20', -0.55817191666819388)\n",
      "('author21', 0.55794215939415581)\n",
      "('author22', -0.12390029520338246)\n",
      "('author23', 1.3750852510541314)\n",
      "('author24', 0.05827302111031455)\n",
      "('author25', -0.99723824124820193)\n",
      "('author26', 0.4061690739395547)\n",
      "('author27', 1.0727110480394497)\n",
      "('author28', 0.37930233551233894)\n",
      "('author29', 0.44934325080273796)\n",
      "('author30', 0.19575124325576185)\n",
      "('author31', -0.18680234403127544)\n",
      "('author32', 0.68620834204950265)\n",
      "('author33', 0.19606017735237569)\n",
      "('author34', 0.74643342277322)\n",
      "('author35', -0.4540596370569554)\n",
      "('author36', -0.28748124995922292)\n",
      "('author37', 0.67573960967329438)\n",
      "('Day0', 1.5947685268647314)\n",
      "('Day1', 1.5850295534281857)\n",
      "('Day2', 1.5996934874493149)\n",
      "('Day3', 1.556563373546449)\n",
      "('Day4', 1.5476001417966887)\n",
      "('Day5', 1.5561162474560346)\n",
      "('Day6', 1.7709264385855981)\n",
      "('Times', 0.40768867104049161)\n"
     ]
    }
   ],
   "source": [
    "for featurename, coef in zip(featurenames, model.coef_):\n",
    "    print(featurename, coef)"
   ]
  },
  {
   "cell_type": "code",
   "execution_count": 105,
   "metadata": {
    "collapsed": true
   },
   "outputs": [],
   "source": [
    "model = neighbors.KNeighborsRegressor(n_neighbors=15)"
   ]
  },
  {
   "cell_type": "code",
   "execution_count": 106,
   "metadata": {
    "collapsed": false
   },
   "outputs": [
    {
     "name": "stdout",
     "output_type": "stream",
     "text": [
      "Training error: 0.187695875874\n",
      "Test error: 0.164337671611\n"
     ]
    }
   ],
   "source": [
    "train_model(datasplit,model,coeff_regr)"
   ]
  },
  {
   "cell_type": "markdown",
   "metadata": {},
   "source": [
    "## Random Forest"
   ]
  },
  {
   "cell_type": "code",
   "execution_count": 32,
   "metadata": {
    "collapsed": false
   },
   "outputs": [],
   "source": [
    "model = ensemble.RandomForestRegressor(n_estimators=50,max_features='sqrt')"
   ]
  },
  {
   "cell_type": "code",
   "execution_count": 33,
   "metadata": {
    "collapsed": false
   },
   "outputs": [
    {
     "name": "stdout",
     "output_type": "stream",
     "text": [
      "Training error: 0.912122608486\n",
      "Test error: 0.416150523842\n"
     ]
    }
   ],
   "source": [
    "train_model(datasplit,model,coeff_regr)"
   ]
  },
  {
   "cell_type": "code",
   "execution_count": 34,
   "metadata": {
    "collapsed": false
   },
   "outputs": [
    {
     "name": "stdout",
     "output_type": "stream",
     "text": [
      "('topic0', 0.016113590688795539)\n",
      "('topic1', 0.012569286062462416)\n",
      "('topic2', 0.012993126624976625)\n",
      "('topic3', 0.017150843868220234)\n",
      "('topic4', 0.018189730630492156)\n",
      "('topic5', 0.015281999709451115)\n",
      "('topic6', 0.018241100360228382)\n",
      "('topic7', 0.017642907919572997)\n",
      "('topic8', 0.023263893201275036)\n",
      "('topic9', 0.020831659833971627)\n",
      "('topic10', 0.015269594488074347)\n",
      "('topic11', 0.025576316421415179)\n",
      "('topic12', 0.016304727875491018)\n",
      "('topic13', 0.013555791673079182)\n",
      "('topic14', 0.022864942710206143)\n",
      "('topic15', 0.011904443909317467)\n",
      "('topic16', 0.018255845921001969)\n",
      "('topic17', 0.042958841366905351)\n",
      "('topic18', 0.017603706922945082)\n",
      "('topic19', 0.010032006531498905)\n",
      "('topic20', 0.014527498683396313)\n",
      "('topic21', 0.019122162838571547)\n",
      "('topic22', 0.016446883110110781)\n",
      "('topic23', 0.013964008186486016)\n",
      "('topic24', 0.0064503661125745208)\n",
      "('topic25', 0.020691828307924761)\n",
      "('topic26', 0.025338207447138189)\n",
      "('topic27', 0.015955776300474938)\n",
      "('topic28', 0.016160777178122407)\n",
      "('topic29', 0.011432557368965462)\n",
      "('topic30', 0.016560916628688468)\n",
      "('topic31', 0.014639762666886311)\n",
      "('topic32', 0.0097638138233520251)\n",
      "('topic33', 0.019163748375227684)\n",
      "('topic34', 0.015283826340881341)\n",
      "('topic35', 0.012201262796745795)\n",
      "('topic36', 0.016111145147395634)\n",
      "('topic37', 0.018004239682709606)\n",
      "('topic38', 0.019183850991551853)\n",
      "('topic39', 0.012658085342049907)\n",
      "('topic40', 0.014638333344531145)\n",
      "('topic41', 0.018533843984377674)\n",
      "('topic42', 0.015634063011427557)\n",
      "('topic43', 0.015112542087228594)\n",
      "('topic44', 0.019502941614664544)\n",
      "('topic45', 0.024830301525782836)\n",
      "('topic46', 0.02207470111523939)\n",
      "('topic47', 0.014150860680784669)\n",
      "('topic48', 0.01465373138478283)\n",
      "('topic49', 0.023632450009158559)\n",
      "('author0', 0.0087093107462889018)\n",
      "('author1', 0.00010564474793359567)\n",
      "('author2', 0.00023339277374957127)\n",
      "('author3', 0.00076263713652858264)\n",
      "('author4', 0.000255198186156656)\n",
      "('author5', 0.0029620846174778438)\n",
      "('author6', 0.00045245889869862521)\n",
      "('author7', 0.0011469633167495343)\n",
      "('author8', 0.00030817864641519594)\n",
      "('author9', 2.9821124907551507e-05)\n",
      "('author10', 0.00011415402354412427)\n",
      "('author11', 0.00050817436432466388)\n",
      "('author12', 0.0059025753335358311)\n",
      "('author13', 0.00033437212526156245)\n",
      "('author14', 5.7506245187357493e-05)\n",
      "('author15', 0.00089235281566536003)\n",
      "('author16', 0.0091607080392090996)\n",
      "('author17', 0.00029229755428590175)\n",
      "('author18', 0.00024281274883764751)\n",
      "('author19', 0.00034126386755512742)\n",
      "('author20', 0.004850442107552806)\n",
      "('author21', 0.00094659071500280726)\n",
      "('author22', 0.00020442325553746851)\n",
      "('author23', 0.010495978341951668)\n",
      "('author24', 0.0001338600696921285)\n",
      "('author25', 0.0072058272462078776)\n",
      "('author26', 3.1856160580043364e-05)\n",
      "('author27', 0.00015535774976292821)\n",
      "('author28', 0.00032650169503125855)\n",
      "('author29', 2.3221451091385267e-05)\n",
      "('author30', 0.00036791671108413844)\n",
      "('author31', 0.00030011340279017108)\n",
      "('author32', 0.00076057716442499632)\n",
      "('author33', 0.00051566693580366819)\n",
      "('author34', 0.00080476835518657728)\n",
      "('author35', 0.0041809908826686447)\n",
      "('author36', 6.9933586512292546e-05)\n",
      "('author37', 0.0013491118198398204)\n",
      "('Day0', 0.0024289075505078846)\n",
      "('Day1', 0.0022004611711718466)\n",
      "('Day2', 0.0024692561090448018)\n",
      "('Day3', 0.0026429219050243076)\n",
      "('Day4', 0.0019718569546019922)\n",
      "('Day5', 0.0024851895120069291)\n",
      "('Day6', 0.0080253782765421482)\n",
      "('Times', 0.049212140751454553)\n"
     ]
    }
   ],
   "source": [
    "for feature, importance in zip(featurenames,model.feature_importances_):\n",
    "    print(feature, importance)"
   ]
  },
  {
   "cell_type": "markdown",
   "metadata": {},
   "source": [
    "## K-Nearest Neighbors"
   ]
  },
  {
   "cell_type": "code",
   "execution_count": 105,
   "metadata": {
    "collapsed": false
   },
   "outputs": [
    {
     "name": "stdout",
     "output_type": "stream",
     "text": [
      "Training error: 0.998883446246\n",
      "Test error: -0.147600334939\n",
      "Training error: 0.716377900879\n",
      "Test error: 0.152592380258\n",
      "Training error: 0.619053854171\n",
      "Test error: 0.243409621316\n",
      "Training error: 0.569168974685\n",
      "Test error: 0.290740795355\n",
      "Training error: 0.535852162635\n",
      "Test error: 0.314018356802\n",
      "Training error: 0.515676841609\n",
      "Test error: 0.328033807347\n",
      "Training error: 0.500432695738\n",
      "Test error: 0.332794871677\n",
      "Training error: 0.488118540344\n",
      "Test error: 0.34068243082\n",
      "Training error: 0.478990621509\n",
      "Test error: 0.345101970322\n",
      "Training error: 0.469109110887\n",
      "Test error: 0.344840873636\n",
      "Training error: 0.461235157144\n",
      "Test error: 0.34593098155\n",
      "Training error: 0.454972515161\n",
      "Test error: 0.350557689176\n",
      "Training error: 0.448723296798\n",
      "Test error: 0.351332730917\n",
      "Training error: 0.444368263776\n",
      "Test error: 0.353331101435\n",
      "Training error: 0.439076912761\n",
      "Test error: 0.355747969173\n",
      "Training error: 0.437369664485\n",
      "Test error: 0.355988512055\n",
      "Training error: 0.43284801782\n",
      "Test error: 0.352899477027\n",
      "Training error: 0.429192621953\n",
      "Test error: 0.35384234248\n",
      "Training error: 0.424704593041\n",
      "Test error: 0.353192479167\n"
     ]
    }
   ],
   "source": [
    "for i in range(1,20):\n",
    "    model = neighbors.KNeighborsRegressor(n_neighbors=i)\n",
    "    train_model(datasplit,model,coeff_regr)"
   ]
  },
  {
   "cell_type": "code",
   "execution_count": null,
   "metadata": {
    "collapsed": true
   },
   "outputs": [],
   "source": []
  }
 ],
 "metadata": {
  "kernelspec": {
   "display_name": "Python 2",
   "language": "python",
   "name": "python2"
  },
  "language_info": {
   "codemirror_mode": {
    "name": "ipython",
    "version": 2
   },
   "file_extension": ".py",
   "mimetype": "text/x-python",
   "name": "python",
   "nbconvert_exporter": "python",
   "pygments_lexer": "ipython2",
   "version": "2.7.11"
  }
 },
 "nbformat": 4,
 "nbformat_minor": 0
}
