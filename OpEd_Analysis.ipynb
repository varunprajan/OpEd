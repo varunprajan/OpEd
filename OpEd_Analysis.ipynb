{
 "cells": [
  {
   "cell_type": "code",
   "execution_count": 3,
   "metadata": {
    "collapsed": false,
    "scrolled": false
   },
   "outputs": [],
   "source": [
    "import urllib2\n",
    "from bs4 import BeautifulSoup\n",
    "import re\n",
    "import nytimesarticle as nyta\n",
    "import urllib2\n",
    "import requests\n",
    "import csv\n",
    "import time\n",
    "import pandas as pd\n",
    "import numpy as np\n",
    "import nytimes_crawl as nytc\n",
    "import operator as op\n",
    "import text_processing\n",
    "%matplotlib inline"
   ]
  },
  {
   "cell_type": "code",
   "execution_count": 4,
   "metadata": {
    "collapsed": false
   },
   "outputs": [],
   "source": [
    "%load_ext autoreload\n",
    "%autoreload 2"
   ]
  },
  {
   "cell_type": "markdown",
   "metadata": {},
   "source": [
    "# Misc"
   ]
  },
  {
   "cell_type": "code",
   "execution_count": 3,
   "metadata": {
    "collapsed": true
   },
   "outputs": [],
   "source": [
    "names = ['one','two','three','four','five','six','seven','eight','nine','ten','eleven','twelve','thirteen','fourteen','fifteen']"
   ]
  },
  {
   "cell_type": "markdown",
   "metadata": {},
   "source": [
    "## Analysis"
   ]
  },
  {
   "cell_type": "markdown",
   "metadata": {},
   "source": [
    "### Scrape"
   ]
  },
  {
   "cell_type": "code",
   "execution_count": 8,
   "metadata": {
    "collapsed": false
   },
   "outputs": [],
   "source": [
    "reader1 = nytc.OpEdReader('one')\n",
    "reader1.save_oped_articles_all_pages(begindate='20160101',enddate='20160331')"
   ]
  },
  {
   "cell_type": "code",
   "execution_count": null,
   "metadata": {
    "collapsed": true
   },
   "outputs": [],
   "source": [
    "reader2 = nytc.OpEdReader('two')\n",
    "reader2.save_oped_articles_all_pages(begindate='20161001',enddate='20160107')"
   ]
  },
  {
   "cell_type": "code",
   "execution_count": null,
   "metadata": {
    "collapsed": true
   },
   "outputs": [],
   "source": [
    "reader3 = nytc.OpEdReader('three')\n",
    "reader3.save_oped_articles_all_pages(begindate='20150701',enddate='20151011')"
   ]
  },
  {
   "cell_type": "code",
   "execution_count": null,
   "metadata": {
    "collapsed": true
   },
   "outputs": [],
   "source": [
    "reader4 = nytc.OpEdReader('four')\n",
    "reader4.save_oped_articles_all_pages(begindate='20150401',enddate='20150717')"
   ]
  },
  {
   "cell_type": "code",
   "execution_count": null,
   "metadata": {
    "collapsed": true
   },
   "outputs": [],
   "source": [
    "reader5 = nytc.OpEdReader('five')\n",
    "reader5.save_oped_articles_all_pages(begindate='20150101',enddate='20150421')"
   ]
  },
  {
   "cell_type": "code",
   "execution_count": null,
   "metadata": {
    "collapsed": true
   },
   "outputs": [],
   "source": [
    "reader6 = nytc.OpEdReader('six')\n",
    "reader6.save_oped_articles_all_pages(begindate='20141001',enddate='20150125')"
   ]
  },
  {
   "cell_type": "markdown",
   "metadata": {},
   "source": [
    "### Load"
   ]
  },
  {
   "cell_type": "code",
   "execution_count": 4,
   "metadata": {
    "collapsed": false
   },
   "outputs": [],
   "source": [
    "reader1 = nytc.OpEdReader.init_from_file('one','one100.csv')\n",
    "reader2 = nytc.OpEdReader.init_from_file('two','two100.csv')\n",
    "reader3 = nytc.OpEdReader.init_from_file('three','three100.csv')\n",
    "reader4 = nytc.OpEdReader.init_from_file('four','four100.csv')\n",
    "reader5 = nytc.OpEdReader.init_from_file('five','five100.csv')\n",
    "reader6 = nytc.OpEdReader.init_from_file('six','six100.csv')\n",
    "reader7 = nytc.OpEdReader.init_from_file('seven','actual_seven100.csv')\n",
    "reader8 = nytc.OpEdReader.init_from_file('eight','seven100.csv')\n",
    "reader9 = nytc.OpEdReader.init_from_file('nine','eight100.csv')\n",
    "reader10 = nytc.OpEdReader.init_from_file('ten','nine100.csv')"
   ]
  },
  {
   "cell_type": "code",
   "execution_count": 5,
   "metadata": {
    "collapsed": false
   },
   "outputs": [],
   "source": [
    "readers = [reader1,reader2,reader3,reader4,reader5,reader6,reader7,reader8,reader9,reader10]"
   ]
  },
  {
   "cell_type": "markdown",
   "metadata": {},
   "source": [
    "### Eliminate 'Universal' Articles"
   ]
  },
  {
   "cell_type": "code",
   "execution_count": 6,
   "metadata": {
    "collapsed": false
   },
   "outputs": [],
   "source": [
    "def elim_universal_wrapper(reader):\n",
    "    print(reader.data.shape)\n",
    "    reader.elim_universal()\n",
    "    print(reader.data.shape)"
   ]
  },
  {
   "cell_type": "code",
   "execution_count": 7,
   "metadata": {
    "collapsed": false
   },
   "outputs": [
    {
     "name": "stdout",
     "output_type": "stream",
     "text": [
      "(947, 8)\n",
      "(940, 8)\n",
      "(952, 8)\n",
      "(943, 8)\n",
      "(959, 8)\n",
      "(948, 8)\n",
      "(945, 8)\n",
      "(941, 8)\n",
      "(944, 8)\n",
      "(929, 8)\n",
      "(955, 8)\n",
      "(954, 8)\n",
      "(953, 8)\n",
      "(953, 8)\n",
      "(967, 8)\n",
      "(967, 8)\n",
      "(965, 8)\n",
      "(964, 8)\n",
      "(948, 8)\n",
      "(948, 8)\n"
     ]
    }
   ],
   "source": [
    "for reader in readers:\n",
    "    elim_universal_wrapper(reader)"
   ]
  },
  {
   "cell_type": "markdown",
   "metadata": {},
   "source": [
    "# Text Manipulation"
   ]
  },
  {
   "cell_type": "markdown",
   "metadata": {},
   "source": [
    "## Foreign Language"
   ]
  },
  {
   "cell_type": "code",
   "execution_count": 8,
   "metadata": {
    "collapsed": false
   },
   "outputs": [],
   "source": [
    "def locate_foreign(tidiedtext,reader):\n",
    "    for idx, text in enumerate(tidiedtext):\n",
    "        if 'de' in text and 'la' in text:\n",
    "            print('Match')\n",
    "            print(idx)\n",
    "            print(text[:20])\n",
    "            print(reader.data['url'].iloc[idx])"
   ]
  },
  {
   "cell_type": "code",
   "execution_count": 9,
   "metadata": {
    "collapsed": true
   },
   "outputs": [],
   "source": [
    "def possible_matches(reader):\n",
    "    text = reader.data['full_text']\n",
    "    tidiedtext = []\n",
    "    for item in text:\n",
    "        try:\n",
    "            newtext = text_processing.tidy_text(item.decode('utf-8'))\n",
    "            tidiedtext.append(newtext)\n",
    "        except:\n",
    "            pass\n",
    "    locate_foreign(tidiedtext,reader)"
   ]
  },
  {
   "cell_type": "markdown",
   "metadata": {},
   "source": [
    "### Drop Foreign Articles and Nonsense Articles"
   ]
  },
  {
   "cell_type": "code",
   "execution_count": 10,
   "metadata": {
    "collapsed": false
   },
   "outputs": [],
   "source": [
    "def drop_rows_all(reader,indices):\n",
    "    print(reader.data.shape)\n",
    "    reader.drop_rows(indices)\n",
    "    print(reader.data.shape)\n",
    "    badidx = [i for i, item in enumerate(reader.data['full_text']) if not isinstance(item,str)]\n",
    "    reader.drop_rows(badidx)\n",
    "    csvfilename = '{0}_english{1}.csv'.format(reader.name,100)\n",
    "    reader.save_to_csv(csvfilename)"
   ]
  },
  {
   "cell_type": "code",
   "execution_count": 11,
   "metadata": {
    "collapsed": false,
    "scrolled": true
   },
   "outputs": [
    {
     "name": "stdout",
     "output_type": "stream",
     "text": [
      "(948, 8)\n",
      "(944, 8)\n",
      "(943, 8)\n",
      "(936, 8)\n",
      "(948, 8)\n",
      "(948, 8)\n",
      "(941, 8)\n",
      "(941, 8)\n",
      "(929, 8)\n",
      "(929, 8)\n",
      "(954, 8)\n",
      "(944, 8)\n",
      "(953, 8)\n",
      "(948, 8)\n",
      "(967, 8)\n",
      "(967, 8)\n",
      "(964, 8)\n",
      "(964, 8)\n",
      "(932, 8)\n",
      "(931, 8)\n"
     ]
    }
   ],
   "source": [
    "drop_rows_all(reader,[105,355,508,534])\n",
    "drop_rows_all(reader2,[55,396,459,504,516,542,549])\n",
    "drop_rows_all(reader3,[])\n",
    "drop_rows_all(reader4,[])\n",
    "drop_rows_all(reader5,[])\n",
    "drop_rows_all(reader6,[77,275,303,345,365,405,434,740,825,917])\n",
    "drop_rows_all(reader7,[46,120,152,174,202])\n",
    "drop_rows_all(reader8,[])\n",
    "drop_rows_all(reader9,[])\n",
    "drop_rows_all(reader10,[812])"
   ]
  },
  {
   "cell_type": "markdown",
   "metadata": {},
   "source": [
    "## Save Results"
   ]
  },
  {
   "cell_type": "code",
   "execution_count": 12,
   "metadata": {
    "collapsed": false
   },
   "outputs": [],
   "source": [
    "for name, reader in zip(names,readers):\n",
    "    filename = '{0}_english100.csv'.format(name)\n",
    "    reader.save_to_csv(filename)"
   ]
  },
  {
   "cell_type": "markdown",
   "metadata": {},
   "source": [
    "# Final Result"
   ]
  },
  {
   "cell_type": "code",
   "execution_count": 13,
   "metadata": {
    "collapsed": false
   },
   "outputs": [],
   "source": [
    "readers_english = []\n",
    "for name in names[:10]:\n",
    "    filename = '{0}_english100.csv'.format(name)\n",
    "    readername = '{0}_english'.format(name)\n",
    "    newreader = nytc.OpEdReader.init_from_file(readername,filename)\n",
    "    readers_english.append(newreader)"
   ]
  },
  {
   "cell_type": "markdown",
   "metadata": {},
   "source": [
    "# Join All"
   ]
  },
  {
   "cell_type": "code",
   "execution_count": 14,
   "metadata": {
    "collapsed": true
   },
   "outputs": [],
   "source": [
    "dataall = pd.concat([reader.data for reader in readers_english])\n",
    "dataall = dataall.reset_index(drop=True);"
   ]
  },
  {
   "cell_type": "markdown",
   "metadata": {},
   "source": [
    "# Fix Bad Names!"
   ]
  },
  {
   "cell_type": "code",
   "execution_count": 15,
   "metadata": {
    "collapsed": true
   },
   "outputs": [],
   "source": [
    "import time"
   ]
  },
  {
   "cell_type": "code",
   "execution_count": 16,
   "metadata": {
    "collapsed": true
   },
   "outputs": [],
   "source": [
    "def get_author_name(url):\n",
    "    soup = nytc.soupify_url(url)\n",
    "    time.sleep(2)\n",
    "    tag = soup.findAll('meta',{'name':'author'})[0]\n",
    "    return tag.get('content')"
   ]
  },
  {
   "cell_type": "code",
   "execution_count": 17,
   "metadata": {
    "collapsed": false
   },
   "outputs": [],
   "source": [
    "def get_last_name(authorname):\n",
    "    return authorname.split()[-1]"
   ]
  },
  {
   "cell_type": "code",
   "execution_count": 18,
   "metadata": {
    "collapsed": true
   },
   "outputs": [],
   "source": [
    "def fix_bad_name(dataall,firstnamecheck):\n",
    "    res = []\n",
    "    for url, firstname, lastname in zip(dataall['url'],dataall['first_name'],dataall['last_name']):\n",
    "        if firstname == firstnamecheck and pd.isnull(lastname):\n",
    "            print(url)\n",
    "            authorname = get_author_name(url)\n",
    "            lastnamenew = get_last_name(authorname).lower()\n",
    "        else:\n",
    "            lastnamenew = lastname\n",
    "        res.append(lastnamenew)\n",
    "    dataall['last_name'] = res\n",
    "    return dataall"
   ]
  },
  {
   "cell_type": "code",
   "execution_count": 19,
   "metadata": {
    "collapsed": false,
    "scrolled": true
   },
   "outputs": [
    {
     "name": "stdout",
     "output_type": "stream",
     "text": [
      "http://www.nytimes.com/2016/03/31/opinion/campaign-stops/bernie-or-bust-is-bonkers.html\n",
      "http://www.nytimes.com/2016/03/28/opinion/republican-self-destruction.html\n",
      "http://www.nytimes.com/2016/03/24/opinion/dangerous-world-serious-leaders.html\n",
      "http://www.nytimes.com/2016/03/21/opinion/learning-lessons-from-outrage.html\n",
      "http://www.nytimes.com/2016/03/17/opinion/campaign-stops/a-bernie-blackout.html\n",
      "http://www.nytimes.com/2016/03/14/opinion/carson-endorses-the-demagogue.html\n",
      "http://www.nytimes.com/2016/03/10/opinion/sanders-surprises.html\n",
      "http://www.nytimes.com/2016/03/07/opinion/the-end-of-american-idealism.html\n",
      "http://www.nytimes.com/2016/03/03/opinion/campaign-stops/demagogue-for-president.html\n",
      "http://www.nytimes.com/2016/02/29/opinion/im-not-a-super-predator.html\n",
      "http://www.nytimes.com/2016/02/25/opinion/campaign-stops/clinton-sanders-and-southern-voters.html\n",
      "http://www.nytimes.com/2016/02/22/opinion/bernie-sanders-hits-a-roadblock.html\n",
      "http://www.nytimes.com/2016/02/18/opinion/campaign-stops/politics-all-in-my-family.html\n",
      "http://www.nytimes.com/2016/02/15/opinion/the-fire-meets-the-wall.html\n",
      "http://www.nytimes.com/2016/02/11/opinion/campaign-stops/stop-bernie-splaining-to-black-voters.html\n",
      "http://www.nytimes.com/2016/02/08/opinion/hillary-has-half-a-dream.html\n",
      "http://www.nytimes.com/2016/02/04/opinion/white-americas-broken-heart.html\n",
      "http://www.nytimes.com/2016/02/01/opinion/iowas-black-caucusgoers.html\n",
      "http://www.nytimes.com/2016/01/28/opinion/campaign-stops/hillary-clintons-crucible.html\n",
      "http://www.nytimes.com/2016/01/25/opinion/hillary-clinton-stumbles.html\n",
      "http://www.nytimes.com/2016/01/21/opinion/the-poisoning-of-flints-water.html\n",
      "http://www.nytimes.com/2016/01/18/opinion/gop-and-the-apocalypse.html\n",
      "http://www.nytimes.com/2016/01/14/opinion/the-other-obama-legacy.html\n",
      "http://www.nytimes.com/2016/01/07/opinion/gun-control-and-white-terror.html\n",
      "http://www.nytimes.com/2015/12/21/opinion/the-years-biggest-social-justice-stories.html\n",
      "http://www.nytimes.com/2015/12/18/opinion/freddie-gray-and-the-meaning-of-justice.html\n",
      "http://www.nytimes.com/2015/12/17/opinion/campaign-stops/republican-insecurity.html\n",
      "http://www.nytimes.com/2015/12/14/opinion/first-time-at-a-gun-show.html\n",
      "http://www.nytimes.com/2015/12/12/opinion/after-skelos-and-silver-how-to-save-albany.html\n",
      "http://www.nytimes.com/2015/12/10/opinion/a-crass-act.html\n",
      "http://www.nytimes.com/2015/12/03/opinion/chicanery-in-chicago.html\n",
      "http://www.nytimes.com/2015/11/30/opinion/laquan-mcdonald-and-the-system.html\n",
      "http://www.nytimes.com/2015/11/24/opinion/a-year-without-tamir.html\n",
      "http://www.nytimes.com/2015/11/23/opinion/anti-muslim-is-anti-american.html\n",
      "http://www.nytimes.com/2015/11/16/opinion/race-college-and-safe-space.html\n",
      "http://www.nytimes.com/2015/11/12/opinion/campaign-stops/gop-debate-doldrums.html\n",
      "http://www.nytimes.com/2015/11/09/opinion/ben-carson-and-the-truth.html\n",
      "http://www.nytimes.com/2015/11/05/opinion/suicide-of-a-dishonest-officer.html\n",
      "http://www.nytimes.com/2015/11/02/opinion/gotcha-gop.html\n",
      "http://www.nytimes.com/2015/10/28/opinion/a-movement-has-its-moment.html\n",
      "http://www.nytimes.com/2015/10/26/opinion/hillary-clinton-wins-again.html\n",
      "http://www.nytimes.com/2015/10/15/opinion/hillary-clinton-the-queen-came-to-play.html\n",
      "http://www.nytimes.com/2015/10/08/opinion/with-ben-carson-the-doctor-is-always-out.html\n",
      "http://www.nytimes.com/2015/10/05/opinion/charles-m-blow-on-guns-fear-is-winning.html\n",
      "http://www.nytimes.com/2015/10/01/opinion/jeb-bush-crying-out-loud.html\n",
      "http://www.nytimes.com/2015/09/28/opinion/charles-m-blow-jeb-bush-free-stuff-and-black-folks.html\n",
      "http://www.nytimes.com/2015/09/24/opinion/charles-blow-the-soft-bigotry-of-ben-carson.html\n",
      "http://www.nytimes.com/2015/09/21/opinion/charles-m-blow-dont-coronate-carly-fiorina-just-yet.html\n",
      "http://www.nytimes.com/2015/09/17/opinion/charles-blow-race-relations-out-at-republican-debates.html\n",
      "http://www.nytimes.com/2015/09/14/opinion/charles-m-blow-bernie-sanders-and-the-black-vote.html\n",
      "http://www.nytimes.com/2015/09/10/opinion/hillary-is-hobbling-for-now.html\n",
      "http://www.nytimes.com/2015/09/07/opinion/charles-m-blow-sexual-attraction-and-fluidity.html\n",
      "http://www.nytimes.com/2015/09/03/opinion/charles-blow-ratcheting-up-the-rhetoric.html\n",
      "http://www.nytimes.com/2015/08/31/opinion/charles-m-blow-60-years-later-echoes-of-emmett-tills-killing.html\n",
      "http://www.nytimes.com/2015/08/27/opinion/enough-is-enough.html\n",
      "http://www.nytimes.com/2015/08/20/opinion/charles-blow-black-lives-matter-activists-confront-hillary-clinton.html\n",
      "http://www.nytimes.com/2015/08/17/opinion/activists-feel-the-bern.html\n",
      "http://www.nytimes.com/2015/08/13/opinion/police-abuse-is-a-form-of-terror.html\n",
      "http://www.nytimes.com/2015/08/10/opinion/charles-m-blow-black-lives-matter-and-the-gop.html\n",
      "http://www.nytimes.com/2015/08/06/opinion/charles-blow-darren-wilsons-quest-for-distance.html\n",
      "http://www.nytimes.com/2015/07/31/opinion/charles-blow-the-dubose-family-grieving-but-determined.html\n",
      "http://www.nytimes.com/2015/07/30/opinion/charles-blow-the-shooting-of-samuel-dubose.html\n",
      "http://www.nytimes.com/2015/07/27/opinion/charles-blow-at-sandra-blands-funeral-celebration-and-defiance.html\n",
      "http://www.nytimes.com/2015/07/23/opinion/charles-m-blow-some-questions-about-the-sandra-bland-case.html\n",
      "http://www.nytimes.com/2015/07/20/opinion/charles-blow-sandra-and-kindra-suicides-or-something-sinister.html\n",
      "http://www.nytimes.com/2015/07/16/opinion/trump-builds-one-brand-and-damages-another.html\n",
      "http://www.nytimes.com/2015/07/13/opinion/charles-blow-a-bias-more-than-skin-deep.html\n",
      "http://www.nytimes.com/2015/07/09/opinion/charles-m-blow-black-lives-and-books-of-the-dead.html\n",
      "http://www.nytimes.com/2015/06/29/opinion/charles-blow-my-murdered-cousin-had-a-name.html\n",
      "http://www.nytimes.com/2015/06/25/opinion/charles-blow-confederate-flags-and-institutional-racism.html\n",
      "http://www.nytimes.com/2015/06/22/opinion/charles-blow-in-charleston-a-millennial-race-terrorist.html\n",
      "http://www.nytimes.com/2015/06/18/opinion/charles-blow-the-delusions-of-dolezal.html\n",
      "http://www.nytimes.com/2015/06/15/opinion/charles-blow-jeb-bush-and-single-mothers.html\n",
      "http://www.nytimes.com/2015/06/08/opinion/charles-blow-black-dads-are-doing-the-best-of-all.html\n",
      "http://www.nytimes.com/2015/06/04/opinion/charles-m-blow-romanticizing-broken-windows-policing.html\n",
      "http://www.nytimes.com/2015/06/01/opinion/charles-blow-surviving-child-sexual-abuse.html\n",
      "http://www.nytimes.com/2015/05/28/opinion/charles-blow-the-rise-of-social-liberalism-and-gop-resistance.html\n",
      "http://www.nytimes.com/2015/05/25/opinion/charles-blow-restoring-memoriam-to-memorial-day.html\n",
      "http://www.nytimes.com/2015/05/21/opinion/charles-blow-of-bikers-and-thugs.html\n",
      "http://www.nytimes.com/2015/05/18/opinion/charles-blow-unaffiliated-and-underrepresented.html\n",
      "http://www.nytimes.com/2015/05/14/opinion/charles-blow-the-president-fox-news-the-poor.html\n",
      "http://www.nytimes.com/2015/05/11/opinion/charles-blow-of-museums-and-racial-relics.html\n",
      "http://www.nytimes.com/2015/05/04/opinion/charles-blow-restoring-faith-in-justice.html\n",
      "http://www.nytimes.com/2015/04/30/opinion/charles-blow-violence-in-baltimore.html\n",
      "http://www.nytimes.com/2015/04/27/opinion/charles-blow-lynch-mob-misuse-of-language.html\n",
      "http://www.nytimes.com/2015/04/20/opinion/charles-blow-has-the-nra-won.html\n",
      "http://www.nytimes.com/2015/04/16/opinion/charles-blow-woe-of-white-men-again.html\n",
      "http://www.nytimes.com/2015/04/13/opinion/charles-blow-walter-scott-is-not-on-trial.html\n",
      "http://www.nytimes.com/2015/04/09/opinion/charles-blow-walter-scott-video-south-carolina-shooting-michael-slager.html\n",
      "http://www.nytimes.com/2015/04/07/opinion/charles-blow-did-rolling-stone-hurt-the-quest-for-justice.html\n",
      "http://www.nytimes.com/2015/04/02/opinion/charles-blow-religious-freedom-vs-individual-equality.html\n",
      "http://www.nytimes.com/2015/03/30/opinion/charles-blow-the-beating-of-floyd-dent.html\n",
      "http://www.nytimes.com/2015/03/26/opinion/charles-blow-officer-race-matters-less-than-you-think.html\n",
      "http://www.nytimes.com/2015/03/23/opinion/charles-blow-gov-jindals-implosion.html\n",
      "http://www.nytimes.com/2015/03/19/opinion/charles-blow-stop-playing-the-race-card-card.html\n",
      "http://www.nytimes.com/2015/03/16/opinion/charles-m-blow-flash-point-ferguson.html\n",
      "http://www.nytimes.com/2015/03/12/opinion/charles-m-blow-university-of-oklahoma-fraternity-chant-rigidity-of-racism.html\n",
      "http://www.nytimes.com/2015/03/09/opinion/charles-blow-obama-and-selma-the-meaning-of-bloody-sunday.html\n",
      "http://www.nytimes.com/2015/03/05/opinion/charles-blow-the-feds-vs-ferguson.html\n",
      "http://www.nytimes.com/2015/03/02/opinion/charles-blow-cpac-hackneyed-and-hollow.html\n",
      "http://www.nytimes.com/2015/02/23/opinion/charles-blow-who-loves-america.html\n",
      "http://www.nytimes.com/2015/02/19/opinion/charles-blow-the-obama-years.html\n",
      "http://www.nytimes.com/2015/02/16/opinion/charles-blow-a-kaffeeklatsch-on-race.html\n",
      "http://www.nytimes.com/2015/02/09/opinion/charles-blow-beyond-black-lives-matter.html\n",
      "http://www.nytimes.com/2015/02/02/opinion/charles-blow-a-future-segregated-by-science.html\n",
      "http://www.nytimes.com/2015/01/28/opinion/charles-blow-reducing-our-obscene-level-of-child-poverty.html\n",
      "http://www.nytimes.com/2015/01/22/opinion/charles-blow-inequality-in-the-air-we-breathe.html\n",
      "http://www.nytimes.com/2015/01/19/opinion/charles-blow-how-expensive-it-is-to-be-poor.html\n",
      "http://www.nytimes.com/2015/01/15/opinion/charles-blow-the-complexity-of-deadly-force.html\n",
      "http://www.nytimes.com/2015/01/12/opinion/charles-m-blow-tamir-rice-and-the-value-of-life.html\n",
      "http://www.nytimes.com/2015/01/08/opinion/charles-blow-who-should-apologize-in-police-conflict.html\n",
      "http://www.nytimes.com/2015/01/05/opinion/charles-blow-privilege-of-arrest-without-incident.html\n",
      "http://www.nytimes.com/2015/01/01/opinion/charles-m-blow-look-back-to-move-forward.html\n",
      "http://www.nytimes.com/2014/12/22/opinion/charles-blow-pursuing-justice-for-all.html\n",
      "http://www.nytimes.com/2014/12/18/opinion/charles-blow-the-obamas-race-and-slights.html\n",
      "http://www.nytimes.com/2014/12/15/opinion/charles-m-blow-america-who-are-we.html\n",
      "http://www.nytimes.com/2014/12/11/opinion/charles-blow-this-is-your-moment.html\n",
      "http://www.nytimes.com/2014/12/08/opinion/charles-blow-from-eric-garner-and-michael-brown-to-the-ballot-box.html\n",
      "http://www.nytimes.com/2014/12/04/opinion/charles-blow-first-michael-brown-now-eric-garner.html\n",
      "http://www.nytimes.com/2014/12/01/opinion/charles-blow-crime-and-punishment.html\n",
      "http://www.nytimes.com/2014/11/27/opinion/charles-blow-fury-after-ferguson.html\n",
      "http://www.nytimes.com/2014/11/24/opinion/charles-blow-bigger-than-immigration.html\n",
      "http://www.nytimes.com/2014/11/20/opinion/charles-blow-the-solid-south-will-rise-again.html\n",
      "http://www.nytimes.com/2014/11/17/opinion/charles-m-blow-partisanship-breaks-the-government.html\n",
      "http://www.nytimes.com/2014/11/13/opinion/charles-blow-race-to-the-finish.html\n",
      "http://www.nytimes.com/2014/11/10/opinion/charles-blow-the-obama-opposition.html\n",
      "http://www.nytimes.com/2014/11/06/opinion/charles-blow-republican-party-looking-back-looking-forward.html\n",
      "http://www.nytimes.com/2014/11/03/opinion/charles-blow-blacks-obama-and-the-election.html\n",
      "http://www.nytimes.com/2014/10/30/opinion/charles-blow-the-ebola-hysteria.html\n",
      "http://www.nytimes.com/2014/09/21/opinion/sunday/charles-blow-up-from-pain.html\n",
      "http://www.nytimes.com/2014/09/18/opinion/charles-blow-on-spanking-and-abuse.html\n",
      "http://www.nytimes.com/2014/09/15/opinion/charles-blow-ray-rice-and-his-rage.html\n",
      "http://www.nytimes.com/2014/09/11/opinion/charles-blow-the-cost-of-war.html\n",
      "http://www.nytimes.com/2014/09/08/opinion/charles-blow-crime-bias-and-statistics.html\n",
      "http://www.nytimes.com/2014/09/04/opinion/isis-deep-in-the-heart-of-texas.html\n",
      "http://www.nytimes.com/2014/09/01/opinion/charles-blow-the-politics-of-the-isis-threat.html\n",
      "http://www.nytimes.com/2014/08/28/opinion/charles-blow-bill-oreilly-and-white-privilege.html\n",
      "http://www.nytimes.com/2014/08/25/opinion/charles-blow-a-funeral-in-ferguson-michael-brown.html\n",
      "http://www.nytimes.com/2014/08/21/opinion/charles-blow-constructing-a-conversation-on-race.html\n",
      "http://www.nytimes.com/2014/08/18/opinion/charles-m-blow-frustration-in-ferguson.html\n",
      "http://www.nytimes.com/2014/08/14/opinion/charles-blow-michael-brown-and-black-men.html\n",
      "http://www.nytimes.com/2014/08/11/opinion/charles-blow-intervening-in-our-name.html\n",
      "http://www.nytimes.com/2014/08/04/opinion/charles-blow-the-do-even-less-congress.html\n",
      "http://www.nytimes.com/2014/07/31/opinion/charles-blow-age-of-identity.html\n",
      "http://www.nytimes.com/2014/07/28/opinion/charles-blow-the-republican-move-to-sue-obama.html\n",
      "http://www.nytimes.com/2014/07/24/opinion/charles-blow-paul-ryan-and-his-poverty-prophet.html\n",
      "http://www.nytimes.com/2014/07/17/opinion/tears-for-the-border-children.html\n",
      "http://www.nytimes.com/2014/07/14/opinion/charles-blow-boehners-empty-charge-against-obama.html\n",
      "http://www.nytimes.com/2014/07/10/opinion/charles-blow-the-crisis-of-children-at-the-border.html\n",
      "http://www.nytimes.com/2014/07/07/opinion/charles-blow-democrats-face-a-tough-fight-to-hold-the-senate.html\n",
      "http://www.nytimes.com/2014/07/03/opinion/charles-blow-barack-the-bear.html\n",
      "http://www.nytimes.com/2014/06/23/opinion/charles-m-blow-voter-frustration-with-washington.html\n",
      "http://www.nytimes.com/2014/06/19/opinion/charles-blow-the-gall-of-dick-cheney.html\n",
      "http://www.nytimes.com/2014/06/16/opinion/charles-blow-politics-grow-more-partisan-than-ever.html\n",
      "http://www.nytimes.com/2014/06/12/opinion/charles-m-blow-the-cantor-omen.html\n",
      "http://www.nytimes.com/2014/06/09/opinion/blow-religious-constriction.html\n",
      "http://www.nytimes.com/2014/06/02/opinion/blow-yes-all-men.html\n",
      "http://www.nytimes.com/2014/05/28/opinion/blow-what-maya-angelou-meant-to-me.html\n",
      "http://www.nytimes.com/2014/05/26/opinion/blow-rebutting-mark-cuban-on-bigotry.html\n",
      "http://www.nytimes.com/2014/05/22/opinion/blow-still-a-nation-of-immigrants.html\n",
      "http://www.nytimes.com/2014/05/19/opinion/blow-poverty-is-not-a-state-of-mind.html\n",
      "http://www.nytimes.com/2014/05/15/opinion/blow-the-aids-shaming-of-magic-johnson.html\n",
      "http://www.nytimes.com/2014/05/08/opinion/blow-in-college-nurturing-matters.html\n",
      "http://www.nytimes.com/2014/05/05/opinion/blow-eye-for-an-eye-incivility.html\n",
      "http://www.nytimes.com/2014/05/01/opinion/blow-deep-in-the-heart-of-don.html\n",
      "http://www.nytimes.com/2014/04/26/opinion/blow-a-ranchers-romantic-revisionism.html\n",
      "http://www.nytimes.com/2014/04/24/opinion/blow-lions-to-the-ballot-box.html\n",
      "http://www.nytimes.com/2014/04/19/opinion/blow-obamacare-bashing-or-bust.html\n",
      "http://www.nytimes.com/2014/04/17/opinion/minimum-wage-maximum-outrage.html\n",
      "http://www.nytimes.com/2014/04/12/opinion/blow-the-self-sort.html\n",
      "http://www.nytimes.com/2014/04/10/opinion/blow-we-should-be-in-a-rage.html\n",
      "http://www.nytimes.com/2014/03/29/opinion/blow-the-split-of-the-ages.html\n",
      "http://www.nytimes.com/2014/03/27/opinion/blow-crimea-and-punishment.html\n",
      "http://www.nytimes.com/2014/03/22/opinion/blow-paul-ryan-culture-and-poverty.html\n",
      "http://www.nytimes.com/2014/03/15/opinion/blow-we-cant-grow-the-gap-away.html\n",
      "http://www.nytimes.com/2014/03/13/opinion/blow-bossy-pants.html\n",
      "http://www.nytimes.com/2014/03/08/opinion/blow-the-self-ie-generation.html\n",
      "http://www.nytimes.com/2014/03/06/opinion/blow-republicans-place-the-wrong-bet.html\n",
      "http://www.nytimes.com/2014/03/01/opinion/blow-fathers-sons-and-brothers-keepers.html\n",
      "http://www.nytimes.com/2014/02/27/opinion/blow-no-country-for-old-mores.html\n",
      "http://www.nytimes.com/2014/02/22/opinion/blow-accommodating-divisiveness.html\n",
      "http://www.nytimes.com/2014/02/20/opinion/the-bias-against-black-bodies.html\n",
      "http://www.nytimes.com/2014/02/13/opinion/blow-thomas-speaks-blindly-about-race.html\n",
      "http://www.nytimes.com/2014/02/08/opinion/blow-a-pen-a-phone-and-a-meme.html\n",
      "http://www.nytimes.com/2014/02/06/opinion/blow-williams-the-princess-and-the-gender-pay-gap.html\n",
      "http://www.nytimes.com/2014/02/01/opinion/the-masculine-mistake.html\n",
      "http://www.nytimes.com/2014/01/30/opinion/blow-the-incredible-shrinking-presidency.html\n",
      "http://www.nytimes.com/2014/01/25/opinion/the-penance-of-glenn-beck.html\n",
      "http://www.nytimes.com/2014/01/23/opinion/blow-reading-books-is-fundamental.html\n",
      "http://www.nytimes.com/2014/01/16/opinion/blow-pro-progressive-is-better-than-anti-christie.html\n",
      "http://www.nytimes.com/2014/01/11/opinion/blow-sex-is-not-our-problem.html\n",
      "http://www.nytimes.com/2014/01/09/opinion/blow-as-the-political-world-turns.html\n",
      "http://www.nytimes.com/2014/01/04/opinion/blow-indoctrinating-religious-warriors.html\n",
      "http://www.nytimes.com/2013/12/28/opinion/blow-greeting-the-new-year.html\n",
      "http://www.nytimes.com/2013/12/21/opinion/blow-duck-dynasty-and-quackery.html\n",
      "http://www.nytimes.com/2013/12/19/opinion/blow-defining-moments-and-crystal-stairs.html\n",
      "http://www.nytimes.com/2013/12/12/opinion/blow-the-appalling-stance-of-rand-paul.html\n",
      "http://www.nytimes.com/2013/12/07/opinion/a-lesson-before-dying.html\n",
      "http://www.nytimes.com/2013/12/05/opinion/blow-the-president-the-pope-and-the-people.html\n",
      "http://www.nytimes.com/2016/03/30/opinion/campaign-stops/who-are-the-angriest-republicans.html\n",
      "http://www.nytimes.com/2016/03/23/opinion/campaign-stops/the-republican-crackup.html\n",
      "http://www.nytimes.com/2016/03/16/opinion/campaign-stops/will-the-democrats-ever-face-an-african-american-revolt.html\n",
      "http://www.nytimes.com/2016/03/09/opinion/campaign-stops/donald-trump-the-winning-wild-card.html\n",
      "http://www.nytimes.com/2016/03/02/opinion/campaign-stops/why-trump-now.html\n",
      "http://www.nytimes.com/2016/02/24/opinion/campaign-stops/the-trump-sanders-fantasy.html\n",
      "http://www.nytimes.com/2016/02/10/opinion/campaign-stops/what-about-ted-cruz.html\n",
      "http://www.nytimes.com/2016/01/27/opinion/campaign-stops/boom-or-gloom.html\n",
      "http://www.nytimes.com/2016/01/20/opinion/campaign-stops/the-price-of-republican-orthodoxy.html\n",
      "http://www.nytimes.com/2016/01/13/opinion/campaign-stops/the-republican-partys-50-state-solution.html\n",
      "http://www.nytimes.com/2016/01/06/opinion/campaign-stops/purity-disgust-and-donald-trump.html\n",
      "http://www.nytimes.com/2015/12/23/opinion/trump-obama-and-the-assault-on-political-correctness.html\n",
      "http://www.nytimes.com/2015/12/16/opinion/campaign-stops/can-this-really-be-donald-trumps-republican-party.html\n",
      "http://www.nytimes.com/2015/12/09/opinion/campaign-stops/hillary-clintons-toughness.html\n",
      "http://www.nytimes.com/2015/12/02/opinion/campaign-stops/donald-trumps-appeal.html\n",
      "http://www.nytimes.com/2015/11/25/opinion/campaign-stops/paris-and-the-presidential-election.html\n",
      "http://www.nytimes.com/2015/11/18/opinion/campaign-stops/euro-trump.html\n",
      "http://www.nytimes.com/2015/11/11/opinion/campaign-stops/how-much-do-black-lives-matter-to-the-presidential-campaign.html\n",
      "http://www.nytimes.com/2015/11/04/opinion/why-are-asian-americans-such-loyal-democrats.html\n",
      "http://www.nytimes.com/2015/10/28/opinion/is-there-a-silver-lining-to-citizens-united.html\n",
      "http://www.nytimes.com/2015/10/21/opinion/crimes-without-punishment.html\n",
      "http://www.nytimes.com/2015/10/07/opinion/how-did-the-democrats-become-favorites-of-the-rich.html\n",
      "http://www.nytimes.com/2015/10/07/opinion/how-did-the-democrats-become-favorites-of-the-rich.html\n",
      "http://www.nytimes.com/2015/09/30/opinion/what-if-all-politics-is-national.html\n",
      "http://www.nytimes.com/2015/09/23/opinion/hurricane-trump.html\n",
      "http://www.nytimes.com/2015/09/16/opinion/can-anything-be-done-about-all-the-money-in-politics.html\n",
      "http://www.nytimes.com/2015/09/09/opinion/whose-neighborhood-is-it.html\n",
      "http://www.nytimes.com/2015/09/02/opinion/what-donald-trump-understands-about-republicans.html\n",
      "http://www.nytimes.com/2015/08/26/opinion/the-republican-conception-of-conception.html\n",
      "http://www.nytimes.com/2015/08/05/opinion/where-should-a-poor-family-live.html\n",
      "http://www.nytimes.com/2015/07/15/opinion/edsall-who-will-pay-the-political-price-for-affordable-housing.html\n",
      "http://www.nytimes.com/2015/07/08/opinion/thomas-b-edsall-whose-party-is-it-anyway.html\n",
      "http://www.nytimes.com/2015/07/01/opinion/woe-to-you-who-are-at-ease-in-zion.html\n",
      "http://www.nytimes.com/2015/06/24/opinion/why-dont-the-poor-rise-up.html\n",
      "http://www.nytimes.com/2015/06/17/opinion/can-hillary-clinton-be-a-woman-of-the-people.html\n",
      "http://www.nytimes.com/2015/06/10/opinion/the-lobbying-bonanza.html\n",
      "http://www.nytimes.com/2015/06/03/opinion/how-do-we-get-more-people-to-have-good-lives.html\n",
      "http://www.nytimes.com/2015/05/06/opinion/sex-drugs-and-poverty-in-red-and-blue-america.html\n",
      "http://www.nytimes.com/2015/04/29/opinion/thomas-b-edsall-repositioning-scott-walker.html\n",
      "http://www.nytimes.com/2015/04/15/opinion/has-obamacare-turned-voters-against-sharing-the-wealth.html\n",
      "http://www.nytimes.com/2015/04/08/opinion/will-infighting-help-the-republicans-in-2016.html\n",
      "http://www.nytimes.com/2015/04/01/opinion/thomas-edsall-has-american-business-lost-its-mojo.html\n",
      "http://www.nytimes.com/2015/03/25/opinion/how-poor-are-the-poor.html\n",
      "http://www.nytimes.com/2015/03/04/opinion/establishment-populism-rising.html\n",
      "http://www.nytimes.com/2015/02/25/opinion/the-gentrification-effect.html\n",
      "http://www.nytimes.com/2015/02/11/opinion/thomas-b-edsall-the-republican-discovery-of-the-poor.html\n",
      "http://www.nytimes.com/2015/02/04/opinion/the-problem-with-middle-class-populism.html\n",
      "http://www.nytimes.com/2015/01/28/opinion/how-did-politics-get-so-personal.html\n",
      "http://www.nytimes.com/2015/01/21/opinion/can-capitalists-save-capitalism.html\n",
      "http://www.nytimes.com/2015/01/14/opinion/can-jeb-bush-defy-the-tea-party-and-win.html\n",
      "http://www.nytimes.com/2015/01/07/opinion/cory-gardner-losing-the-tea-party-baggage.html\n",
      "http://www.nytimes.com/2014/12/17/opinion/the-rise-of-welfare-chauvinism.html\n",
      "http://www.nytimes.com/2014/12/10/opinion/have-democrats-failed-the-white-working-class.html\n",
      "http://www.nytimes.com/2014/12/03/opinion/is-obamacare-destroying-the-democratic-party.html\n",
      "http://www.nytimes.com/2014/11/26/opinion/who-will-save-the-democratic-party-from-itself.html\n",
      "http://www.nytimes.com/2014/11/19/opinion/republicans-sure-love-to-hate-unions.html\n",
      "http://www.nytimes.com/2014/11/12/opinion/thomas-edsall-the-demise-of-the-white-democratic-voter.html\n",
      "http://www.nytimes.com/2014/11/05/opinion/making-the-president-small.html\n",
      "http://www.nytimes.com/2014/11/04/opinion/what-does-2014-tell-us-about-2016.html\n",
      "http://www.nytimes.com/2014/10/29/opinion/nothing-in-moderation.html\n",
      "http://www.nytimes.com/2014/10/22/opinion/would-stronger-parties-mean-less-polarization.html\n",
      "http://www.nytimes.com/2014/10/08/opinion/the-state-by-state-revival-of-the-right.html\n",
      "http://www.nytimes.com/2014/10/01/opinion/are-liberals-fundraising-hypocrites.html\n",
      "http://www.nytimes.com/2014/09/24/opinion/america-out-of-whack.html\n",
      "http://www.nytimes.com/2014/09/17/opinion/does-moving-poor-people-work.html\n",
      "http://www.nytimes.com/2014/09/10/opinion/karl-rove-the-koch-brothers-and-the-end-of-political-transparency.html\n",
      "http://www.nytimes.com/2014/09/03/opinion/what-makes-people-poor.html\n",
      "http://www.nytimes.com/2014/08/27/opinion/thomas-edsall-the-expanding-world-of-poverty-capitalism.html\n",
      "http://www.nytimes.com/2014/08/20/opinion/thomas-edsall-ferguson-watts-and-a-dream-deferred.html\n",
      "http://www.nytimes.com/2014/07/23/opinion/thomas-b-edsall-milking-the-money-machine.html\n",
      "http://www.nytimes.com/2014/07/16/opinion/thomas-edsall-a-shift-in-young-democrats-values.html\n",
      "http://www.nytimes.com/2014/07/09/opinion/thomas-edsall-how-much-do-our-genes-influence-our-political-beliefs.html\n",
      "http://www.nytimes.com/2014/06/18/opinion/thomas-edsall-cutting-the-poor-out-of-welfare.html\n",
      "http://www.nytimes.com/2014/06/04/opinion/edsall-the-republican-case-against-republican-economics.html\n",
      "http://www.nytimes.com/2014/05/21/opinion/edsall-the-great-white-hope.html\n",
      "http://www.nytimes.com/2014/05/14/opinion/edsall-thomas-piketty-and-his-critics.html\n",
      "http://www.nytimes.com/2014/05/07/opinion/edsall-supreme-injustice.html\n",
      "http://www.nytimes.com/2014/04/30/opinion/edsall-will-liberal-cities-leave-the-rest-of-america-behind.html\n",
      "http://www.nytimes.com/2014/04/23/opinion/edsall-scandals-republicans-like.html\n",
      "http://www.nytimes.com/2014/04/16/opinion/why-does-abortion-endure-as-a-political-tripwire.html\n",
      "http://www.nytimes.com/2014/04/09/opinion/the-high-cost-of-free-speech.html\n",
      "http://www.nytimes.com/2014/04/02/opinion/edsall-is-the-american-middle-class-losing-out-to-china-and-india.html\n",
      "http://www.nytimes.com/2014/03/26/opinion/edsall-how-strong-will-the-anti-democratic-backlash-be.html\n",
      "http://www.nytimes.com/2014/03/19/opinion/edsall-in-defense-of-anonymous-political-giving.html\n",
      "http://www.nytimes.com/2014/03/12/opinion/edsall-how-democrats-can-compete-for-the-white-working-class.html\n",
      "http://www.nytimes.com/2014/03/05/opinion/edsall-just-right-inequality.html\n",
      "http://www.nytimes.com/2014/02/26/opinion/edsall-why-the-irs-scandal-wont-go-away.html\n",
      "http://www.nytimes.com/2014/02/12/opinion/edsall-whatever-happened-to-every-man-a-king.html\n",
      "http://www.nytimes.com/2014/02/05/opinion/edsall-free-trade-disagreement.html\n",
      "http://www.nytimes.com/2014/01/29/opinion/capitalism-vs-democracy.html\n",
      "http://www.nytimes.com/2014/01/08/opinion/edsall-bridging-the-compassion-gap.html\n",
      "http://www.nytimes.com/2014/01/01/opinion/edsall-the-unlobbyists.html\n",
      "http://www.nytimes.com/2013/12/18/opinion/edsall-is-the-safety-net-just-masking-tape.html\n",
      "http://www.nytimes.com/2013/12/11/opinion/does-rising-inequality-make-us-hardhearted.html\n",
      "http://www.nytimes.com/2013/12/04/opinion/edsall-the-center-cannot-hold.html\n"
     ]
    }
   ],
   "source": [
    "dataall = fix_bad_name(dataall,'charles')\n",
    "dataall = fix_bad_name(dataall,'thomas')"
   ]
  },
  {
   "cell_type": "markdown",
   "metadata": {},
   "source": [
    "## Save Results"
   ]
  },
  {
   "cell_type": "markdown",
   "metadata": {},
   "source": [
    "### Scraped"
   ]
  },
  {
   "cell_type": "code",
   "execution_count": 20,
   "metadata": {
    "collapsed": false
   },
   "outputs": [],
   "source": [
    "dataall.to_csv('dataall2.csv')"
   ]
  },
  {
   "cell_type": "code",
   "execution_count": 5,
   "metadata": {
    "collapsed": false
   },
   "outputs": [],
   "source": [
    "dataall = pd.DataFrame.from_csv('dataall2.csv')"
   ]
  },
  {
   "cell_type": "markdown",
   "metadata": {},
   "source": [
    "### Dates"
   ]
  },
  {
   "cell_type": "code",
   "execution_count": 6,
   "metadata": {
    "collapsed": true
   },
   "outputs": [],
   "source": [
    "n_days = 7\n",
    "daynames = ['Day{0}'.format(i) for i in range(n_days)]"
   ]
  },
  {
   "cell_type": "markdown",
   "metadata": {},
   "source": [
    "#### Dates"
   ]
  },
  {
   "cell_type": "code",
   "execution_count": 7,
   "metadata": {
    "collapsed": false
   },
   "outputs": [],
   "source": [
    "dates = [pd.to_datetime(nytc.parse_url_for_date(url)) for url in dataall['url']]\n",
    "datadate = pd.DataFrame(index=dataall.index,columns=['Dates','Times']+daynames)\n",
    "datadate['Dates'] = dates"
   ]
  },
  {
   "cell_type": "markdown",
   "metadata": {},
   "source": [
    "#### Normalized Time"
   ]
  },
  {
   "cell_type": "code",
   "execution_count": 8,
   "metadata": {
    "collapsed": false
   },
   "outputs": [],
   "source": [
    "dateoldest = dates[-1]\n",
    "datenewest = dates[0]\n",
    "daterange = datenewest - dateoldest\n",
    "times = [(date - dateoldest)/daterange for date in dates]\n",
    "datadate['Times'] = times"
   ]
  },
  {
   "cell_type": "markdown",
   "metadata": {},
   "source": [
    "#### Day of Week"
   ]
  },
  {
   "cell_type": "code",
   "execution_count": 9,
   "metadata": {
    "collapsed": true
   },
   "outputs": [],
   "source": [
    "daysofweekarray = np.zeros((len(dataall),n_days))"
   ]
  },
  {
   "cell_type": "code",
   "execution_count": 10,
   "metadata": {
    "collapsed": false
   },
   "outputs": [],
   "source": [
    "daysofweek = [date.dayofweek for date in dates]\n",
    "for i, day in enumerate(daysofweek):\n",
    "    daysofweekarray[i,day] = 1\n",
    "datadate[daynames] = daysofweekarray"
   ]
  },
  {
   "cell_type": "markdown",
   "metadata": {},
   "source": [
    "#### Save"
   ]
  },
  {
   "cell_type": "code",
   "execution_count": 11,
   "metadata": {
    "collapsed": true
   },
   "outputs": [],
   "source": [
    "datadate.to_csv('datadate2.csv',encoding='utf-8')"
   ]
  },
  {
   "cell_type": "markdown",
   "metadata": {},
   "source": [
    "### Tidied Text"
   ]
  },
  {
   "cell_type": "code",
   "execution_count": 28,
   "metadata": {
    "collapsed": false
   },
   "outputs": [],
   "source": [
    "text = dataall['full_text']\n",
    "tidiedtext = [text_processing.tidy_text(item.decode('utf-8')) for item in text]\n",
    "tidiedtextjoined = [' '.join(text) for text in tidiedtext]"
   ]
  },
  {
   "cell_type": "code",
   "execution_count": 29,
   "metadata": {
    "collapsed": true
   },
   "outputs": [],
   "source": [
    "datatidy = pd.DataFrame(index=dataall.index,columns=['TidiedText'])\n",
    "datatidy['TidiedText'] = tidiedtextjoined\n",
    "datatidy.to_csv('datatidy2.csv',encoding='utf-8')"
   ]
  },
  {
   "cell_type": "markdown",
   "metadata": {},
   "source": [
    "## Load Results"
   ]
  },
  {
   "cell_type": "code",
   "execution_count": 15,
   "metadata": {
    "collapsed": false
   },
   "outputs": [],
   "source": [
    "dataall = pd.DataFrame.from_csv('dataall2.csv')\n",
    "datatidy = pd.DataFrame.from_csv('datatidy2.csv')\n",
    "datadate = pd.DataFrame.from_csv('datadate2.csv')"
   ]
  },
  {
   "cell_type": "markdown",
   "metadata": {
    "collapsed": false
   },
   "source": [
    "# By Author"
   ]
  },
  {
   "cell_type": "code",
   "execution_count": 16,
   "metadata": {
    "collapsed": true
   },
   "outputs": [],
   "source": [
    "def df_author(dataall,firstname=None,lastname=None):\n",
    "    def get_idx(field,val):\n",
    "        if val is None:\n",
    "            return pd.isnull(dataall[field])\n",
    "        else:\n",
    "            return dataall[field] == val\n",
    "    df = dataall[get_idx('first_name',firstname) & get_idx('last_name',lastname)]\n",
    "    return df"
   ]
  },
  {
   "cell_type": "code",
   "execution_count": 17,
   "metadata": {
    "collapsed": false
   },
   "outputs": [
    {
     "data": {
      "text/plain": [
       "(95, 8)"
      ]
     },
     "execution_count": 17,
     "metadata": {},
     "output_type": "execute_result"
    }
   ],
   "source": [
    "edsall = df_author(dataall,'thomas','edsall')\n",
    "edsall.shape"
   ]
  },
  {
   "cell_type": "code",
   "execution_count": 18,
   "metadata": {
    "collapsed": true
   },
   "outputs": [],
   "source": [
    "krugthulu = df_author(dataall,'paul','krugman')\n",
    "brooks = df_author(dataall,'david','brooks')\n",
    "collins = df_author(dataall,'gail','collins')\n",
    "editorialboard = df_author(dataall,None,None)"
   ]
  },
  {
   "cell_type": "markdown",
   "metadata": {},
   "source": [
    "## One Hot Encoding"
   ]
  },
  {
   "cell_type": "markdown",
   "metadata": {},
   "source": [
    "### Count Authors"
   ]
  },
  {
   "cell_type": "code",
   "execution_count": 19,
   "metadata": {
    "collapsed": true
   },
   "outputs": [],
   "source": [
    "from collections import Counter"
   ]
  },
  {
   "cell_type": "code",
   "execution_count": 20,
   "metadata": {
    "collapsed": true
   },
   "outputs": [],
   "source": [
    "authorcount = Counter()\n",
    "for firstname, lastname in zip(dataall['first_name'],dataall['last_name']):\n",
    "    authorcount[(firstname,lastname)] += 1"
   ]
  },
  {
   "cell_type": "code",
   "execution_count": 21,
   "metadata": {
    "collapsed": false
   },
   "outputs": [],
   "source": [
    "authorid = {}\n",
    "cutoff = 20 # at least x opeds -> not \"one-off\"\n",
    "currentid = 1\n",
    "for key, value in authorcount.items():\n",
    "    if value >= cutoff:\n",
    "        if key not in authorid:\n",
    "            authorid[key] = currentid\n",
    "            currentid += 1"
   ]
  },
  {
   "cell_type": "code",
   "execution_count": 22,
   "metadata": {
    "collapsed": false
   },
   "outputs": [
    {
     "name": "stdout",
     "output_type": "stream",
     "text": [
      "38\n"
     ]
    }
   ],
   "source": [
    "nauthors = len(authorid)+1\n",
    "ids = np.zeros((len(dataall),nauthors))\n",
    "print(nauthors)"
   ]
  },
  {
   "cell_type": "code",
   "execution_count": 23,
   "metadata": {
    "collapsed": false
   },
   "outputs": [],
   "source": [
    "# one-hot encoding\n",
    "for i, (firstname, lastname) in enumerate(zip(dataall['first_name'],dataall['last_name'])):\n",
    "    authoridcurr = authorid.get((firstname,lastname),0)\n",
    "    ids[i,authoridcurr] = 1"
   ]
  },
  {
   "cell_type": "code",
   "execution_count": 25,
   "metadata": {
    "collapsed": false
   },
   "outputs": [],
   "source": [
    "authornames = ['author{0}'.format(i) for i in range(nauthors)]\n",
    "dataauthor = pd.DataFrame(index=dataall.index,columns=authornames)\n",
    "dataauthor[authornames] = ids\n",
    "authoridvec = [authorid.get((firstname,lastname),0) for firstname, lastname in zip(dataall['first_name'],dataall['last_name'])]\n",
    "dataauthor['authorid'] = authoridvec\n",
    "dataauthor.to_csv('dataauthor2_{0}.csv'.format(nauthors))"
   ]
  },
  {
   "cell_type": "markdown",
   "metadata": {},
   "source": [
    "## Other Features"
   ]
  },
  {
   "cell_type": "markdown",
   "metadata": {},
   "source": [
    "### Article Length"
   ]
  },
  {
   "cell_type": "code",
   "execution_count": 56,
   "metadata": {
    "collapsed": true
   },
   "outputs": [],
   "source": [
    "articlelen = [len(article.split()) for article in dataall['full_text']]   "
   ]
  },
  {
   "cell_type": "code",
   "execution_count": 211,
   "metadata": {
    "collapsed": true
   },
   "outputs": [],
   "source": [
    "dataother = pd.DataFrame(index=dataall.index,columns=['len'])\n",
    "dataother['len'] = articlelen\n",
    "dataother.to_csv('dataother2.csv')"
   ]
  },
  {
   "cell_type": "markdown",
   "metadata": {},
   "source": [
    "# LDA"
   ]
  },
  {
   "cell_type": "code",
   "execution_count": 68,
   "metadata": {
    "collapsed": true
   },
   "outputs": [],
   "source": [
    "import matplotlib as mpl\n",
    "import matplotlib.pyplot as plt\n",
    "from time import time\n",
    "from sklearn.feature_extraction.text import CountVectorizer\n",
    "from sklearn.decomposition import LatentDirichletAllocation"
   ]
  },
  {
   "cell_type": "code",
   "execution_count": 69,
   "metadata": {
    "collapsed": true
   },
   "outputs": [],
   "source": [
    "def print_top_words(model, feature_names, n_top_words):\n",
    "    for topic_idx, topic in enumerate(model.components_):\n",
    "        print(\"Topic #%d:\" % topic_idx)\n",
    "        print(\" \".join([feature_names[i]\n",
    "                        for i in topic.argsort()[:-n_top_words - 1:-1]]))\n",
    "    print()"
   ]
  },
  {
   "cell_type": "code",
   "execution_count": 95,
   "metadata": {
    "collapsed": true
   },
   "outputs": [],
   "source": [
    "n_features = 1000\n",
    "n_topics = 10\n",
    "n_top_words = 20"
   ]
  },
  {
   "cell_type": "code",
   "execution_count": 71,
   "metadata": {
    "collapsed": false
   },
   "outputs": [
    {
     "name": "stdout",
     "output_type": "stream",
     "text": [
      "Extracting tf features for LDA...\n",
      "done in 4.011s.\n"
     ]
    }
   ],
   "source": [
    "# Use tf (raw term count) features for LDA.\n",
    "tidiedtextjoined = datatidy['TidiedText']\n",
    "print(\"Extracting tf features for LDA...\")\n",
    "tf_vectorizer = CountVectorizer(max_df=0.95, min_df=2, max_features=n_features)\n",
    "t0 = time()\n",
    "tf = tf_vectorizer.fit_transform(tidiedtextjoined)\n",
    "print(\"done in %0.3fs.\" % (time() - t0))\n"
   ]
  },
  {
   "cell_type": "code",
   "execution_count": 96,
   "metadata": {
    "collapsed": false
   },
   "outputs": [
    {
     "name": "stdout",
     "output_type": "stream",
     "text": [
      "Fitting LDA models with tf features and n_features=1000...\n",
      "done in 82.969s.\n"
     ]
    }
   ],
   "source": [
    "print(\"Fitting LDA models with tf features and n_features=%d...\"\n",
    "      % (n_features))\n",
    "lda = LatentDirichletAllocation(n_topics=n_topics, max_iter=10,\n",
    "                                learning_method='online', learning_offset=50.,\n",
    "                                random_state=0)\n",
    "t0 = time()\n",
    "lda.fit(tf)\n",
    "print(\"done in %0.3fs.\" % (time() - t0))\n"
   ]
  },
  {
   "cell_type": "code",
   "execution_count": 97,
   "metadata": {
    "collapsed": false,
    "scrolled": false
   },
   "outputs": [
    {
     "name": "stdout",
     "output_type": "stream",
     "text": [
      "\n",
      "Topics in LDA model:\n",
      "Topic #0:\n",
      "republican polit parti presid democrat mr elect obama candid voter trump vote senat campaign clinton would state conserv support one\n",
      "Topic #1:\n",
      "european europ union countri franc gun refuge germani nation immigr french britain german greec crisi would year border govern peopl\n",
      "Topic #2:\n",
      "would new year tax percent govern compani million state citi money econom pay worker job economi bank make work billion\n",
      "Topic #3:\n",
      "one like peopl time said get us would go say year even way know day want thing dont think make\n",
      "Topic #4:\n",
      "school women student children percent educ colleg black univers men white parent famili work young one year mani studi teacher\n",
      "Topic #5:\n",
      "mr polic govern offic report peopl year kill countri one said citi last nation violenc public protest mani crime attack\n",
      "Topic #6:\n",
      "court law state justic case would feder rule right legal judg suprem decis requir protect year new act govern public\n",
      "Topic #7:\n",
      "peopl health use like one year research studi food patient drug mani chang water also medic care may new would\n",
      "Topic #8:\n",
      "israel polit state islam muslim govern palestinian isra iraq religi war isi parti arab power group leader nation one christian\n",
      "Topic #9:\n",
      "state unit china russia mr american would iran countri presid obama putin ukrain war russian world militari nuclear nation govern\n",
      "()\n"
     ]
    }
   ],
   "source": [
    "print(\"\\nTopics in LDA model:\")\n",
    "tf_feature_names = tf_vectorizer.get_feature_names()\n",
    "print_top_words(lda, tf_feature_names, n_top_words)"
   ]
  },
  {
   "cell_type": "code",
   "execution_count": 98,
   "metadata": {
    "collapsed": false
   },
   "outputs": [],
   "source": [
    "doc_topic_distrib = lda.transform(tf)"
   ]
  },
  {
   "cell_type": "code",
   "execution_count": 99,
   "metadata": {
    "collapsed": false
   },
   "outputs": [],
   "source": [
    "doc_topic_distrib /= np.sum(doc_topic_distrib,axis=1)[:, np.newaxis]"
   ]
  },
  {
   "cell_type": "code",
   "execution_count": 100,
   "metadata": {
    "collapsed": false,
    "scrolled": true
   },
   "outputs": [
    {
     "data": {
      "image/png": "[encoded data removed]",
      "text/plain": [
       "<matplotlib.figure.Figure at 0x7efd34eb8d50>"
      ]
     },
     "metadata": {},
     "output_type": "display_data"
    }
   ],
   "source": [
    "fig = plt.figure(1)\n",
    "ax = fig.gca()\n",
    "ax = ax.matshow(doc_topic_distrib, cmap=plt.cm.gray, aspect = '0.005')\n",
    "plt.show()"
   ]
  },
  {
   "cell_type": "code",
   "execution_count": 101,
   "metadata": {
    "collapsed": false
   },
   "outputs": [],
   "source": [
    "topicweights"
   ]
  },
  {
   "cell_type": "code",
   "execution_count": null,
   "metadata": {
    "collapsed": true
   },
   "outputs": [],
   "source": []
  },
  {
   "cell_type": "code",
   "execution_count": 102,
   "metadata": {
    "collapsed": true
   },
   "outputs": [],
   "source": [
    "topicweights = add_topic_weights(dataall,n_topics)"
   ]
  },
  {
   "cell_type": "markdown",
   "metadata": {},
   "source": [
    "# Save!"
   ]
  },
  {
   "cell_type": "code",
   "execution_count": 59,
   "metadata": {
    "collapsed": true
   },
   "outputs": [],
   "source": [
    "import pickleizer"
   ]
  },
  {
   "cell_type": "code",
   "execution_count": 93,
   "metadata": {
    "collapsed": false
   },
   "outputs": [],
   "source": [
    "pickleizer.save_topic_analyzer(lda,tf_vectorizer)"
   ]
  },
  {
   "cell_type": "code",
   "execution_count": 94,
   "metadata": {
    "collapsed": false
   },
   "outputs": [],
   "source": [
    "pickleizer.save_author(authorid)"
   ]
  },
  {
   "cell_type": "code",
   "execution_count": null,
   "metadata": {
    "collapsed": true
   },
   "outputs": [],
   "source": []
  }
 ],
 "metadata": {
  "kernelspec": {
   "display_name": "Python 2",
   "language": "python",
   "name": "python2"
  },
  "language_info": {
   "codemirror_mode": {
    "name": "ipython",
    "version": 2
   },
   "file_extension": ".py",
   "mimetype": "text/x-python",
   "name": "python",
   "nbconvert_exporter": "python",
   "pygments_lexer": "ipython2",
   "version": "2.7.11"
  }
 },
 "nbformat": 4,
 "nbformat_minor": 0
}
