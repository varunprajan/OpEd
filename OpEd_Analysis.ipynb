{
 "cells": [
  {
   "cell_type": "code",
   "execution_count": 1,
   "metadata": {
    "collapsed": false
   },
   "outputs": [],
   "source": [
    "import urllib2\n",
    "from bs4 import BeautifulSoup\n",
    "import re\n",
    "import nytimesarticle as nyta\n",
    "import urllib2\n",
    "import requests\n",
    "import csv\n",
    "import time\n",
    "import pandas as pd\n",
    "import numpy as np\n",
    "import nytimes_crawl_2 as nytc\n",
    "%matplotlib inline"
   ]
  },
  {
   "cell_type": "code",
   "execution_count": 2,
   "metadata": {
    "collapsed": false
   },
   "outputs": [],
   "source": [
    "%load_ext autoreload\n",
    "%autoreload 2"
   ]
  },
  {
   "cell_type": "markdown",
   "metadata": {},
   "source": [
    "# Misc"
   ]
  },
  {
   "cell_type": "code",
   "execution_count": 223,
   "metadata": {
    "collapsed": true
   },
   "outputs": [],
   "source": [
    "names = ['one','two','three','four','five','six','seven','eight','nine','ten','eleven','twelve','thirteen','fourteen','fifteen']"
   ]
  },
  {
   "cell_type": "markdown",
   "metadata": {},
   "source": [
    "## Analysis"
   ]
  },
  {
   "cell_type": "markdown",
   "metadata": {},
   "source": [
    "### Scrape"
   ]
  },
  {
   "cell_type": "code",
   "execution_count": 8,
   "metadata": {
    "collapsed": false
   },
   "outputs": [],
   "source": [
    "reader1 = nytc.OpEdReader('one')\n",
    "reader1.save_oped_articles_all_pages(begindate='20160101',enddate='20160331')"
   ]
  },
  {
   "cell_type": "code",
   "execution_count": null,
   "metadata": {
    "collapsed": true
   },
   "outputs": [],
   "source": [
    "reader2 = nytc.OpEdReader('two')\n",
    "reader2.save_oped_articles_all_pages(begindate='20161001',enddate='20160107')"
   ]
  },
  {
   "cell_type": "code",
   "execution_count": null,
   "metadata": {
    "collapsed": true
   },
   "outputs": [],
   "source": [
    "reader3 = nytc.OpEdReader('three')\n",
    "reader3.save_oped_articles_all_pages(begindate='20150701',enddate='20151011')"
   ]
  },
  {
   "cell_type": "code",
   "execution_count": null,
   "metadata": {
    "collapsed": true
   },
   "outputs": [],
   "source": [
    "reader4 = nytc.OpEdReader('four')\n",
    "reader4.save_oped_articles_all_pages(begindate='20150401',enddate='20150717')"
   ]
  },
  {
   "cell_type": "code",
   "execution_count": null,
   "metadata": {
    "collapsed": true
   },
   "outputs": [],
   "source": [
    "reader5 = nytc.OpEdReader('five')\n",
    "reader5.save_oped_articles_all_pages(begindate='20150101',enddate='20150421')"
   ]
  },
  {
   "cell_type": "code",
   "execution_count": null,
   "metadata": {
    "collapsed": true
   },
   "outputs": [],
   "source": [
    "reader6 = nytc.OpEdReader('six')\n",
    "reader6.save_oped_articles_all_pages(begindate='20141001',enddate='20150125')"
   ]
  },
  {
   "cell_type": "markdown",
   "metadata": {},
   "source": [
    "### Load"
   ]
  },
  {
   "cell_type": "code",
   "execution_count": 647,
   "metadata": {
    "collapsed": false
   },
   "outputs": [],
   "source": [
    "reader1 = nytc.OpEdReader.init_from_file('one','one100.csv')\n",
    "reader2 = nytc.OpEdReader.init_from_file('two','two100.csv')\n",
    "reader3 = nytc.OpEdReader.init_from_file('three','three100.csv')\n",
    "reader4 = nytc.OpEdReader.init_from_file('four','four100.csv')\n",
    "reader5 = nytc.OpEdReader.init_from_file('five','five100.csv')\n",
    "reader6 = nytc.OpEdReader.init_from_file('six','six100.csv')\n",
    "reader7 = nytc.OpEdReader.init_from_file('seven','actual_seven100.csv')\n",
    "reader8 = nytc.OpEdReader.init_from_file('eight','seven100.csv')\n",
    "reader9 = nytc.OpEdReader.init_from_file('nine','eight100.csv')\n",
    "reader10 = nytc.OpEdReader.init_from_file('ten','nine100.csv')"
   ]
  },
  {
   "cell_type": "code",
   "execution_count": 648,
   "metadata": {
    "collapsed": false
   },
   "outputs": [],
   "source": [
    "readers = [reader1,reader2,reader3,reader4,reader5,reader6,reader7,reader8,reader9,reader10]"
   ]
  },
  {
   "cell_type": "markdown",
   "metadata": {},
   "source": [
    "### Eliminate 'Universal' Articles"
   ]
  },
  {
   "cell_type": "code",
   "execution_count": 577,
   "metadata": {
    "collapsed": false
   },
   "outputs": [],
   "source": [
    "def elim_universal_wrapper(reader):\n",
    "    print(reader.data.shape)\n",
    "    reader.elim_universal()\n",
    "    print(reader.data.shape)"
   ]
  },
  {
   "cell_type": "code",
   "execution_count": 649,
   "metadata": {
    "collapsed": false
   },
   "outputs": [
    {
     "name": "stdout",
     "output_type": "stream",
     "text": [
      "(947, 8)\n",
      "(940, 8)\n",
      "(952, 8)\n",
      "(943, 8)\n",
      "(959, 8)\n",
      "(948, 8)\n",
      "(945, 8)\n",
      "(941, 8)\n",
      "(944, 8)\n",
      "(929, 8)\n",
      "(955, 8)\n",
      "(954, 8)\n",
      "(953, 8)\n",
      "(953, 8)\n",
      "(967, 8)\n",
      "(967, 8)\n",
      "(965, 8)\n",
      "(964, 8)\n",
      "(948, 8)\n",
      "(948, 8)\n"
     ]
    }
   ],
   "source": [
    "for reader in readers:\n",
    "    elim_universal_wrapper(reader)"
   ]
  },
  {
   "cell_type": "markdown",
   "metadata": {},
   "source": [
    "# Text Manipulation"
   ]
  },
  {
   "cell_type": "code",
   "execution_count": 61,
   "metadata": {
    "collapsed": true
   },
   "outputs": [],
   "source": [
    "import nltk"
   ]
  },
  {
   "cell_type": "code",
   "execution_count": 59,
   "metadata": {
    "collapsed": true
   },
   "outputs": [],
   "source": [
    "PUNCTUATION = \"\"\"!@#$%^&*()_+=][{}'-\";:/?\\.,~`\"\"\"\n",
    "\n",
    "def tidy_text(text):\n",
    "    \"\"\" Does the following: 1. Tokenises words 2. Removes punctuation 3. Removes stop words 4. Puts words through the snowball stemmer\"\"\"\n",
    "\n",
    "    stemmer = nltk.stem.snowball.EnglishStemmer()\n",
    "    stopwords = set(nltk.corpus.stopwords.words('english'))\n",
    "\n",
    "    outwords = []\n",
    "    for word in text.split():\n",
    "        word = word.strip(PUNCTUATION).lower()\n",
    "        if word not in stopwords:\n",
    "            if len(word) > 0:\n",
    "                if not word[0].isdigit():\n",
    "                    outwords.append(stemmer.stem(word))\n",
    "\n",
    "    return outwords\n"
   ]
  },
  {
   "cell_type": "markdown",
   "metadata": {},
   "source": [
    "## Foreign Language"
   ]
  },
  {
   "cell_type": "code",
   "execution_count": 440,
   "metadata": {
    "collapsed": false
   },
   "outputs": [],
   "source": [
    "def locate_foreign(tidiedtext,reader):\n",
    "    for idx, text in enumerate(tidiedtext):\n",
    "        if 'de' in text and 'la' in text:\n",
    "            print('Match')\n",
    "            print(idx)\n",
    "            print(text[:20])\n",
    "            print(reader.data['url'].iloc[idx])"
   ]
  },
  {
   "cell_type": "code",
   "execution_count": 590,
   "metadata": {
    "collapsed": true
   },
   "outputs": [],
   "source": [
    "def possible_matches(reader):\n",
    "    text = reader.data['full_text']\n",
    "    tidiedtext = []\n",
    "    for item in text:\n",
    "        try:\n",
    "            newtext = tidy_text(item.decode('utf-8'))\n",
    "            tidiedtext.append(newtext)\n",
    "        except:\n",
    "            pass\n",
    "    locate_foreign(tidiedtext,reader)"
   ]
  },
  {
   "cell_type": "markdown",
   "metadata": {},
   "source": [
    "### Drop Foreign Articles and Nonsense Articles"
   ]
  },
  {
   "cell_type": "code",
   "execution_count": 650,
   "metadata": {
    "collapsed": false
   },
   "outputs": [],
   "source": [
    "def drop_rows_all(reader,indices):\n",
    "    print(reader.data.shape)\n",
    "    reader.drop_rows(indices)\n",
    "    print(reader.data.shape)\n",
    "    badidx = [i for i, item in enumerate(reader.data['full_text']) if not isinstance(item,str)]\n",
    "    reader.drop_rows(badidx)\n",
    "    csvfilename = '{0}_english{1}.csv'.format(reader.name,100)\n",
    "    reader.save_to_csv(csvfilename)"
   ]
  },
  {
   "cell_type": "code",
   "execution_count": 651,
   "metadata": {
    "collapsed": false,
    "scrolled": true
   },
   "outputs": [
    {
     "name": "stdout",
     "output_type": "stream",
     "text": [
      "(948, 8)\n",
      "(944, 8)\n",
      "(943, 8)\n",
      "(936, 8)\n",
      "(948, 8)\n",
      "(948, 8)\n",
      "(941, 8)\n",
      "(941, 8)\n",
      "(929, 8)\n",
      "(929, 8)\n",
      "(954, 8)\n",
      "(944, 8)\n",
      "(953, 8)\n",
      "(948, 8)\n",
      "(967, 8)\n",
      "(967, 8)\n",
      "(964, 8)\n",
      "(964, 8)\n",
      "(932, 8)\n",
      "(931, 8)\n"
     ]
    }
   ],
   "source": [
    "drop_rows_all(reader,[105,355,508,534])\n",
    "drop_rows_all(reader2,[55,396,459,504,516,542,549])\n",
    "drop_rows_all(reader3,[])\n",
    "drop_rows_all(reader4,[])\n",
    "drop_rows_all(reader5,[])\n",
    "drop_rows_all(reader6,[77,275,303,345,365,405,434,740,825,917])\n",
    "drop_rows_all(reader7,[46,120,152,174,202])\n",
    "drop_rows_all(reader8,[])\n",
    "drop_rows_all(reader9,[])\n",
    "drop_rows_all(reader10,[812])"
   ]
  },
  {
   "cell_type": "markdown",
   "metadata": {},
   "source": [
    "## Save Results"
   ]
  },
  {
   "cell_type": "code",
   "execution_count": 652,
   "metadata": {
    "collapsed": false
   },
   "outputs": [],
   "source": [
    "for name, reader in zip(names,readers):\n",
    "    filename = '{0}_english100.csv'.format(name)\n",
    "    reader.save_to_csv(filename)"
   ]
  },
  {
   "cell_type": "markdown",
   "metadata": {},
   "source": [
    "# Final Result"
   ]
  },
  {
   "cell_type": "code",
   "execution_count": 653,
   "metadata": {
    "collapsed": false
   },
   "outputs": [],
   "source": [
    "readers_english = []\n",
    "for name in names[:10]:\n",
    "    filename = '{0}_english100.csv'.format(name)\n",
    "    readername = '{0}_english'.format(name)\n",
    "    newreader = nytc.OpEdReader.init_from_file(readername,filename)\n",
    "    readers_english.append(newreader)"
   ]
  },
  {
   "cell_type": "markdown",
   "metadata": {},
   "source": [
    "## Tidy the Text, Join all Datasets"
   ]
  },
  {
   "cell_type": "code",
   "execution_count": 57,
   "metadata": {
    "collapsed": false
   },
   "outputs": [
    {
     "ename": "NameError",
     "evalue": "name 'readers_english' is not defined",
     "output_type": "error",
     "traceback": [
      "\u001b[1;31m---------------------------------------------------------------------------\u001b[0m",
      "\u001b[1;31mNameError\u001b[0m                                 Traceback (most recent call last)",
      "\u001b[1;32m<ipython-input-57-bb4ac943c532>\u001b[0m in \u001b[0;36m<module>\u001b[1;34m()\u001b[0m\n\u001b[1;32m----> 1\u001b[1;33m \u001b[0mget_ipython\u001b[0m\u001b[1;33m(\u001b[0m\u001b[1;33m)\u001b[0m\u001b[1;33m.\u001b[0m\u001b[0mrun_cell_magic\u001b[0m\u001b[1;33m(\u001b[0m\u001b[1;34mu'prun'\u001b[0m\u001b[1;33m,\u001b[0m \u001b[1;34mu''\u001b[0m\u001b[1;33m,\u001b[0m \u001b[1;34mu\"dataall = pd.concat([reader.data for reader in readers_english])\\ntext = dataall['full_text']\\ntidiedtext = [tidy_text(item.decode('utf-8')) for item in text]\\ntidiedtextjoined = [' '.join(text) for text in tidiedtext]\"\u001b[0m\u001b[1;33m)\u001b[0m\u001b[1;33m\u001b[0m\u001b[0m\n\u001b[0m",
      "\u001b[1;32m/home/varun/anaconda2/lib/python2.7/site-packages/IPython/core/interactiveshell.pyc\u001b[0m in \u001b[0;36mrun_cell_magic\u001b[1;34m(self, magic_name, line, cell)\u001b[0m\n\u001b[0;32m   2118\u001b[0m             \u001b[0mmagic_arg_s\u001b[0m \u001b[1;33m=\u001b[0m \u001b[0mself\u001b[0m\u001b[1;33m.\u001b[0m\u001b[0mvar_expand\u001b[0m\u001b[1;33m(\u001b[0m\u001b[0mline\u001b[0m\u001b[1;33m,\u001b[0m \u001b[0mstack_depth\u001b[0m\u001b[1;33m)\u001b[0m\u001b[1;33m\u001b[0m\u001b[0m\n\u001b[0;32m   2119\u001b[0m             \u001b[1;32mwith\u001b[0m \u001b[0mself\u001b[0m\u001b[1;33m.\u001b[0m\u001b[0mbuiltin_trap\u001b[0m\u001b[1;33m:\u001b[0m\u001b[1;33m\u001b[0m\u001b[0m\n\u001b[1;32m-> 2120\u001b[1;33m                 \u001b[0mresult\u001b[0m \u001b[1;33m=\u001b[0m \u001b[0mfn\u001b[0m\u001b[1;33m(\u001b[0m\u001b[0mmagic_arg_s\u001b[0m\u001b[1;33m,\u001b[0m \u001b[0mcell\u001b[0m\u001b[1;33m)\u001b[0m\u001b[1;33m\u001b[0m\u001b[0m\n\u001b[0m\u001b[0;32m   2121\u001b[0m             \u001b[1;32mreturn\u001b[0m \u001b[0mresult\u001b[0m\u001b[1;33m\u001b[0m\u001b[0m\n\u001b[0;32m   2122\u001b[0m \u001b[1;33m\u001b[0m\u001b[0m\n",
      "\u001b[1;32m<decorator-gen-54>\u001b[0m in \u001b[0;36mprun\u001b[1;34m(self, parameter_s, cell)\u001b[0m\n",
      "\u001b[1;32m/home/varun/anaconda2/lib/python2.7/site-packages/IPython/core/magic.pyc\u001b[0m in \u001b[0;36m<lambda>\u001b[1;34m(f, *a, **k)\u001b[0m\n\u001b[0;32m    191\u001b[0m     \u001b[1;31m# but it's overkill for just that one bit of state.\u001b[0m\u001b[1;33m\u001b[0m\u001b[1;33m\u001b[0m\u001b[0m\n\u001b[0;32m    192\u001b[0m     \u001b[1;32mdef\u001b[0m \u001b[0mmagic_deco\u001b[0m\u001b[1;33m(\u001b[0m\u001b[0marg\u001b[0m\u001b[1;33m)\u001b[0m\u001b[1;33m:\u001b[0m\u001b[1;33m\u001b[0m\u001b[0m\n\u001b[1;32m--> 193\u001b[1;33m         \u001b[0mcall\u001b[0m \u001b[1;33m=\u001b[0m \u001b[1;32mlambda\u001b[0m \u001b[0mf\u001b[0m\u001b[1;33m,\u001b[0m \u001b[1;33m*\u001b[0m\u001b[0ma\u001b[0m\u001b[1;33m,\u001b[0m \u001b[1;33m**\u001b[0m\u001b[0mk\u001b[0m\u001b[1;33m:\u001b[0m \u001b[0mf\u001b[0m\u001b[1;33m(\u001b[0m\u001b[1;33m*\u001b[0m\u001b[0ma\u001b[0m\u001b[1;33m,\u001b[0m \u001b[1;33m**\u001b[0m\u001b[0mk\u001b[0m\u001b[1;33m)\u001b[0m\u001b[1;33m\u001b[0m\u001b[0m\n\u001b[0m\u001b[0;32m    194\u001b[0m \u001b[1;33m\u001b[0m\u001b[0m\n\u001b[0;32m    195\u001b[0m         \u001b[1;32mif\u001b[0m \u001b[0mcallable\u001b[0m\u001b[1;33m(\u001b[0m\u001b[0marg\u001b[0m\u001b[1;33m)\u001b[0m\u001b[1;33m:\u001b[0m\u001b[1;33m\u001b[0m\u001b[0m\n",
      "\u001b[1;32m/home/varun/anaconda2/lib/python2.7/site-packages/IPython/core/magics/execution.pyc\u001b[0m in \u001b[0;36mprun\u001b[1;34m(self, parameter_s, cell)\u001b[0m\n\u001b[0;32m    277\u001b[0m             \u001b[0marg_str\u001b[0m \u001b[1;33m+=\u001b[0m \u001b[1;34m'\\n'\u001b[0m \u001b[1;33m+\u001b[0m \u001b[0mcell\u001b[0m\u001b[1;33m\u001b[0m\u001b[0m\n\u001b[0;32m    278\u001b[0m         \u001b[0marg_str\u001b[0m \u001b[1;33m=\u001b[0m \u001b[0mself\u001b[0m\u001b[1;33m.\u001b[0m\u001b[0mshell\u001b[0m\u001b[1;33m.\u001b[0m\u001b[0minput_splitter\u001b[0m\u001b[1;33m.\u001b[0m\u001b[0mtransform_cell\u001b[0m\u001b[1;33m(\u001b[0m\u001b[0marg_str\u001b[0m\u001b[1;33m)\u001b[0m\u001b[1;33m\u001b[0m\u001b[0m\n\u001b[1;32m--> 279\u001b[1;33m         \u001b[1;32mreturn\u001b[0m \u001b[0mself\u001b[0m\u001b[1;33m.\u001b[0m\u001b[0m_run_with_profiler\u001b[0m\u001b[1;33m(\u001b[0m\u001b[0marg_str\u001b[0m\u001b[1;33m,\u001b[0m \u001b[0mopts\u001b[0m\u001b[1;33m,\u001b[0m \u001b[0mself\u001b[0m\u001b[1;33m.\u001b[0m\u001b[0mshell\u001b[0m\u001b[1;33m.\u001b[0m\u001b[0muser_ns\u001b[0m\u001b[1;33m)\u001b[0m\u001b[1;33m\u001b[0m\u001b[0m\n\u001b[0m\u001b[0;32m    280\u001b[0m \u001b[1;33m\u001b[0m\u001b[0m\n\u001b[0;32m    281\u001b[0m     \u001b[1;32mdef\u001b[0m \u001b[0m_run_with_profiler\u001b[0m\u001b[1;33m(\u001b[0m\u001b[0mself\u001b[0m\u001b[1;33m,\u001b[0m \u001b[0mcode\u001b[0m\u001b[1;33m,\u001b[0m \u001b[0mopts\u001b[0m\u001b[1;33m,\u001b[0m \u001b[0mnamespace\u001b[0m\u001b[1;33m)\u001b[0m\u001b[1;33m:\u001b[0m\u001b[1;33m\u001b[0m\u001b[0m\n",
      "\u001b[1;32m/home/varun/anaconda2/lib/python2.7/site-packages/IPython/core/magics/execution.pyc\u001b[0m in \u001b[0;36m_run_with_profiler\u001b[1;34m(self, code, opts, namespace)\u001b[0m\n\u001b[0;32m    299\u001b[0m         \u001b[0mprof\u001b[0m \u001b[1;33m=\u001b[0m \u001b[0mprofile\u001b[0m\u001b[1;33m.\u001b[0m\u001b[0mProfile\u001b[0m\u001b[1;33m(\u001b[0m\u001b[1;33m)\u001b[0m\u001b[1;33m\u001b[0m\u001b[0m\n\u001b[0;32m    300\u001b[0m         \u001b[1;32mtry\u001b[0m\u001b[1;33m:\u001b[0m\u001b[1;33m\u001b[0m\u001b[0m\n\u001b[1;32m--> 301\u001b[1;33m             \u001b[0mprof\u001b[0m \u001b[1;33m=\u001b[0m \u001b[0mprof\u001b[0m\u001b[1;33m.\u001b[0m\u001b[0mrunctx\u001b[0m\u001b[1;33m(\u001b[0m\u001b[0mcode\u001b[0m\u001b[1;33m,\u001b[0m \u001b[0mnamespace\u001b[0m\u001b[1;33m,\u001b[0m \u001b[0mnamespace\u001b[0m\u001b[1;33m)\u001b[0m\u001b[1;33m\u001b[0m\u001b[0m\n\u001b[0m\u001b[0;32m    302\u001b[0m             \u001b[0msys_exit\u001b[0m \u001b[1;33m=\u001b[0m \u001b[1;34m''\u001b[0m\u001b[1;33m\u001b[0m\u001b[0m\n\u001b[0;32m    303\u001b[0m         \u001b[1;32mexcept\u001b[0m \u001b[0mSystemExit\u001b[0m\u001b[1;33m:\u001b[0m\u001b[1;33m\u001b[0m\u001b[0m\n",
      "\u001b[1;32m/home/varun/anaconda2/lib/python2.7/cProfile.pyc\u001b[0m in \u001b[0;36mrunctx\u001b[1;34m(self, cmd, globals, locals)\u001b[0m\n\u001b[0;32m    138\u001b[0m         \u001b[0mself\u001b[0m\u001b[1;33m.\u001b[0m\u001b[0menable\u001b[0m\u001b[1;33m(\u001b[0m\u001b[1;33m)\u001b[0m\u001b[1;33m\u001b[0m\u001b[0m\n\u001b[0;32m    139\u001b[0m         \u001b[1;32mtry\u001b[0m\u001b[1;33m:\u001b[0m\u001b[1;33m\u001b[0m\u001b[0m\n\u001b[1;32m--> 140\u001b[1;33m             \u001b[1;32mexec\u001b[0m \u001b[0mcmd\u001b[0m \u001b[1;32min\u001b[0m \u001b[0mglobals\u001b[0m\u001b[1;33m,\u001b[0m \u001b[0mlocals\u001b[0m\u001b[1;33m\u001b[0m\u001b[0m\n\u001b[0m\u001b[0;32m    141\u001b[0m         \u001b[1;32mfinally\u001b[0m\u001b[1;33m:\u001b[0m\u001b[1;33m\u001b[0m\u001b[0m\n\u001b[0;32m    142\u001b[0m             \u001b[0mself\u001b[0m\u001b[1;33m.\u001b[0m\u001b[0mdisable\u001b[0m\u001b[1;33m(\u001b[0m\u001b[1;33m)\u001b[0m\u001b[1;33m\u001b[0m\u001b[0m\n",
      "\u001b[1;32m<string>\u001b[0m in \u001b[0;36m<module>\u001b[1;34m()\u001b[0m\n",
      "\u001b[1;31mNameError\u001b[0m: name 'readers_english' is not defined"
     ]
    }
   ],
   "source": [
    "%%prun\n",
    "dataall = pd.concat([reader.data for reader in readers_english])\n",
    "text = dataall['full_text']\n",
    "tidiedtext = [tidy_text(item.decode('utf-8')) for item in text]\n",
    "tidiedtextjoined = [' '.join(text) for text in tidiedtext]"
   ]
  },
  {
   "cell_type": "markdown",
   "metadata": {},
   "source": [
    "# Fix Charles Blow!"
   ]
  },
  {
   "cell_type": "code",
   "execution_count": 657,
   "metadata": {
    "collapsed": true
   },
   "outputs": [],
   "source": [
    "import time"
   ]
  },
  {
   "cell_type": "code",
   "execution_count": 605,
   "metadata": {
    "collapsed": true
   },
   "outputs": [],
   "source": [
    "def get_author_name(url):\n",
    "    soup = nytc.soupify_url(url)\n",
    "    time.sleep(2)\n",
    "    tag = soup.findAll('meta',{'name':'author'})[0]\n",
    "    return tag.get('content')"
   ]
  },
  {
   "cell_type": "code",
   "execution_count": 606,
   "metadata": {
    "collapsed": false
   },
   "outputs": [],
   "source": [
    "def get_last_name(authorname):\n",
    "    return authorname.split()[-1]"
   ]
  },
  {
   "cell_type": "code",
   "execution_count": 607,
   "metadata": {
    "collapsed": true
   },
   "outputs": [],
   "source": [
    "def fix_charles_blow(dataall):\n",
    "    res = []\n",
    "    for url, firstname, lastname in zip(dataall['url'],dataall['first_name'],dataall['last_name']):\n",
    "        if firstname == 'charles' and pd.isnull(lastname):\n",
    "            print(url)\n",
    "            authorname = get_author_name(url)\n",
    "            lastnamenew = get_last_name(authorname).lower()\n",
    "        else:\n",
    "            lastnamenew = lastname\n",
    "        res.append(lastnamenew)\n",
    "    dataall['last_name'] = res\n",
    "    return dataall"
   ]
  },
  {
   "cell_type": "code",
   "execution_count": 658,
   "metadata": {
    "collapsed": false
   },
   "outputs": [
    {
     "name": "stdout",
     "output_type": "stream",
     "text": [
      "http://www.nytimes.com/2016/03/31/opinion/campaign-stops/bernie-or-bust-is-bonkers.html\n",
      "http://www.nytimes.com/2016/03/28/opinion/republican-self-destruction.html\n",
      "http://www.nytimes.com/2016/03/24/opinion/dangerous-world-serious-leaders.html\n",
      "http://www.nytimes.com/2016/03/21/opinion/learning-lessons-from-outrage.html\n",
      "http://www.nytimes.com/2016/03/17/opinion/campaign-stops/a-bernie-blackout.html\n",
      "http://www.nytimes.com/2016/03/14/opinion/carson-endorses-the-demagogue.html\n",
      "http://www.nytimes.com/2016/03/10/opinion/sanders-surprises.html\n",
      "http://www.nytimes.com/2016/03/07/opinion/the-end-of-american-idealism.html\n",
      "http://www.nytimes.com/2016/03/03/opinion/campaign-stops/demagogue-for-president.html\n",
      "http://www.nytimes.com/2016/02/29/opinion/im-not-a-super-predator.html\n",
      "http://www.nytimes.com/2016/02/25/opinion/campaign-stops/clinton-sanders-and-southern-voters.html\n",
      "http://www.nytimes.com/2016/02/22/opinion/bernie-sanders-hits-a-roadblock.html\n",
      "http://www.nytimes.com/2016/02/18/opinion/campaign-stops/politics-all-in-my-family.html\n",
      "http://www.nytimes.com/2016/02/15/opinion/the-fire-meets-the-wall.html\n",
      "http://www.nytimes.com/2016/02/11/opinion/campaign-stops/stop-bernie-splaining-to-black-voters.html\n",
      "http://www.nytimes.com/2016/02/08/opinion/hillary-has-half-a-dream.html\n",
      "http://www.nytimes.com/2016/02/04/opinion/white-americas-broken-heart.html\n",
      "http://www.nytimes.com/2016/02/01/opinion/iowas-black-caucusgoers.html\n",
      "http://www.nytimes.com/2016/01/28/opinion/campaign-stops/hillary-clintons-crucible.html\n",
      "http://www.nytimes.com/2016/01/25/opinion/hillary-clinton-stumbles.html\n",
      "http://www.nytimes.com/2016/01/21/opinion/the-poisoning-of-flints-water.html\n",
      "http://www.nytimes.com/2016/01/18/opinion/gop-and-the-apocalypse.html\n",
      "http://www.nytimes.com/2016/01/14/opinion/the-other-obama-legacy.html\n",
      "http://www.nytimes.com/2016/01/07/opinion/gun-control-and-white-terror.html\n",
      "http://www.nytimes.com/2015/12/21/opinion/the-years-biggest-social-justice-stories.html\n",
      "http://www.nytimes.com/2015/12/18/opinion/freddie-gray-and-the-meaning-of-justice.html\n",
      "http://www.nytimes.com/2015/12/17/opinion/campaign-stops/republican-insecurity.html\n",
      "http://www.nytimes.com/2015/12/14/opinion/first-time-at-a-gun-show.html\n",
      "http://www.nytimes.com/2015/12/12/opinion/after-skelos-and-silver-how-to-save-albany.html\n",
      "http://www.nytimes.com/2015/12/10/opinion/a-crass-act.html\n",
      "http://www.nytimes.com/2015/12/03/opinion/chicanery-in-chicago.html\n",
      "http://www.nytimes.com/2015/11/30/opinion/laquan-mcdonald-and-the-system.html\n",
      "http://www.nytimes.com/2015/11/24/opinion/a-year-without-tamir.html\n",
      "http://www.nytimes.com/2015/11/23/opinion/anti-muslim-is-anti-american.html\n",
      "http://www.nytimes.com/2015/11/16/opinion/race-college-and-safe-space.html\n",
      "http://www.nytimes.com/2015/11/12/opinion/campaign-stops/gop-debate-doldrums.html\n",
      "http://www.nytimes.com/2015/11/09/opinion/ben-carson-and-the-truth.html\n",
      "http://www.nytimes.com/2015/11/05/opinion/suicide-of-a-dishonest-officer.html\n",
      "http://www.nytimes.com/2015/11/02/opinion/gotcha-gop.html\n",
      "http://www.nytimes.com/2015/10/28/opinion/a-movement-has-its-moment.html\n",
      "http://www.nytimes.com/2015/10/26/opinion/hillary-clinton-wins-again.html\n",
      "http://www.nytimes.com/2015/10/15/opinion/hillary-clinton-the-queen-came-to-play.html\n",
      "http://www.nytimes.com/2015/10/08/opinion/with-ben-carson-the-doctor-is-always-out.html\n",
      "http://www.nytimes.com/2015/10/05/opinion/charles-m-blow-on-guns-fear-is-winning.html\n",
      "http://www.nytimes.com/2015/10/01/opinion/jeb-bush-crying-out-loud.html\n",
      "http://www.nytimes.com/2015/09/28/opinion/charles-m-blow-jeb-bush-free-stuff-and-black-folks.html\n",
      "http://www.nytimes.com/2015/09/24/opinion/charles-blow-the-soft-bigotry-of-ben-carson.html\n",
      "http://www.nytimes.com/2015/09/21/opinion/charles-m-blow-dont-coronate-carly-fiorina-just-yet.html\n",
      "http://www.nytimes.com/2015/09/17/opinion/charles-blow-race-relations-out-at-republican-debates.html\n",
      "http://www.nytimes.com/2015/09/14/opinion/charles-m-blow-bernie-sanders-and-the-black-vote.html\n",
      "http://www.nytimes.com/2015/09/10/opinion/hillary-is-hobbling-for-now.html\n",
      "http://www.nytimes.com/2015/09/07/opinion/charles-m-blow-sexual-attraction-and-fluidity.html\n",
      "http://www.nytimes.com/2015/09/03/opinion/charles-blow-ratcheting-up-the-rhetoric.html\n",
      "http://www.nytimes.com/2015/08/31/opinion/charles-m-blow-60-years-later-echoes-of-emmett-tills-killing.html\n",
      "http://www.nytimes.com/2015/08/27/opinion/enough-is-enough.html\n",
      "http://www.nytimes.com/2015/08/20/opinion/charles-blow-black-lives-matter-activists-confront-hillary-clinton.html\n",
      "http://www.nytimes.com/2015/08/17/opinion/activists-feel-the-bern.html\n",
      "http://www.nytimes.com/2015/08/13/opinion/police-abuse-is-a-form-of-terror.html\n",
      "http://www.nytimes.com/2015/08/10/opinion/charles-m-blow-black-lives-matter-and-the-gop.html\n",
      "http://www.nytimes.com/2015/08/06/opinion/charles-blow-darren-wilsons-quest-for-distance.html\n",
      "http://www.nytimes.com/2015/07/31/opinion/charles-blow-the-dubose-family-grieving-but-determined.html\n",
      "http://www.nytimes.com/2015/07/30/opinion/charles-blow-the-shooting-of-samuel-dubose.html\n",
      "http://www.nytimes.com/2015/07/27/opinion/charles-blow-at-sandra-blands-funeral-celebration-and-defiance.html\n",
      "http://www.nytimes.com/2015/07/23/opinion/charles-m-blow-some-questions-about-the-sandra-bland-case.html\n",
      "http://www.nytimes.com/2015/07/20/opinion/charles-blow-sandra-and-kindra-suicides-or-something-sinister.html\n",
      "http://www.nytimes.com/2015/07/16/opinion/trump-builds-one-brand-and-damages-another.html\n",
      "http://www.nytimes.com/2015/07/13/opinion/charles-blow-a-bias-more-than-skin-deep.html\n",
      "http://www.nytimes.com/2015/07/09/opinion/charles-m-blow-black-lives-and-books-of-the-dead.html\n",
      "http://www.nytimes.com/2015/06/29/opinion/charles-blow-my-murdered-cousin-had-a-name.html\n",
      "http://www.nytimes.com/2015/06/25/opinion/charles-blow-confederate-flags-and-institutional-racism.html\n",
      "http://www.nytimes.com/2015/06/22/opinion/charles-blow-in-charleston-a-millennial-race-terrorist.html\n",
      "http://www.nytimes.com/2015/06/18/opinion/charles-blow-the-delusions-of-dolezal.html\n",
      "http://www.nytimes.com/2015/06/15/opinion/charles-blow-jeb-bush-and-single-mothers.html\n",
      "http://www.nytimes.com/2015/06/08/opinion/charles-blow-black-dads-are-doing-the-best-of-all.html\n",
      "http://www.nytimes.com/2015/06/04/opinion/charles-m-blow-romanticizing-broken-windows-policing.html\n",
      "http://www.nytimes.com/2015/06/01/opinion/charles-blow-surviving-child-sexual-abuse.html\n",
      "http://www.nytimes.com/2015/05/28/opinion/charles-blow-the-rise-of-social-liberalism-and-gop-resistance.html\n",
      "http://www.nytimes.com/2015/05/25/opinion/charles-blow-restoring-memoriam-to-memorial-day.html\n",
      "http://www.nytimes.com/2015/05/21/opinion/charles-blow-of-bikers-and-thugs.html\n",
      "http://www.nytimes.com/2015/05/18/opinion/charles-blow-unaffiliated-and-underrepresented.html\n",
      "http://www.nytimes.com/2015/05/14/opinion/charles-blow-the-president-fox-news-the-poor.html\n",
      "http://www.nytimes.com/2015/05/11/opinion/charles-blow-of-museums-and-racial-relics.html\n",
      "http://www.nytimes.com/2015/05/04/opinion/charles-blow-restoring-faith-in-justice.html\n",
      "http://www.nytimes.com/2015/04/30/opinion/charles-blow-violence-in-baltimore.html\n",
      "http://www.nytimes.com/2015/04/27/opinion/charles-blow-lynch-mob-misuse-of-language.html\n",
      "http://www.nytimes.com/2015/04/20/opinion/charles-blow-has-the-nra-won.html\n",
      "http://www.nytimes.com/2015/04/16/opinion/charles-blow-woe-of-white-men-again.html\n",
      "http://www.nytimes.com/2015/04/13/opinion/charles-blow-walter-scott-is-not-on-trial.html\n",
      "http://www.nytimes.com/2015/04/09/opinion/charles-blow-walter-scott-video-south-carolina-shooting-michael-slager.html\n",
      "http://www.nytimes.com/2015/04/07/opinion/charles-blow-did-rolling-stone-hurt-the-quest-for-justice.html\n",
      "http://www.nytimes.com/2015/04/02/opinion/charles-blow-religious-freedom-vs-individual-equality.html\n",
      "http://www.nytimes.com/2015/03/30/opinion/charles-blow-the-beating-of-floyd-dent.html\n",
      "http://www.nytimes.com/2015/03/26/opinion/charles-blow-officer-race-matters-less-than-you-think.html\n",
      "http://www.nytimes.com/2015/03/23/opinion/charles-blow-gov-jindals-implosion.html\n",
      "http://www.nytimes.com/2015/03/19/opinion/charles-blow-stop-playing-the-race-card-card.html\n",
      "http://www.nytimes.com/2015/03/16/opinion/charles-m-blow-flash-point-ferguson.html\n",
      "http://www.nytimes.com/2015/03/12/opinion/charles-m-blow-university-of-oklahoma-fraternity-chant-rigidity-of-racism.html\n",
      "http://www.nytimes.com/2015/03/09/opinion/charles-blow-obama-and-selma-the-meaning-of-bloody-sunday.html\n",
      "http://www.nytimes.com/2015/03/05/opinion/charles-blow-the-feds-vs-ferguson.html\n",
      "http://www.nytimes.com/2015/03/02/opinion/charles-blow-cpac-hackneyed-and-hollow.html\n",
      "http://www.nytimes.com/2015/02/23/opinion/charles-blow-who-loves-america.html\n",
      "http://www.nytimes.com/2015/02/19/opinion/charles-blow-the-obama-years.html\n",
      "http://www.nytimes.com/2015/02/16/opinion/charles-blow-a-kaffeeklatsch-on-race.html\n",
      "http://www.nytimes.com/2015/02/09/opinion/charles-blow-beyond-black-lives-matter.html\n",
      "http://www.nytimes.com/2015/02/02/opinion/charles-blow-a-future-segregated-by-science.html\n",
      "http://www.nytimes.com/2015/01/28/opinion/charles-blow-reducing-our-obscene-level-of-child-poverty.html\n",
      "http://www.nytimes.com/2015/01/22/opinion/charles-blow-inequality-in-the-air-we-breathe.html\n",
      "http://www.nytimes.com/2015/01/19/opinion/charles-blow-how-expensive-it-is-to-be-poor.html\n",
      "http://www.nytimes.com/2015/01/15/opinion/charles-blow-the-complexity-of-deadly-force.html\n",
      "http://www.nytimes.com/2015/01/12/opinion/charles-m-blow-tamir-rice-and-the-value-of-life.html\n",
      "http://www.nytimes.com/2015/01/08/opinion/charles-blow-who-should-apologize-in-police-conflict.html\n",
      "http://www.nytimes.com/2015/01/05/opinion/charles-blow-privilege-of-arrest-without-incident.html\n",
      "http://www.nytimes.com/2015/01/01/opinion/charles-m-blow-look-back-to-move-forward.html\n",
      "http://www.nytimes.com/2014/12/22/opinion/charles-blow-pursuing-justice-for-all.html\n",
      "http://www.nytimes.com/2014/12/18/opinion/charles-blow-the-obamas-race-and-slights.html\n",
      "http://www.nytimes.com/2014/12/15/opinion/charles-m-blow-america-who-are-we.html\n",
      "http://www.nytimes.com/2014/12/11/opinion/charles-blow-this-is-your-moment.html\n",
      "http://www.nytimes.com/2014/12/08/opinion/charles-blow-from-eric-garner-and-michael-brown-to-the-ballot-box.html\n",
      "http://www.nytimes.com/2014/12/04/opinion/charles-blow-first-michael-brown-now-eric-garner.html\n",
      "http://www.nytimes.com/2014/12/01/opinion/charles-blow-crime-and-punishment.html\n",
      "http://www.nytimes.com/2014/11/27/opinion/charles-blow-fury-after-ferguson.html\n",
      "http://www.nytimes.com/2014/11/24/opinion/charles-blow-bigger-than-immigration.html\n",
      "http://www.nytimes.com/2014/11/20/opinion/charles-blow-the-solid-south-will-rise-again.html\n",
      "http://www.nytimes.com/2014/11/17/opinion/charles-m-blow-partisanship-breaks-the-government.html\n",
      "http://www.nytimes.com/2014/11/13/opinion/charles-blow-race-to-the-finish.html\n",
      "http://www.nytimes.com/2014/11/10/opinion/charles-blow-the-obama-opposition.html\n",
      "http://www.nytimes.com/2014/11/06/opinion/charles-blow-republican-party-looking-back-looking-forward.html\n",
      "http://www.nytimes.com/2014/11/03/opinion/charles-blow-blacks-obama-and-the-election.html\n",
      "http://www.nytimes.com/2014/10/30/opinion/charles-blow-the-ebola-hysteria.html\n",
      "http://www.nytimes.com/2014/09/21/opinion/sunday/charles-blow-up-from-pain.html\n",
      "http://www.nytimes.com/2014/09/18/opinion/charles-blow-on-spanking-and-abuse.html\n",
      "http://www.nytimes.com/2014/09/15/opinion/charles-blow-ray-rice-and-his-rage.html\n",
      "http://www.nytimes.com/2014/09/11/opinion/charles-blow-the-cost-of-war.html\n",
      "http://www.nytimes.com/2014/09/08/opinion/charles-blow-crime-bias-and-statistics.html\n",
      "http://www.nytimes.com/2014/09/04/opinion/isis-deep-in-the-heart-of-texas.html\n",
      "http://www.nytimes.com/2014/09/01/opinion/charles-blow-the-politics-of-the-isis-threat.html\n",
      "http://www.nytimes.com/2014/08/28/opinion/charles-blow-bill-oreilly-and-white-privilege.html\n",
      "http://www.nytimes.com/2014/08/25/opinion/charles-blow-a-funeral-in-ferguson-michael-brown.html\n",
      "http://www.nytimes.com/2014/08/21/opinion/charles-blow-constructing-a-conversation-on-race.html\n",
      "http://www.nytimes.com/2014/08/18/opinion/charles-m-blow-frustration-in-ferguson.html\n",
      "http://www.nytimes.com/2014/08/14/opinion/charles-blow-michael-brown-and-black-men.html\n",
      "http://www.nytimes.com/2014/08/11/opinion/charles-blow-intervening-in-our-name.html\n",
      "http://www.nytimes.com/2014/08/04/opinion/charles-blow-the-do-even-less-congress.html\n",
      "http://www.nytimes.com/2014/07/31/opinion/charles-blow-age-of-identity.html\n",
      "http://www.nytimes.com/2014/07/28/opinion/charles-blow-the-republican-move-to-sue-obama.html\n",
      "http://www.nytimes.com/2014/07/24/opinion/charles-blow-paul-ryan-and-his-poverty-prophet.html\n",
      "http://www.nytimes.com/2014/07/17/opinion/tears-for-the-border-children.html\n",
      "http://www.nytimes.com/2014/07/14/opinion/charles-blow-boehners-empty-charge-against-obama.html\n",
      "http://www.nytimes.com/2014/07/10/opinion/charles-blow-the-crisis-of-children-at-the-border.html\n",
      "http://www.nytimes.com/2014/07/07/opinion/charles-blow-democrats-face-a-tough-fight-to-hold-the-senate.html\n",
      "http://www.nytimes.com/2014/07/03/opinion/charles-blow-barack-the-bear.html\n",
      "http://www.nytimes.com/2014/06/23/opinion/charles-m-blow-voter-frustration-with-washington.html\n",
      "http://www.nytimes.com/2014/06/19/opinion/charles-blow-the-gall-of-dick-cheney.html\n",
      "http://www.nytimes.com/2014/06/16/opinion/charles-blow-politics-grow-more-partisan-than-ever.html\n",
      "http://www.nytimes.com/2014/06/12/opinion/charles-m-blow-the-cantor-omen.html\n",
      "http://www.nytimes.com/2014/06/09/opinion/blow-religious-constriction.html\n",
      "http://www.nytimes.com/2014/06/02/opinion/blow-yes-all-men.html\n",
      "http://www.nytimes.com/2014/05/28/opinion/blow-what-maya-angelou-meant-to-me.html\n",
      "http://www.nytimes.com/2014/05/26/opinion/blow-rebutting-mark-cuban-on-bigotry.html\n",
      "http://www.nytimes.com/2014/05/22/opinion/blow-still-a-nation-of-immigrants.html\n",
      "http://www.nytimes.com/2014/05/19/opinion/blow-poverty-is-not-a-state-of-mind.html\n",
      "http://www.nytimes.com/2014/05/15/opinion/blow-the-aids-shaming-of-magic-johnson.html\n",
      "http://www.nytimes.com/2014/05/08/opinion/blow-in-college-nurturing-matters.html\n",
      "http://www.nytimes.com/2014/05/05/opinion/blow-eye-for-an-eye-incivility.html\n",
      "http://www.nytimes.com/2014/05/01/opinion/blow-deep-in-the-heart-of-don.html\n",
      "http://www.nytimes.com/2014/04/26/opinion/blow-a-ranchers-romantic-revisionism.html\n",
      "http://www.nytimes.com/2014/04/24/opinion/blow-lions-to-the-ballot-box.html\n",
      "http://www.nytimes.com/2014/04/19/opinion/blow-obamacare-bashing-or-bust.html\n",
      "http://www.nytimes.com/2014/04/17/opinion/minimum-wage-maximum-outrage.html\n",
      "http://www.nytimes.com/2014/04/12/opinion/blow-the-self-sort.html\n",
      "http://www.nytimes.com/2014/04/10/opinion/blow-we-should-be-in-a-rage.html\n",
      "http://www.nytimes.com/2014/03/29/opinion/blow-the-split-of-the-ages.html\n",
      "http://www.nytimes.com/2014/03/27/opinion/blow-crimea-and-punishment.html\n",
      "http://www.nytimes.com/2014/03/22/opinion/blow-paul-ryan-culture-and-poverty.html\n",
      "http://www.nytimes.com/2014/03/15/opinion/blow-we-cant-grow-the-gap-away.html\n",
      "http://www.nytimes.com/2014/03/13/opinion/blow-bossy-pants.html\n",
      "http://www.nytimes.com/2014/03/08/opinion/blow-the-self-ie-generation.html\n",
      "http://www.nytimes.com/2014/03/06/opinion/blow-republicans-place-the-wrong-bet.html\n",
      "http://www.nytimes.com/2014/03/01/opinion/blow-fathers-sons-and-brothers-keepers.html\n",
      "http://www.nytimes.com/2014/02/27/opinion/blow-no-country-for-old-mores.html\n",
      "http://www.nytimes.com/2014/02/22/opinion/blow-accommodating-divisiveness.html\n",
      "http://www.nytimes.com/2014/02/20/opinion/the-bias-against-black-bodies.html\n",
      "http://www.nytimes.com/2014/02/13/opinion/blow-thomas-speaks-blindly-about-race.html\n",
      "http://www.nytimes.com/2014/02/08/opinion/blow-a-pen-a-phone-and-a-meme.html\n",
      "http://www.nytimes.com/2014/02/06/opinion/blow-williams-the-princess-and-the-gender-pay-gap.html\n",
      "http://www.nytimes.com/2014/02/01/opinion/the-masculine-mistake.html\n",
      "http://www.nytimes.com/2014/01/30/opinion/blow-the-incredible-shrinking-presidency.html\n",
      "http://www.nytimes.com/2014/01/25/opinion/the-penance-of-glenn-beck.html\n",
      "http://www.nytimes.com/2014/01/23/opinion/blow-reading-books-is-fundamental.html\n",
      "http://www.nytimes.com/2014/01/16/opinion/blow-pro-progressive-is-better-than-anti-christie.html\n",
      "http://www.nytimes.com/2014/01/11/opinion/blow-sex-is-not-our-problem.html\n",
      "http://www.nytimes.com/2014/01/09/opinion/blow-as-the-political-world-turns.html\n",
      "http://www.nytimes.com/2014/01/04/opinion/blow-indoctrinating-religious-warriors.html\n",
      "http://www.nytimes.com/2013/12/28/opinion/blow-greeting-the-new-year.html\n",
      "http://www.nytimes.com/2013/12/21/opinion/blow-duck-dynasty-and-quackery.html\n",
      "http://www.nytimes.com/2013/12/19/opinion/blow-defining-moments-and-crystal-stairs.html\n",
      "http://www.nytimes.com/2013/12/12/opinion/blow-the-appalling-stance-of-rand-paul.html\n",
      "http://www.nytimes.com/2013/12/07/opinion/a-lesson-before-dying.html\n",
      "http://www.nytimes.com/2013/12/05/opinion/blow-the-president-the-pope-and-the-people.html\n"
     ]
    }
   ],
   "source": [
    "dataall = fix_charles_blow(dataall)"
   ]
  },
  {
   "cell_type": "markdown",
   "metadata": {},
   "source": [
    "## Save Results"
   ]
  },
  {
   "cell_type": "markdown",
   "metadata": {},
   "source": [
    "### Scraped"
   ]
  },
  {
   "cell_type": "code",
   "execution_count": 659,
   "metadata": {
    "collapsed": false
   },
   "outputs": [],
   "source": [
    "dataall.to_csv('dataall.csv')"
   ]
  },
  {
   "cell_type": "markdown",
   "metadata": {},
   "source": [
    "### Dates"
   ]
  },
  {
   "cell_type": "code",
   "execution_count": 74,
   "metadata": {
    "collapsed": false
   },
   "outputs": [],
   "source": [
    "dates = [pd.to_datetime(nytc.parse_url_for_date(url)) for url in dataall['url']]\n",
    "datadate = pd.DataFrame(index=dataall.index,columns=['Dates'])\n",
    "datadate['Dates'] = dates\n",
    "datadate.to_csv('datadate.csv',encoding='utf-8')"
   ]
  },
  {
   "cell_type": "code",
   "execution_count": 62,
   "metadata": {
    "collapsed": false
   },
   "outputs": [],
   "source": [
    "text = dataall['full_text']\n",
    "tidiedtext = [tidy_text(item.decode('utf-8')) for item in text]\n",
    "tidiedtextjoined = [' '.join(text) for text in tidiedtext]"
   ]
  },
  {
   "cell_type": "code",
   "execution_count": 69,
   "metadata": {
    "collapsed": true
   },
   "outputs": [],
   "source": [
    "datatidy = pd.DataFrame(index=dataall.index,columns=['TidiedText'])\n",
    "datatidy['TidiedText'] = tidiedtextjoined\n",
    "datatidy.to_csv('datatidy.csv',encoding='utf-8')"
   ]
  },
  {
   "cell_type": "markdown",
   "metadata": {},
   "source": [
    "## Load Results"
   ]
  },
  {
   "cell_type": "code",
   "execution_count": 4,
   "metadata": {
    "collapsed": true
   },
   "outputs": [],
   "source": [
    "dataall = pd.DataFrame.from_csv('dataall.csv')\n",
    "datatidy = pd.DataFrame.from_csv('datatidy.csv')\n",
    "datadate = pd.DataFrame.from_csv('datadate.csv')"
   ]
  },
  {
   "cell_type": "markdown",
   "metadata": {
    "collapsed": false
   },
   "source": [
    "# By Author"
   ]
  },
  {
   "cell_type": "code",
   "execution_count": 504,
   "metadata": {
    "collapsed": true
   },
   "outputs": [],
   "source": [
    "def df_author(dataall,firstname=None,lastname=None):\n",
    "    def get_idx(field,val):\n",
    "        if val is None:\n",
    "            return pd.isnull(dataall[field])\n",
    "        else:\n",
    "            return dataall[field] == val\n",
    "    df = dataall[get_idx('first_name',firstname) & get_idx('last_name',lastname)]\n",
    "    return df"
   ]
  },
  {
   "cell_type": "code",
   "execution_count": 515,
   "metadata": {
    "collapsed": true
   },
   "outputs": [],
   "source": [
    "krugthulu = df_author(dataall,'paul','krugman')\n",
    "brooks = df_author(dataall,'david','brooks')\n",
    "collins = df_author(dataall,'gail','collins')\n",
    "editorialboard = df_author(dataall,None,None)"
   ]
  },
  {
   "cell_type": "markdown",
   "metadata": {},
   "source": [
    "## One Hot Encoding"
   ]
  },
  {
   "cell_type": "markdown",
   "metadata": {},
   "source": [
    "### Count Authors"
   ]
  },
  {
   "cell_type": "code",
   "execution_count": null,
   "metadata": {
    "collapsed": true
   },
   "outputs": [],
   "source": []
  },
  {
   "cell_type": "markdown",
   "metadata": {},
   "source": [
    "## Distribution of 'Virality'"
   ]
  },
  {
   "cell_type": "code",
   "execution_count": 516,
   "metadata": {
    "collapsed": false
   },
   "outputs": [
    {
     "data": {
      "text/plain": [
       "(array([ 3,  9, 12, 10,  5, 10,  6,  7,  2,  8,  2,  4,  3,  4,  4,  1,  1,\n",
       "         0,  1,  0,  0,  0,  2,  0,  0,  1,  0,  0,  0,  1,  0,  1,  0,  0,\n",
       "         0,  0,  1,  0,  0,  0,  0,  2,  0,  0,  0,  0,  0,  0,  1,  0,  0,\n",
       "         0,  0,  0,  0,  0,  0,  0,  0,  0,  0,  0,  0,  0,  0,  0,  0,  0,\n",
       "         0,  0,  0,  0,  0,  0,  0,  0,  0,  0,  0,  0,  0,  0,  0,  0,  0,\n",
       "         0,  0,  0,  0,  0,  0,  0,  0,  0,  0,  0,  0,  0,  0,  1]),\n",
       " array([   59.  ,   147.54,   236.08,   324.62,   413.16,   501.7 ,\n",
       "          590.24,   678.78,   767.32,   855.86,   944.4 ,  1032.94,\n",
       "         1121.48,  1210.02,  1298.56,  1387.1 ,  1475.64,  1564.18,\n",
       "         1652.72,  1741.26,  1829.8 ,  1918.34,  2006.88,  2095.42,\n",
       "         2183.96,  2272.5 ,  2361.04,  2449.58,  2538.12,  2626.66,\n",
       "         2715.2 ,  2803.74,  2892.28,  2980.82,  3069.36,  3157.9 ,\n",
       "         3246.44,  3334.98,  3423.52,  3512.06,  3600.6 ,  3689.14,\n",
       "         3777.68,  3866.22,  3954.76,  4043.3 ,  4131.84,  4220.38,\n",
       "         4308.92,  4397.46,  4486.  ,  4574.54,  4663.08,  4751.62,\n",
       "         4840.16,  4928.7 ,  5017.24,  5105.78,  5194.32,  5282.86,\n",
       "         5371.4 ,  5459.94,  5548.48,  5637.02,  5725.56,  5814.1 ,\n",
       "         5902.64,  5991.18,  6079.72,  6168.26,  6256.8 ,  6345.34,\n",
       "         6433.88,  6522.42,  6610.96,  6699.5 ,  6788.04,  6876.58,\n",
       "         6965.12,  7053.66,  7142.2 ,  7230.74,  7319.28,  7407.82,\n",
       "         7496.36,  7584.9 ,  7673.44,  7761.98,  7850.52,  7939.06,\n",
       "         8027.6 ,  8116.14,  8204.68,  8293.22,  8381.76,  8470.3 ,\n",
       "         8558.84,  8647.38,  8735.92,  8824.46,  8913.  ]))"
      ]
     },
     "execution_count": 516,
     "metadata": {},
     "output_type": "execute_result"
    }
   ],
   "source": [
    "np.histogram(collins['share_count'],bins=100)"
   ]
  },
  {
   "cell_type": "markdown",
   "metadata": {},
   "source": [
    "# LDA"
   ]
  },
  {
   "cell_type": "code",
   "execution_count": 11,
   "metadata": {
    "collapsed": true
   },
   "outputs": [],
   "source": [
    "import matplotlib as mpl\n",
    "import matplotlib.pyplot as plt\n",
    "from __future__ import print_function\n",
    "from time import time\n",
    "\n",
    "from sklearn.feature_extraction.text import TfidfVectorizer, CountVectorizer\n",
    "from sklearn.decomposition import NMF, LatentDirichletAllocation\n",
    "from sklearn.datasets import fetch_20newsgroups"
   ]
  },
  {
   "cell_type": "code",
   "execution_count": 12,
   "metadata": {
    "collapsed": true
   },
   "outputs": [],
   "source": [
    "def print_top_words(model, feature_names, n_top_words):\n",
    "    for topic_idx, topic in enumerate(model.components_):\n",
    "        print(\"Topic #%d:\" % topic_idx)\n",
    "        print(\" \".join([feature_names[i]\n",
    "                        for i in topic.argsort()[:-n_top_words - 1:-1]]))\n",
    "    print()"
   ]
  },
  {
   "cell_type": "code",
   "execution_count": 88,
   "metadata": {
    "collapsed": true
   },
   "outputs": [],
   "source": [
    "n_features = 1000\n",
    "n_topics = 50\n",
    "n_top_words = 20"
   ]
  },
  {
   "cell_type": "code",
   "execution_count": 78,
   "metadata": {
    "collapsed": false
   },
   "outputs": [
    {
     "name": "stdout",
     "output_type": "stream",
     "text": [
      "Extracting tf features for LDA...\n",
      "done in 4.384s.\n"
     ]
    }
   ],
   "source": [
    "# Use tf (raw term count) features for LDA.\n",
    "tidiedtextjoined = datatidy['TidiedText']\n",
    "print(\"Extracting tf features for LDA...\")\n",
    "tf_vectorizer = CountVectorizer(max_df=0.95, min_df=2, max_features=n_features)\n",
    "t0 = time()\n",
    "tf = tf_vectorizer.fit_transform(tidiedtextjoined)\n",
    "print(\"done in %0.3fs.\" % (time() - t0))\n"
   ]
  },
  {
   "cell_type": "code",
   "execution_count": 89,
   "metadata": {
    "collapsed": false
   },
   "outputs": [
    {
     "name": "stdout",
     "output_type": "stream",
     "text": [
      "Fitting LDA models with tf features and n_features=1000...\n",
      "done in 159.457s.\n"
     ]
    }
   ],
   "source": [
    "print(\"Fitting LDA models with tf features and n_features=%d...\"\n",
    "      % (n_features))\n",
    "lda = LatentDirichletAllocation(n_topics=n_topics, max_iter=10,\n",
    "                                learning_method='online', learning_offset=50.,\n",
    "                                random_state=0)\n",
    "t0 = time()\n",
    "lda.fit(tf)\n",
    "print(\"done in %0.3fs.\" % (time() - t0))\n"
   ]
  },
  {
   "cell_type": "code",
   "execution_count": 90,
   "metadata": {
    "collapsed": false,
    "scrolled": true
   },
   "outputs": [
    {
     "name": "stdout",
     "output_type": "stream",
     "text": [
      "\n",
      "Topics in LDA model:\n",
      "Topic #0:\n",
      "health care medic patient drug doctor diseas hospit insur cancer treatment peopl ill risk case mental death treat mani prevent\n",
      "Topic #1:\n",
      "marriag sex religi gay church christian peopl right moral faith sexual love american coupl one conserv equal mani cultur freedom\n",
      "Topic #2:\n",
      "worker job work wage labor employ pay employe minimum hour rais union paid forc benefit busi increas low earn corpor\n",
      "Topic #3:\n",
      "ms brain read watch like listen play it follow also game love recent lead year book lot work show sound\n",
      "Topic #4:\n",
      "french franc britain british pari nation minist mr european europ prime presid front would de foreign immigr last far may\n",
      "Topic #5:\n",
      "percent vote elect voter democrat polit poll republican support parti major group liber candid campaign american state among accord survey\n",
      "Topic #6:\n",
      "school student colleg educ univers teacher high year percent class teach test public state program learn mani rate one higher\n",
      "Topic #7:\n",
      "econom economi polici growth trade market rate would govern much interest capit tax even percent good job reform inequ year\n",
      "Topic #8:\n",
      "iran state nuclear would deal unit region turkey govern presid saudi negoti agreement could power american support militari intern mr\n",
      "Topic #9:\n",
      "one year day time live world would new first two like could life us back peopl even still last place\n",
      "Topic #10:\n",
      "women men woman sexual abort girl one sex young like right said equal show say percent man year even also\n",
      "Topic #11:\n",
      "unit china state american countri militari govern chines nation intern secur japan war offici world north america foreign south would\n",
      "Topic #12:\n",
      "state law new would feder bill requir york allow year legisl legal public make use depart congress pass act protect\n",
      "Topic #13:\n",
      "car road drive design street run get warn new park could old eye one back turn involv front everi hand\n",
      "Topic #14:\n",
      "last would could die us question like end convers word way want even talk actual answer ask famili thing life\n",
      "Topic #15:\n",
      "loss lose lost goal new month insur promis three year end peopl long part made public mr alway next state\n",
      "Topic #16:\n",
      "right mr court would india two law attack group one case polic religi new still republican love state govern time\n",
      "Topic #17:\n",
      "it peopl like one get say don go want know make think said we thing way would that even time\n",
      "Topic #18:\n",
      "govern polit countri nation power peopl protest india right democraci world leader minist one mani organ prime societi parti cultur\n",
      "Topic #19:\n",
      "iraq syria isi war sunni syrian al forc islam fight middl arab obama ground east america strategi civil air help\n",
      "Topic #20:\n",
      "european union europ countri germani refuge german greec nation crisi border would year govern unit state member peopl minist central\n",
      "Topic #21:\n",
      "russia russian putin ukrain mr west presid state western european war would union sanction europ unit world countri power polit\n",
      "Topic #22:\n",
      "tax money would million fund billion year spend budget plan pay oil cost cut gas financ govern dollar invest rais\n",
      "Topic #23:\n",
      "incom program hous poor peopl american class poverti work famili live social communiti afford educ help percent low home new\n",
      "Topic #24:\n",
      "price water market mr would unit state use govern system administr energi demand inform new free billion treatment invest also\n",
      "Topic #25:\n",
      "time report book news stori media publish said journalist the public articl write wrote author new post one writer read\n",
      "Topic #26:\n",
      "mr new de year offic citi charg mayor investig said offici last public former report crimin case york convict depart\n",
      "Topic #27:\n",
      "trump republican candid campaign cruz mr bush he presidenti rubio polit senat governor voter primari elect debat would one parti\n",
      "Topic #28:\n",
      "percent year food industri chang cost product new increas like price one climat million market rate time world countri make\n",
      "Topic #29:\n",
      "clinton hillari sander democrat campaign bill presid she candid obama polit state said speech wall street support new secretari presidenti\n",
      "Topic #30:\n",
      "black white african south american racial africa race player game team peopl america minor one like civil nation play histori\n",
      "Topic #31:\n",
      "mr war justic would nation work year muslim kill peopl mother one made convict case court project get found also\n",
      "Topic #32:\n",
      "israel palestinian isra jewish jew state west peac bank arab two minist right would prime author land secur anti side\n",
      "Topic #33:\n",
      "compani busi govern use servic corpor internet agenc data like inform would regul rule execut could industri network phone profit\n",
      "Topic #34:\n",
      "court justic case law suprem judg rule decis state right constitut feder appeal legal lawyer opinion act would amend issu\n",
      "Topic #35:\n",
      "muslim islam state attack terrorist group terror kill al religi pakistan christian unit arab american fear war bomb also world\n",
      "Topic #36:\n",
      "presid obama senat republican mr hous congress administr american democrat would year said committe white bush nation vote last washington\n",
      "Topic #37:\n",
      "bank financi debt island crisi board credit account economi financ manag wall small big govern street need troubl central sound\n",
      "Topic #38:\n",
      "polic gun offic kill violenc death peopl crime law victim crimin murder report arrest forc use case safeti right depart\n",
      "Topic #39:\n",
      "isi iraq obama presid share like fuel sunni year one state mani nuclear peopl could help even cancer syria need\n",
      "Topic #40:\n",
      "citizen foreign contribut american right particip corpor elect never polit bar everi unit first like law may time would nation\n",
      "Topic #41:\n",
      "republican human found anoth modern bill region new studi use suggest also mani one sign recent it point report year\n",
      "Topic #42:\n",
      "polit muslim religi sign group communiti peopl view report join polici process mani ident depart terror becom terrorist even agenc\n",
      "Topic #43:\n",
      "citi water local park land area environment build state new nation protect resid natur public project communiti california use town\n",
      "Topic #44:\n",
      "like cruz state european europ attack one group islam peopl promis last parti year also less mani secur time even\n",
      "Topic #45:\n",
      "professor journalist state time get year would island compani said new like peopl one ask email ago countri us internet\n",
      "Topic #46:\n",
      "children parent famili child mother father young kid age girl school son boy adult home born live life one year\n",
      "Topic #47:\n",
      "prison sentenc releas crime punish drug justic year serv life system long commit three behind men five time held sever\n",
      "Topic #48:\n",
      "parti immigr republican polit conserv right democrat liber reform left polici elect govern like american nation leader mani anti support\n",
      "Topic #49:\n",
      "research studi like one human use may experi scienc found work also effect peopl chang scientist mani differ less might\n",
      "\n"
     ]
    }
   ],
   "source": [
    "print(\"\\nTopics in LDA model:\")\n",
    "tf_feature_names = tf_vectorizer.get_feature_names()\n",
    "print_top_words(lda, tf_feature_names, n_top_words)"
   ]
  },
  {
   "cell_type": "code",
   "execution_count": 91,
   "metadata": {
    "collapsed": true
   },
   "outputs": [],
   "source": [
    "doc_topic_distrib = lda.transform(tf)"
   ]
  },
  {
   "cell_type": "code",
   "execution_count": 92,
   "metadata": {
    "collapsed": false
   },
   "outputs": [],
   "source": [
    "doc_topic_distrib /= doc_topic_distrib.sum(axis=1)[:, np.newaxis]"
   ]
  },
  {
   "cell_type": "code",
   "execution_count": 98,
   "metadata": {
    "collapsed": false
   },
   "outputs": [
    {
     "data": {
      "text/plain": [
       "1164.5910729382283"
      ]
     },
     "execution_count": 98,
     "metadata": {},
     "output_type": "execute_result"
    }
   ],
   "source": [
    "np.max(np.sum(doc_topic_distrib,axis=0))"
   ]
  },
  {
   "cell_type": "code",
   "execution_count": 95,
   "metadata": {
    "collapsed": false,
    "scrolled": true
   },
   "outputs": [
    {
     "data": {
      "image/png": "[encoded data removed]",
      "text/plain": [
       "<matplotlib.figure.Figure at 0x7f108e842b90>"
      ]
     },
     "metadata": {},
     "output_type": "display_data"
    }
   ],
   "source": [
    "fig = plt.figure(1)\n",
    "ax = fig.gca()\n",
    "ax = ax.matshow(doc_topic_distrib, cmap=plt.cm.gray, aspect = '0.005')\n",
    "plt.show()"
   ]
  },
  {
   "cell_type": "code",
   "execution_count": 99,
   "metadata": {
    "collapsed": false
   },
   "outputs": [],
   "source": [
    "def add_topic_weights(dataall,n_topics):\n",
    "    columns = ['topic{0}'.format(topicnum) for topicnum in range(n_topics)]\n",
    "    df = pd.DataFrame(index=dataall.index,columns=columns)\n",
    "    for topicnum in range(n_topics):\n",
    "        topicname = 'topic{0}'.format(topicnum)\n",
    "        df[topicname] = doc_topic_distrib[:,topicnum]\n",
    "    df.to_csv('topicweights{0}.csv'.format(n_topics))"
   ]
  },
  {
   "cell_type": "code",
   "execution_count": 100,
   "metadata": {
    "collapsed": true
   },
   "outputs": [],
   "source": [
    "topicweights = add_topic_weights(dataall,n_topics)"
   ]
  },
  {
   "cell_type": "code",
   "execution_count": 544,
   "metadata": {
    "collapsed": true
   },
   "outputs": [],
   "source": []
  }
 ],
 "metadata": {
  "kernelspec": {
   "display_name": "Python 2",
   "language": "python",
   "name": "python2"
  },
  "language_info": {
   "codemirror_mode": {
    "name": "ipython",
    "version": 2
   },
   "file_extension": ".py",
   "mimetype": "text/x-python",
   "name": "python",
   "nbconvert_exporter": "python",
   "pygments_lexer": "ipython2",
   "version": "2.7.11"
  }
 },
 "nbformat": 4,
 "nbformat_minor": 0
}
