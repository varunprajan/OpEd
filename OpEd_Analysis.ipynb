{
 "cells": [
  {
   "cell_type": "code",
   "execution_count": 2,
   "metadata": {
    "collapsed": true
   },
   "outputs": [],
   "source": [
    "import os"
   ]
  },
  {
   "cell_type": "code",
   "execution_count": 5,
   "metadata": {
    "collapsed": false
   },
   "outputs": [
    {
     "name": "stdout",
     "output_type": "stream",
     "text": [
      "LC_NUMERIC\n",
      "WINDOWID\n",
      "MANDATORY_PATH\n",
      "XDG_GREETER_DATA_DIR\n",
      "GNOME_DESKTOP_SESSION_ID\n",
      "LESSOPEN\n",
      "XDG_VTNR\n",
      "QT_IM_MODULE\n",
      "LOGNAME\n",
      "XDG_SEAT\n",
      "PATH\n",
      "LC_PAPER\n",
      "GNOME_KEYRING_CONTROL\n",
      "GTK_IM_MODULE\n",
      "DISPLAY\n",
      "LANG\n",
      "TERM\n",
      "SHELL\n",
      "XDG_SESSION_PATH\n",
      "XAUTHORITY\n",
      "LANGUAGE\n",
      "SESSION_MANAGER\n",
      "LC_MEASUREMENT\n",
      "QT_QPA_PLATFORMTHEME\n",
      "JOB\n",
      "QT4_IM_MODULE\n",
      "CLUTTER_IM_MODULE\n",
      "TEXTDOMAIN\n",
      "SESSIONTYPE\n",
      "XMODIFIERS\n",
      "GPG_AGENT_INFO\n",
      "HOME\n",
      "SELINUX_INIT\n",
      "SHLVL\n",
      "COMPIZ_BIN_PATH\n",
      "XDG_RUNTIME_DIR\n",
      "JPY_PARENT_PID\n",
      "INSTANCE\n",
      "LC_ADDRESS\n",
      "COMPIZ_CONFIG_PROFILE\n",
      "SSH_AUTH_SOCK\n",
      "SESSION\n",
      "VTE_VERSION\n",
      "GDMSESSION\n",
      "IM_CONFIG_PHASE\n",
      "TEXTDOMAINDIR\n",
      "GIT_PAGER\n",
      "XDG_DATA_DIRS\n",
      "XDG_SEAT_PATH\n",
      "LESSCLOSE\n",
      "XDG_CURRENT_DESKTOP\n",
      "XDG_SESSION_ID\n",
      "DBUS_SESSION_BUS_ADDRESS\n",
      "_\n",
      "GNOME_KEYRING_PID\n",
      "LC_IDENTIFICATION\n",
      "DESKTOP_SESSION\n",
      "UPSTART_SESSION\n",
      "XDG_CONFIG_DIRS\n",
      "DEFAULTS_PATH\n",
      "GDM_LANG\n",
      "LC_TELEPHONE\n",
      "GTK_MODULES\n",
      "PAPERSIZE\n",
      "LC_MONETARY\n",
      "PWD\n",
      "COLORTERM\n",
      "LC_NAME\n",
      "XDG_MENU_PREFIX\n",
      "LC_TIME\n",
      "LS_COLORS\n",
      "PAGER\n",
      "CLICOLOR\n",
      "USER\n"
     ]
    }
   ],
   "source": [
    "for key, _ in os.environ.items():\n",
    "    print(key)"
   ]
  },
  {
   "cell_type": "code",
   "execution_count": 1,
   "metadata": {
    "collapsed": false,
    "scrolled": false
   },
   "outputs": [
    {
     "ename": "KeyError",
     "evalue": "'NYTIMESAPIKEY'",
     "output_type": "error",
     "traceback": [
      "\u001b[1;31m---------------------------------------------------------------------------\u001b[0m",
      "\u001b[1;31mKeyError\u001b[0m                                  Traceback (most recent call last)",
      "\u001b[1;32m<ipython-input-1-7b9aff84bc55>\u001b[0m in \u001b[0;36m<module>\u001b[1;34m()\u001b[0m\n\u001b[0;32m      9\u001b[0m \u001b[1;32mimport\u001b[0m \u001b[0mpandas\u001b[0m \u001b[1;32mas\u001b[0m \u001b[0mpd\u001b[0m\u001b[1;33m\u001b[0m\u001b[0m\n\u001b[0;32m     10\u001b[0m \u001b[1;32mimport\u001b[0m \u001b[0mnumpy\u001b[0m \u001b[1;32mas\u001b[0m \u001b[0mnp\u001b[0m\u001b[1;33m\u001b[0m\u001b[0m\n\u001b[1;32m---> 11\u001b[1;33m \u001b[1;32mimport\u001b[0m \u001b[0mnytimes_crawl_2\u001b[0m \u001b[1;32mas\u001b[0m \u001b[0mnytc\u001b[0m\u001b[1;33m\u001b[0m\u001b[0m\n\u001b[0m\u001b[0;32m     12\u001b[0m \u001b[1;32mimport\u001b[0m \u001b[0moperator\u001b[0m \u001b[1;32mas\u001b[0m \u001b[0mop\u001b[0m\u001b[1;33m\u001b[0m\u001b[0m\n\u001b[0;32m     13\u001b[0m \u001b[0mget_ipython\u001b[0m\u001b[1;33m(\u001b[0m\u001b[1;33m)\u001b[0m\u001b[1;33m.\u001b[0m\u001b[0mmagic\u001b[0m\u001b[1;33m(\u001b[0m\u001b[1;34mu'matplotlib inline'\u001b[0m\u001b[1;33m)\u001b[0m\u001b[1;33m\u001b[0m\u001b[0m\n",
      "\u001b[1;32m/home/varun/nytimes_crawl_2.py\u001b[0m in \u001b[0;36m<module>\u001b[1;34m()\u001b[0m\n\u001b[0;32m     13\u001b[0m \u001b[1;32mimport\u001b[0m \u001b[0mos\u001b[0m\u001b[1;33m\u001b[0m\u001b[0m\n\u001b[0;32m     14\u001b[0m \u001b[1;33m\u001b[0m\u001b[0m\n\u001b[1;32m---> 15\u001b[1;33m \u001b[0mapikey\u001b[0m \u001b[1;33m=\u001b[0m \u001b[0mos\u001b[0m\u001b[1;33m.\u001b[0m\u001b[0menviron\u001b[0m\u001b[1;33m[\u001b[0m\u001b[1;34m'NYTIMESAPIKEY'\u001b[0m\u001b[1;33m]\u001b[0m\u001b[1;33m\u001b[0m\u001b[0m\n\u001b[0m\u001b[0;32m     16\u001b[0m \u001b[0mapi\u001b[0m \u001b[1;33m=\u001b[0m \u001b[0marticleAPI\u001b[0m\u001b[1;33m(\u001b[0m\u001b[0mapikey\u001b[0m\u001b[1;33m)\u001b[0m\u001b[1;33m\u001b[0m\u001b[0m\n\u001b[0;32m     17\u001b[0m \u001b[1;33m\u001b[0m\u001b[0m\n",
      "\u001b[1;32m/home/varun/anaconda2/lib/python2.7/UserDict.pyc\u001b[0m in \u001b[0;36m__getitem__\u001b[1;34m(self, key)\u001b[0m\n\u001b[0;32m     38\u001b[0m         \u001b[1;32mif\u001b[0m \u001b[0mhasattr\u001b[0m\u001b[1;33m(\u001b[0m\u001b[0mself\u001b[0m\u001b[1;33m.\u001b[0m\u001b[0m__class__\u001b[0m\u001b[1;33m,\u001b[0m \u001b[1;34m\"__missing__\"\u001b[0m\u001b[1;33m)\u001b[0m\u001b[1;33m:\u001b[0m\u001b[1;33m\u001b[0m\u001b[0m\n\u001b[0;32m     39\u001b[0m             \u001b[1;32mreturn\u001b[0m \u001b[0mself\u001b[0m\u001b[1;33m.\u001b[0m\u001b[0m__class__\u001b[0m\u001b[1;33m.\u001b[0m\u001b[0m__missing__\u001b[0m\u001b[1;33m(\u001b[0m\u001b[0mself\u001b[0m\u001b[1;33m,\u001b[0m \u001b[0mkey\u001b[0m\u001b[1;33m)\u001b[0m\u001b[1;33m\u001b[0m\u001b[0m\n\u001b[1;32m---> 40\u001b[1;33m         \u001b[1;32mraise\u001b[0m \u001b[0mKeyError\u001b[0m\u001b[1;33m(\u001b[0m\u001b[0mkey\u001b[0m\u001b[1;33m)\u001b[0m\u001b[1;33m\u001b[0m\u001b[0m\n\u001b[0m\u001b[0;32m     41\u001b[0m     \u001b[1;32mdef\u001b[0m \u001b[0m__setitem__\u001b[0m\u001b[1;33m(\u001b[0m\u001b[0mself\u001b[0m\u001b[1;33m,\u001b[0m \u001b[0mkey\u001b[0m\u001b[1;33m,\u001b[0m \u001b[0mitem\u001b[0m\u001b[1;33m)\u001b[0m\u001b[1;33m:\u001b[0m \u001b[0mself\u001b[0m\u001b[1;33m.\u001b[0m\u001b[0mdata\u001b[0m\u001b[1;33m[\u001b[0m\u001b[0mkey\u001b[0m\u001b[1;33m]\u001b[0m \u001b[1;33m=\u001b[0m \u001b[0mitem\u001b[0m\u001b[1;33m\u001b[0m\u001b[0m\n\u001b[0;32m     42\u001b[0m     \u001b[1;32mdef\u001b[0m \u001b[0m__delitem__\u001b[0m\u001b[1;33m(\u001b[0m\u001b[0mself\u001b[0m\u001b[1;33m,\u001b[0m \u001b[0mkey\u001b[0m\u001b[1;33m)\u001b[0m\u001b[1;33m:\u001b[0m \u001b[1;32mdel\u001b[0m \u001b[0mself\u001b[0m\u001b[1;33m.\u001b[0m\u001b[0mdata\u001b[0m\u001b[1;33m[\u001b[0m\u001b[0mkey\u001b[0m\u001b[1;33m]\u001b[0m\u001b[1;33m\u001b[0m\u001b[0m\n",
      "\u001b[1;31mKeyError\u001b[0m: 'NYTIMESAPIKEY'"
     ]
    }
   ],
   "source": [
    "import urllib2\n",
    "from bs4 import BeautifulSoup\n",
    "import re\n",
    "import nytimesarticle as nyta\n",
    "import urllib2\n",
    "import requests\n",
    "import csv\n",
    "import time\n",
    "import pandas as pd\n",
    "import numpy as np\n",
    "import nytimes_crawl_2 as nytc\n",
    "import operator as op\n",
    "%matplotlib inline"
   ]
  },
  {
   "cell_type": "code",
   "execution_count": 3,
   "metadata": {
    "collapsed": false
   },
   "outputs": [],
   "source": [
    "%load_ext autoreload\n",
    "%autoreload 2"
   ]
  },
  {
   "cell_type": "markdown",
   "metadata": {},
   "source": [
    "# Misc"
   ]
  },
  {
   "cell_type": "code",
   "execution_count": 15,
   "metadata": {
    "collapsed": true
   },
   "outputs": [],
   "source": [
    "names = ['one','two','three','four','five','six','seven','eight','nine','ten','eleven','twelve','thirteen','fourteen','fifteen']"
   ]
  },
  {
   "cell_type": "markdown",
   "metadata": {},
   "source": [
    "## Analysis"
   ]
  },
  {
   "cell_type": "markdown",
   "metadata": {},
   "source": [
    "### Scrape"
   ]
  },
  {
   "cell_type": "code",
   "execution_count": 8,
   "metadata": {
    "collapsed": false
   },
   "outputs": [],
   "source": [
    "reader1 = nytc.OpEdReader('one')\n",
    "reader1.save_oped_articles_all_pages(begindate='20160101',enddate='20160331')"
   ]
  },
  {
   "cell_type": "code",
   "execution_count": null,
   "metadata": {
    "collapsed": true
   },
   "outputs": [],
   "source": [
    "reader2 = nytc.OpEdReader('two')\n",
    "reader2.save_oped_articles_all_pages(begindate='20161001',enddate='20160107')"
   ]
  },
  {
   "cell_type": "code",
   "execution_count": null,
   "metadata": {
    "collapsed": true
   },
   "outputs": [],
   "source": [
    "reader3 = nytc.OpEdReader('three')\n",
    "reader3.save_oped_articles_all_pages(begindate='20150701',enddate='20151011')"
   ]
  },
  {
   "cell_type": "code",
   "execution_count": null,
   "metadata": {
    "collapsed": true
   },
   "outputs": [],
   "source": [
    "reader4 = nytc.OpEdReader('four')\n",
    "reader4.save_oped_articles_all_pages(begindate='20150401',enddate='20150717')"
   ]
  },
  {
   "cell_type": "code",
   "execution_count": null,
   "metadata": {
    "collapsed": true
   },
   "outputs": [],
   "source": [
    "reader5 = nytc.OpEdReader('five')\n",
    "reader5.save_oped_articles_all_pages(begindate='20150101',enddate='20150421')"
   ]
  },
  {
   "cell_type": "code",
   "execution_count": null,
   "metadata": {
    "collapsed": true
   },
   "outputs": [],
   "source": [
    "reader6 = nytc.OpEdReader('six')\n",
    "reader6.save_oped_articles_all_pages(begindate='20141001',enddate='20150125')"
   ]
  },
  {
   "cell_type": "markdown",
   "metadata": {},
   "source": [
    "### Load"
   ]
  },
  {
   "cell_type": "code",
   "execution_count": 3,
   "metadata": {
    "collapsed": false
   },
   "outputs": [],
   "source": [
    "reader1 = nytc.OpEdReader.init_from_file('one','one100.csv')\n",
    "reader2 = nytc.OpEdReader.init_from_file('two','two100.csv')\n",
    "reader3 = nytc.OpEdReader.init_from_file('three','three100.csv')\n",
    "reader4 = nytc.OpEdReader.init_from_file('four','four100.csv')\n",
    "reader5 = nytc.OpEdReader.init_from_file('five','five100.csv')\n",
    "reader6 = nytc.OpEdReader.init_from_file('six','six100.csv')\n",
    "reader7 = nytc.OpEdReader.init_from_file('seven','actual_seven100.csv')\n",
    "reader8 = nytc.OpEdReader.init_from_file('eight','seven100.csv')\n",
    "reader9 = nytc.OpEdReader.init_from_file('nine','eight100.csv')\n",
    "reader10 = nytc.OpEdReader.init_from_file('ten','nine100.csv')"
   ]
  },
  {
   "cell_type": "code",
   "execution_count": 4,
   "metadata": {
    "collapsed": false
   },
   "outputs": [],
   "source": [
    "readers = [reader1,reader2,reader3,reader4,reader5,reader6,reader7,reader8,reader9,reader10]"
   ]
  },
  {
   "cell_type": "markdown",
   "metadata": {},
   "source": [
    "### Eliminate 'Universal' Articles"
   ]
  },
  {
   "cell_type": "code",
   "execution_count": 5,
   "metadata": {
    "collapsed": false
   },
   "outputs": [],
   "source": [
    "def elim_universal_wrapper(reader):\n",
    "    print(reader.data.shape)\n",
    "    reader.elim_universal()\n",
    "    print(reader.data.shape)"
   ]
  },
  {
   "cell_type": "code",
   "execution_count": 6,
   "metadata": {
    "collapsed": false
   },
   "outputs": [
    {
     "name": "stdout",
     "output_type": "stream",
     "text": [
      "(947, 8)\n",
      "(940, 8)\n",
      "(952, 8)\n",
      "(943, 8)\n",
      "(959, 8)\n",
      "(948, 8)\n",
      "(945, 8)\n",
      "(941, 8)\n",
      "(944, 8)\n",
      "(929, 8)\n",
      "(955, 8)\n",
      "(954, 8)\n",
      "(953, 8)\n",
      "(953, 8)\n",
      "(967, 8)\n",
      "(967, 8)\n",
      "(965, 8)\n",
      "(964, 8)\n",
      "(948, 8)\n",
      "(948, 8)\n"
     ]
    }
   ],
   "source": [
    "for reader in readers:\n",
    "    elim_universal_wrapper(reader)"
   ]
  },
  {
   "cell_type": "markdown",
   "metadata": {},
   "source": [
    "# Text Manipulation"
   ]
  },
  {
   "cell_type": "markdown",
   "metadata": {},
   "source": [
    "## Foreign Language"
   ]
  },
  {
   "cell_type": "code",
   "execution_count": 10,
   "metadata": {
    "collapsed": false
   },
   "outputs": [],
   "source": [
    "def locate_foreign(tidiedtext,reader):\n",
    "    for idx, text in enumerate(tidiedtext):\n",
    "        if 'de' in text and 'la' in text:\n",
    "            print('Match')\n",
    "            print(idx)\n",
    "            print(text[:20])\n",
    "            print(reader.data['url'].iloc[idx])"
   ]
  },
  {
   "cell_type": "code",
   "execution_count": 11,
   "metadata": {
    "collapsed": true
   },
   "outputs": [],
   "source": [
    "def possible_matches(reader):\n",
    "    text = reader.data['full_text']\n",
    "    tidiedtext = []\n",
    "    for item in text:\n",
    "        try:\n",
    "            newtext = model_predict.tidy_text(item.decode('utf-8'))\n",
    "            tidiedtext.append(newtext)\n",
    "        except:\n",
    "            pass\n",
    "    locate_foreign(tidiedtext,reader)"
   ]
  },
  {
   "cell_type": "markdown",
   "metadata": {},
   "source": [
    "### Drop Foreign Articles and Nonsense Articles"
   ]
  },
  {
   "cell_type": "code",
   "execution_count": 12,
   "metadata": {
    "collapsed": false
   },
   "outputs": [],
   "source": [
    "def drop_rows_all(reader,indices):\n",
    "    print(reader.data.shape)\n",
    "    reader.drop_rows(indices)\n",
    "    print(reader.data.shape)\n",
    "    badidx = [i for i, item in enumerate(reader.data['full_text']) if not isinstance(item,str)]\n",
    "    reader.drop_rows(badidx)\n",
    "    csvfilename = '{0}_english{1}.csv'.format(reader.name,100)\n",
    "    reader.save_to_csv(csvfilename)"
   ]
  },
  {
   "cell_type": "code",
   "execution_count": 13,
   "metadata": {
    "collapsed": false,
    "scrolled": true
   },
   "outputs": [
    {
     "name": "stdout",
     "output_type": "stream",
     "text": [
      "(948, 8)\n",
      "(944, 8)\n",
      "(943, 8)\n",
      "(936, 8)\n",
      "(948, 8)\n",
      "(948, 8)\n",
      "(941, 8)\n",
      "(941, 8)\n",
      "(929, 8)\n",
      "(929, 8)\n",
      "(954, 8)\n",
      "(944, 8)\n",
      "(953, 8)\n",
      "(948, 8)\n",
      "(967, 8)\n",
      "(967, 8)\n",
      "(964, 8)\n",
      "(964, 8)\n",
      "(932, 8)\n",
      "(931, 8)\n"
     ]
    }
   ],
   "source": [
    "drop_rows_all(reader,[105,355,508,534])\n",
    "drop_rows_all(reader2,[55,396,459,504,516,542,549])\n",
    "drop_rows_all(reader3,[])\n",
    "drop_rows_all(reader4,[])\n",
    "drop_rows_all(reader5,[])\n",
    "drop_rows_all(reader6,[77,275,303,345,365,405,434,740,825,917])\n",
    "drop_rows_all(reader7,[46,120,152,174,202])\n",
    "drop_rows_all(reader8,[])\n",
    "drop_rows_all(reader9,[])\n",
    "drop_rows_all(reader10,[812])"
   ]
  },
  {
   "cell_type": "markdown",
   "metadata": {},
   "source": [
    "## Save Results"
   ]
  },
  {
   "cell_type": "code",
   "execution_count": 16,
   "metadata": {
    "collapsed": false
   },
   "outputs": [],
   "source": [
    "for name, reader in zip(names,readers):\n",
    "    filename = '{0}_english100.csv'.format(name)\n",
    "    reader.save_to_csv(filename)"
   ]
  },
  {
   "cell_type": "markdown",
   "metadata": {},
   "source": [
    "# Final Result"
   ]
  },
  {
   "cell_type": "code",
   "execution_count": 17,
   "metadata": {
    "collapsed": false
   },
   "outputs": [],
   "source": [
    "readers_english = []\n",
    "for name in names[:10]:\n",
    "    filename = '{0}_english100.csv'.format(name)\n",
    "    readername = '{0}_english'.format(name)\n",
    "    newreader = nytc.OpEdReader.init_from_file(readername,filename)\n",
    "    readers_english.append(newreader)"
   ]
  },
  {
   "cell_type": "markdown",
   "metadata": {},
   "source": [
    "# Join All"
   ]
  },
  {
   "cell_type": "code",
   "execution_count": 18,
   "metadata": {
    "collapsed": true
   },
   "outputs": [],
   "source": [
    "dataall = pd.concat([reader.data for reader in readers_english])\n",
    "dataall = dataall.reset_index(drop=True);"
   ]
  },
  {
   "cell_type": "markdown",
   "metadata": {},
   "source": [
    "# Fix Bad Names!"
   ]
  },
  {
   "cell_type": "code",
   "execution_count": 20,
   "metadata": {
    "collapsed": true
   },
   "outputs": [],
   "source": [
    "import time"
   ]
  },
  {
   "cell_type": "code",
   "execution_count": 21,
   "metadata": {
    "collapsed": true
   },
   "outputs": [],
   "source": [
    "def get_author_name(url):\n",
    "    soup = nytc.soupify_url(url)\n",
    "    time.sleep(2)\n",
    "    tag = soup.findAll('meta',{'name':'author'})[0]\n",
    "    return tag.get('content')"
   ]
  },
  {
   "cell_type": "code",
   "execution_count": 22,
   "metadata": {
    "collapsed": false
   },
   "outputs": [],
   "source": [
    "def get_last_name(authorname):\n",
    "    return authorname.split()[-1]"
   ]
  },
  {
   "cell_type": "code",
   "execution_count": 23,
   "metadata": {
    "collapsed": true
   },
   "outputs": [],
   "source": [
    "def fix_bad_name(dataall,firstnamecheck):\n",
    "    res = []\n",
    "    for url, firstname, lastname in zip(dataall['url'],dataall['first_name'],dataall['last_name']):\n",
    "        if firstname == firstnamecheck and pd.isnull(lastname):\n",
    "            print(url)\n",
    "            authorname = get_author_name(url)\n",
    "            lastnamenew = get_last_name(authorname).lower()\n",
    "        else:\n",
    "            lastnamenew = lastname\n",
    "        res.append(lastnamenew)\n",
    "    dataall['last_name'] = res\n",
    "    return dataall"
   ]
  },
  {
   "cell_type": "code",
   "execution_count": 25,
   "metadata": {
    "collapsed": false
   },
   "outputs": [],
   "source": [
    "# dataall = fix_bad_name(dataall,'charles')\n",
    "# dataall = fix_bad_name(dataall,'thomas')"
   ]
  },
  {
   "cell_type": "markdown",
   "metadata": {},
   "source": [
    "## Save Results"
   ]
  },
  {
   "cell_type": "markdown",
   "metadata": {},
   "source": [
    "### Scraped"
   ]
  },
  {
   "cell_type": "code",
   "execution_count": 26,
   "metadata": {
    "collapsed": false
   },
   "outputs": [],
   "source": [
    "dataall.to_csv('dataall2.csv')"
   ]
  },
  {
   "cell_type": "markdown",
   "metadata": {},
   "source": [
    "### Dates"
   ]
  },
  {
   "cell_type": "code",
   "execution_count": 27,
   "metadata": {
    "collapsed": true
   },
   "outputs": [],
   "source": [
    "n_days = 7\n",
    "daynames = ['Day{0}'.format(i) for i in range(n_days)]"
   ]
  },
  {
   "cell_type": "markdown",
   "metadata": {},
   "source": [
    "#### Dates"
   ]
  },
  {
   "cell_type": "code",
   "execution_count": 28,
   "metadata": {
    "collapsed": false
   },
   "outputs": [],
   "source": [
    "dates = [pd.to_datetime(nytc.parse_url_for_date(url)) for url in dataall['url']]\n",
    "datadate = pd.DataFrame(index=dataall.index,columns=['Dates','Times']+daynames)\n",
    "datadate['Dates'] = dates"
   ]
  },
  {
   "cell_type": "markdown",
   "metadata": {},
   "source": [
    "#### Normalized Time"
   ]
  },
  {
   "cell_type": "code",
   "execution_count": 29,
   "metadata": {
    "collapsed": false
   },
   "outputs": [],
   "source": [
    "dateoldest = dates[-1]\n",
    "datenewest = dates[0]\n",
    "daterange = datenewest - dateoldest\n",
    "times = [(date - dateoldest)/daterange for date in dates]\n",
    "datadate['Times'] = times"
   ]
  },
  {
   "cell_type": "markdown",
   "metadata": {},
   "source": [
    "#### Day of Week"
   ]
  },
  {
   "cell_type": "code",
   "execution_count": 30,
   "metadata": {
    "collapsed": true
   },
   "outputs": [],
   "source": [
    "daysofweekarray = np.zeros((len(dataall),n_days))"
   ]
  },
  {
   "cell_type": "code",
   "execution_count": 31,
   "metadata": {
    "collapsed": false
   },
   "outputs": [],
   "source": [
    "daysofweek = [date.dayofweek for date in dates]\n",
    "for i, day in enumerate(daysofweek):\n",
    "    daysofweekarray[i,day] = 1\n",
    "datadate[daynames] = daysofweekarray"
   ]
  },
  {
   "cell_type": "markdown",
   "metadata": {},
   "source": [
    "#### Save"
   ]
  },
  {
   "cell_type": "code",
   "execution_count": 32,
   "metadata": {
    "collapsed": true
   },
   "outputs": [],
   "source": [
    "datadate.to_csv('datadate2.csv',encoding='utf-8')"
   ]
  },
  {
   "cell_type": "markdown",
   "metadata": {},
   "source": [
    "### Tidied Text"
   ]
  },
  {
   "cell_type": "code",
   "execution_count": 39,
   "metadata": {
    "collapsed": false
   },
   "outputs": [],
   "source": [
    "text = dataall['full_text']\n",
    "tidiedtext = [tidy_text(item.decode('utf-8')) for item in text]\n",
    "tidiedtextjoined = [' '.join(text) for text in tidiedtext]"
   ]
  },
  {
   "cell_type": "code",
   "execution_count": 40,
   "metadata": {
    "collapsed": true
   },
   "outputs": [],
   "source": [
    "datatidy = pd.DataFrame(index=dataall.index,columns=['TidiedText'])\n",
    "datatidy['TidiedText'] = tidiedtextjoined\n",
    "datatidy.to_csv('datatidy2.csv',encoding='utf-8')"
   ]
  },
  {
   "cell_type": "markdown",
   "metadata": {},
   "source": [
    "## Load Results"
   ]
  },
  {
   "cell_type": "code",
   "execution_count": 4,
   "metadata": {
    "collapsed": false
   },
   "outputs": [],
   "source": [
    "dataall = pd.DataFrame.from_csv('dataall2.csv')\n",
    "datatidy = pd.DataFrame.from_csv('datatidy2.csv')\n",
    "datadate = pd.DataFrame.from_csv('datadate2.csv')"
   ]
  },
  {
   "cell_type": "markdown",
   "metadata": {
    "collapsed": false
   },
   "source": [
    "# By Author"
   ]
  },
  {
   "cell_type": "code",
   "execution_count": 6,
   "metadata": {
    "collapsed": true
   },
   "outputs": [],
   "source": [
    "def df_author(dataall,firstname=None,lastname=None):\n",
    "    def get_idx(field,val):\n",
    "        if val is None:\n",
    "            return pd.isnull(dataall[field])\n",
    "        else:\n",
    "            return dataall[field] == val\n",
    "    df = dataall[get_idx('first_name',firstname) & get_idx('last_name',lastname)]\n",
    "    return df"
   ]
  },
  {
   "cell_type": "code",
   "execution_count": 7,
   "metadata": {
    "collapsed": false
   },
   "outputs": [
    {
     "data": {
      "text/plain": [
       "(95, 8)"
      ]
     },
     "execution_count": 7,
     "metadata": {},
     "output_type": "execute_result"
    }
   ],
   "source": [
    "edsall = df_author(dataall,'thomas','edsall')"
   ]
  },
  {
   "cell_type": "code",
   "execution_count": 47,
   "metadata": {
    "collapsed": true
   },
   "outputs": [],
   "source": [
    "krugthulu = df_author(dataall,'paul','krugman')\n",
    "brooks = df_author(dataall,'david','brooks')\n",
    "collins = df_author(dataall,'gail','collins')\n",
    "editorialboard = df_author(dataall,None,None)"
   ]
  },
  {
   "cell_type": "markdown",
   "metadata": {},
   "source": [
    "## One Hot Encoding"
   ]
  },
  {
   "cell_type": "markdown",
   "metadata": {},
   "source": [
    "### Count Authors"
   ]
  },
  {
   "cell_type": "code",
   "execution_count": 8,
   "metadata": {
    "collapsed": true
   },
   "outputs": [],
   "source": [
    "from collections import Counter"
   ]
  },
  {
   "cell_type": "code",
   "execution_count": 9,
   "metadata": {
    "collapsed": true
   },
   "outputs": [],
   "source": [
    "authorcount = Counter()\n",
    "for firstname, lastname in zip(dataall['first_name'],dataall['last_name']):\n",
    "    authorcount[(firstname,lastname)] += 1"
   ]
  },
  {
   "cell_type": "code",
   "execution_count": 10,
   "metadata": {
    "collapsed": false
   },
   "outputs": [],
   "source": [
    "authorid = {}\n",
    "cutoff = 20 # at least x opeds -> not \"one-off\"\n",
    "currentid = 1\n",
    "for key, value in authorcount.items():\n",
    "    if value >= cutoff:\n",
    "        if key not in authorid:\n",
    "            authorid[key] = currentid\n",
    "            currentid += 1"
   ]
  },
  {
   "cell_type": "code",
   "execution_count": 11,
   "metadata": {
    "collapsed": false
   },
   "outputs": [
    {
     "name": "stdout",
     "output_type": "stream",
     "text": [
      "38\n"
     ]
    }
   ],
   "source": [
    "nauthors = len(authorid)+1\n",
    "ids = np.zeros((len(dataall),nauthors))\n",
    "print(nauthors)"
   ]
  },
  {
   "cell_type": "code",
   "execution_count": 102,
   "metadata": {
    "collapsed": false
   },
   "outputs": [],
   "source": [
    "sorted(authorid.items(),key=op.itemgetter(1));"
   ]
  },
  {
   "cell_type": "code",
   "execution_count": 13,
   "metadata": {
    "collapsed": false
   },
   "outputs": [],
   "source": [
    "# one-hot encoding\n",
    "for i, (firstname, lastname) in enumerate(zip(dataall['first_name'],dataall['last_name'])):\n",
    "    authoridcurr = authorid.get((firstname,lastname),0)\n",
    "    ids[i,authoridcurr] = 1"
   ]
  },
  {
   "cell_type": "code",
   "execution_count": 14,
   "metadata": {
    "collapsed": true
   },
   "outputs": [],
   "source": [
    "authornames = ['author{0}'.format(i) for i in range(nauthors)]\n",
    "dataauthor = pd.DataFrame(index=dataall.index,columns=authornames)\n",
    "dataauthor[authornames] = ids\n",
    "dataauthor.to_csv('dataauthor.csv')"
   ]
  },
  {
   "cell_type": "markdown",
   "metadata": {},
   "source": [
    "## Other Features"
   ]
  },
  {
   "cell_type": "markdown",
   "metadata": {},
   "source": [
    "### Article Length"
   ]
  },
  {
   "cell_type": "code",
   "execution_count": 56,
   "metadata": {
    "collapsed": true
   },
   "outputs": [],
   "source": [
    "articlelen = [len(article.split()) for article in dataall['full_text']]   "
   ]
  },
  {
   "cell_type": "code",
   "execution_count": 211,
   "metadata": {
    "collapsed": true
   },
   "outputs": [],
   "source": [
    "dataother = pd.DataFrame(index=dataall.index,columns=['len'])\n",
    "dataother['len'] = articlelen\n",
    "dataother.to_csv('dataother.csv')"
   ]
  },
  {
   "cell_type": "markdown",
   "metadata": {},
   "source": [
    "# LDA"
   ]
  },
  {
   "cell_type": "code",
   "execution_count": 21,
   "metadata": {
    "collapsed": true
   },
   "outputs": [],
   "source": [
    "import matplotlib as mpl\n",
    "import matplotlib.pyplot as plt\n",
    "from time import time\n",
    "from sklearn.feature_extraction.text import CountVectorizer\n",
    "from sklearn.decomposition import LatentDirichletAllocation"
   ]
  },
  {
   "cell_type": "code",
   "execution_count": 16,
   "metadata": {
    "collapsed": true
   },
   "outputs": [],
   "source": [
    "def print_top_words(model, feature_names, n_top_words):\n",
    "    for topic_idx, topic in enumerate(model.components_):\n",
    "        print(\"Topic #%d:\" % topic_idx)\n",
    "        print(\" \".join([feature_names[i]\n",
    "                        for i in topic.argsort()[:-n_top_words - 1:-1]]))\n",
    "    print()"
   ]
  },
  {
   "cell_type": "code",
   "execution_count": 17,
   "metadata": {
    "collapsed": true
   },
   "outputs": [],
   "source": [
    "n_features = 1000\n",
    "n_topics = 50\n",
    "n_top_words = 20"
   ]
  },
  {
   "cell_type": "code",
   "execution_count": 24,
   "metadata": {
    "collapsed": false
   },
   "outputs": [
    {
     "name": "stdout",
     "output_type": "stream",
     "text": [
      "Extracting tf features for LDA...\n",
      "done in 5.961s.\n"
     ]
    }
   ],
   "source": [
    "# Use tf (raw term count) features for LDA.\n",
    "tidiedtextjoined = datatidy['TidiedText']\n",
    "print(\"Extracting tf features for LDA...\")\n",
    "tf_vectorizer = CountVectorizer(max_df=0.95, min_df=2, max_features=n_features)\n",
    "t0 = time()\n",
    "tf = tf_vectorizer.fit_transform(tidiedtextjoined)\n",
    "print(\"done in %0.3fs.\" % (time() - t0))\n"
   ]
  },
  {
   "cell_type": "code",
   "execution_count": 25,
   "metadata": {
    "collapsed": false
   },
   "outputs": [
    {
     "name": "stdout",
     "output_type": "stream",
     "text": [
      "Fitting LDA models with tf features and n_features=1000...\n",
      "done in 219.355s.\n"
     ]
    }
   ],
   "source": [
    "print(\"Fitting LDA models with tf features and n_features=%d...\"\n",
    "      % (n_features))\n",
    "lda = LatentDirichletAllocation(n_topics=n_topics, max_iter=10,\n",
    "                                learning_method='online', learning_offset=50.,\n",
    "                                random_state=0)\n",
    "t0 = time()\n",
    "lda.fit(tf)\n",
    "print(\"done in %0.3fs.\" % (time() - t0))\n"
   ]
  },
  {
   "cell_type": "code",
   "execution_count": 26,
   "metadata": {
    "collapsed": false,
    "scrolled": false
   },
   "outputs": [
    {
     "name": "stdout",
     "output_type": "stream",
     "text": [
      "\n",
      "Topics in LDA model:\n",
      "Topic #0:\n",
      "women men ms sexual woman abort sex girl young one equal right partner like said show say year violenc victim\n",
      "Topic #1:\n",
      "gun shoot kill violenc safeti weapon law death peopl carri shot ban nation arm public check state mass control use\n",
      "Topic #2:\n",
      "worker job wage work labor employ minimum pay employe hour rais state union would increas new higher forc benefit paid\n",
      "Topic #3:\n",
      "compani busi use would servic like rule corpor regul internet govern industri inform data could market agenc make technolog execut\n",
      "Topic #4:\n",
      "black polic white offic racial race depart forc minor communiti civil right protest justic arrest kill case enforc peopl system\n",
      "Topic #5:\n",
      "muslim attack french kill islam franc terrorist peopl terror pari death murder violenc fear bomb victim one mani threat year\n",
      "Topic #6:\n",
      "prison crime sentenc crimin state peopl convict year drug law arrest punish releas justic system search charg case victim mani\n",
      "Topic #7:\n",
      "like get peopl time dont one make thing go know say think want way book much us good even that\n",
      "Topic #8:\n",
      "one year day time first two like back still place around world last new everi could look home even go\n",
      "Topic #9:\n",
      "russia putin ukrain russian west presid western sanction union would war european europ mr state power econom world polit may\n",
      "Topic #10:\n",
      "said presid say one get american peopl go want think dont obama like hes way know that thing talk ask\n",
      "Topic #11:\n",
      "bill senat republican would immigr hous congress law state legisl democrat pass committe act vote feder reform year allow new\n",
      "Topic #12:\n",
      "state refuge turkey syria unit syrian islam border war group iraq american forc help would million fight countri must need\n",
      "Topic #13:\n",
      "religi law parti court republican case trump democrat act feder conserv like govern appeal budget provid freedom tax refus requir\n",
      "Topic #14:\n",
      "parti polit conserv liber republican polici right democrat ideolog left support social american issu view like govern econom politician america\n",
      "Topic #15:\n",
      "studi research test found brain use data effect risk scienc scientist may year lead evid increas result problem also percent\n",
      "Topic #16:\n",
      "elect vote democrat voter polit parti candid percent campaign state poll republican support year presidenti nation win major one group\n",
      "Topic #17:\n",
      "life live one love friend famili would father us peopl like man mother never year time could know young want\n",
      "Topic #18:\n",
      "school one dont good teacher educ like plan sexual ive could kid well would way reform iraq univers run new\n",
      "Topic #19:\n",
      "iran iraq isi saudi sunni arab islam syria deal middl nuclear east state region war america power alli sanction foreign\n",
      "Topic #20:\n",
      "report offici investig said depart govern time public year last agenc state offic includ abus unit inform news nation secur\n",
      "Topic #21:\n",
      "mr presid said polit time leader former support call power critic say new seem would even also offic show promis\n",
      "Topic #22:\n",
      "islam state europ attack syria unit obama pari european union today presid terror peopl sinc alreadi said among play american\n",
      "Topic #23:\n",
      "citi new york de mayor state hous build public local park plan resid communiti governor year neighborhood need would island\n",
      "Topic #24:\n",
      "iraq like men time line american would partner ask region leader id forc syria obama dont said think less middl\n",
      "Topic #25:\n",
      "time life new like peopl see american decad age middl get tax becom littl ago enough look one citi almost\n",
      "Topic #26:\n",
      "children parent famili child kid girl pakistan school mother boy adult age young help home care educ rais one son\n",
      "Topic #27:\n",
      "law court state right rule suprem legal marriag feder justic case protect decis act constitut religi requir would amend texa\n",
      "Topic #28:\n",
      "food water climat oil energi chang year gas state industri global world environment nation natur percent product price use new\n",
      "Topic #29:\n",
      "opinion case govern rule justic law appeal court effect interest may said refus religi foreign organ increas last requir time\n",
      "Topic #30:\n",
      "european europ union germani countri britain german greec nation minist franc british would govern crisi member prime year polit leader\n",
      "Topic #31:\n",
      "obama presid administr would nuclear program congress american could year weapon polici use secur state white hous plan unit action\n",
      "Topic #32:\n",
      "govern war militari countri nation state unit forc south presid polit intern leader armi power africa american african group world\n",
      "Topic #33:\n",
      "like line time american iraq obama health one help presid make employ econom base america back leader middl use way\n",
      "Topic #34:\n",
      "school student colleg educ univers teacher high teach class state learn year public test program professor need one standard percent\n",
      "Topic #35:\n",
      "china unit state chines countri trade american japan agreement world foreign america north intern would nation deal global econom polici\n",
      "Topic #36:\n",
      "trump state republican peopl elect right time one corpor prison could chang see like conserv call new foreign citizen make\n",
      "Topic #37:\n",
      "clinton church christian hillari sander gay religi faith bill issu marriag support campaign last mani american one call believ say\n",
      "Topic #38:\n",
      "govern india protest polit media minist countri parti group organ peopl corrupt public prime right freedom democraci offici journalist leader\n",
      "Topic #39:\n",
      "israel palestinian isra jewish jew peac state west bank arab would minist negoti secur prime right side land author east\n",
      "Topic #40:\n",
      "school militari dont like general ive think teacher well unit educ even know run govern good public im kid tradit\n",
      "Topic #41:\n",
      "failur network fail success news initi particular run face didnt media take serious heart like second receiv dont us univers\n",
      "Topic #42:\n",
      "bank economi econom financi market growth rate debt polici crisi interest price capit govern would year invest central dollar low\n",
      "Topic #43:\n",
      "court justic case judg lawyer suprem execut constitut rule decis trial appeal year chief would death one defend last process\n",
      "Topic #44:\n",
      "trump republican bush candid cruz rubio campaign presidenti debat senat hes would voter georg like primari governor one win run\n",
      "Topic #45:\n",
      "data use peopl million year compani studi exampl measur like step technolog compar recent mani human found work go remain\n",
      "Topic #46:\n",
      "health care patient medic drug doctor hospit diseas peopl treatment insur cancer state mani case ill death need year treat\n",
      "Topic #47:\n",
      "peopl one like cultur world human mani differ way even social chang us may experi new person also societi often\n",
      "Topic #48:\n",
      "percent peopl american rate poor year work incom poverti live like social mani inequ econom less countri famili number nation\n",
      "Topic #49:\n",
      "tax money would million spend fund govern billion year budget pay cost cut feder state plan program percent reform financ\n",
      "()\n"
     ]
    }
   ],
   "source": [
    "print(\"\\nTopics in LDA model:\")\n",
    "tf_feature_names = tf_vectorizer.get_feature_names()\n",
    "print_top_words(lda, tf_feature_names, n_top_words)"
   ]
  },
  {
   "cell_type": "code",
   "execution_count": 69,
   "metadata": {
    "collapsed": false
   },
   "outputs": [],
   "source": [
    "doc_topic_distrib = lda.transform(tf)"
   ]
  },
  {
   "cell_type": "code",
   "execution_count": 70,
   "metadata": {
    "collapsed": false
   },
   "outputs": [],
   "source": [
    "doc_topic_distrib /= np.sum(doc_topic_distrib,axis=1)[:, np.newaxis]"
   ]
  },
  {
   "cell_type": "code",
   "execution_count": 77,
   "metadata": {
    "collapsed": false,
    "scrolled": true
   },
   "outputs": [
    {
     "data": {
      "image/png": "[encoded data removed]",
      "text/plain": [
       "<matplotlib.figure.Figure at 0x7fdc70e4bd90>"
      ]
     },
     "metadata": {},
     "output_type": "display_data"
    }
   ],
   "source": [
    "fig = plt.figure(1)\n",
    "ax = fig.gca()\n",
    "ax = ax.matshow(doc_topic_distrib, cmap=plt.cm.gray, aspect = '0.005')\n",
    "plt.show()"
   ]
  },
  {
   "cell_type": "code",
   "execution_count": 78,
   "metadata": {
    "collapsed": false
   },
   "outputs": [],
   "source": [
    "def add_topic_weights(dataall,n_topics):\n",
    "    columns = ['topic{0}'.format(topicnum) for topicnum in range(n_topics)]\n",
    "    df = pd.DataFrame(index=dataall.index,columns=columns)\n",
    "    for topicnum in range(n_topics):\n",
    "        topicname = 'topic{0}'.format(topicnum)\n",
    "        df[topicname] = doc_topic_distrib[:,topicnum]\n",
    "    df.to_csv('topicweights_2_{0}.csv'.format(n_topics))"
   ]
  },
  {
   "cell_type": "code",
   "execution_count": 79,
   "metadata": {
    "collapsed": true
   },
   "outputs": [],
   "source": [
    "topicweights = add_topic_weights(dataall,n_topics)"
   ]
  },
  {
   "cell_type": "markdown",
   "metadata": {},
   "source": [
    "# Save!"
   ]
  },
  {
   "cell_type": "code",
   "execution_count": 59,
   "metadata": {
    "collapsed": true
   },
   "outputs": [],
   "source": [
    "import pickleizer"
   ]
  },
  {
   "cell_type": "code",
   "execution_count": 93,
   "metadata": {
    "collapsed": false
   },
   "outputs": [],
   "source": [
    "pickleizer.save_topic_analyzer(lda,tf_vectorizer)"
   ]
  },
  {
   "cell_type": "code",
   "execution_count": 94,
   "metadata": {
    "collapsed": false
   },
   "outputs": [],
   "source": [
    "pickleizer.save_author(authorid)"
   ]
  },
  {
   "cell_type": "code",
   "execution_count": 105,
   "metadata": {
    "collapsed": false
   },
   "outputs": [
    {
     "name": "stderr",
     "output_type": "stream",
     "text": [
      "[autoreload of nytimes_crawl_2 failed: Traceback (most recent call last):\n",
      "  File \"/home/varun/anaconda2/lib/python2.7/site-packages/IPython/extensions/autoreload.py\", line 247, in check\n",
      "    superreload(m, reload, self.old_objects)\n",
      "KeyError: 'NYTIMESAPIKEY'\n",
      "]\n"
     ]
    }
   ],
   "source": [
    "import nytimes_crawl_2 as nytc"
   ]
  },
  {
   "cell_type": "code",
   "execution_count": null,
   "metadata": {
    "collapsed": true
   },
   "outputs": [],
   "source": []
  }
 ],
 "metadata": {
  "kernelspec": {
   "display_name": "Python 2",
   "language": "python",
   "name": "python2"
  },
  "language_info": {
   "codemirror_mode": {
    "name": "ipython",
    "version": 2
   },
   "file_extension": ".py",
   "mimetype": "text/x-python",
   "name": "python",
   "nbconvert_exporter": "python",
   "pygments_lexer": "ipython2",
   "version": "2.7.11"
  }
 },
 "nbformat": 4,
 "nbformat_minor": 0
}
