{
 "cells": [
  {
   "cell_type": "code",
   "execution_count": 4,
   "metadata": {
    "collapsed": false
   },
   "outputs": [],
   "source": [
    "import urllib2\n",
    "from bs4 import BeautifulSoup\n",
    "import re\n",
    "import nytimesarticle as nyta\n",
    "import urllib2\n",
    "import requests\n",
    "import csv\n",
    "import time\n",
    "import pandas as pd\n",
    "import numpy as np\n",
    "import nytimes_crawl_2 as nytc\n",
    "%matplotlib inline"
   ]
  },
  {
   "cell_type": "code",
   "execution_count": 5,
   "metadata": {
    "collapsed": false
   },
   "outputs": [],
   "source": [
    "%load_ext autoreload\n",
    "%autoreload 2"
   ]
  },
  {
   "cell_type": "markdown",
   "metadata": {},
   "source": [
    "# Misc"
   ]
  },
  {
   "cell_type": "markdown",
   "metadata": {},
   "source": [
    "## Analysis"
   ]
  },
  {
   "cell_type": "markdown",
   "metadata": {},
   "source": [
    "### Scrape"
   ]
  },
  {
   "cell_type": "code",
   "execution_count": 8,
   "metadata": {
    "collapsed": false
   },
   "outputs": [],
   "source": [
    "reader = nytc.OpEdReader('one')\n",
    "reader.save_oped_articles_all_pages(begindate='20160101',enddate='20160331')"
   ]
  },
  {
   "cell_type": "code",
   "execution_count": null,
   "metadata": {
    "collapsed": true
   },
   "outputs": [],
   "source": [
    "reader2 = nytc.OpEdReader('two')\n",
    "reader2.save_oped_articles_all_pages(begindate='20161001',enddate='20160107')"
   ]
  },
  {
   "cell_type": "code",
   "execution_count": null,
   "metadata": {
    "collapsed": true
   },
   "outputs": [],
   "source": [
    "reader3 = nytc.OpEdReader('three')\n",
    "reader3.save_oped_articles_all_pages(begindate='20150701',enddate='20151011')"
   ]
  },
  {
   "cell_type": "markdown",
   "metadata": {},
   "source": [
    "### Load"
   ]
  },
  {
   "cell_type": "code",
   "execution_count": 9,
   "metadata": {
    "collapsed": false
   },
   "outputs": [],
   "source": [
    "reader = nytc.OpEdReader.init_from_file('one','one100.csv')"
   ]
  },
  {
   "cell_type": "code",
   "execution_count": 10,
   "metadata": {
    "collapsed": true
   },
   "outputs": [],
   "source": [
    "reader2 = nytc.OpEdReader.init_from_file('two','two100.csv')"
   ]
  },
  {
   "cell_type": "code",
   "execution_count": 11,
   "metadata": {
    "collapsed": true
   },
   "outputs": [],
   "source": [
    "reader3 = nytc.OpEdReader.init_from_file('three','three100.csv')"
   ]
  },
  {
   "cell_type": "markdown",
   "metadata": {},
   "source": [
    "### Eliminate 'Universal' Articles"
   ]
  },
  {
   "cell_type": "code",
   "execution_count": 12,
   "metadata": {
    "collapsed": false
   },
   "outputs": [],
   "source": [
    "def elim_universal_wrapper(reader):\n",
    "    print(reader.data.shape)\n",
    "    reader.elim_universal()\n",
    "    print(reader.data.shape)"
   ]
  },
  {
   "cell_type": "code",
   "execution_count": 13,
   "metadata": {
    "collapsed": false
   },
   "outputs": [
    {
     "name": "stdout",
     "output_type": "stream",
     "text": [
      "(947, 8)\n",
      "(940, 8)\n",
      "(952, 8)\n",
      "(943, 8)\n",
      "(959, 8)\n",
      "(948, 8)\n"
     ]
    }
   ],
   "source": [
    "elim_universal_wrapper(reader)\n",
    "elim_universal_wrapper(reader2)\n",
    "elim_universal_wrapper(reader3)"
   ]
  },
  {
   "cell_type": "markdown",
   "metadata": {},
   "source": [
    "# Text Manipulation"
   ]
  },
  {
   "cell_type": "code",
   "execution_count": 14,
   "metadata": {
    "collapsed": true
   },
   "outputs": [],
   "source": [
    "import nltk"
   ]
  },
  {
   "cell_type": "code",
   "execution_count": 95,
   "metadata": {
    "collapsed": true
   },
   "outputs": [],
   "source": [
    "PUNCTUATION = \"\"\"!@#$%^&*()_+=][{}'-\";:/?\\.,~`\"\"\"\n",
    "\n",
    "def tidy_text(text):\n",
    "    \"\"\" Does the following: 1. Tokenises words 2. Removes punctuation 3. Removes stop words 4. Puts words through the snowball stemmer\"\"\"\n",
    "\n",
    "    stemmer = nltk.stem.snowball.EnglishStemmer()\n",
    "    stopwords = set(nltk.corpus.stopwords.words('english'))\n",
    "\n",
    "    outwords = []\n",
    "    for word in text.split():\n",
    "        word = word.strip(PUNCTUATION).lower()\n",
    "        if word not in stopwords:\n",
    "            if len(word) > 0:\n",
    "                if not word[0].isdigit():\n",
    "                    outwords.append(stemmer.stem(word))\n",
    "\n",
    "    return outwords\n"
   ]
  },
  {
   "cell_type": "markdown",
   "metadata": {},
   "source": [
    "## Foreign Language"
   ]
  },
  {
   "cell_type": "code",
   "execution_count": 16,
   "metadata": {
    "collapsed": false
   },
   "outputs": [],
   "source": [
    "def locate_foreign(tidiedtext,reader):\n",
    "    for idx, text in enumerate(tidiedtext):\n",
    "        if 'de' in text and 'la' in text:\n",
    "            print('Match')\n",
    "            print(idx)\n",
    "            print(text[:20])\n",
    "            print(reader.data['url'].iloc[idx])"
   ]
  },
  {
   "cell_type": "code",
   "execution_count": 17,
   "metadata": {
    "collapsed": true
   },
   "outputs": [],
   "source": [
    "def possible_matches(reader):\n",
    "    text = reader.data['full_text']\n",
    "    tidiedtext = [tidy_text(item.decode('utf-8')) for item in text]\n",
    "    locate_foreign(tidiedtext,reader)"
   ]
  },
  {
   "cell_type": "markdown",
   "metadata": {},
   "source": [
    "### Drop Foreign Articles"
   ]
  },
  {
   "cell_type": "code",
   "execution_count": 18,
   "metadata": {
    "collapsed": false
   },
   "outputs": [],
   "source": [
    "def drop_rows_all(reader,indices):\n",
    "    print(reader.data.shape)\n",
    "    reader.drop_rows(indices)\n",
    "    print(reader.data.shape)\n",
    "    csvfilename = '{0}_english{1}.csv'.format(reader.name,100)\n",
    "    reader.save_to_csv(csvfilename)"
   ]
  },
  {
   "cell_type": "markdown",
   "metadata": {},
   "source": [
    "### Source #1"
   ]
  },
  {
   "cell_type": "code",
   "execution_count": 19,
   "metadata": {
    "collapsed": false,
    "scrolled": true
   },
   "outputs": [
    {
     "name": "stdout",
     "output_type": "stream",
     "text": [
      "(940, 8)\n",
      "(936, 8)\n"
     ]
    }
   ],
   "source": [
    "drop_rows_all(reader,[105,355,508,534])"
   ]
  },
  {
   "cell_type": "markdown",
   "metadata": {},
   "source": [
    "### Source #2"
   ]
  },
  {
   "cell_type": "code",
   "execution_count": 20,
   "metadata": {
    "collapsed": false,
    "scrolled": true
   },
   "outputs": [
    {
     "name": "stdout",
     "output_type": "stream",
     "text": [
      "(943, 8)\n",
      "(936, 8)\n"
     ]
    }
   ],
   "source": [
    "drop_rows_all(reader2,[55,396,459,504,516,542,549])"
   ]
  },
  {
   "cell_type": "markdown",
   "metadata": {},
   "source": [
    "### Source #3"
   ]
  },
  {
   "cell_type": "code",
   "execution_count": 21,
   "metadata": {
    "collapsed": false,
    "scrolled": true
   },
   "outputs": [
    {
     "name": "stdout",
     "output_type": "stream",
     "text": [
      "(948, 8)\n",
      "(948, 8)\n"
     ]
    }
   ],
   "source": [
    "drop_rows_all(reader3,[])"
   ]
  },
  {
   "cell_type": "markdown",
   "metadata": {},
   "source": [
    "# Final Result"
   ]
  },
  {
   "cell_type": "code",
   "execution_count": 23,
   "metadata": {
    "collapsed": false
   },
   "outputs": [],
   "source": [
    "reader_english = nytc.OpEdReader.init_from_file('one_english','one_english100.csv')\n",
    "reader2_english = nytc.OpEdReader.init_from_file('two_english','two_english100.csv')\n",
    "reader3_english = nytc.OpEdReader.init_from_file('three_english','three_english100.csv')\n",
    "readers_english = [reader3_english,reader2_english,reader_english]"
   ]
  },
  {
   "cell_type": "markdown",
   "metadata": {},
   "source": [
    "## Tidy the Text, Join all Datasets"
   ]
  },
  {
   "cell_type": "code",
   "execution_count": 96,
   "metadata": {
    "collapsed": false
   },
   "outputs": [
    {
     "name": "stdout",
     "output_type": "stream",
     "text": [
      " "
     ]
    }
   ],
   "source": [
    "%%prun\n",
    "dataall = pd.concat([reader.data for reader in readers_english])\n",
    "text = dataall['full_text']\n",
    "tidiedtext = [tidy_text(item.decode('utf-8')) for item in text]\n",
    "tidiedtextjoined = [' '.join(text) for text in tidiedtext]"
   ]
  },
  {
   "cell_type": "code",
   "execution_count": 25,
   "metadata": {
    "collapsed": false
   },
   "outputs": [],
   "source": [
    "dataall = dataall.reset_index(drop=True)"
   ]
  },
  {
   "cell_type": "markdown",
   "metadata": {},
   "source": [
    "## Distribution of 'Virality'"
   ]
  },
  {
   "cell_type": "code",
   "execution_count": 26,
   "metadata": {
    "collapsed": false
   },
   "outputs": [
    {
     "data": {
      "image/png": "[encoded data removed]",
      "text/plain": [
       "<matplotlib.figure.Figure at 0x7f040385d5d0>"
      ]
     },
     "metadata": {},
     "output_type": "display_data"
    }
   ],
   "source": [
    "plt.hist(dataall['share_count'],bins=100)\n",
    "plt.show()"
   ]
  },
  {
   "cell_type": "markdown",
   "metadata": {},
   "source": [
    "# LDA"
   ]
  },
  {
   "cell_type": "code",
   "execution_count": 27,
   "metadata": {
    "collapsed": true
   },
   "outputs": [],
   "source": [
    "import matplotlib as mpl\n",
    "import matplotlib.pyplot as plt\n",
    "from __future__ import print_function\n",
    "from time import time\n",
    "\n",
    "from sklearn.feature_extraction.text import TfidfVectorizer, CountVectorizer\n",
    "from sklearn.decomposition import NMF, LatentDirichletAllocation\n",
    "from sklearn.datasets import fetch_20newsgroups"
   ]
  },
  {
   "cell_type": "code",
   "execution_count": 28,
   "metadata": {
    "collapsed": true
   },
   "outputs": [],
   "source": [
    "def print_top_words(model, feature_names, n_top_words):\n",
    "    for topic_idx, topic in enumerate(model.components_):\n",
    "        print(\"Topic #%d:\" % topic_idx)\n",
    "        print(\" \".join([feature_names[i]\n",
    "                        for i in topic.argsort()[:-n_top_words - 1:-1]]))\n",
    "    print()"
   ]
  },
  {
   "cell_type": "code",
   "execution_count": 29,
   "metadata": {
    "collapsed": true
   },
   "outputs": [],
   "source": [
    "n_features = 1000\n",
    "n_topics = 10\n",
    "n_top_words = 20"
   ]
  },
  {
   "cell_type": "code",
   "execution_count": 30,
   "metadata": {
    "collapsed": false
   },
   "outputs": [
    {
     "name": "stdout",
     "output_type": "stream",
     "text": [
      "Extracting tf features for LDA...\n",
      "done in 1.468s.\n"
     ]
    }
   ],
   "source": [
    "# Use tf (raw term count) features for LDA.\n",
    "print(\"Extracting tf features for LDA...\")\n",
    "tf_vectorizer = CountVectorizer(max_df=0.95, min_df=2, max_features=n_features)\n",
    "t0 = time()\n",
    "tf = tf_vectorizer.fit_transform(tidiedtextjoined)\n",
    "print(\"done in %0.3fs.\" % (time() - t0))\n"
   ]
  },
  {
   "cell_type": "code",
   "execution_count": 32,
   "metadata": {
    "collapsed": false
   },
   "outputs": [
    {
     "name": "stdout",
     "output_type": "stream",
     "text": [
      "Fitting LDA models with tf features and n_features=1000...\n",
      "done in 50.849s.\n"
     ]
    }
   ],
   "source": [
    "print(\"Fitting LDA models with tf features and n_features=%d...\"\n",
    "      % (n_features))\n",
    "lda = LatentDirichletAllocation(n_topics=n_topics, max_iter=20,\n",
    "                                learning_method='online', learning_offset=50.,\n",
    "                                random_state=0)\n",
    "t0 = time()\n",
    "lda.fit(tf)\n",
    "print(\"done in %0.3fs.\" % (time() - t0))\n"
   ]
  },
  {
   "cell_type": "code",
   "execution_count": 33,
   "metadata": {
    "collapsed": false,
    "scrolled": false
   },
   "outputs": [
    {
     "name": "stdout",
     "output_type": "stream",
     "text": [
      "\n",
      "Topics in LDA model:\n",
      "Topic #0:\n",
      "trump republican mr candid clinton polit parti democrat voter campaign presid sander would cruz like elect it one vote obama\n",
      "Topic #1:\n",
      "state unit north nuclear american islam iran war govern secur syria militari obama attack weapon israel must nation would could\n",
      "Topic #2:\n",
      "gun peopl drug polic patient death health mani crime kill year like medic use state violenc doctor one new would\n",
      "Topic #3:\n",
      "mr polit countri govern european nation parti union europ refuge year presid state would leader elect war minist right peopl\n",
      "Topic #4:\n",
      "mr govern feder public said state year congress new land offic investig report bill depart offici use power law charg\n",
      "Topic #5:\n",
      "one it like time peopl said get year know go us way day would even make want work think say\n",
      "Topic #6:\n",
      "school percent state new year tax student citi would educ program work incom worker pay health plan cost hous public\n",
      "Topic #7:\n",
      "women percent muslim religi social peopl men cultur sex live india american group generat one sexual like liber christian accord\n",
      "Topic #8:\n",
      "would china compani year market economi world one water like global big bank time could chang make financi new industri\n",
      "Topic #9:\n",
      "court law justic state case right abort suprem judg rule would black constitut decis legal act requir feder one texa\n",
      "\n"
     ]
    }
   ],
   "source": [
    "print(\"\\nTopics in LDA model:\")\n",
    "tf_feature_names = tf_vectorizer.get_feature_names()\n",
    "print_top_words(lda, tf_feature_names, n_top_words)"
   ]
  },
  {
   "cell_type": "code",
   "execution_count": 34,
   "metadata": {
    "collapsed": true
   },
   "outputs": [],
   "source": [
    "doc_topic_distrib = lda.transform(tf)"
   ]
  },
  {
   "cell_type": "code",
   "execution_count": 35,
   "metadata": {
    "collapsed": false
   },
   "outputs": [],
   "source": [
    "doc_topic_distrib /= doc_topic_distrib.sum(axis=1)[:, np.newaxis]"
   ]
  },
  {
   "cell_type": "code",
   "execution_count": 36,
   "metadata": {
    "collapsed": false
   },
   "outputs": [
    {
     "data": {
      "image/png": "[encoded data removed]",
      "text/plain": [
       "<matplotlib.figure.Figure at 0x7f03c68773d0>"
      ]
     },
     "metadata": {},
     "output_type": "display_data"
    }
   ],
   "source": [
    "fig = plt.figure(1)\n",
    "ax = fig.gca()\n",
    "ax = ax.matshow(doc_topic_distrib, cmap=plt.cm.gray, aspect = '0.01')\n",
    "plt.show()"
   ]
  },
  {
   "cell_type": "code",
   "execution_count": 38,
   "metadata": {
    "collapsed": false
   },
   "outputs": [],
   "source": [
    "def add_topic_weights(dataall,n_topics):\n",
    "    for topicnum in range(n_topics):\n",
    "        topicname = 'topic{0}'.format(topicnum)\n",
    "        dataall[topicname] = doc_topic_distrib[:,topicnum]\n",
    "    return dataall"
   ]
  },
  {
   "cell_type": "code",
   "execution_count": 39,
   "metadata": {
    "collapsed": true
   },
   "outputs": [],
   "source": [
    "dataallnew = add_topic_weights(dataall,n_topics)"
   ]
  },
  {
   "cell_type": "markdown",
   "metadata": {},
   "source": [
    "# Extra Features"
   ]
  },
  {
   "cell_type": "markdown",
   "metadata": {},
   "source": [
    "## Article Length"
   ]
  },
  {
   "cell_type": "code",
   "execution_count": 154,
   "metadata": {
    "collapsed": false
   },
   "outputs": [],
   "source": [
    "articlelens = []\n",
    "for articletext in dataallnew['full_text']:\n",
    "    articlelens.append(len(articletext.split()))\n",
    "articlelensold = np.array(articlelens)\n",
    "articlelens = articlelensold.astype('float64') - np.mean(articlelensold)\n",
    "articlelens /= np.std(articlelens)"
   ]
  },
  {
   "cell_type": "code",
   "execution_count": 156,
   "metadata": {
    "collapsed": true
   },
   "outputs": [],
   "source": [
    "dataallnew['len'] = articlelens"
   ]
  },
  {
   "cell_type": "markdown",
   "metadata": {},
   "source": [
    "# Machine Learning"
   ]
  },
  {
   "cell_type": "code",
   "execution_count": 48,
   "metadata": {
    "collapsed": true
   },
   "outputs": [],
   "source": [
    "from sklearn import linear_model, neighbors"
   ]
  },
  {
   "cell_type": "code",
   "execution_count": 157,
   "metadata": {
    "collapsed": true
   },
   "outputs": [],
   "source": [
    "featurenames = ['topic{0}'.format(i) for i in range(n_topics)] + ['len']\n",
    "features = dataallnew[featurenames]\n",
    "viralityname = 'comment_count'\n",
    "virality = dataallnew[viralityname]"
   ]
  },
  {
   "cell_type": "code",
   "execution_count": 116,
   "metadata": {
    "collapsed": true
   },
   "outputs": [],
   "source": [
    "def split_data(data,frac=0.7):\n",
    "    datanew = data.sample(frac=1)\n",
    "    nrows = len(datanew)\n",
    "    idx = int(nrows*frac)\n",
    "    return {'train': data.iloc[:idx], 'test': data.iloc[idx:]}\n",
    "    # use 70-30 split"
   ]
  },
  {
   "cell_type": "code",
   "execution_count": 117,
   "metadata": {
    "collapsed": true
   },
   "outputs": [],
   "source": [
    "def model_error(actual,predicted):\n",
    "    nobs = actual.size\n",
    "    return np.sqrt(1.0/(2.0*nobs)*np.sum((actual - predicted)**2))"
   ]
  },
  {
   "cell_type": "code",
   "execution_count": 138,
   "metadata": {
    "collapsed": true
   },
   "outputs": [],
   "source": [
    "def train_model(split_data,model,**kwargs):\n",
    "    datatrain = split_data['train']\n",
    "    datatest = split_data['test']\n",
    "    model.fit(datatrain[featurenames],datatrain[viralityname],**kwargs)\n",
    "    train_pred = model.predict(datatrain[featurenames])\n",
    "    test_pred = model.predict(datatest[featurenames])\n",
    "    train_error = model_error(train_pred,datatrain[viralityname])\n",
    "    test_error = model_error(test_pred,datatest[viralityname])\n",
    "    print('Training error: {0}'.format(train_error))\n",
    "    print('Test error: {0}'.format(test_error))"
   ]
  },
  {
   "cell_type": "code",
   "execution_count": 162,
   "metadata": {
    "collapsed": true
   },
   "outputs": [],
   "source": [
    "datasplit = split_data(dataallnew)"
   ]
  },
  {
   "cell_type": "markdown",
   "metadata": {},
   "source": [
    "## Scikit"
   ]
  },
  {
   "cell_type": "markdown",
   "metadata": {},
   "source": [
    "### Linear Regression"
   ]
  },
  {
   "cell_type": "code",
   "execution_count": 163,
   "metadata": {
    "collapsed": true
   },
   "outputs": [],
   "source": [
    "model = linear_model.LinearRegression()"
   ]
  },
  {
   "cell_type": "code",
   "execution_count": 164,
   "metadata": {
    "collapsed": false
   },
   "outputs": [
    {
     "name": "stdout",
     "output_type": "stream",
     "text": [
      "Training error: 4589.11027841\n",
      "Test error: 4898.84394327\n"
     ]
    }
   ],
   "source": [
    "train_model(datasplit,model)"
   ]
  },
  {
   "cell_type": "code",
   "execution_count": 165,
   "metadata": {
    "collapsed": false
   },
   "outputs": [],
   "source": [
    "model = neighbors.KNeighborsRegressor(n_neighbors=10)"
   ]
  },
  {
   "cell_type": "code",
   "execution_count": 166,
   "metadata": {
    "collapsed": false
   },
   "outputs": [
    {
     "name": "stdout",
     "output_type": "stream",
     "text": [
      "Training error: 4314.10122155\n",
      "Test error: 5052.01120974\n"
     ]
    }
   ],
   "source": [
    "train_model(datasplit,model)"
   ]
  },
  {
   "cell_type": "markdown",
   "metadata": {},
   "source": [
    "### K-Nearest Neighbors"
   ]
  },
  {
   "cell_type": "code",
   "execution_count": 122,
   "metadata": {
    "collapsed": false
   },
   "outputs": [
    {
     "data": {
      "text/plain": [
       "1827.3535460992907"
      ]
     },
     "execution_count": 122,
     "metadata": {},
     "output_type": "execute_result"
    }
   ],
   "source": [
    "np.mean(dataallnew[viralityname])"
   ]
  },
  {
   "cell_type": "code",
   "execution_count": 168,
   "metadata": {
    "collapsed": false
   },
   "outputs": [
    {
     "name": "stdout",
     "output_type": "stream",
     "text": [
      "Training error: 0.0\n",
      "Test error: 7360.24258044\n",
      "Training error: 2874.65785749\n",
      "Test error: 5801.01059099\n",
      "Training error: 3427.90644003\n",
      "Test error: 5414.98694428\n",
      "Training error: 3856.06985026\n",
      "Test error: 5234.80246212\n",
      "Training error: 4061.1112336\n",
      "Test error: 5201.19709685\n",
      "Training error: 4142.93223418\n",
      "Test error: 5178.99388793\n",
      "Training error: 4203.92486405\n",
      "Test error: 5113.82750509\n",
      "Training error: 4262.52938694\n",
      "Test error: 5051.93066043\n",
      "Training error: 4294.70745449\n",
      "Test error: 5068.96680937\n",
      "Training error: 4314.10122155\n",
      "Test error: 5052.01120974\n",
      "Training error: 4352.0417014\n",
      "Test error: 5031.9918017\n",
      "Training error: 4378.67053391\n",
      "Test error: 5019.30719749\n",
      "Training error: 4398.47348901\n",
      "Test error: 5014.47379167\n",
      "Training error: 4406.89225104\n",
      "Test error: 5003.43165022\n",
      "Training error: 4415.34336677\n",
      "Test error: 4997.58552351\n",
      "Training error: 4424.84022527\n",
      "Test error: 4992.31574694\n",
      "Training error: 4441.15604907\n",
      "Test error: 4992.81375029\n",
      "Training error: 4458.13132655\n",
      "Test error: 5002.76875245\n",
      "Training error: 4460.33221978\n",
      "Test error: 4990.80781626\n"
     ]
    }
   ],
   "source": [
    "for i in range(1,20):\n",
    "    model = neighbors.KNeighborsRegressor(n_neighbors=i)\n",
    "    train_model(datasplit,model)"
   ]
  },
  {
   "cell_type": "code",
   "execution_count": null,
   "metadata": {
    "collapsed": true
   },
   "outputs": [],
   "source": []
  }
 ],
 "metadata": {
  "kernelspec": {
   "display_name": "Python 2",
   "language": "python",
   "name": "python2"
  },
  "language_info": {
   "codemirror_mode": {
    "name": "ipython",
    "version": 2
   },
   "file_extension": ".py",
   "mimetype": "text/x-python",
   "name": "python",
   "nbconvert_exporter": "python",
   "pygments_lexer": "ipython2",
   "version": "2.7.11"
  }
 },
 "nbformat": 4,
 "nbformat_minor": 0
}
